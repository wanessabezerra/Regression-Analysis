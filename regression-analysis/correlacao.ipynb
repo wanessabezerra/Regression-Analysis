{
    "cells": [
        {
            "attachments": {},
            "cell_type": "markdown",
            "metadata": {},
            "source": [
                "# Correlação"
            ]
        },
        {
            "attachments": {},
            "cell_type": "markdown",
            "metadata": {},
            "source": [
                "Imports"
            ]
        },
        {
            "cell_type": "code",
            "execution_count": 653,
            "metadata": {},
            "outputs": [],
            "source": [
                "import pandas as pd\n",
                "import csv\n",
                "import numpy as np\n",
                "import matplotlib.pyplot as plt\n",
                "import seaborn as sns\n",
                "from scipy import stats\n",
                "\n",
                "from sklearn.metrics import r2_score\n",
                "from sklearn.metrics import mean_absolute_error\n",
                "from sklearn.metrics import mean_squared_error\n",
                "from sklearn.linear_model import LinearRegression"
            ]
        },
        {
            "attachments": {},
            "cell_type": "markdown",
            "metadata": {},
            "source": [
                "Leitura do arquivo em csv e carregamento desses dados em um DataFrame usando o ponto e vírgula como separador."
            ]
        },
        {
            "cell_type": "code",
            "execution_count": 654,
            "metadata": {},
            "outputs": [],
            "source": [
                "dados = pd.read_csv('dataframe-bsi-2009-2022.csv', sep=';')"
            ]
        },
        {
            "attachments": {},
            "cell_type": "markdown",
            "metadata": {},
            "source": [
                "## Tratamento de Dados"
            ]
        },
        {
            "attachments": {},
            "cell_type": "markdown",
            "metadata": {},
            "source": [
                "Substituindo vírgulas por pontos nas colunas que contêm valores decimais"
            ]
        },
        {
            "cell_type": "code",
            "execution_count": 655,
            "metadata": {},
            "outputs": [],
            "source": [
                "colunas_decimais = ['media_final']\n",
                "for coluna in colunas_decimais:\n",
                "    dados[coluna] = dados[coluna].str.replace(',', '.')"
            ]
        },
        {
            "attachments": {},
            "cell_type": "markdown",
            "metadata": {},
            "source": [
                "Convertendo a coluna media_final para tipo numérico"
            ]
        },
        {
            "cell_type": "code",
            "execution_count": 656,
            "metadata": {},
            "outputs": [],
            "source": [
                "dados[colunas_decimais] = dados[colunas_decimais].astype(float)"
            ]
        },
        {
            "attachments": {},
            "cell_type": "markdown",
            "metadata": {},
            "source": [
                "Renomeando dados da coluna descrição."
            ]
        },
        {
            "cell_type": "code",
            "execution_count": 657,
            "metadata": {},
            "outputs": [],
            "source": [
                "dados = dados.replace({'descricao':\n",
                "               {'APROVADO POR NOTA':'APROVADO',\n",
                "                'REPROVADO POR FALTAS':'REPROVADO',\n",
                "                'REPROVADO POR MÉDIA E POR FALTAS':'REPROVADO',\n",
                "                'REPROVADO POR NOTA E FALTA':'REPROVADO',\n",
                "                'REPROVADO POR NOTA':'REPROVADO',\n",
                "\n",
                "                }}, regex=True)"
            ]
        },
        {
            "attachments": {},
            "cell_type": "markdown",
            "metadata": {},
            "source": [
                "Filtrando os dados da unidade 1."
            ]
        },
        {
            "cell_type": "code",
            "execution_count": 658,
            "metadata": {},
            "outputs": [
                {
                    "data": {
                        "text/html": [
                            "<div>\n",
                            "<style scoped>\n",
                            "    .dataframe tbody tr th:only-of-type {\n",
                            "        vertical-align: middle;\n",
                            "    }\n",
                            "\n",
                            "    .dataframe tbody tr th {\n",
                            "        vertical-align: top;\n",
                            "    }\n",
                            "\n",
                            "    .dataframe thead th {\n",
                            "        text-align: right;\n",
                            "    }\n",
                            "</style>\n",
                            "<table border=\"1\" class=\"dataframe\">\n",
                            "  <thead>\n",
                            "    <tr style=\"text-align: right;\">\n",
                            "      <th></th>\n",
                            "      <th>discente</th>\n",
                            "      <th>unidade</th>\n",
                            "      <th>media_final</th>\n",
                            "      <th>descricao</th>\n",
                            "      <th>ano</th>\n",
                            "      <th>id_componente</th>\n",
                            "      <th>nome</th>\n",
                            "      <th>sexo</th>\n",
                            "      <th>ano_nascimento</th>\n",
                            "      <th>ano_ingresso</th>\n",
                            "      <th>status</th>\n",
                            "    </tr>\n",
                            "  </thead>\n",
                            "  <tbody>\n",
                            "    <tr>\n",
                            "      <th>0</th>\n",
                            "      <td>afba64c0118bfcc8d5b3987e725ed545</td>\n",
                            "      <td>1.0</td>\n",
                            "      <td>1.5</td>\n",
                            "      <td>REPROVADO</td>\n",
                            "      <td>20091</td>\n",
                            "      <td>2037000</td>\n",
                            "      <td>ALGORITMOS E LÓGICA DE PROGRAMAÇÃO</td>\n",
                            "      <td>M</td>\n",
                            "      <td>1987</td>\n",
                            "      <td>2009</td>\n",
                            "      <td>CANCELADO</td>\n",
                            "    </tr>\n",
                            "    <tr>\n",
                            "      <th>3</th>\n",
                            "      <td>9526e01da587b20211a39b4e66673aea</td>\n",
                            "      <td>1.0</td>\n",
                            "      <td>9.2</td>\n",
                            "      <td>APROVADO</td>\n",
                            "      <td>20091</td>\n",
                            "      <td>2037000</td>\n",
                            "      <td>ALGORITMOS E LÓGICA DE PROGRAMAÇÃO</td>\n",
                            "      <td>M</td>\n",
                            "      <td>1990</td>\n",
                            "      <td>2009</td>\n",
                            "      <td>CONCLUÍDO</td>\n",
                            "    </tr>\n",
                            "    <tr>\n",
                            "      <th>6</th>\n",
                            "      <td>1ed6777bd6ff4fd393e0b334d519c642</td>\n",
                            "      <td>1.0</td>\n",
                            "      <td>8.0</td>\n",
                            "      <td>APROVADO</td>\n",
                            "      <td>20091</td>\n",
                            "      <td>2037000</td>\n",
                            "      <td>ALGORITMOS E LÓGICA DE PROGRAMAÇÃO</td>\n",
                            "      <td>M</td>\n",
                            "      <td>1991</td>\n",
                            "      <td>2009</td>\n",
                            "      <td>CONCLUÍDO</td>\n",
                            "    </tr>\n",
                            "    <tr>\n",
                            "      <th>9</th>\n",
                            "      <td>cd66757ed4a317a3537ae3e246648778</td>\n",
                            "      <td>1.0</td>\n",
                            "      <td>7.3</td>\n",
                            "      <td>APROVADO</td>\n",
                            "      <td>20091</td>\n",
                            "      <td>2037000</td>\n",
                            "      <td>ALGORITMOS E LÓGICA DE PROGRAMAÇÃO</td>\n",
                            "      <td>M</td>\n",
                            "      <td>1975</td>\n",
                            "      <td>2009</td>\n",
                            "      <td>CANCELADO</td>\n",
                            "    </tr>\n",
                            "    <tr>\n",
                            "      <th>12</th>\n",
                            "      <td>fa7b20f8ac2312976cd7338487ad527d</td>\n",
                            "      <td>1.0</td>\n",
                            "      <td>9.8</td>\n",
                            "      <td>APROVADO</td>\n",
                            "      <td>20091</td>\n",
                            "      <td>2037000</td>\n",
                            "      <td>ALGORITMOS E LÓGICA DE PROGRAMAÇÃO</td>\n",
                            "      <td>M</td>\n",
                            "      <td>1978</td>\n",
                            "      <td>2009</td>\n",
                            "      <td>CONCLUÍDO</td>\n",
                            "    </tr>\n",
                            "    <tr>\n",
                            "      <th>...</th>\n",
                            "      <td>...</td>\n",
                            "      <td>...</td>\n",
                            "      <td>...</td>\n",
                            "      <td>...</td>\n",
                            "      <td>...</td>\n",
                            "      <td>...</td>\n",
                            "      <td>...</td>\n",
                            "      <td>...</td>\n",
                            "      <td>...</td>\n",
                            "      <td>...</td>\n",
                            "      <td>...</td>\n",
                            "    </tr>\n",
                            "    <tr>\n",
                            "      <th>53189</th>\n",
                            "      <td>7d2dd0d35ebb8319b0c0e612660d2c3a</td>\n",
                            "      <td>1.0</td>\n",
                            "      <td>9.3</td>\n",
                            "      <td>APROVADO</td>\n",
                            "      <td>20222</td>\n",
                            "      <td>62766</td>\n",
                            "      <td>SISTEMAS DE APOIO À DECISÃO</td>\n",
                            "      <td>M</td>\n",
                            "      <td>2000</td>\n",
                            "      <td>2019</td>\n",
                            "      <td>CONCLUÍDO</td>\n",
                            "    </tr>\n",
                            "    <tr>\n",
                            "      <th>53190</th>\n",
                            "      <td>7d2dd0d35ebb8319b0c0e612660d2c3a</td>\n",
                            "      <td>1.0</td>\n",
                            "      <td>9.8</td>\n",
                            "      <td>APROVADO</td>\n",
                            "      <td>20222</td>\n",
                            "      <td>62764</td>\n",
                            "      <td>PROGRAMAÇÃO VISUAL</td>\n",
                            "      <td>M</td>\n",
                            "      <td>2000</td>\n",
                            "      <td>2019</td>\n",
                            "      <td>CONCLUÍDO</td>\n",
                            "    </tr>\n",
                            "    <tr>\n",
                            "      <th>53193</th>\n",
                            "      <td>22f4aed4a073c5e9515a8669e9c102f3</td>\n",
                            "      <td>1.0</td>\n",
                            "      <td>5.2</td>\n",
                            "      <td>APROVADO</td>\n",
                            "      <td>20222</td>\n",
                            "      <td>62764</td>\n",
                            "      <td>PROGRAMAÇÃO VISUAL</td>\n",
                            "      <td>M</td>\n",
                            "      <td>1984</td>\n",
                            "      <td>2019</td>\n",
                            "      <td>ATIVO - FORMANDO</td>\n",
                            "    </tr>\n",
                            "    <tr>\n",
                            "      <th>53196</th>\n",
                            "      <td>e10089f6080d3afa8904437086ea2752</td>\n",
                            "      <td>1.0</td>\n",
                            "      <td>9.3</td>\n",
                            "      <td>APROVADO</td>\n",
                            "      <td>20222</td>\n",
                            "      <td>2050107</td>\n",
                            "      <td>DIREITO E LEGISLAÇÃO SOCIAL</td>\n",
                            "      <td>M</td>\n",
                            "      <td>2002</td>\n",
                            "      <td>2019</td>\n",
                            "      <td>ATIVO</td>\n",
                            "    </tr>\n",
                            "    <tr>\n",
                            "      <th>53199</th>\n",
                            "      <td>943463d2de8c6a60ec5f5d959ba7f1ac</td>\n",
                            "      <td>1.0</td>\n",
                            "      <td>10.0</td>\n",
                            "      <td>APROVADO</td>\n",
                            "      <td>20222</td>\n",
                            "      <td>2054400</td>\n",
                            "      <td>MATEMÁTICA FINANCEIRA</td>\n",
                            "      <td>M</td>\n",
                            "      <td>1999</td>\n",
                            "      <td>2018</td>\n",
                            "      <td>CONCLUÍDO</td>\n",
                            "    </tr>\n",
                            "  </tbody>\n",
                            "</table>\n",
                            "<p>16549 rows × 11 columns</p>\n",
                            "</div>"
                        ],
                        "text/plain": [
                            "                               discente  unidade  media_final  descricao  \\\n",
                            "0      afba64c0118bfcc8d5b3987e725ed545      1.0          1.5  REPROVADO   \n",
                            "3      9526e01da587b20211a39b4e66673aea      1.0          9.2   APROVADO   \n",
                            "6      1ed6777bd6ff4fd393e0b334d519c642      1.0          8.0   APROVADO   \n",
                            "9      cd66757ed4a317a3537ae3e246648778      1.0          7.3   APROVADO   \n",
                            "12     fa7b20f8ac2312976cd7338487ad527d      1.0          9.8   APROVADO   \n",
                            "...                                 ...      ...          ...        ...   \n",
                            "53189  7d2dd0d35ebb8319b0c0e612660d2c3a      1.0          9.3   APROVADO   \n",
                            "53190  7d2dd0d35ebb8319b0c0e612660d2c3a      1.0          9.8   APROVADO   \n",
                            "53193  22f4aed4a073c5e9515a8669e9c102f3      1.0          5.2   APROVADO   \n",
                            "53196  e10089f6080d3afa8904437086ea2752      1.0          9.3   APROVADO   \n",
                            "53199  943463d2de8c6a60ec5f5d959ba7f1ac      1.0         10.0   APROVADO   \n",
                            "\n",
                            "         ano  id_componente                                nome sexo  \\\n",
                            "0      20091        2037000  ALGORITMOS E LÓGICA DE PROGRAMAÇÃO    M   \n",
                            "3      20091        2037000  ALGORITMOS E LÓGICA DE PROGRAMAÇÃO    M   \n",
                            "6      20091        2037000  ALGORITMOS E LÓGICA DE PROGRAMAÇÃO    M   \n",
                            "9      20091        2037000  ALGORITMOS E LÓGICA DE PROGRAMAÇÃO    M   \n",
                            "12     20091        2037000  ALGORITMOS E LÓGICA DE PROGRAMAÇÃO    M   \n",
                            "...      ...            ...                                 ...  ...   \n",
                            "53189  20222          62766         SISTEMAS DE APOIO À DECISÃO    M   \n",
                            "53190  20222          62764                  PROGRAMAÇÃO VISUAL    M   \n",
                            "53193  20222          62764                  PROGRAMAÇÃO VISUAL    M   \n",
                            "53196  20222        2050107         DIREITO E LEGISLAÇÃO SOCIAL    M   \n",
                            "53199  20222        2054400               MATEMÁTICA FINANCEIRA    M   \n",
                            "\n",
                            "       ano_nascimento  ano_ingresso            status  \n",
                            "0                1987          2009         CANCELADO  \n",
                            "3                1990          2009         CONCLUÍDO  \n",
                            "6                1991          2009         CONCLUÍDO  \n",
                            "9                1975          2009         CANCELADO  \n",
                            "12               1978          2009         CONCLUÍDO  \n",
                            "...               ...           ...               ...  \n",
                            "53189            2000          2019         CONCLUÍDO  \n",
                            "53190            2000          2019         CONCLUÍDO  \n",
                            "53193            1984          2019  ATIVO - FORMANDO  \n",
                            "53196            2002          2019             ATIVO  \n",
                            "53199            1999          2018         CONCLUÍDO  \n",
                            "\n",
                            "[16549 rows x 11 columns]"
                        ]
                    },
                    "execution_count": 658,
                    "metadata": {},
                    "output_type": "execute_result"
                }
            ],
            "source": [
                "filtro  = dados['unidade'] == 1\n",
                "df_dados_filtrado = dados[filtro]\n",
                "df_dados_filtrado"
            ]
        },
        {
            "attachments": {},
            "cell_type": "markdown",
            "metadata": {},
            "source": [
                "Lista dos componentes curriculares obrigatórios."
            ]
        },
        {
            "cell_type": "code",
            "execution_count": 659,
            "metadata": {},
            "outputs": [],
            "source": [
                "lista_obrigatórias = [\n",
                "                'ALGORITMOS E LÓGICA DE PROGRAMAÇÃO',\n",
                "                'INTRODUÇÃO À INFORMÁTICA',\n",
                "                'FUNDAMENTOS DE MATEMÁTICA',\n",
                "                'LÓGICA',\n",
                "                'TEORIA GERAL DA ADMINISTRAÇÃO',\n",
                "                'PROGRAMAÇÃO',\n",
                "                'CÁLCULO DIFERENCIAL E INTEGRAL',\n",
                "                'TEORIA GERAL DOS SISTEMAS',\n",
                "                'PROGRAMAÇÃO ORIENTADA A OBJETOS I',\n",
                "                'ESTRUTURA DE DADOS',\n",
                "                'ÁLGEBRA LINEAR',\n",
                "                'ORGANIZAÇÃO, SISTEMAS E MÉTODOS',\n",
                "                'FUNDAMENTOS DE SISTEMAS DE INFORMAÇÃO',\n",
                "                'PROGRAMAÇÃO WEB',\n",
                "                'ARQUITETURA DE COMPUTADORES',\n",
                "                'PROBABILIDADE E ESTATÍSTICA',\n",
                "                'BANCO DE DADOS',\n",
                "                'ENGENHARIA DE SOFTWARE I',\n",
                "                'PROGRAMAÇÃO ORIENTADA A OBJETOS II',\n",
                "                'SISTEMAS OPERACIONAIS',\n",
                "                'PROJETO E ADMINISTRAÇÃO DE BANCO DE DADOS',\n",
                "                'ENGENHARIA DE SOFTWARE II',\n",
                "                'REDES DE COMPUTADORES',\n",
                "                'CONTABILIDADE E CUSTOS',\n",
                "                'EMPREENDEDORISMO EM INFORMÁTICA',\n",
                "                'GESTÃO DE PROJETO DE SOFTWARE',\n",
                "                'PROGRAMAÇÃO VISUAL',\n",
                "                'MATEMÁTICA FINANCEIRA',\n",
                "                'SISTEMAS DE APOIO À DECISÃO',\n",
                "                'ÉTICA',\n",
                "                ]\n",
                "condição_nome = f\"nome in {lista_obrigatórias}\"\n",
                "df_dados_filtrado = df_dados_filtrado.query(condição_nome)"
            ]
        },
        {
            "attachments": {},
            "cell_type": "markdown",
            "metadata": {},
            "source": [
                "Filtrando os dados com a descrição APROVADO e REPROVADO."
            ]
        },
        {
            "cell_type": "code",
            "execution_count": 660,
            "metadata": {},
            "outputs": [],
            "source": [
                "filtro = (df_dados_filtrado['descricao'] == 'APROVADO') | (df_dados_filtrado['descricao'] == 'REPROVADO')\n",
                "df_dados_filtrado = df_dados_filtrado[filtro]"
            ]
        },
        {
            "attachments": {},
            "cell_type": "markdown",
            "metadata": {},
            "source": [
                "### **Primeiro Período**"
            ]
        },
        {
            "attachments": {},
            "cell_type": "markdown",
            "metadata": {},
            "source": [
                "```\n",
                "\tALGORITMOS E LÓGICA DE PROGRAMAÇÃO 90h\n",
                "\tINTRODUÇÃO À INFORMÁTICA 60h\n",
                "\tFUNDAMENTOS DE MATEMÁTICA 60h\n",
                "\tLÓGICA 60h\n",
                "\tTEORIA GERAL DA ADMINISTRAÇÃO 60h\n",
                "```"
            ]
        },
        {
            "attachments": {},
            "cell_type": "markdown",
            "metadata": {},
            "source": [
                "#### ALGORITMOS E LÓGICA DE PROGRAMAÇÃO"
            ]
        },
        {
            "cell_type": "code",
            "execution_count": 661,
            "metadata": {},
            "outputs": [
                {
                    "data": {
                        "text/html": [
                            "<div>\n",
                            "<style scoped>\n",
                            "    .dataframe tbody tr th:only-of-type {\n",
                            "        vertical-align: middle;\n",
                            "    }\n",
                            "\n",
                            "    .dataframe tbody tr th {\n",
                            "        vertical-align: top;\n",
                            "    }\n",
                            "\n",
                            "    .dataframe thead th {\n",
                            "        text-align: right;\n",
                            "    }\n",
                            "</style>\n",
                            "<table border=\"1\" class=\"dataframe\">\n",
                            "  <thead>\n",
                            "    <tr style=\"text-align: right;\">\n",
                            "      <th></th>\n",
                            "      <th>discente</th>\n",
                            "      <th>media_final</th>\n",
                            "    </tr>\n",
                            "  </thead>\n",
                            "  <tbody>\n",
                            "    <tr>\n",
                            "      <th>0</th>\n",
                            "      <td>afba64c0118bfcc8d5b3987e725ed545</td>\n",
                            "      <td>1.5</td>\n",
                            "    </tr>\n",
                            "    <tr>\n",
                            "      <th>3</th>\n",
                            "      <td>9526e01da587b20211a39b4e66673aea</td>\n",
                            "      <td>9.2</td>\n",
                            "    </tr>\n",
                            "    <tr>\n",
                            "      <th>6</th>\n",
                            "      <td>1ed6777bd6ff4fd393e0b334d519c642</td>\n",
                            "      <td>8.0</td>\n",
                            "    </tr>\n",
                            "    <tr>\n",
                            "      <th>9</th>\n",
                            "      <td>cd66757ed4a317a3537ae3e246648778</td>\n",
                            "      <td>7.3</td>\n",
                            "    </tr>\n",
                            "    <tr>\n",
                            "      <th>12</th>\n",
                            "      <td>fa7b20f8ac2312976cd7338487ad527d</td>\n",
                            "      <td>9.8</td>\n",
                            "    </tr>\n",
                            "    <tr>\n",
                            "      <th>...</th>\n",
                            "      <td>...</td>\n",
                            "      <td>...</td>\n",
                            "    </tr>\n",
                            "    <tr>\n",
                            "      <th>49091</th>\n",
                            "      <td>9d98034372a5935696886fe82501810f</td>\n",
                            "      <td>6.6</td>\n",
                            "    </tr>\n",
                            "    <tr>\n",
                            "      <th>49094</th>\n",
                            "      <td>7e10326d0da4e63e11261631332319db</td>\n",
                            "      <td>6.1</td>\n",
                            "    </tr>\n",
                            "    <tr>\n",
                            "      <th>49097</th>\n",
                            "      <td>a22526ca2e7fd8a93af40d141489504e</td>\n",
                            "      <td>9.0</td>\n",
                            "    </tr>\n",
                            "    <tr>\n",
                            "      <th>49101</th>\n",
                            "      <td>331893fdbda9db865e56e3a4f194d7da</td>\n",
                            "      <td>7.2</td>\n",
                            "    </tr>\n",
                            "    <tr>\n",
                            "      <th>49103</th>\n",
                            "      <td>a02a255eadcaa6d79c6618c327193f9c</td>\n",
                            "      <td>6.2</td>\n",
                            "    </tr>\n",
                            "  </tbody>\n",
                            "</table>\n",
                            "<p>699 rows × 2 columns</p>\n",
                            "</div>"
                        ],
                        "text/plain": [
                            "                               discente  media_final\n",
                            "0      afba64c0118bfcc8d5b3987e725ed545          1.5\n",
                            "3      9526e01da587b20211a39b4e66673aea          9.2\n",
                            "6      1ed6777bd6ff4fd393e0b334d519c642          8.0\n",
                            "9      cd66757ed4a317a3537ae3e246648778          7.3\n",
                            "12     fa7b20f8ac2312976cd7338487ad527d          9.8\n",
                            "...                                 ...          ...\n",
                            "49091  9d98034372a5935696886fe82501810f          6.6\n",
                            "49094  7e10326d0da4e63e11261631332319db          6.1\n",
                            "49097  a22526ca2e7fd8a93af40d141489504e          9.0\n",
                            "49101  331893fdbda9db865e56e3a4f194d7da          7.2\n",
                            "49103  a02a255eadcaa6d79c6618c327193f9c          6.2\n",
                            "\n",
                            "[699 rows x 2 columns]"
                        ]
                    },
                    "execution_count": 661,
                    "metadata": {},
                    "output_type": "execute_result"
                }
            ],
            "source": [
                "algoritmo = df_dados_filtrado.loc[(df_dados_filtrado['id_componente'] == 2037000) |\n",
                "                                               (df_dados_filtrado['id_componente'] == 62486) &\n",
                "                                             (df_dados_filtrado['ano'] < 20222)]\n",
                "#Separando atributos\n",
                "algoritmo = algoritmo[['discente', 'media_final']]\n",
                "algoritmo"
            ]
        },
        {
            "cell_type": "code",
            "execution_count": 662,
            "metadata": {},
            "outputs": [
                {
                    "data": {
                        "text/html": [
                            "<div>\n",
                            "<style scoped>\n",
                            "    .dataframe tbody tr th:only-of-type {\n",
                            "        vertical-align: middle;\n",
                            "    }\n",
                            "\n",
                            "    .dataframe tbody tr th {\n",
                            "        vertical-align: top;\n",
                            "    }\n",
                            "\n",
                            "    .dataframe thead th {\n",
                            "        text-align: right;\n",
                            "    }\n",
                            "</style>\n",
                            "<table border=\"1\" class=\"dataframe\">\n",
                            "  <thead>\n",
                            "    <tr style=\"text-align: right;\">\n",
                            "      <th></th>\n",
                            "      <th>discente</th>\n",
                            "      <th>media_final</th>\n",
                            "    </tr>\n",
                            "  </thead>\n",
                            "  <tbody>\n",
                            "    <tr>\n",
                            "      <th>0</th>\n",
                            "      <td>005c14d7c07bf7980b60c703f99c5ee7</td>\n",
                            "      <td>5.90</td>\n",
                            "    </tr>\n",
                            "    <tr>\n",
                            "      <th>1</th>\n",
                            "      <td>0107fd69d8cd7e3d30dede96fb68bfe5</td>\n",
                            "      <td>5.60</td>\n",
                            "    </tr>\n",
                            "    <tr>\n",
                            "      <th>2</th>\n",
                            "      <td>014789363f7940922e71e710ee9d22bc</td>\n",
                            "      <td>6.00</td>\n",
                            "    </tr>\n",
                            "    <tr>\n",
                            "      <th>3</th>\n",
                            "      <td>0168075add041f9eb4bba46d6fdb6387</td>\n",
                            "      <td>2.00</td>\n",
                            "    </tr>\n",
                            "    <tr>\n",
                            "      <th>4</th>\n",
                            "      <td>020d362ad9aecb1942935475f1dc5f10</td>\n",
                            "      <td>3.90</td>\n",
                            "    </tr>\n",
                            "    <tr>\n",
                            "      <th>...</th>\n",
                            "      <td>...</td>\n",
                            "      <td>...</td>\n",
                            "    </tr>\n",
                            "    <tr>\n",
                            "      <th>578</th>\n",
                            "      <td>fe508adc657a48bc4cbfeed0856f5d93</td>\n",
                            "      <td>1.80</td>\n",
                            "    </tr>\n",
                            "    <tr>\n",
                            "      <th>579</th>\n",
                            "      <td>fe802d8d85de6f842749468401d1146c</td>\n",
                            "      <td>2.00</td>\n",
                            "    </tr>\n",
                            "    <tr>\n",
                            "      <th>580</th>\n",
                            "      <td>fec9ed6026d55ecdf514c640312c3d08</td>\n",
                            "      <td>8.70</td>\n",
                            "    </tr>\n",
                            "    <tr>\n",
                            "      <th>581</th>\n",
                            "      <td>ff56f2c5048dae0797fd3e851572b80c</td>\n",
                            "      <td>4.45</td>\n",
                            "    </tr>\n",
                            "    <tr>\n",
                            "      <th>582</th>\n",
                            "      <td>ffe447b2fe2058d45d5f756349a26f45</td>\n",
                            "      <td>0.00</td>\n",
                            "    </tr>\n",
                            "  </tbody>\n",
                            "</table>\n",
                            "<p>583 rows × 2 columns</p>\n",
                            "</div>"
                        ],
                        "text/plain": [
                            "                             discente  media_final\n",
                            "0    005c14d7c07bf7980b60c703f99c5ee7         5.90\n",
                            "1    0107fd69d8cd7e3d30dede96fb68bfe5         5.60\n",
                            "2    014789363f7940922e71e710ee9d22bc         6.00\n",
                            "3    0168075add041f9eb4bba46d6fdb6387         2.00\n",
                            "4    020d362ad9aecb1942935475f1dc5f10         3.90\n",
                            "..                                ...          ...\n",
                            "578  fe508adc657a48bc4cbfeed0856f5d93         1.80\n",
                            "579  fe802d8d85de6f842749468401d1146c         2.00\n",
                            "580  fec9ed6026d55ecdf514c640312c3d08         8.70\n",
                            "581  ff56f2c5048dae0797fd3e851572b80c         4.45\n",
                            "582  ffe447b2fe2058d45d5f756349a26f45         0.00\n",
                            "\n",
                            "[583 rows x 2 columns]"
                        ]
                    },
                    "execution_count": 662,
                    "metadata": {},
                    "output_type": "execute_result"
                }
            ],
            "source": [
                "algoritmo = algoritmo.groupby('discente').mean().reset_index()\n",
                "algoritmo"
            ]
        },
        {
            "attachments": {},
            "cell_type": "markdown",
            "metadata": {},
            "source": [
                "#### INTRODUÇÃO À INFORMÁTICA"
            ]
        },
        {
            "cell_type": "code",
            "execution_count": 663,
            "metadata": {},
            "outputs": [
                {
                    "data": {
                        "text/html": [
                            "<div>\n",
                            "<style scoped>\n",
                            "    .dataframe tbody tr th:only-of-type {\n",
                            "        vertical-align: middle;\n",
                            "    }\n",
                            "\n",
                            "    .dataframe tbody tr th {\n",
                            "        vertical-align: top;\n",
                            "    }\n",
                            "\n",
                            "    .dataframe thead th {\n",
                            "        text-align: right;\n",
                            "    }\n",
                            "</style>\n",
                            "<table border=\"1\" class=\"dataframe\">\n",
                            "  <thead>\n",
                            "    <tr style=\"text-align: right;\">\n",
                            "      <th></th>\n",
                            "      <th>discente</th>\n",
                            "      <th>media_final</th>\n",
                            "    </tr>\n",
                            "  </thead>\n",
                            "  <tbody>\n",
                            "    <tr>\n",
                            "      <th>156</th>\n",
                            "      <td>afba64c0118bfcc8d5b3987e725ed545</td>\n",
                            "      <td>8.4</td>\n",
                            "    </tr>\n",
                            "    <tr>\n",
                            "      <th>159</th>\n",
                            "      <td>9526e01da587b20211a39b4e66673aea</td>\n",
                            "      <td>8.3</td>\n",
                            "    </tr>\n",
                            "    <tr>\n",
                            "      <th>162</th>\n",
                            "      <td>1ed6777bd6ff4fd393e0b334d519c642</td>\n",
                            "      <td>8.5</td>\n",
                            "    </tr>\n",
                            "    <tr>\n",
                            "      <th>165</th>\n",
                            "      <td>cd66757ed4a317a3537ae3e246648778</td>\n",
                            "      <td>9.1</td>\n",
                            "    </tr>\n",
                            "    <tr>\n",
                            "      <th>168</th>\n",
                            "      <td>b3e68a0e40c1080434a52ea27b8abdcc</td>\n",
                            "      <td>9.6</td>\n",
                            "    </tr>\n",
                            "    <tr>\n",
                            "      <th>...</th>\n",
                            "      <td>...</td>\n",
                            "      <td>...</td>\n",
                            "    </tr>\n",
                            "    <tr>\n",
                            "      <th>49249</th>\n",
                            "      <td>331893fdbda9db865e56e3a4f194d7da</td>\n",
                            "      <td>5.2</td>\n",
                            "    </tr>\n",
                            "    <tr>\n",
                            "      <th>49252</th>\n",
                            "      <td>a02a255eadcaa6d79c6618c327193f9c</td>\n",
                            "      <td>5.6</td>\n",
                            "    </tr>\n",
                            "    <tr>\n",
                            "      <th>49256</th>\n",
                            "      <td>0a078f407dbf55307a5d5916338b18c6</td>\n",
                            "      <td>9.7</td>\n",
                            "    </tr>\n",
                            "    <tr>\n",
                            "      <th>49258</th>\n",
                            "      <td>9adbed3b0dea95e5a7eb14af393401e8</td>\n",
                            "      <td>6.0</td>\n",
                            "    </tr>\n",
                            "    <tr>\n",
                            "      <th>49263</th>\n",
                            "      <td>fe802d8d85de6f842749468401d1146c</td>\n",
                            "      <td>0.0</td>\n",
                            "    </tr>\n",
                            "  </tbody>\n",
                            "</table>\n",
                            "<p>722 rows × 2 columns</p>\n",
                            "</div>"
                        ],
                        "text/plain": [
                            "                               discente  media_final\n",
                            "156    afba64c0118bfcc8d5b3987e725ed545          8.4\n",
                            "159    9526e01da587b20211a39b4e66673aea          8.3\n",
                            "162    1ed6777bd6ff4fd393e0b334d519c642          8.5\n",
                            "165    cd66757ed4a317a3537ae3e246648778          9.1\n",
                            "168    b3e68a0e40c1080434a52ea27b8abdcc          9.6\n",
                            "...                                 ...          ...\n",
                            "49249  331893fdbda9db865e56e3a4f194d7da          5.2\n",
                            "49252  a02a255eadcaa6d79c6618c327193f9c          5.6\n",
                            "49256  0a078f407dbf55307a5d5916338b18c6          9.7\n",
                            "49258  9adbed3b0dea95e5a7eb14af393401e8          6.0\n",
                            "49263  fe802d8d85de6f842749468401d1146c          0.0\n",
                            "\n",
                            "[722 rows x 2 columns]"
                        ]
                    },
                    "execution_count": 663,
                    "metadata": {},
                    "output_type": "execute_result"
                }
            ],
            "source": [
                "intro_informatica = df_dados_filtrado.loc[(df_dados_filtrado['id_componente'] == 2037001) |\n",
                "                                               (df_dados_filtrado['id_componente'] == 62487)&\n",
                "                                             (df_dados_filtrado['ano'] < 20222)]\n",
                "#Separando atributos\n",
                "intro_informatica = intro_informatica[['discente', 'media_final']]\n",
                "intro_informatica"
            ]
        },
        {
            "cell_type": "code",
            "execution_count": 664,
            "metadata": {},
            "outputs": [
                {
                    "data": {
                        "text/html": [
                            "<div>\n",
                            "<style scoped>\n",
                            "    .dataframe tbody tr th:only-of-type {\n",
                            "        vertical-align: middle;\n",
                            "    }\n",
                            "\n",
                            "    .dataframe tbody tr th {\n",
                            "        vertical-align: top;\n",
                            "    }\n",
                            "\n",
                            "    .dataframe thead th {\n",
                            "        text-align: right;\n",
                            "    }\n",
                            "</style>\n",
                            "<table border=\"1\" class=\"dataframe\">\n",
                            "  <thead>\n",
                            "    <tr style=\"text-align: right;\">\n",
                            "      <th></th>\n",
                            "      <th>discente</th>\n",
                            "      <th>media_final</th>\n",
                            "    </tr>\n",
                            "  </thead>\n",
                            "  <tbody>\n",
                            "    <tr>\n",
                            "      <th>0</th>\n",
                            "      <td>005c14d7c07bf7980b60c703f99c5ee7</td>\n",
                            "      <td>2.55</td>\n",
                            "    </tr>\n",
                            "    <tr>\n",
                            "      <th>1</th>\n",
                            "      <td>0107fd69d8cd7e3d30dede96fb68bfe5</td>\n",
                            "      <td>2.70</td>\n",
                            "    </tr>\n",
                            "    <tr>\n",
                            "      <th>2</th>\n",
                            "      <td>014789363f7940922e71e710ee9d22bc</td>\n",
                            "      <td>3.00</td>\n",
                            "    </tr>\n",
                            "    <tr>\n",
                            "      <th>3</th>\n",
                            "      <td>0168075add041f9eb4bba46d6fdb6387</td>\n",
                            "      <td>0.00</td>\n",
                            "    </tr>\n",
                            "    <tr>\n",
                            "      <th>4</th>\n",
                            "      <td>020d362ad9aecb1942935475f1dc5f10</td>\n",
                            "      <td>7.20</td>\n",
                            "    </tr>\n",
                            "    <tr>\n",
                            "      <th>...</th>\n",
                            "      <td>...</td>\n",
                            "      <td>...</td>\n",
                            "    </tr>\n",
                            "    <tr>\n",
                            "      <th>564</th>\n",
                            "      <td>fe508adc657a48bc4cbfeed0856f5d93</td>\n",
                            "      <td>1.80</td>\n",
                            "    </tr>\n",
                            "    <tr>\n",
                            "      <th>565</th>\n",
                            "      <td>fe802d8d85de6f842749468401d1146c</td>\n",
                            "      <td>0.00</td>\n",
                            "    </tr>\n",
                            "    <tr>\n",
                            "      <th>566</th>\n",
                            "      <td>fec9ed6026d55ecdf514c640312c3d08</td>\n",
                            "      <td>8.60</td>\n",
                            "    </tr>\n",
                            "    <tr>\n",
                            "      <th>567</th>\n",
                            "      <td>ff56f2c5048dae0797fd3e851572b80c</td>\n",
                            "      <td>3.80</td>\n",
                            "    </tr>\n",
                            "    <tr>\n",
                            "      <th>568</th>\n",
                            "      <td>ffe447b2fe2058d45d5f756349a26f45</td>\n",
                            "      <td>0.00</td>\n",
                            "    </tr>\n",
                            "  </tbody>\n",
                            "</table>\n",
                            "<p>569 rows × 2 columns</p>\n",
                            "</div>"
                        ],
                        "text/plain": [
                            "                             discente  media_final\n",
                            "0    005c14d7c07bf7980b60c703f99c5ee7         2.55\n",
                            "1    0107fd69d8cd7e3d30dede96fb68bfe5         2.70\n",
                            "2    014789363f7940922e71e710ee9d22bc         3.00\n",
                            "3    0168075add041f9eb4bba46d6fdb6387         0.00\n",
                            "4    020d362ad9aecb1942935475f1dc5f10         7.20\n",
                            "..                                ...          ...\n",
                            "564  fe508adc657a48bc4cbfeed0856f5d93         1.80\n",
                            "565  fe802d8d85de6f842749468401d1146c         0.00\n",
                            "566  fec9ed6026d55ecdf514c640312c3d08         8.60\n",
                            "567  ff56f2c5048dae0797fd3e851572b80c         3.80\n",
                            "568  ffe447b2fe2058d45d5f756349a26f45         0.00\n",
                            "\n",
                            "[569 rows x 2 columns]"
                        ]
                    },
                    "execution_count": 664,
                    "metadata": {},
                    "output_type": "execute_result"
                }
            ],
            "source": [
                "intro_informatica = intro_informatica.groupby('discente').mean().reset_index()\n",
                "intro_informatica "
            ]
        },
        {
            "attachments": {},
            "cell_type": "markdown",
            "metadata": {},
            "source": [
                "#### FUNDAMENTOS DE MATEMÁTICA"
            ]
        },
        {
            "cell_type": "code",
            "execution_count": 665,
            "metadata": {},
            "outputs": [
                {
                    "data": {
                        "text/html": [
                            "<div>\n",
                            "<style scoped>\n",
                            "    .dataframe tbody tr th:only-of-type {\n",
                            "        vertical-align: middle;\n",
                            "    }\n",
                            "\n",
                            "    .dataframe tbody tr th {\n",
                            "        vertical-align: top;\n",
                            "    }\n",
                            "\n",
                            "    .dataframe thead th {\n",
                            "        text-align: right;\n",
                            "    }\n",
                            "</style>\n",
                            "<table border=\"1\" class=\"dataframe\">\n",
                            "  <thead>\n",
                            "    <tr style=\"text-align: right;\">\n",
                            "      <th></th>\n",
                            "      <th>discente</th>\n",
                            "      <th>media_final</th>\n",
                            "    </tr>\n",
                            "  </thead>\n",
                            "  <tbody>\n",
                            "    <tr>\n",
                            "      <th>300</th>\n",
                            "      <td>afba64c0118bfcc8d5b3987e725ed545</td>\n",
                            "      <td>5.0</td>\n",
                            "    </tr>\n",
                            "    <tr>\n",
                            "      <th>303</th>\n",
                            "      <td>9526e01da587b20211a39b4e66673aea</td>\n",
                            "      <td>9.0</td>\n",
                            "    </tr>\n",
                            "    <tr>\n",
                            "      <th>306</th>\n",
                            "      <td>1ed6777bd6ff4fd393e0b334d519c642</td>\n",
                            "      <td>7.5</td>\n",
                            "    </tr>\n",
                            "    <tr>\n",
                            "      <th>309</th>\n",
                            "      <td>fa7b20f8ac2312976cd7338487ad527d</td>\n",
                            "      <td>9.6</td>\n",
                            "    </tr>\n",
                            "    <tr>\n",
                            "      <th>312</th>\n",
                            "      <td>4a7ffdef8dd0b4a8c2ce87e6dcd439ad</td>\n",
                            "      <td>5.0</td>\n",
                            "    </tr>\n",
                            "  </tbody>\n",
                            "</table>\n",
                            "</div>"
                        ],
                        "text/plain": [
                            "                             discente  media_final\n",
                            "300  afba64c0118bfcc8d5b3987e725ed545          5.0\n",
                            "303  9526e01da587b20211a39b4e66673aea          9.0\n",
                            "306  1ed6777bd6ff4fd393e0b334d519c642          7.5\n",
                            "309  fa7b20f8ac2312976cd7338487ad527d          9.6\n",
                            "312  4a7ffdef8dd0b4a8c2ce87e6dcd439ad          5.0"
                        ]
                    },
                    "execution_count": 665,
                    "metadata": {},
                    "output_type": "execute_result"
                }
            ],
            "source": [
                "fundamentos_mat = df_dados_filtrado.loc[(df_dados_filtrado['id_componente'] == 2037003) |\n",
                "                                               (df_dados_filtrado['id_componente'] == 62488)&\n",
                "                                             (df_dados_filtrado['ano'] < 20222)]\n",
                "#Separando atributos\n",
                "fundamentos_mat = fundamentos_mat[['discente', 'media_final']]\n",
                "fundamentos_mat.head()"
            ]
        },
        {
            "cell_type": "code",
            "execution_count": 666,
            "metadata": {},
            "outputs": [],
            "source": [
                "fundamentos_mat = fundamentos_mat.groupby('discente').mean().reset_index()"
            ]
        },
        {
            "attachments": {},
            "cell_type": "markdown",
            "metadata": {},
            "source": [
                "#### LÓGICA"
            ]
        },
        {
            "cell_type": "code",
            "execution_count": 667,
            "metadata": {},
            "outputs": [
                {
                    "data": {
                        "text/html": [
                            "<div>\n",
                            "<style scoped>\n",
                            "    .dataframe tbody tr th:only-of-type {\n",
                            "        vertical-align: middle;\n",
                            "    }\n",
                            "\n",
                            "    .dataframe tbody tr th {\n",
                            "        vertical-align: top;\n",
                            "    }\n",
                            "\n",
                            "    .dataframe thead th {\n",
                            "        text-align: right;\n",
                            "    }\n",
                            "</style>\n",
                            "<table border=\"1\" class=\"dataframe\">\n",
                            "  <thead>\n",
                            "    <tr style=\"text-align: right;\">\n",
                            "      <th></th>\n",
                            "      <th>discente</th>\n",
                            "      <th>media_final</th>\n",
                            "    </tr>\n",
                            "  </thead>\n",
                            "  <tbody>\n",
                            "    <tr>\n",
                            "      <th>436</th>\n",
                            "      <td>afba64c0118bfcc8d5b3987e725ed545</td>\n",
                            "      <td>2.2</td>\n",
                            "    </tr>\n",
                            "    <tr>\n",
                            "      <th>439</th>\n",
                            "      <td>9526e01da587b20211a39b4e66673aea</td>\n",
                            "      <td>7.6</td>\n",
                            "    </tr>\n",
                            "    <tr>\n",
                            "      <th>442</th>\n",
                            "      <td>1ed6777bd6ff4fd393e0b334d519c642</td>\n",
                            "      <td>7.6</td>\n",
                            "    </tr>\n",
                            "    <tr>\n",
                            "      <th>445</th>\n",
                            "      <td>cd66757ed4a317a3537ae3e246648778</td>\n",
                            "      <td>8.4</td>\n",
                            "    </tr>\n",
                            "    <tr>\n",
                            "      <th>448</th>\n",
                            "      <td>fa7b20f8ac2312976cd7338487ad527d</td>\n",
                            "      <td>9.4</td>\n",
                            "    </tr>\n",
                            "  </tbody>\n",
                            "</table>\n",
                            "</div>"
                        ],
                        "text/plain": [
                            "                             discente  media_final\n",
                            "436  afba64c0118bfcc8d5b3987e725ed545          2.2\n",
                            "439  9526e01da587b20211a39b4e66673aea          7.6\n",
                            "442  1ed6777bd6ff4fd393e0b334d519c642          7.6\n",
                            "445  cd66757ed4a317a3537ae3e246648778          8.4\n",
                            "448  fa7b20f8ac2312976cd7338487ad527d          9.4"
                        ]
                    },
                    "execution_count": 667,
                    "metadata": {},
                    "output_type": "execute_result"
                }
            ],
            "source": [
                "logica = df_dados_filtrado.loc[(df_dados_filtrado['id_componente'] == 2037002) |\n",
                "                                               (df_dados_filtrado['id_componente'] == 62489)&\n",
                "                                             (df_dados_filtrado['ano'] < 20222)]\n",
                "#Separando atributos\n",
                "logica = logica[['discente', 'media_final']]\n",
                "logica.head()"
            ]
        },
        {
            "cell_type": "code",
            "execution_count": 668,
            "metadata": {},
            "outputs": [],
            "source": [
                "logica = logica.groupby('discente').mean().reset_index()"
            ]
        },
        {
            "attachments": {},
            "cell_type": "markdown",
            "metadata": {},
            "source": [
                "#### TEORIA GERAL DA ADMINISTRAÇÃO"
            ]
        },
        {
            "cell_type": "code",
            "execution_count": 669,
            "metadata": {},
            "outputs": [
                {
                    "data": {
                        "text/html": [
                            "<div>\n",
                            "<style scoped>\n",
                            "    .dataframe tbody tr th:only-of-type {\n",
                            "        vertical-align: middle;\n",
                            "    }\n",
                            "\n",
                            "    .dataframe tbody tr th {\n",
                            "        vertical-align: top;\n",
                            "    }\n",
                            "\n",
                            "    .dataframe thead th {\n",
                            "        text-align: right;\n",
                            "    }\n",
                            "</style>\n",
                            "<table border=\"1\" class=\"dataframe\">\n",
                            "  <thead>\n",
                            "    <tr style=\"text-align: right;\">\n",
                            "      <th></th>\n",
                            "      <th>discente</th>\n",
                            "      <th>media_final</th>\n",
                            "    </tr>\n",
                            "  </thead>\n",
                            "  <tbody>\n",
                            "    <tr>\n",
                            "      <th>589</th>\n",
                            "      <td>afba64c0118bfcc8d5b3987e725ed545</td>\n",
                            "      <td>5.0</td>\n",
                            "    </tr>\n",
                            "    <tr>\n",
                            "      <th>592</th>\n",
                            "      <td>9526e01da587b20211a39b4e66673aea</td>\n",
                            "      <td>7.7</td>\n",
                            "    </tr>\n",
                            "    <tr>\n",
                            "      <th>595</th>\n",
                            "      <td>1ed6777bd6ff4fd393e0b334d519c642</td>\n",
                            "      <td>7.5</td>\n",
                            "    </tr>\n",
                            "    <tr>\n",
                            "      <th>598</th>\n",
                            "      <td>cd66757ed4a317a3537ae3e246648778</td>\n",
                            "      <td>8.3</td>\n",
                            "    </tr>\n",
                            "    <tr>\n",
                            "      <th>601</th>\n",
                            "      <td>fa7b20f8ac2312976cd7338487ad527d</td>\n",
                            "      <td>9.7</td>\n",
                            "    </tr>\n",
                            "  </tbody>\n",
                            "</table>\n",
                            "</div>"
                        ],
                        "text/plain": [
                            "                             discente  media_final\n",
                            "589  afba64c0118bfcc8d5b3987e725ed545          5.0\n",
                            "592  9526e01da587b20211a39b4e66673aea          7.7\n",
                            "595  1ed6777bd6ff4fd393e0b334d519c642          7.5\n",
                            "598  cd66757ed4a317a3537ae3e246648778          8.3\n",
                            "601  fa7b20f8ac2312976cd7338487ad527d          9.7"
                        ]
                    },
                    "execution_count": 669,
                    "metadata": {},
                    "output_type": "execute_result"
                }
            ],
            "source": [
                "tga = df_dados_filtrado.loc[(df_dados_filtrado['id_componente'] == 2037004) |\n",
                "                                               (df_dados_filtrado['id_componente'] == 62490)&\n",
                "                                             (df_dados_filtrado['ano'] < 20222)]\n",
                "#Separando atributos\n",
                "tga = tga[['discente', 'media_final']]\n",
                "tga.head()"
            ]
        },
        {
            "cell_type": "code",
            "execution_count": 670,
            "metadata": {},
            "outputs": [],
            "source": [
                "tga = tga.groupby('discente').mean().reset_index()"
            ]
        },
        {
            "attachments": {},
            "cell_type": "markdown",
            "metadata": {},
            "source": [
                "### **Segundo Período**"
            ]
        },
        {
            "attachments": {},
            "cell_type": "markdown",
            "metadata": {},
            "source": [
                "```\n",
                "PROGRAMAÇÃO - 90h\n",
                "CÁLCULO DIFERENCIAL E INTEGRAL - 60h\n",
                "TEORIA GERAL DOS SISTEMAS - 60h\n",
                "```"
            ]
        },
        {
            "attachments": {},
            "cell_type": "markdown",
            "metadata": {},
            "source": [
                "#### PROGRAMAÇÃO"
            ]
        },
        {
            "cell_type": "code",
            "execution_count": 671,
            "metadata": {},
            "outputs": [
                {
                    "data": {
                        "text/html": [
                            "<div>\n",
                            "<style scoped>\n",
                            "    .dataframe tbody tr th:only-of-type {\n",
                            "        vertical-align: middle;\n",
                            "    }\n",
                            "\n",
                            "    .dataframe tbody tr th {\n",
                            "        vertical-align: top;\n",
                            "    }\n",
                            "\n",
                            "    .dataframe thead th {\n",
                            "        text-align: right;\n",
                            "    }\n",
                            "</style>\n",
                            "<table border=\"1\" class=\"dataframe\">\n",
                            "  <thead>\n",
                            "    <tr style=\"text-align: right;\">\n",
                            "      <th></th>\n",
                            "      <th>discente</th>\n",
                            "      <th>media_final</th>\n",
                            "    </tr>\n",
                            "  </thead>\n",
                            "  <tbody>\n",
                            "    <tr>\n",
                            "      <th>1017</th>\n",
                            "      <td>9526e01da587b20211a39b4e66673aea</td>\n",
                            "      <td>10.0</td>\n",
                            "    </tr>\n",
                            "    <tr>\n",
                            "      <th>1020</th>\n",
                            "      <td>1ed6777bd6ff4fd393e0b334d519c642</td>\n",
                            "      <td>10.0</td>\n",
                            "    </tr>\n",
                            "    <tr>\n",
                            "      <th>1024</th>\n",
                            "      <td>b3e68a0e40c1080434a52ea27b8abdcc</td>\n",
                            "      <td>8.3</td>\n",
                            "    </tr>\n",
                            "    <tr>\n",
                            "      <th>1027</th>\n",
                            "      <td>7e43b627fcb2a24d90aee995e59fe683</td>\n",
                            "      <td>10.0</td>\n",
                            "    </tr>\n",
                            "    <tr>\n",
                            "      <th>1030</th>\n",
                            "      <td>09f8afb587de0f57f7fdf5b42a4890d9</td>\n",
                            "      <td>7.5</td>\n",
                            "    </tr>\n",
                            "  </tbody>\n",
                            "</table>\n",
                            "</div>"
                        ],
                        "text/plain": [
                            "                              discente  media_final\n",
                            "1017  9526e01da587b20211a39b4e66673aea         10.0\n",
                            "1020  1ed6777bd6ff4fd393e0b334d519c642         10.0\n",
                            "1024  b3e68a0e40c1080434a52ea27b8abdcc          8.3\n",
                            "1027  7e43b627fcb2a24d90aee995e59fe683         10.0\n",
                            "1030  09f8afb587de0f57f7fdf5b42a4890d9          7.5"
                        ]
                    },
                    "execution_count": 671,
                    "metadata": {},
                    "output_type": "execute_result"
                }
            ],
            "source": [
                "programacao = df_dados_filtrado.loc[(df_dados_filtrado['id_componente'] == 2037006) |\n",
                "                                               (df_dados_filtrado['id_componente'] == 62748)&\n",
                "                                             (df_dados_filtrado['ano'] < 20222)]\n",
                "#Separando atributos\n",
                "programacao = programacao[['discente', 'media_final']]\n",
                "programacao.head()"
            ]
        },
        {
            "cell_type": "code",
            "execution_count": 672,
            "metadata": {},
            "outputs": [],
            "source": [
                "programacao = programacao.groupby('discente').mean().reset_index()"
            ]
        },
        {
            "attachments": {},
            "cell_type": "markdown",
            "metadata": {},
            "source": [
                "#### CÁLCULO DIFERENCIAL E INTEGRAL"
            ]
        },
        {
            "cell_type": "code",
            "execution_count": 673,
            "metadata": {},
            "outputs": [
                {
                    "data": {
                        "text/html": [
                            "<div>\n",
                            "<style scoped>\n",
                            "    .dataframe tbody tr th:only-of-type {\n",
                            "        vertical-align: middle;\n",
                            "    }\n",
                            "\n",
                            "    .dataframe tbody tr th {\n",
                            "        vertical-align: top;\n",
                            "    }\n",
                            "\n",
                            "    .dataframe thead th {\n",
                            "        text-align: right;\n",
                            "    }\n",
                            "</style>\n",
                            "<table border=\"1\" class=\"dataframe\">\n",
                            "  <thead>\n",
                            "    <tr style=\"text-align: right;\">\n",
                            "      <th></th>\n",
                            "      <th>discente</th>\n",
                            "      <th>media_final</th>\n",
                            "    </tr>\n",
                            "  </thead>\n",
                            "  <tbody>\n",
                            "    <tr>\n",
                            "      <th>1323</th>\n",
                            "      <td>9526e01da587b20211a39b4e66673aea</td>\n",
                            "      <td>6.9</td>\n",
                            "    </tr>\n",
                            "    <tr>\n",
                            "      <th>1326</th>\n",
                            "      <td>1ed6777bd6ff4fd393e0b334d519c642</td>\n",
                            "      <td>6.0</td>\n",
                            "    </tr>\n",
                            "    <tr>\n",
                            "      <th>1329</th>\n",
                            "      <td>fa7b20f8ac2312976cd7338487ad527d</td>\n",
                            "      <td>9.4</td>\n",
                            "    </tr>\n",
                            "    <tr>\n",
                            "      <th>1332</th>\n",
                            "      <td>02dad20dec819bcc384cc6fa0b7ecbf9</td>\n",
                            "      <td>5.0</td>\n",
                            "    </tr>\n",
                            "    <tr>\n",
                            "      <th>1335</th>\n",
                            "      <td>4a7ffdef8dd0b4a8c2ce87e6dcd439ad</td>\n",
                            "      <td>5.2</td>\n",
                            "    </tr>\n",
                            "  </tbody>\n",
                            "</table>\n",
                            "</div>"
                        ],
                        "text/plain": [
                            "                              discente  media_final\n",
                            "1323  9526e01da587b20211a39b4e66673aea          6.9\n",
                            "1326  1ed6777bd6ff4fd393e0b334d519c642          6.0\n",
                            "1329  fa7b20f8ac2312976cd7338487ad527d          9.4\n",
                            "1332  02dad20dec819bcc384cc6fa0b7ecbf9          5.0\n",
                            "1335  4a7ffdef8dd0b4a8c2ce87e6dcd439ad          5.2"
                        ]
                    },
                    "execution_count": 673,
                    "metadata": {},
                    "output_type": "execute_result"
                }
            ],
            "source": [
                "calculo = df_dados_filtrado.loc[(df_dados_filtrado['id_componente'] == 2037007) |\n",
                "                                               (df_dados_filtrado['id_componente'] == 62708)&\n",
                "                                             (df_dados_filtrado['ano'] < 20222)]\n",
                "\n",
                "#Separando atributos\n",
                "calculo = calculo[['discente', 'media_final']]\n",
                "calculo.head()"
            ]
        },
        {
            "cell_type": "code",
            "execution_count": 674,
            "metadata": {},
            "outputs": [],
            "source": [
                "calculo = calculo.groupby('discente').mean().reset_index()"
            ]
        },
        {
            "attachments": {},
            "cell_type": "markdown",
            "metadata": {},
            "source": [
                "#### TEORIA GERAL DOS SISTEMAS"
            ]
        },
        {
            "cell_type": "code",
            "execution_count": 675,
            "metadata": {},
            "outputs": [
                {
                    "data": {
                        "text/html": [
                            "<div>\n",
                            "<style scoped>\n",
                            "    .dataframe tbody tr th:only-of-type {\n",
                            "        vertical-align: middle;\n",
                            "    }\n",
                            "\n",
                            "    .dataframe tbody tr th {\n",
                            "        vertical-align: top;\n",
                            "    }\n",
                            "\n",
                            "    .dataframe thead th {\n",
                            "        text-align: right;\n",
                            "    }\n",
                            "</style>\n",
                            "<table border=\"1\" class=\"dataframe\">\n",
                            "  <thead>\n",
                            "    <tr style=\"text-align: right;\">\n",
                            "      <th></th>\n",
                            "      <th>discente</th>\n",
                            "      <th>media_final</th>\n",
                            "    </tr>\n",
                            "  </thead>\n",
                            "  <tbody>\n",
                            "    <tr>\n",
                            "      <th>1174</th>\n",
                            "      <td>afba64c0118bfcc8d5b3987e725ed545</td>\n",
                            "      <td>6.5</td>\n",
                            "    </tr>\n",
                            "    <tr>\n",
                            "      <th>1177</th>\n",
                            "      <td>9526e01da587b20211a39b4e66673aea</td>\n",
                            "      <td>8.8</td>\n",
                            "    </tr>\n",
                            "    <tr>\n",
                            "      <th>1180</th>\n",
                            "      <td>1ed6777bd6ff4fd393e0b334d519c642</td>\n",
                            "      <td>8.4</td>\n",
                            "    </tr>\n",
                            "    <tr>\n",
                            "      <th>1183</th>\n",
                            "      <td>cd66757ed4a317a3537ae3e246648778</td>\n",
                            "      <td>8.2</td>\n",
                            "    </tr>\n",
                            "    <tr>\n",
                            "      <th>1187</th>\n",
                            "      <td>fa7b20f8ac2312976cd7338487ad527d</td>\n",
                            "      <td>9.1</td>\n",
                            "    </tr>\n",
                            "  </tbody>\n",
                            "</table>\n",
                            "</div>"
                        ],
                        "text/plain": [
                            "                              discente  media_final\n",
                            "1174  afba64c0118bfcc8d5b3987e725ed545          6.5\n",
                            "1177  9526e01da587b20211a39b4e66673aea          8.8\n",
                            "1180  1ed6777bd6ff4fd393e0b334d519c642          8.4\n",
                            "1183  cd66757ed4a317a3537ae3e246648778          8.2\n",
                            "1187  fa7b20f8ac2312976cd7338487ad527d          9.1"
                        ]
                    },
                    "execution_count": 675,
                    "metadata": {},
                    "output_type": "execute_result"
                }
            ],
            "source": [
                "tgs = df_dados_filtrado.loc[(df_dados_filtrado['id_componente'] == 62707) |\n",
                "                                               (df_dados_filtrado['id_componente'] == 2037008)&\n",
                "                                             (df_dados_filtrado['ano'] < 20222)]\n",
                "#Separando atributos\n",
                "tgs = tgs[['discente', 'media_final']]\n",
                "tgs.head()"
            ]
        },
        {
            "cell_type": "code",
            "execution_count": 676,
            "metadata": {},
            "outputs": [],
            "source": [
                "tgs = tgs.groupby('discente').mean().reset_index()"
            ]
        },
        {
            "attachments": {},
            "cell_type": "markdown",
            "metadata": {},
            "source": [
                "### **Terceiro Período**"
            ]
        },
        {
            "attachments": {},
            "cell_type": "markdown",
            "metadata": {},
            "source": [
                "\n",
                "```\n",
                "PROGRAMAÇÃO ORIENTADA A OBJETOS I - 60h\n",
                "FUNDAMENTOS DE SISTEMAS DE INFORMAÇÃO - 60h\n",
                "ÁLGEBRA LINEAR - 60h\n",
                "ORGANIZAÇÃO, SISTEMAS E MÉTODOS - 60h\n",
                "ESTRUTURA DE DADOS - 90h\n",
                "```"
            ]
        },
        {
            "attachments": {},
            "cell_type": "markdown",
            "metadata": {},
            "source": [
                "#### PROGRAMAÇÃO ORIENTADA A OBJETOS I"
            ]
        },
        {
            "cell_type": "code",
            "execution_count": 677,
            "metadata": {},
            "outputs": [
                {
                    "data": {
                        "text/html": [
                            "<div>\n",
                            "<style scoped>\n",
                            "    .dataframe tbody tr th:only-of-type {\n",
                            "        vertical-align: middle;\n",
                            "    }\n",
                            "\n",
                            "    .dataframe tbody tr th {\n",
                            "        vertical-align: top;\n",
                            "    }\n",
                            "\n",
                            "    .dataframe thead th {\n",
                            "        text-align: right;\n",
                            "    }\n",
                            "</style>\n",
                            "<table border=\"1\" class=\"dataframe\">\n",
                            "  <thead>\n",
                            "    <tr style=\"text-align: right;\">\n",
                            "      <th></th>\n",
                            "      <th>discente</th>\n",
                            "      <th>media_final</th>\n",
                            "    </tr>\n",
                            "  </thead>\n",
                            "  <tbody>\n",
                            "    <tr>\n",
                            "      <th>1744</th>\n",
                            "      <td>e6f3c15ce99a088df63a9f10579b6403</td>\n",
                            "      <td>1.2</td>\n",
                            "    </tr>\n",
                            "    <tr>\n",
                            "      <th>1751</th>\n",
                            "      <td>f2b6381fd487de7c7cebaaaf595b3955</td>\n",
                            "      <td>6.3</td>\n",
                            "    </tr>\n",
                            "    <tr>\n",
                            "      <th>1757</th>\n",
                            "      <td>d76837f252e65e726918a7fd7c75ff14</td>\n",
                            "      <td>0.8</td>\n",
                            "    </tr>\n",
                            "    <tr>\n",
                            "      <th>1758</th>\n",
                            "      <td>6c87dae0bbd90f462ae3e3c3b2576c35</td>\n",
                            "      <td>1.4</td>\n",
                            "    </tr>\n",
                            "    <tr>\n",
                            "      <th>1762</th>\n",
                            "      <td>e72622b6792cb37da347566bacb9edbc</td>\n",
                            "      <td>0.3</td>\n",
                            "    </tr>\n",
                            "  </tbody>\n",
                            "</table>\n",
                            "</div>"
                        ],
                        "text/plain": [
                            "                              discente  media_final\n",
                            "1744  e6f3c15ce99a088df63a9f10579b6403          1.2\n",
                            "1751  f2b6381fd487de7c7cebaaaf595b3955          6.3\n",
                            "1757  d76837f252e65e726918a7fd7c75ff14          0.8\n",
                            "1758  6c87dae0bbd90f462ae3e3c3b2576c35          1.4\n",
                            "1762  e72622b6792cb37da347566bacb9edbc          0.3"
                        ]
                    },
                    "execution_count": 677,
                    "metadata": {},
                    "output_type": "execute_result"
                }
            ],
            "source": [
                "poo_1 = df_dados_filtrado.loc[(df_dados_filtrado['id_componente'] == 2037012) |\n",
                "                                               (df_dados_filtrado['id_componente'] == 62750)&\n",
                "                                             (df_dados_filtrado['ano'] < 20222)]\n",
                "#Separando atributos\n",
                "poo_1 = poo_1[['discente', 'media_final']]\n",
                "poo_1.head()"
            ]
        },
        {
            "cell_type": "code",
            "execution_count": 678,
            "metadata": {},
            "outputs": [],
            "source": [
                "poo_1 = poo_1.groupby('discente').mean().reset_index()"
            ]
        },
        {
            "attachments": {},
            "cell_type": "markdown",
            "metadata": {},
            "source": [
                "#### FUNDAMENTOS DE SISTEMAS DE INFORMAÇÃO"
            ]
        },
        {
            "cell_type": "code",
            "execution_count": 679,
            "metadata": {},
            "outputs": [
                {
                    "data": {
                        "text/html": [
                            "<div>\n",
                            "<style scoped>\n",
                            "    .dataframe tbody tr th:only-of-type {\n",
                            "        vertical-align: middle;\n",
                            "    }\n",
                            "\n",
                            "    .dataframe tbody tr th {\n",
                            "        vertical-align: top;\n",
                            "    }\n",
                            "\n",
                            "    .dataframe thead th {\n",
                            "        text-align: right;\n",
                            "    }\n",
                            "</style>\n",
                            "<table border=\"1\" class=\"dataframe\">\n",
                            "  <thead>\n",
                            "    <tr style=\"text-align: right;\">\n",
                            "      <th></th>\n",
                            "      <th>discente</th>\n",
                            "      <th>media_final</th>\n",
                            "    </tr>\n",
                            "  </thead>\n",
                            "  <tbody>\n",
                            "    <tr>\n",
                            "      <th>1875</th>\n",
                            "      <td>cd66757ed4a317a3537ae3e246648778</td>\n",
                            "      <td>8.9</td>\n",
                            "    </tr>\n",
                            "    <tr>\n",
                            "      <th>1878</th>\n",
                            "      <td>e6f3c15ce99a088df63a9f10579b6403</td>\n",
                            "      <td>7.1</td>\n",
                            "    </tr>\n",
                            "    <tr>\n",
                            "      <th>1881</th>\n",
                            "      <td>8436d99e1e39d9a2c6ed60b45c52ae0d</td>\n",
                            "      <td>7.2</td>\n",
                            "    </tr>\n",
                            "    <tr>\n",
                            "      <th>1888</th>\n",
                            "      <td>d76837f252e65e726918a7fd7c75ff14</td>\n",
                            "      <td>6.9</td>\n",
                            "    </tr>\n",
                            "    <tr>\n",
                            "      <th>1891</th>\n",
                            "      <td>0a88c7d4fa5cdcae0b5aa66e3cc0d0df</td>\n",
                            "      <td>7.4</td>\n",
                            "    </tr>\n",
                            "  </tbody>\n",
                            "</table>\n",
                            "</div>"
                        ],
                        "text/plain": [
                            "                              discente  media_final\n",
                            "1875  cd66757ed4a317a3537ae3e246648778          8.9\n",
                            "1878  e6f3c15ce99a088df63a9f10579b6403          7.1\n",
                            "1881  8436d99e1e39d9a2c6ed60b45c52ae0d          7.2\n",
                            "1888  d76837f252e65e726918a7fd7c75ff14          6.9\n",
                            "1891  0a88c7d4fa5cdcae0b5aa66e3cc0d0df          7.4"
                        ]
                    },
                    "execution_count": 679,
                    "metadata": {},
                    "output_type": "execute_result"
                }
            ],
            "source": [
                "fundamentos_si = df_dados_filtrado.loc[(df_dados_filtrado['id_componente'] == 2037011) |\n",
                "                                               (df_dados_filtrado['id_componente'] == 62709)&\n",
                "                                             (df_dados_filtrado['ano'] < 20222)]\n",
                "#Separando atributos\n",
                "fundamentos_si = fundamentos_si[['discente', 'media_final']]\n",
                "fundamentos_si.head()"
            ]
        },
        {
            "cell_type": "code",
            "execution_count": 680,
            "metadata": {},
            "outputs": [],
            "source": [
                "fundamentos_si = fundamentos_si.groupby('discente').mean().reset_index()"
            ]
        },
        {
            "attachments": {},
            "cell_type": "markdown",
            "metadata": {},
            "source": [
                "#### ÁLGEBRA LINEAR"
            ]
        },
        {
            "cell_type": "code",
            "execution_count": 681,
            "metadata": {},
            "outputs": [
                {
                    "data": {
                        "text/html": [
                            "<div>\n",
                            "<style scoped>\n",
                            "    .dataframe tbody tr th:only-of-type {\n",
                            "        vertical-align: middle;\n",
                            "    }\n",
                            "\n",
                            "    .dataframe tbody tr th {\n",
                            "        vertical-align: top;\n",
                            "    }\n",
                            "\n",
                            "    .dataframe thead th {\n",
                            "        text-align: right;\n",
                            "    }\n",
                            "</style>\n",
                            "<table border=\"1\" class=\"dataframe\">\n",
                            "  <thead>\n",
                            "    <tr style=\"text-align: right;\">\n",
                            "      <th></th>\n",
                            "      <th>discente</th>\n",
                            "      <th>media_final</th>\n",
                            "    </tr>\n",
                            "  </thead>\n",
                            "  <tbody>\n",
                            "    <tr>\n",
                            "      <th>2280</th>\n",
                            "      <td>e6f3c15ce99a088df63a9f10579b6403</td>\n",
                            "      <td>6.5</td>\n",
                            "    </tr>\n",
                            "    <tr>\n",
                            "      <th>2284</th>\n",
                            "      <td>8436d99e1e39d9a2c6ed60b45c52ae0d</td>\n",
                            "      <td>6.1</td>\n",
                            "    </tr>\n",
                            "    <tr>\n",
                            "      <th>2287</th>\n",
                            "      <td>0a88c7d4fa5cdcae0b5aa66e3cc0d0df</td>\n",
                            "      <td>5.4</td>\n",
                            "    </tr>\n",
                            "    <tr>\n",
                            "      <th>2293</th>\n",
                            "      <td>6c87dae0bbd90f462ae3e3c3b2576c35</td>\n",
                            "      <td>7.2</td>\n",
                            "    </tr>\n",
                            "    <tr>\n",
                            "      <th>2296</th>\n",
                            "      <td>d76837f252e65e726918a7fd7c75ff14</td>\n",
                            "      <td>5.0</td>\n",
                            "    </tr>\n",
                            "  </tbody>\n",
                            "</table>\n",
                            "</div>"
                        ],
                        "text/plain": [
                            "                              discente  media_final\n",
                            "2280  e6f3c15ce99a088df63a9f10579b6403          6.5\n",
                            "2284  8436d99e1e39d9a2c6ed60b45c52ae0d          6.1\n",
                            "2287  0a88c7d4fa5cdcae0b5aa66e3cc0d0df          5.4\n",
                            "2293  6c87dae0bbd90f462ae3e3c3b2576c35          7.2\n",
                            "2296  d76837f252e65e726918a7fd7c75ff14          5.0"
                        ]
                    },
                    "execution_count": 681,
                    "metadata": {},
                    "output_type": "execute_result"
                }
            ],
            "source": [
                "algebra = df_dados_filtrado.loc[(df_dados_filtrado['id_componente'] == 2037016) |\n",
                "                                               (df_dados_filtrado['id_componente'] == 62710)&\n",
                "                                             (df_dados_filtrado['ano'] < 20222)]\n",
                "#Separando atributos\n",
                "algebra = algebra[['discente', 'media_final']]\n",
                "algebra.head()"
            ]
        },
        {
            "cell_type": "code",
            "execution_count": 682,
            "metadata": {},
            "outputs": [],
            "source": [
                "algebra = algebra.groupby('discente').mean().reset_index()"
            ]
        },
        {
            "attachments": {},
            "cell_type": "markdown",
            "metadata": {},
            "source": [
                "#### ORGANIZAÇÃO, SISTEMAS E MÉTODOS"
            ]
        },
        {
            "cell_type": "code",
            "execution_count": 683,
            "metadata": {},
            "outputs": [
                {
                    "data": {
                        "text/html": [
                            "<div>\n",
                            "<style scoped>\n",
                            "    .dataframe tbody tr th:only-of-type {\n",
                            "        vertical-align: middle;\n",
                            "    }\n",
                            "\n",
                            "    .dataframe tbody tr th {\n",
                            "        vertical-align: top;\n",
                            "    }\n",
                            "\n",
                            "    .dataframe thead th {\n",
                            "        text-align: right;\n",
                            "    }\n",
                            "</style>\n",
                            "<table border=\"1\" class=\"dataframe\">\n",
                            "  <thead>\n",
                            "    <tr style=\"text-align: right;\">\n",
                            "      <th></th>\n",
                            "      <th>discente</th>\n",
                            "      <th>media_final</th>\n",
                            "    </tr>\n",
                            "  </thead>\n",
                            "  <tbody>\n",
                            "    <tr>\n",
                            "      <th>2554</th>\n",
                            "      <td>afba64c0118bfcc8d5b3987e725ed545</td>\n",
                            "      <td>1.8</td>\n",
                            "    </tr>\n",
                            "    <tr>\n",
                            "      <th>2559</th>\n",
                            "      <td>e6f3c15ce99a088df63a9f10579b6403</td>\n",
                            "      <td>3.9</td>\n",
                            "    </tr>\n",
                            "    <tr>\n",
                            "      <th>2565</th>\n",
                            "      <td>0a88c7d4fa5cdcae0b5aa66e3cc0d0df</td>\n",
                            "      <td>1.9</td>\n",
                            "    </tr>\n",
                            "    <tr>\n",
                            "      <th>2568</th>\n",
                            "      <td>f2b6381fd487de7c7cebaaaf595b3955</td>\n",
                            "      <td>8.0</td>\n",
                            "    </tr>\n",
                            "    <tr>\n",
                            "      <th>2571</th>\n",
                            "      <td>6c87dae0bbd90f462ae3e3c3b2576c35</td>\n",
                            "      <td>5.0</td>\n",
                            "    </tr>\n",
                            "  </tbody>\n",
                            "</table>\n",
                            "</div>"
                        ],
                        "text/plain": [
                            "                              discente  media_final\n",
                            "2554  afba64c0118bfcc8d5b3987e725ed545          1.8\n",
                            "2559  e6f3c15ce99a088df63a9f10579b6403          3.9\n",
                            "2565  0a88c7d4fa5cdcae0b5aa66e3cc0d0df          1.9\n",
                            "2568  f2b6381fd487de7c7cebaaaf595b3955          8.0\n",
                            "2571  6c87dae0bbd90f462ae3e3c3b2576c35          5.0"
                        ]
                    },
                    "execution_count": 683,
                    "metadata": {},
                    "output_type": "execute_result"
                }
            ],
            "source": [
                "osm = df_dados_filtrado.loc[(df_dados_filtrado['id_componente'] == 62751) |\n",
                "                                               (df_dados_filtrado['id_componente'] == 2037013)&\n",
                "                                             (df_dados_filtrado['ano'] < 20222)]\n",
                "#Separando atributos\n",
                "osm = osm[['discente', 'media_final']]\n",
                "osm.head()"
            ]
        },
        {
            "cell_type": "code",
            "execution_count": 684,
            "metadata": {},
            "outputs": [],
            "source": [
                "osm = osm.groupby('discente').mean().reset_index()"
            ]
        },
        {
            "attachments": {},
            "cell_type": "markdown",
            "metadata": {},
            "source": [
                "#### ESTRUTURA DE DADOS"
            ]
        },
        {
            "cell_type": "code",
            "execution_count": 685,
            "metadata": {},
            "outputs": [
                {
                    "data": {
                        "text/html": [
                            "<div>\n",
                            "<style scoped>\n",
                            "    .dataframe tbody tr th:only-of-type {\n",
                            "        vertical-align: middle;\n",
                            "    }\n",
                            "\n",
                            "    .dataframe tbody tr th {\n",
                            "        vertical-align: top;\n",
                            "    }\n",
                            "\n",
                            "    .dataframe thead th {\n",
                            "        text-align: right;\n",
                            "    }\n",
                            "</style>\n",
                            "<table border=\"1\" class=\"dataframe\">\n",
                            "  <thead>\n",
                            "    <tr style=\"text-align: right;\">\n",
                            "      <th></th>\n",
                            "      <th>discente</th>\n",
                            "      <th>media_final</th>\n",
                            "    </tr>\n",
                            "  </thead>\n",
                            "  <tbody>\n",
                            "    <tr>\n",
                            "      <th>2687</th>\n",
                            "      <td>f2b6381fd487de7c7cebaaaf595b3955</td>\n",
                            "      <td>5.8</td>\n",
                            "    </tr>\n",
                            "    <tr>\n",
                            "      <th>2690</th>\n",
                            "      <td>d76837f252e65e726918a7fd7c75ff14</td>\n",
                            "      <td>2.3</td>\n",
                            "    </tr>\n",
                            "    <tr>\n",
                            "      <th>2693</th>\n",
                            "      <td>8436d99e1e39d9a2c6ed60b45c52ae0d</td>\n",
                            "      <td>1.6</td>\n",
                            "    </tr>\n",
                            "    <tr>\n",
                            "      <th>2697</th>\n",
                            "      <td>0a88c7d4fa5cdcae0b5aa66e3cc0d0df</td>\n",
                            "      <td>1.9</td>\n",
                            "    </tr>\n",
                            "    <tr>\n",
                            "      <th>2699</th>\n",
                            "      <td>e6f3c15ce99a088df63a9f10579b6403</td>\n",
                            "      <td>2.4</td>\n",
                            "    </tr>\n",
                            "  </tbody>\n",
                            "</table>\n",
                            "</div>"
                        ],
                        "text/plain": [
                            "                              discente  media_final\n",
                            "2687  f2b6381fd487de7c7cebaaaf595b3955          5.8\n",
                            "2690  d76837f252e65e726918a7fd7c75ff14          2.3\n",
                            "2693  8436d99e1e39d9a2c6ed60b45c52ae0d          1.6\n",
                            "2697  0a88c7d4fa5cdcae0b5aa66e3cc0d0df          1.9\n",
                            "2699  e6f3c15ce99a088df63a9f10579b6403          2.4"
                        ]
                    },
                    "execution_count": 685,
                    "metadata": {},
                    "output_type": "execute_result"
                }
            ],
            "source": [
                "ed = df_dados_filtrado.loc[(df_dados_filtrado['id_componente'] == 2054351) |\n",
                "                                               (df_dados_filtrado['id_componente'] == 62749)&\n",
                "                                             (df_dados_filtrado['ano'] < 20222)]\n",
                "#Separando atributos\n",
                "ed = ed[['discente', 'media_final']]\n",
                "ed.head()"
            ]
        },
        {
            "cell_type": "code",
            "execution_count": 686,
            "metadata": {},
            "outputs": [],
            "source": [
                "ed = ed.groupby('discente').mean().reset_index()"
            ]
        },
        {
            "attachments": {},
            "cell_type": "markdown",
            "metadata": {},
            "source": [
                "### **Quarto Período**"
            ]
        },
        {
            "attachments": {},
            "cell_type": "markdown",
            "metadata": {},
            "source": [
                "\n",
                "```\n",
                "ARQUITETURA DE COMPUTADORES - 60h\n",
                "PROGRAMAÇÃO WEB - 60h\n",
                "PROBABILIDADE E ESTATÍSTICA - 60h\n",
                "BANCO DE DADOS - 60h\n",
                "ENGENHARIA DE SOFTWARE I - 60h\n",
                "```"
            ]
        },
        {
            "attachments": {},
            "cell_type": "markdown",
            "metadata": {},
            "source": [
                "#### ARQUITETURA DE COMPUTADORES"
            ]
        },
        {
            "cell_type": "code",
            "execution_count": 687,
            "metadata": {},
            "outputs": [
                {
                    "data": {
                        "text/html": [
                            "<div>\n",
                            "<style scoped>\n",
                            "    .dataframe tbody tr th:only-of-type {\n",
                            "        vertical-align: middle;\n",
                            "    }\n",
                            "\n",
                            "    .dataframe tbody tr th {\n",
                            "        vertical-align: top;\n",
                            "    }\n",
                            "\n",
                            "    .dataframe thead th {\n",
                            "        text-align: right;\n",
                            "    }\n",
                            "</style>\n",
                            "<table border=\"1\" class=\"dataframe\">\n",
                            "  <thead>\n",
                            "    <tr style=\"text-align: right;\">\n",
                            "      <th></th>\n",
                            "      <th>discente</th>\n",
                            "      <th>media_final</th>\n",
                            "    </tr>\n",
                            "  </thead>\n",
                            "  <tbody>\n",
                            "    <tr>\n",
                            "      <th>3790</th>\n",
                            "      <td>8436d99e1e39d9a2c6ed60b45c52ae0d</td>\n",
                            "      <td>1.9</td>\n",
                            "    </tr>\n",
                            "    <tr>\n",
                            "      <th>3804</th>\n",
                            "      <td>9b7909374b05a7b2c9d3df9ba88294db</td>\n",
                            "      <td>1.4</td>\n",
                            "    </tr>\n",
                            "    <tr>\n",
                            "      <th>3807</th>\n",
                            "      <td>f76a98b78765318ba3c2942db7649750</td>\n",
                            "      <td>3.0</td>\n",
                            "    </tr>\n",
                            "    <tr>\n",
                            "      <th>3811</th>\n",
                            "      <td>865acdb96823643020382e53511234b0</td>\n",
                            "      <td>5.4</td>\n",
                            "    </tr>\n",
                            "    <tr>\n",
                            "      <th>3814</th>\n",
                            "      <td>7e43b627fcb2a24d90aee995e59fe683</td>\n",
                            "      <td>9.1</td>\n",
                            "    </tr>\n",
                            "  </tbody>\n",
                            "</table>\n",
                            "</div>"
                        ],
                        "text/plain": [
                            "                              discente  media_final\n",
                            "3790  8436d99e1e39d9a2c6ed60b45c52ae0d          1.9\n",
                            "3804  9b7909374b05a7b2c9d3df9ba88294db          1.4\n",
                            "3807  f76a98b78765318ba3c2942db7649750          3.0\n",
                            "3811  865acdb96823643020382e53511234b0          5.4\n",
                            "3814  7e43b627fcb2a24d90aee995e59fe683          9.1"
                        ]
                    },
                    "execution_count": 687,
                    "metadata": {},
                    "output_type": "execute_result"
                }
            ],
            "source": [
                "arquitetura = df_dados_filtrado.loc[(df_dados_filtrado['id_componente'] == 2037018) |\n",
                "                                               (df_dados_filtrado['id_componente'] == 62711)&\n",
                "                                             (df_dados_filtrado['ano'] < 20222)]\n",
                "#Separando atributos\n",
                "arquitetura = arquitetura[['discente', 'media_final']]\n",
                "arquitetura.head()"
            ]
        },
        {
            "cell_type": "code",
            "execution_count": 688,
            "metadata": {},
            "outputs": [],
            "source": [
                "arquitetura = arquitetura.groupby('discente').mean().reset_index()"
            ]
        },
        {
            "attachments": {},
            "cell_type": "markdown",
            "metadata": {},
            "source": [
                "#### PROGRAMAÇÃO WEB"
            ]
        },
        {
            "cell_type": "code",
            "execution_count": 689,
            "metadata": {},
            "outputs": [
                {
                    "data": {
                        "text/html": [
                            "<div>\n",
                            "<style scoped>\n",
                            "    .dataframe tbody tr th:only-of-type {\n",
                            "        vertical-align: middle;\n",
                            "    }\n",
                            "\n",
                            "    .dataframe tbody tr th {\n",
                            "        vertical-align: top;\n",
                            "    }\n",
                            "\n",
                            "    .dataframe thead th {\n",
                            "        text-align: right;\n",
                            "    }\n",
                            "</style>\n",
                            "<table border=\"1\" class=\"dataframe\">\n",
                            "  <thead>\n",
                            "    <tr style=\"text-align: right;\">\n",
                            "      <th></th>\n",
                            "      <th>discente</th>\n",
                            "      <th>media_final</th>\n",
                            "    </tr>\n",
                            "  </thead>\n",
                            "  <tbody>\n",
                            "    <tr>\n",
                            "      <th>5790</th>\n",
                            "      <td>a624ee44a3c11e410590e9c6082d3ad3</td>\n",
                            "      <td>7.2</td>\n",
                            "    </tr>\n",
                            "    <tr>\n",
                            "      <th>5794</th>\n",
                            "      <td>0ef299cf7ff58409e7e7b0ec75a33b31</td>\n",
                            "      <td>7.3</td>\n",
                            "    </tr>\n",
                            "    <tr>\n",
                            "      <th>5797</th>\n",
                            "      <td>d1cc1d8d9326efc619dcd34db13bd13f</td>\n",
                            "      <td>5.3</td>\n",
                            "    </tr>\n",
                            "    <tr>\n",
                            "      <th>5800</th>\n",
                            "      <td>7e43b627fcb2a24d90aee995e59fe683</td>\n",
                            "      <td>9.0</td>\n",
                            "    </tr>\n",
                            "    <tr>\n",
                            "      <th>5803</th>\n",
                            "      <td>4641154186598ae01d4d0af879ea5003</td>\n",
                            "      <td>6.2</td>\n",
                            "    </tr>\n",
                            "  </tbody>\n",
                            "</table>\n",
                            "</div>"
                        ],
                        "text/plain": [
                            "                              discente  media_final\n",
                            "5790  a624ee44a3c11e410590e9c6082d3ad3          7.2\n",
                            "5794  0ef299cf7ff58409e7e7b0ec75a33b31          7.3\n",
                            "5797  d1cc1d8d9326efc619dcd34db13bd13f          5.3\n",
                            "5800  7e43b627fcb2a24d90aee995e59fe683          9.0\n",
                            "5803  4641154186598ae01d4d0af879ea5003          6.2"
                        ]
                    },
                    "execution_count": 689,
                    "metadata": {},
                    "output_type": "execute_result"
                }
            ],
            "source": [
                "p_web = df_dados_filtrado.loc[(df_dados_filtrado['id_componente'] == 2037021) |\n",
                "                                               (df_dados_filtrado['id_componente'] == 62752)&\n",
                "                                             (df_dados_filtrado['ano'] < 20222)]\n",
                "#Separando atributos\n",
                "p_web = p_web[['discente', 'media_final']]\n",
                "p_web.head()"
            ]
        },
        {
            "cell_type": "code",
            "execution_count": 690,
            "metadata": {},
            "outputs": [],
            "source": [
                "p_web = p_web.groupby('discente').mean().reset_index()"
            ]
        },
        {
            "attachments": {},
            "cell_type": "markdown",
            "metadata": {},
            "source": [
                "#### PROBABILIDADE E ESTATÍSTICA"
            ]
        },
        {
            "cell_type": "code",
            "execution_count": 691,
            "metadata": {},
            "outputs": [
                {
                    "data": {
                        "text/html": [
                            "<div>\n",
                            "<style scoped>\n",
                            "    .dataframe tbody tr th:only-of-type {\n",
                            "        vertical-align: middle;\n",
                            "    }\n",
                            "\n",
                            "    .dataframe tbody tr th {\n",
                            "        vertical-align: top;\n",
                            "    }\n",
                            "\n",
                            "    .dataframe thead th {\n",
                            "        text-align: right;\n",
                            "    }\n",
                            "</style>\n",
                            "<table border=\"1\" class=\"dataframe\">\n",
                            "  <thead>\n",
                            "    <tr style=\"text-align: right;\">\n",
                            "      <th></th>\n",
                            "      <th>discente</th>\n",
                            "      <th>media_final</th>\n",
                            "    </tr>\n",
                            "  </thead>\n",
                            "  <tbody>\n",
                            "    <tr>\n",
                            "      <th>3554</th>\n",
                            "      <td>0a88c7d4fa5cdcae0b5aa66e3cc0d0df</td>\n",
                            "      <td>6.0</td>\n",
                            "    </tr>\n",
                            "    <tr>\n",
                            "      <th>3557</th>\n",
                            "      <td>8436d99e1e39d9a2c6ed60b45c52ae0d</td>\n",
                            "      <td>7.3</td>\n",
                            "    </tr>\n",
                            "    <tr>\n",
                            "      <th>3560</th>\n",
                            "      <td>e6f3c15ce99a088df63a9f10579b6403</td>\n",
                            "      <td>6.0</td>\n",
                            "    </tr>\n",
                            "    <tr>\n",
                            "      <th>3566</th>\n",
                            "      <td>ba5a4542a911da465e9233fafaa290da</td>\n",
                            "      <td>9.2</td>\n",
                            "    </tr>\n",
                            "    <tr>\n",
                            "      <th>3575</th>\n",
                            "      <td>865acdb96823643020382e53511234b0</td>\n",
                            "      <td>7.3</td>\n",
                            "    </tr>\n",
                            "  </tbody>\n",
                            "</table>\n",
                            "</div>"
                        ],
                        "text/plain": [
                            "                              discente  media_final\n",
                            "3554  0a88c7d4fa5cdcae0b5aa66e3cc0d0df          6.0\n",
                            "3557  8436d99e1e39d9a2c6ed60b45c52ae0d          7.3\n",
                            "3560  e6f3c15ce99a088df63a9f10579b6403          6.0\n",
                            "3566  ba5a4542a911da465e9233fafaa290da          9.2\n",
                            "3575  865acdb96823643020382e53511234b0          7.3"
                        ]
                    },
                    "execution_count": 691,
                    "metadata": {},
                    "output_type": "execute_result"
                }
            ],
            "source": [
                "probabilidade = df_dados_filtrado.loc[(df_dados_filtrado['id_componente'] == 2037009) |\n",
                "                                               (df_dados_filtrado['id_componente'] == 62712)&\n",
                "                                             (df_dados_filtrado['ano'] < 20222)]\n",
                "#Separando atributos\n",
                "probabilidade = probabilidade[['discente', 'media_final']]\n",
                "probabilidade.head()"
            ]
        },
        {
            "cell_type": "code",
            "execution_count": 692,
            "metadata": {},
            "outputs": [],
            "source": [
                "probabilidade = probabilidade.groupby('discente').mean().reset_index()"
            ]
        },
        {
            "attachments": {},
            "cell_type": "markdown",
            "metadata": {},
            "source": [
                "#### BANCO DE DADOS"
            ]
        },
        {
            "cell_type": "code",
            "execution_count": 693,
            "metadata": {},
            "outputs": [
                {
                    "data": {
                        "text/html": [
                            "<div>\n",
                            "<style scoped>\n",
                            "    .dataframe tbody tr th:only-of-type {\n",
                            "        vertical-align: middle;\n",
                            "    }\n",
                            "\n",
                            "    .dataframe tbody tr th {\n",
                            "        vertical-align: top;\n",
                            "    }\n",
                            "\n",
                            "    .dataframe thead th {\n",
                            "        text-align: right;\n",
                            "    }\n",
                            "</style>\n",
                            "<table border=\"1\" class=\"dataframe\">\n",
                            "  <thead>\n",
                            "    <tr style=\"text-align: right;\">\n",
                            "      <th></th>\n",
                            "      <th>discente</th>\n",
                            "      <th>media_final</th>\n",
                            "    </tr>\n",
                            "  </thead>\n",
                            "  <tbody>\n",
                            "    <tr>\n",
                            "      <th>3212</th>\n",
                            "      <td>865acdb96823643020382e53511234b0</td>\n",
                            "      <td>5.1</td>\n",
                            "    </tr>\n",
                            "    <tr>\n",
                            "      <th>3217</th>\n",
                            "      <td>afba64c0118bfcc8d5b3987e725ed545</td>\n",
                            "      <td>2.2</td>\n",
                            "    </tr>\n",
                            "    <tr>\n",
                            "      <th>3218</th>\n",
                            "      <td>7e43b627fcb2a24d90aee995e59fe683</td>\n",
                            "      <td>8.7</td>\n",
                            "    </tr>\n",
                            "    <tr>\n",
                            "      <th>3221</th>\n",
                            "      <td>4641154186598ae01d4d0af879ea5003</td>\n",
                            "      <td>8.7</td>\n",
                            "    </tr>\n",
                            "    <tr>\n",
                            "      <th>3226</th>\n",
                            "      <td>0ef299cf7ff58409e7e7b0ec75a33b31</td>\n",
                            "      <td>6.0</td>\n",
                            "    </tr>\n",
                            "  </tbody>\n",
                            "</table>\n",
                            "</div>"
                        ],
                        "text/plain": [
                            "                              discente  media_final\n",
                            "3212  865acdb96823643020382e53511234b0          5.1\n",
                            "3217  afba64c0118bfcc8d5b3987e725ed545          2.2\n",
                            "3218  7e43b627fcb2a24d90aee995e59fe683          8.7\n",
                            "3221  4641154186598ae01d4d0af879ea5003          8.7\n",
                            "3226  0ef299cf7ff58409e7e7b0ec75a33b31          6.0"
                        ]
                    },
                    "execution_count": 693,
                    "metadata": {},
                    "output_type": "execute_result"
                }
            ],
            "source": [
                "bd_1 = df_dados_filtrado.loc[(df_dados_filtrado['id_componente'] == 2037014) |\n",
                "                                               (df_dados_filtrado['id_componente'] == 62759)&\n",
                "                                             (df_dados_filtrado['ano'] < 20222)]\n",
                "#Separando atributos\n",
                "bd_1 = bd_1[['discente', 'media_final']]\n",
                "bd_1.head()"
            ]
        },
        {
            "cell_type": "code",
            "execution_count": 694,
            "metadata": {},
            "outputs": [],
            "source": [
                "bd_1 = bd_1.groupby('discente').mean().reset_index()"
            ]
        },
        {
            "attachments": {},
            "cell_type": "markdown",
            "metadata": {},
            "source": [
                "#### ENGENHARIA DE SOFTWARE I"
            ]
        },
        {
            "cell_type": "code",
            "execution_count": 695,
            "metadata": {},
            "outputs": [
                {
                    "data": {
                        "text/html": [
                            "<div>\n",
                            "<style scoped>\n",
                            "    .dataframe tbody tr th:only-of-type {\n",
                            "        vertical-align: middle;\n",
                            "    }\n",
                            "\n",
                            "    .dataframe tbody tr th {\n",
                            "        vertical-align: top;\n",
                            "    }\n",
                            "\n",
                            "    .dataframe thead th {\n",
                            "        text-align: right;\n",
                            "    }\n",
                            "</style>\n",
                            "<table border=\"1\" class=\"dataframe\">\n",
                            "  <thead>\n",
                            "    <tr style=\"text-align: right;\">\n",
                            "      <th></th>\n",
                            "      <th>discente</th>\n",
                            "      <th>media_final</th>\n",
                            "    </tr>\n",
                            "  </thead>\n",
                            "  <tbody>\n",
                            "    <tr>\n",
                            "      <th>3324</th>\n",
                            "      <td>8436d99e1e39d9a2c6ed60b45c52ae0d</td>\n",
                            "      <td>3.7</td>\n",
                            "    </tr>\n",
                            "    <tr>\n",
                            "      <th>3328</th>\n",
                            "      <td>0a88c7d4fa5cdcae0b5aa66e3cc0d0df</td>\n",
                            "      <td>5.0</td>\n",
                            "    </tr>\n",
                            "    <tr>\n",
                            "      <th>3331</th>\n",
                            "      <td>e6f3c15ce99a088df63a9f10579b6403</td>\n",
                            "      <td>5.2</td>\n",
                            "    </tr>\n",
                            "    <tr>\n",
                            "      <th>3339</th>\n",
                            "      <td>9b7909374b05a7b2c9d3df9ba88294db</td>\n",
                            "      <td>5.7</td>\n",
                            "    </tr>\n",
                            "    <tr>\n",
                            "      <th>3342</th>\n",
                            "      <td>afba64c0118bfcc8d5b3987e725ed545</td>\n",
                            "      <td>4.0</td>\n",
                            "    </tr>\n",
                            "  </tbody>\n",
                            "</table>\n",
                            "</div>"
                        ],
                        "text/plain": [
                            "                              discente  media_final\n",
                            "3324  8436d99e1e39d9a2c6ed60b45c52ae0d          3.7\n",
                            "3328  0a88c7d4fa5cdcae0b5aa66e3cc0d0df          5.0\n",
                            "3331  e6f3c15ce99a088df63a9f10579b6403          5.2\n",
                            "3339  9b7909374b05a7b2c9d3df9ba88294db          5.7\n",
                            "3342  afba64c0118bfcc8d5b3987e725ed545          4.0"
                        ]
                    },
                    "execution_count": 695,
                    "metadata": {},
                    "output_type": "execute_result"
                }
            ],
            "source": [
                "engenharia_1 = df_dados_filtrado.loc[(df_dados_filtrado['id_componente'] == 2037017) |\n",
                "                                               (df_dados_filtrado['id_componente'] == 62761)&\n",
                "                                             (df_dados_filtrado['ano'] < 20222)]\n",
                "#Separando atributos\n",
                "engenharia_1 = engenharia_1[['discente', 'media_final']]\n",
                "engenharia_1.head()"
            ]
        },
        {
            "cell_type": "code",
            "execution_count": 696,
            "metadata": {},
            "outputs": [],
            "source": [
                "engenharia_1 = engenharia_1.groupby('discente').mean().reset_index()"
            ]
        },
        {
            "attachments": {},
            "cell_type": "markdown",
            "metadata": {},
            "source": [
                "### **Quinto Período**"
            ]
        },
        {
            "attachments": {},
            "cell_type": "markdown",
            "metadata": {},
            "source": [
                "```\n",
                "PROGRAMAÇÃO ORIENTADA A OBJETOS II - 60h\n",
                "SISTEMAS OPERACIONAIS - 60h\n",
                "PROJETO E ADMINISTRAÇÃO DE BANCO DE DADOS - 60h\n",
                "ENGENHARIA DE SOFTWARE II - 60h\n",
                "```"
            ]
        },
        {
            "attachments": {},
            "cell_type": "markdown",
            "metadata": {},
            "source": [
                "#### PROGRAMAÇÃO ORIENTADA A OBJETOS II"
            ]
        },
        {
            "cell_type": "code",
            "execution_count": 697,
            "metadata": {},
            "outputs": [
                {
                    "data": {
                        "text/html": [
                            "<div>\n",
                            "<style scoped>\n",
                            "    .dataframe tbody tr th:only-of-type {\n",
                            "        vertical-align: middle;\n",
                            "    }\n",
                            "\n",
                            "    .dataframe tbody tr th {\n",
                            "        vertical-align: top;\n",
                            "    }\n",
                            "\n",
                            "    .dataframe thead th {\n",
                            "        text-align: right;\n",
                            "    }\n",
                            "</style>\n",
                            "<table border=\"1\" class=\"dataframe\">\n",
                            "  <thead>\n",
                            "    <tr style=\"text-align: right;\">\n",
                            "      <th></th>\n",
                            "      <th>discente</th>\n",
                            "      <th>media_final</th>\n",
                            "    </tr>\n",
                            "  </thead>\n",
                            "  <tbody>\n",
                            "    <tr>\n",
                            "      <th>3281</th>\n",
                            "      <td>865acdb96823643020382e53511234b0</td>\n",
                            "      <td>6.6</td>\n",
                            "    </tr>\n",
                            "    <tr>\n",
                            "      <th>3282</th>\n",
                            "      <td>7e43b627fcb2a24d90aee995e59fe683</td>\n",
                            "      <td>9.3</td>\n",
                            "    </tr>\n",
                            "    <tr>\n",
                            "      <th>3285</th>\n",
                            "      <td>4641154186598ae01d4d0af879ea5003</td>\n",
                            "      <td>8.9</td>\n",
                            "    </tr>\n",
                            "    <tr>\n",
                            "      <th>3288</th>\n",
                            "      <td>0ef299cf7ff58409e7e7b0ec75a33b31</td>\n",
                            "      <td>6.1</td>\n",
                            "    </tr>\n",
                            "    <tr>\n",
                            "      <th>3291</th>\n",
                            "      <td>d1cc1d8d9326efc619dcd34db13bd13f</td>\n",
                            "      <td>5.9</td>\n",
                            "    </tr>\n",
                            "  </tbody>\n",
                            "</table>\n",
                            "</div>"
                        ],
                        "text/plain": [
                            "                              discente  media_final\n",
                            "3281  865acdb96823643020382e53511234b0          6.6\n",
                            "3282  7e43b627fcb2a24d90aee995e59fe683          9.3\n",
                            "3285  4641154186598ae01d4d0af879ea5003          8.9\n",
                            "3288  0ef299cf7ff58409e7e7b0ec75a33b31          6.1\n",
                            "3291  d1cc1d8d9326efc619dcd34db13bd13f          5.9"
                        ]
                    },
                    "execution_count": 697,
                    "metadata": {},
                    "output_type": "execute_result"
                }
            ],
            "source": [
                "poo_2 = df_dados_filtrado.loc[(df_dados_filtrado['id_componente'] == 2037015) |\n",
                "                                               (df_dados_filtrado['id_componente'] == 62758)&\n",
                "                                             (df_dados_filtrado['ano'] < 20222)]\n",
                "#Separando atributos\n",
                "poo_2 = poo_2[['discente', 'media_final']]\n",
                "poo_2.head()"
            ]
        },
        {
            "cell_type": "code",
            "execution_count": 698,
            "metadata": {},
            "outputs": [],
            "source": [
                "poo_2 = poo_2.groupby('discente').mean().reset_index()"
            ]
        },
        {
            "attachments": {},
            "cell_type": "markdown",
            "metadata": {},
            "source": [
                "#### SISTEMAS OPERACIONAIS"
            ]
        },
        {
            "cell_type": "code",
            "execution_count": 699,
            "metadata": {},
            "outputs": [
                {
                    "data": {
                        "text/html": [
                            "<div>\n",
                            "<style scoped>\n",
                            "    .dataframe tbody tr th:only-of-type {\n",
                            "        vertical-align: middle;\n",
                            "    }\n",
                            "\n",
                            "    .dataframe tbody tr th {\n",
                            "        vertical-align: top;\n",
                            "    }\n",
                            "\n",
                            "    .dataframe thead th {\n",
                            "        text-align: right;\n",
                            "    }\n",
                            "</style>\n",
                            "<table border=\"1\" class=\"dataframe\">\n",
                            "  <thead>\n",
                            "    <tr style=\"text-align: right;\">\n",
                            "      <th></th>\n",
                            "      <th>discente</th>\n",
                            "      <th>media_final</th>\n",
                            "    </tr>\n",
                            "  </thead>\n",
                            "  <tbody>\n",
                            "    <tr>\n",
                            "      <th>5857</th>\n",
                            "      <td>8436d99e1e39d9a2c6ed60b45c52ae0d</td>\n",
                            "      <td>0.2</td>\n",
                            "    </tr>\n",
                            "    <tr>\n",
                            "      <th>5863</th>\n",
                            "      <td>6c87dae0bbd90f462ae3e3c3b2576c35</td>\n",
                            "      <td>4.6</td>\n",
                            "    </tr>\n",
                            "    <tr>\n",
                            "      <th>5870</th>\n",
                            "      <td>a624ee44a3c11e410590e9c6082d3ad3</td>\n",
                            "      <td>7.7</td>\n",
                            "    </tr>\n",
                            "    <tr>\n",
                            "      <th>5876</th>\n",
                            "      <td>f76a98b78765318ba3c2942db7649750</td>\n",
                            "      <td>7.0</td>\n",
                            "    </tr>\n",
                            "    <tr>\n",
                            "      <th>5879</th>\n",
                            "      <td>0ef299cf7ff58409e7e7b0ec75a33b31</td>\n",
                            "      <td>7.5</td>\n",
                            "    </tr>\n",
                            "  </tbody>\n",
                            "</table>\n",
                            "</div>"
                        ],
                        "text/plain": [
                            "                              discente  media_final\n",
                            "5857  8436d99e1e39d9a2c6ed60b45c52ae0d          0.2\n",
                            "5863  6c87dae0bbd90f462ae3e3c3b2576c35          4.6\n",
                            "5870  a624ee44a3c11e410590e9c6082d3ad3          7.7\n",
                            "5876  f76a98b78765318ba3c2942db7649750          7.0\n",
                            "5879  0ef299cf7ff58409e7e7b0ec75a33b31          7.5"
                        ]
                    },
                    "execution_count": 699,
                    "metadata": {},
                    "output_type": "execute_result"
                }
            ],
            "source": [
                "so = df_dados_filtrado.loc[(df_dados_filtrado['id_componente'] == 2037022) |\n",
                "                                               (df_dados_filtrado['id_componente'] == 62762)&\n",
                "                                             (df_dados_filtrado['ano'] < 20222)]\n",
                "#Separando atributos\n",
                "so = so[['discente', 'media_final']]\n",
                "so.head()"
            ]
        },
        {
            "cell_type": "code",
            "execution_count": 700,
            "metadata": {},
            "outputs": [],
            "source": [
                "so = so.groupby('discente').mean().reset_index()"
            ]
        },
        {
            "attachments": {},
            "cell_type": "markdown",
            "metadata": {},
            "source": [
                "#### PROJETO E ADMINISTRAÇÃO DE BANCO DE DADOS"
            ]
        },
        {
            "cell_type": "code",
            "execution_count": 701,
            "metadata": {},
            "outputs": [
                {
                    "data": {
                        "text/html": [
                            "<div>\n",
                            "<style scoped>\n",
                            "    .dataframe tbody tr th:only-of-type {\n",
                            "        vertical-align: middle;\n",
                            "    }\n",
                            "\n",
                            "    .dataframe tbody tr th {\n",
                            "        vertical-align: top;\n",
                            "    }\n",
                            "\n",
                            "    .dataframe thead th {\n",
                            "        text-align: right;\n",
                            "    }\n",
                            "</style>\n",
                            "<table border=\"1\" class=\"dataframe\">\n",
                            "  <thead>\n",
                            "    <tr style=\"text-align: right;\">\n",
                            "      <th></th>\n",
                            "      <th>discente</th>\n",
                            "      <th>media_final</th>\n",
                            "    </tr>\n",
                            "  </thead>\n",
                            "  <tbody>\n",
                            "    <tr>\n",
                            "      <th>5961</th>\n",
                            "      <td>a624ee44a3c11e410590e9c6082d3ad3</td>\n",
                            "      <td>7.4</td>\n",
                            "    </tr>\n",
                            "    <tr>\n",
                            "      <th>5964</th>\n",
                            "      <td>d1cc1d8d9326efc619dcd34db13bd13f</td>\n",
                            "      <td>7.7</td>\n",
                            "    </tr>\n",
                            "    <tr>\n",
                            "      <th>5967</th>\n",
                            "      <td>7e43b627fcb2a24d90aee995e59fe683</td>\n",
                            "      <td>8.5</td>\n",
                            "    </tr>\n",
                            "    <tr>\n",
                            "      <th>5970</th>\n",
                            "      <td>4641154186598ae01d4d0af879ea5003</td>\n",
                            "      <td>8.7</td>\n",
                            "    </tr>\n",
                            "    <tr>\n",
                            "      <th>5973</th>\n",
                            "      <td>0ef299cf7ff58409e7e7b0ec75a33b31</td>\n",
                            "      <td>8.1</td>\n",
                            "    </tr>\n",
                            "  </tbody>\n",
                            "</table>\n",
                            "</div>"
                        ],
                        "text/plain": [
                            "                              discente  media_final\n",
                            "5961  a624ee44a3c11e410590e9c6082d3ad3          7.4\n",
                            "5964  d1cc1d8d9326efc619dcd34db13bd13f          7.7\n",
                            "5967  7e43b627fcb2a24d90aee995e59fe683          8.5\n",
                            "5970  4641154186598ae01d4d0af879ea5003          8.7\n",
                            "5973  0ef299cf7ff58409e7e7b0ec75a33b31          8.1"
                        ]
                    },
                    "execution_count": 701,
                    "metadata": {},
                    "output_type": "execute_result"
                }
            ],
            "source": [
                "bd_2 = df_dados_filtrado.loc[(df_dados_filtrado['id_componente'] == 2037019) |\n",
                "                                               (df_dados_filtrado['id_componente'] == 62765)&\n",
                "                                             (df_dados_filtrado['ano'] < 20222)]\n",
                "#Separando atributos\n",
                "bd_2 = bd_2[['discente', 'media_final']]\n",
                "bd_2.head()"
            ]
        },
        {
            "cell_type": "code",
            "execution_count": 702,
            "metadata": {},
            "outputs": [],
            "source": [
                "bd_2 = bd_2.groupby('discente').mean().reset_index()"
            ]
        },
        {
            "attachments": {},
            "cell_type": "markdown",
            "metadata": {},
            "source": [
                "#### ENGENHARIA DE SOFTWARE II"
            ]
        },
        {
            "cell_type": "code",
            "execution_count": 703,
            "metadata": {},
            "outputs": [
                {
                    "data": {
                        "text/html": [
                            "<div>\n",
                            "<style scoped>\n",
                            "    .dataframe tbody tr th:only-of-type {\n",
                            "        vertical-align: middle;\n",
                            "    }\n",
                            "\n",
                            "    .dataframe tbody tr th {\n",
                            "        vertical-align: top;\n",
                            "    }\n",
                            "\n",
                            "    .dataframe thead th {\n",
                            "        text-align: right;\n",
                            "    }\n",
                            "</style>\n",
                            "<table border=\"1\" class=\"dataframe\">\n",
                            "  <thead>\n",
                            "    <tr style=\"text-align: right;\">\n",
                            "      <th></th>\n",
                            "      <th>discente</th>\n",
                            "      <th>media_final</th>\n",
                            "    </tr>\n",
                            "  </thead>\n",
                            "  <tbody>\n",
                            "    <tr>\n",
                            "      <th>6021</th>\n",
                            "      <td>e6f3c15ce99a088df63a9f10579b6403</td>\n",
                            "      <td>1.4</td>\n",
                            "    </tr>\n",
                            "    <tr>\n",
                            "      <th>6030</th>\n",
                            "      <td>f76a98b78765318ba3c2942db7649750</td>\n",
                            "      <td>7.0</td>\n",
                            "    </tr>\n",
                            "    <tr>\n",
                            "      <th>6033</th>\n",
                            "      <td>d1cc1d8d9326efc619dcd34db13bd13f</td>\n",
                            "      <td>8.4</td>\n",
                            "    </tr>\n",
                            "    <tr>\n",
                            "      <th>6036</th>\n",
                            "      <td>a624ee44a3c11e410590e9c6082d3ad3</td>\n",
                            "      <td>8.8</td>\n",
                            "    </tr>\n",
                            "    <tr>\n",
                            "      <th>6039</th>\n",
                            "      <td>7e43b627fcb2a24d90aee995e59fe683</td>\n",
                            "      <td>8.4</td>\n",
                            "    </tr>\n",
                            "  </tbody>\n",
                            "</table>\n",
                            "</div>"
                        ],
                        "text/plain": [
                            "                              discente  media_final\n",
                            "6021  e6f3c15ce99a088df63a9f10579b6403          1.4\n",
                            "6030  f76a98b78765318ba3c2942db7649750          7.0\n",
                            "6033  d1cc1d8d9326efc619dcd34db13bd13f          8.4\n",
                            "6036  a624ee44a3c11e410590e9c6082d3ad3          8.8\n",
                            "6039  7e43b627fcb2a24d90aee995e59fe683          8.4"
                        ]
                    },
                    "execution_count": 703,
                    "metadata": {},
                    "output_type": "execute_result"
                }
            ],
            "source": [
                "engenharia_2 = df_dados_filtrado.loc[(df_dados_filtrado['id_componente'] == 62785) |\n",
                "                                               (df_dados_filtrado['id_componente'] == 2037020)&\n",
                "                                             (df_dados_filtrado['ano'] < 20222)]\n",
                "#Separando atributos\n",
                "engenharia_2 = engenharia_2[['discente', 'media_final']]\n",
                "engenharia_2.head()"
            ]
        },
        {
            "cell_type": "code",
            "execution_count": 704,
            "metadata": {},
            "outputs": [],
            "source": [
                "engenharia_2 = engenharia_2.groupby('discente').mean().reset_index()"
            ]
        },
        {
            "attachments": {},
            "cell_type": "markdown",
            "metadata": {},
            "source": [
                "### **Sexto Período**"
            ]
        },
        {
            "attachments": {},
            "cell_type": "markdown",
            "metadata": {},
            "source": [
                "\n",
                "\n",
                "```\n",
                "REDES DE COMPUTADORES - 60h\n",
                "GESTÃO DE PROJETO DE SOFTWARE - 60h\n",
                "EMPREENDENDORISMO EM INFORMÁTICA - 60h\n",
                "```"
            ]
        },
        {
            "attachments": {},
            "cell_type": "markdown",
            "metadata": {},
            "source": [
                "#### REDES DE COMPUTADORES"
            ]
        },
        {
            "cell_type": "code",
            "execution_count": 705,
            "metadata": {},
            "outputs": [
                {
                    "data": {
                        "text/html": [
                            "<div>\n",
                            "<style scoped>\n",
                            "    .dataframe tbody tr th:only-of-type {\n",
                            "        vertical-align: middle;\n",
                            "    }\n",
                            "\n",
                            "    .dataframe tbody tr th {\n",
                            "        vertical-align: top;\n",
                            "    }\n",
                            "\n",
                            "    .dataframe thead th {\n",
                            "        text-align: right;\n",
                            "    }\n",
                            "</style>\n",
                            "<table border=\"1\" class=\"dataframe\">\n",
                            "  <thead>\n",
                            "    <tr style=\"text-align: right;\">\n",
                            "      <th></th>\n",
                            "      <th>discente</th>\n",
                            "      <th>media_final</th>\n",
                            "    </tr>\n",
                            "  </thead>\n",
                            "  <tbody>\n",
                            "    <tr>\n",
                            "      <th>8155</th>\n",
                            "      <td>f76a98b78765318ba3c2942db7649750</td>\n",
                            "      <td>4.0</td>\n",
                            "    </tr>\n",
                            "    <tr>\n",
                            "      <th>8158</th>\n",
                            "      <td>7e43b627fcb2a24d90aee995e59fe683</td>\n",
                            "      <td>8.5</td>\n",
                            "    </tr>\n",
                            "    <tr>\n",
                            "      <th>8161</th>\n",
                            "      <td>4641154186598ae01d4d0af879ea5003</td>\n",
                            "      <td>7.3</td>\n",
                            "    </tr>\n",
                            "    <tr>\n",
                            "      <th>8164</th>\n",
                            "      <td>0ef299cf7ff58409e7e7b0ec75a33b31</td>\n",
                            "      <td>7.3</td>\n",
                            "    </tr>\n",
                            "    <tr>\n",
                            "      <th>8167</th>\n",
                            "      <td>d1cc1d8d9326efc619dcd34db13bd13f</td>\n",
                            "      <td>6.8</td>\n",
                            "    </tr>\n",
                            "  </tbody>\n",
                            "</table>\n",
                            "</div>"
                        ],
                        "text/plain": [
                            "                              discente  media_final\n",
                            "8155  f76a98b78765318ba3c2942db7649750          4.0\n",
                            "8158  7e43b627fcb2a24d90aee995e59fe683          8.5\n",
                            "8161  4641154186598ae01d4d0af879ea5003          7.3\n",
                            "8164  0ef299cf7ff58409e7e7b0ec75a33b31          7.3\n",
                            "8167  d1cc1d8d9326efc619dcd34db13bd13f          6.8"
                        ]
                    },
                    "execution_count": 705,
                    "metadata": {},
                    "output_type": "execute_result"
                }
            ],
            "source": [
                "redes = df_dados_filtrado.loc[(df_dados_filtrado['id_componente'] == 2037027) |\n",
                "                                               (df_dados_filtrado['id_componente'] == 62763)&\n",
                "                                             (df_dados_filtrado['ano'] < 20222)]\n",
                "#Separando atributos\n",
                "redes = redes[['discente', 'media_final']]\n",
                "redes.head()"
            ]
        },
        {
            "cell_type": "code",
            "execution_count": 706,
            "metadata": {},
            "outputs": [],
            "source": [
                "redes = redes.groupby('discente').mean().reset_index()"
            ]
        },
        {
            "attachments": {},
            "cell_type": "markdown",
            "metadata": {},
            "source": [
                "#### GESTÃO DE PROJETO DE SOFTWARE"
            ]
        },
        {
            "cell_type": "code",
            "execution_count": 707,
            "metadata": {},
            "outputs": [
                {
                    "data": {
                        "text/html": [
                            "<div>\n",
                            "<style scoped>\n",
                            "    .dataframe tbody tr th:only-of-type {\n",
                            "        vertical-align: middle;\n",
                            "    }\n",
                            "\n",
                            "    .dataframe tbody tr th {\n",
                            "        vertical-align: top;\n",
                            "    }\n",
                            "\n",
                            "    .dataframe thead th {\n",
                            "        text-align: right;\n",
                            "    }\n",
                            "</style>\n",
                            "<table border=\"1\" class=\"dataframe\">\n",
                            "  <thead>\n",
                            "    <tr style=\"text-align: right;\">\n",
                            "      <th></th>\n",
                            "      <th>discente</th>\n",
                            "      <th>media_final</th>\n",
                            "    </tr>\n",
                            "  </thead>\n",
                            "  <tbody>\n",
                            "    <tr>\n",
                            "      <th>8076</th>\n",
                            "      <td>7e43b627fcb2a24d90aee995e59fe683</td>\n",
                            "      <td>9.8</td>\n",
                            "    </tr>\n",
                            "    <tr>\n",
                            "      <th>8079</th>\n",
                            "      <td>4641154186598ae01d4d0af879ea5003</td>\n",
                            "      <td>10.0</td>\n",
                            "    </tr>\n",
                            "    <tr>\n",
                            "      <th>8082</th>\n",
                            "      <td>d1cc1d8d9326efc619dcd34db13bd13f</td>\n",
                            "      <td>9.8</td>\n",
                            "    </tr>\n",
                            "    <tr>\n",
                            "      <th>8085</th>\n",
                            "      <td>0ef299cf7ff58409e7e7b0ec75a33b31</td>\n",
                            "      <td>9.8</td>\n",
                            "    </tr>\n",
                            "    <tr>\n",
                            "      <th>8088</th>\n",
                            "      <td>865acdb96823643020382e53511234b0</td>\n",
                            "      <td>9.6</td>\n",
                            "    </tr>\n",
                            "  </tbody>\n",
                            "</table>\n",
                            "</div>"
                        ],
                        "text/plain": [
                            "                              discente  media_final\n",
                            "8076  7e43b627fcb2a24d90aee995e59fe683          9.8\n",
                            "8079  4641154186598ae01d4d0af879ea5003         10.0\n",
                            "8082  d1cc1d8d9326efc619dcd34db13bd13f          9.8\n",
                            "8085  0ef299cf7ff58409e7e7b0ec75a33b31          9.8\n",
                            "8088  865acdb96823643020382e53511234b0          9.6"
                        ]
                    },
                    "execution_count": 707,
                    "metadata": {},
                    "output_type": "execute_result"
                }
            ],
            "source": [
                "gestao = df_dados_filtrado.loc[(df_dados_filtrado['id_componente'] == 2037026) |\n",
                "                                               (df_dados_filtrado['id_componente'] == 62786)&\n",
                "                                             (df_dados_filtrado['ano'] < 20222)]\n",
                "#Separando atributos\n",
                "gestao = gestao[['discente', 'media_final']]\n",
                "gestao.head()"
            ]
        },
        {
            "cell_type": "code",
            "execution_count": 708,
            "metadata": {},
            "outputs": [],
            "source": [
                "gestao = gestao.groupby('discente').mean().reset_index()"
            ]
        },
        {
            "attachments": {},
            "cell_type": "markdown",
            "metadata": {},
            "source": [
                "#### EMPREENDENDORISMO EM INFORMÁTICA"
            ]
        },
        {
            "cell_type": "code",
            "execution_count": 709,
            "metadata": {},
            "outputs": [
                {
                    "data": {
                        "text/html": [
                            "<div>\n",
                            "<style scoped>\n",
                            "    .dataframe tbody tr th:only-of-type {\n",
                            "        vertical-align: middle;\n",
                            "    }\n",
                            "\n",
                            "    .dataframe tbody tr th {\n",
                            "        vertical-align: top;\n",
                            "    }\n",
                            "\n",
                            "    .dataframe thead th {\n",
                            "        text-align: right;\n",
                            "    }\n",
                            "</style>\n",
                            "<table border=\"1\" class=\"dataframe\">\n",
                            "  <thead>\n",
                            "    <tr style=\"text-align: right;\">\n",
                            "      <th></th>\n",
                            "      <th>discente</th>\n",
                            "      <th>emp_informatica</th>\n",
                            "    </tr>\n",
                            "  </thead>\n",
                            "  <tbody>\n",
                            "    <tr>\n",
                            "      <th>6149</th>\n",
                            "      <td>f2b6381fd487de7c7cebaaaf595b3955</td>\n",
                            "      <td>9.6</td>\n",
                            "    </tr>\n",
                            "    <tr>\n",
                            "      <th>6155</th>\n",
                            "      <td>9b7909374b05a7b2c9d3df9ba88294db</td>\n",
                            "      <td>9.0</td>\n",
                            "    </tr>\n",
                            "    <tr>\n",
                            "      <th>6158</th>\n",
                            "      <td>afba64c0118bfcc8d5b3987e725ed545</td>\n",
                            "      <td>8.6</td>\n",
                            "    </tr>\n",
                            "    <tr>\n",
                            "      <th>6162</th>\n",
                            "      <td>f76a98b78765318ba3c2942db7649750</td>\n",
                            "      <td>8.7</td>\n",
                            "    </tr>\n",
                            "    <tr>\n",
                            "      <th>6164</th>\n",
                            "      <td>d1cc1d8d9326efc619dcd34db13bd13f</td>\n",
                            "      <td>8.1</td>\n",
                            "    </tr>\n",
                            "  </tbody>\n",
                            "</table>\n",
                            "</div>"
                        ],
                        "text/plain": [
                            "                              discente  emp_informatica\n",
                            "6149  f2b6381fd487de7c7cebaaaf595b3955              9.6\n",
                            "6155  9b7909374b05a7b2c9d3df9ba88294db              9.0\n",
                            "6158  afba64c0118bfcc8d5b3987e725ed545              8.6\n",
                            "6162  f76a98b78765318ba3c2942db7649750              8.7\n",
                            "6164  d1cc1d8d9326efc619dcd34db13bd13f              8.1"
                        ]
                    },
                    "execution_count": 709,
                    "metadata": {},
                    "output_type": "execute_result"
                }
            ],
            "source": [
                "emp_informatica = df_dados_filtrado.loc[(df_dados_filtrado['id_componente'] == 2037052) |\n",
                "                                               (df_dados_filtrado['id_componente'] == 62713)&\n",
                "                                             (df_dados_filtrado['ano'] < 20222)]\n",
                "#Separando atributos\n",
                "emp_informatica = emp_informatica[['discente', 'media_final']]\n",
                "emp_informatica = emp_informatica.rename(columns={'media_final':'emp_informatica'})\n",
                "emp_informatica.head()"
            ]
        },
        {
            "cell_type": "code",
            "execution_count": 710,
            "metadata": {},
            "outputs": [],
            "source": [
                "emp_informatica = emp_informatica.groupby('discente').mean().reset_index()"
            ]
        },
        {
            "attachments": {},
            "cell_type": "markdown",
            "metadata": {},
            "source": [
                "#### CONTABILIDADE E CUSTOS"
            ]
        },
        {
            "cell_type": "code",
            "execution_count": 711,
            "metadata": {},
            "outputs": [
                {
                    "data": {
                        "text/html": [
                            "<div>\n",
                            "<style scoped>\n",
                            "    .dataframe tbody tr th:only-of-type {\n",
                            "        vertical-align: middle;\n",
                            "    }\n",
                            "\n",
                            "    .dataframe tbody tr th {\n",
                            "        vertical-align: top;\n",
                            "    }\n",
                            "\n",
                            "    .dataframe thead th {\n",
                            "        text-align: right;\n",
                            "    }\n",
                            "</style>\n",
                            "<table border=\"1\" class=\"dataframe\">\n",
                            "  <thead>\n",
                            "    <tr style=\"text-align: right;\">\n",
                            "      <th></th>\n",
                            "      <th>discente</th>\n",
                            "      <th>contabilidade</th>\n",
                            "    </tr>\n",
                            "  </thead>\n",
                            "  <tbody>\n",
                            "    <tr>\n",
                            "      <th>10420</th>\n",
                            "      <td>3b5326b4d0eaf4dd77b2081767b218a9</td>\n",
                            "      <td>8.9</td>\n",
                            "    </tr>\n",
                            "    <tr>\n",
                            "      <th>10427</th>\n",
                            "      <td>0ef299cf7ff58409e7e7b0ec75a33b31</td>\n",
                            "      <td>9.8</td>\n",
                            "    </tr>\n",
                            "    <tr>\n",
                            "      <th>10430</th>\n",
                            "      <td>d1cc1d8d9326efc619dcd34db13bd13f</td>\n",
                            "      <td>9.9</td>\n",
                            "    </tr>\n",
                            "    <tr>\n",
                            "      <th>10433</th>\n",
                            "      <td>7e43b627fcb2a24d90aee995e59fe683</td>\n",
                            "      <td>10.0</td>\n",
                            "    </tr>\n",
                            "    <tr>\n",
                            "      <th>10436</th>\n",
                            "      <td>865acdb96823643020382e53511234b0</td>\n",
                            "      <td>8.2</td>\n",
                            "    </tr>\n",
                            "  </tbody>\n",
                            "</table>\n",
                            "</div>"
                        ],
                        "text/plain": [
                            "                               discente  contabilidade\n",
                            "10420  3b5326b4d0eaf4dd77b2081767b218a9            8.9\n",
                            "10427  0ef299cf7ff58409e7e7b0ec75a33b31            9.8\n",
                            "10430  d1cc1d8d9326efc619dcd34db13bd13f            9.9\n",
                            "10433  7e43b627fcb2a24d90aee995e59fe683           10.0\n",
                            "10436  865acdb96823643020382e53511234b0            8.2"
                        ]
                    },
                    "execution_count": 711,
                    "metadata": {},
                    "output_type": "execute_result"
                }
            ],
            "source": [
                "contabilidade = df_dados_filtrado.loc[(df_dados_filtrado['id_componente'] == 62787) |\n",
                "                                               (df_dados_filtrado['id_componente'] == 48333)&\n",
                "                                             (df_dados_filtrado['ano'] < 20222)]\n",
                "#Separando atributos\n",
                "contabilidade = contabilidade[['discente', 'media_final']]\n",
                "contabilidade = contabilidade.rename(columns={'media_final':'contabilidade'})\n",
                "contabilidade.head()"
            ]
        },
        {
            "cell_type": "code",
            "execution_count": 712,
            "metadata": {},
            "outputs": [],
            "source": [
                "contabilidade = contabilidade.groupby('discente').mean().reset_index()"
            ]
        },
        {
            "attachments": {},
            "cell_type": "markdown",
            "metadata": {},
            "source": [
                "### **Sétimo Período**"
            ]
        },
        {
            "attachments": {},
            "cell_type": "markdown",
            "metadata": {},
            "source": [
                "```\n",
                "PROGRAMAÇÃO VISUAL\n",
                "```"
            ]
        },
        {
            "attachments": {},
            "cell_type": "markdown",
            "metadata": {},
            "source": [
                "#### PROGRAMAÇÃO VISUAL"
            ]
        },
        {
            "cell_type": "code",
            "execution_count": 713,
            "metadata": {},
            "outputs": [
                {
                    "data": {
                        "text/html": [
                            "<div>\n",
                            "<style scoped>\n",
                            "    .dataframe tbody tr th:only-of-type {\n",
                            "        vertical-align: middle;\n",
                            "    }\n",
                            "\n",
                            "    .dataframe tbody tr th {\n",
                            "        vertical-align: top;\n",
                            "    }\n",
                            "\n",
                            "    .dataframe thead th {\n",
                            "        text-align: right;\n",
                            "    }\n",
                            "</style>\n",
                            "<table border=\"1\" class=\"dataframe\">\n",
                            "  <thead>\n",
                            "    <tr style=\"text-align: right;\">\n",
                            "      <th></th>\n",
                            "      <th>discente</th>\n",
                            "      <th>prog_visual</th>\n",
                            "    </tr>\n",
                            "  </thead>\n",
                            "  <tbody>\n",
                            "    <tr>\n",
                            "      <th>12105</th>\n",
                            "      <td>865acdb96823643020382e53511234b0</td>\n",
                            "      <td>7.6</td>\n",
                            "    </tr>\n",
                            "    <tr>\n",
                            "      <th>12108</th>\n",
                            "      <td>d1cc1d8d9326efc619dcd34db13bd13f</td>\n",
                            "      <td>9.1</td>\n",
                            "    </tr>\n",
                            "    <tr>\n",
                            "      <th>12111</th>\n",
                            "      <td>d1b25fad1187024a31adbc84a4cb07b0</td>\n",
                            "      <td>4.9</td>\n",
                            "    </tr>\n",
                            "    <tr>\n",
                            "      <th>12114</th>\n",
                            "      <td>0ef299cf7ff58409e7e7b0ec75a33b31</td>\n",
                            "      <td>8.6</td>\n",
                            "    </tr>\n",
                            "    <tr>\n",
                            "      <th>12117</th>\n",
                            "      <td>4641154186598ae01d4d0af879ea5003</td>\n",
                            "      <td>8.6</td>\n",
                            "    </tr>\n",
                            "  </tbody>\n",
                            "</table>\n",
                            "</div>"
                        ],
                        "text/plain": [
                            "                               discente  prog_visual\n",
                            "12105  865acdb96823643020382e53511234b0          7.6\n",
                            "12108  d1cc1d8d9326efc619dcd34db13bd13f          9.1\n",
                            "12111  d1b25fad1187024a31adbc84a4cb07b0          4.9\n",
                            "12114  0ef299cf7ff58409e7e7b0ec75a33b31          8.6\n",
                            "12117  4641154186598ae01d4d0af879ea5003          8.6"
                        ]
                    },
                    "execution_count": 713,
                    "metadata": {},
                    "output_type": "execute_result"
                }
            ],
            "source": [
                "prog_visual = df_dados_filtrado.loc[(df_dados_filtrado['id_componente'] == 48334) |\n",
                "                                               (df_dados_filtrado['id_componente'] == 62764)&\n",
                "                                             (df_dados_filtrado['ano'] < 20222)]\n",
                "#Separando atributos\n",
                "prog_visual = prog_visual[['discente', 'media_final']]\n",
                "prog_visual = prog_visual.rename(columns={'media_final':'prog_visual'})\n",
                "prog_visual.head()\n"
            ]
        },
        {
            "cell_type": "code",
            "execution_count": 714,
            "metadata": {},
            "outputs": [],
            "source": [
                "prog_visual = prog_visual.groupby('discente').mean().reset_index()"
            ]
        },
        {
            "attachments": {},
            "cell_type": "markdown",
            "metadata": {},
            "source": [
                "### **Oitavo Período**"
            ]
        },
        {
            "attachments": {},
            "cell_type": "markdown",
            "metadata": {},
            "source": [
                "\n",
                "\n",
                "```\n",
                "ÉTICA - 60h\n",
                "SISTEMAS DE APOIO À DECISÃO - 60h\n",
                "```\n",
                "\n"
            ]
        },
        {
            "attachments": {},
            "cell_type": "markdown",
            "metadata": {},
            "source": [
                "#### ÉTICA"
            ]
        },
        {
            "cell_type": "code",
            "execution_count": 715,
            "metadata": {},
            "outputs": [
                {
                    "data": {
                        "text/html": [
                            "<div>\n",
                            "<style scoped>\n",
                            "    .dataframe tbody tr th:only-of-type {\n",
                            "        vertical-align: middle;\n",
                            "    }\n",
                            "\n",
                            "    .dataframe tbody tr th {\n",
                            "        vertical-align: top;\n",
                            "    }\n",
                            "\n",
                            "    .dataframe thead th {\n",
                            "        text-align: right;\n",
                            "    }\n",
                            "</style>\n",
                            "<table border=\"1\" class=\"dataframe\">\n",
                            "  <thead>\n",
                            "    <tr style=\"text-align: right;\">\n",
                            "      <th></th>\n",
                            "      <th>discente</th>\n",
                            "      <th>etica</th>\n",
                            "    </tr>\n",
                            "  </thead>\n",
                            "  <tbody>\n",
                            "    <tr>\n",
                            "      <th>10206</th>\n",
                            "      <td>838f037e8b6a4b6d57c284d3ae5b157d</td>\n",
                            "      <td>9.5</td>\n",
                            "    </tr>\n",
                            "    <tr>\n",
                            "      <th>10209</th>\n",
                            "      <td>91296c48ce98ba713f6624ea2de186e3</td>\n",
                            "      <td>9.8</td>\n",
                            "    </tr>\n",
                            "    <tr>\n",
                            "      <th>10212</th>\n",
                            "      <td>d9f9657515f385e52127564fe9e1a3ee</td>\n",
                            "      <td>9.2</td>\n",
                            "    </tr>\n",
                            "    <tr>\n",
                            "      <th>10215</th>\n",
                            "      <td>9ca8061af7d4153a27e70901032ec17a</td>\n",
                            "      <td>10.0</td>\n",
                            "    </tr>\n",
                            "    <tr>\n",
                            "      <th>10219</th>\n",
                            "      <td>4641154186598ae01d4d0af879ea5003</td>\n",
                            "      <td>8.4</td>\n",
                            "    </tr>\n",
                            "  </tbody>\n",
                            "</table>\n",
                            "</div>"
                        ],
                        "text/plain": [
                            "                               discente  etica\n",
                            "10206  838f037e8b6a4b6d57c284d3ae5b157d    9.5\n",
                            "10209  91296c48ce98ba713f6624ea2de186e3    9.8\n",
                            "10212  d9f9657515f385e52127564fe9e1a3ee    9.2\n",
                            "10215  9ca8061af7d4153a27e70901032ec17a   10.0\n",
                            "10219  4641154186598ae01d4d0af879ea5003    8.4"
                        ]
                    },
                    "execution_count": 715,
                    "metadata": {},
                    "output_type": "execute_result"
                }
            ],
            "source": [
                "etica = df_dados_filtrado.loc[(df_dados_filtrado['id_componente'] == 48335) |\n",
                "                                               (df_dados_filtrado['id_componente'] == 62714)&\n",
                "                                             (df_dados_filtrado['ano'] < 20222)]\n",
                "#Separando atributos\n",
                "etica = etica[['discente', 'media_final']]\n",
                "etica = etica.rename(columns={'media_final':'etica'})\n",
                "etica.head()"
            ]
        },
        {
            "cell_type": "code",
            "execution_count": 716,
            "metadata": {},
            "outputs": [],
            "source": [
                "etica = etica.groupby('discente').mean().reset_index()"
            ]
        },
        {
            "attachments": {},
            "cell_type": "markdown",
            "metadata": {},
            "source": [
                "#### SISTEMAS DE APOIO À DECISÃO"
            ]
        },
        {
            "cell_type": "code",
            "execution_count": 717,
            "metadata": {},
            "outputs": [
                {
                    "data": {
                        "text/html": [
                            "<div>\n",
                            "<style scoped>\n",
                            "    .dataframe tbody tr th:only-of-type {\n",
                            "        vertical-align: middle;\n",
                            "    }\n",
                            "\n",
                            "    .dataframe tbody tr th {\n",
                            "        vertical-align: top;\n",
                            "    }\n",
                            "\n",
                            "    .dataframe thead th {\n",
                            "        text-align: right;\n",
                            "    }\n",
                            "</style>\n",
                            "<table border=\"1\" class=\"dataframe\">\n",
                            "  <thead>\n",
                            "    <tr style=\"text-align: right;\">\n",
                            "      <th></th>\n",
                            "      <th>discente</th>\n",
                            "      <th>sad</th>\n",
                            "    </tr>\n",
                            "  </thead>\n",
                            "  <tbody>\n",
                            "    <tr>\n",
                            "      <th>10508</th>\n",
                            "      <td>b7906ff2033159efee62c639917a68ac</td>\n",
                            "      <td>6.6</td>\n",
                            "    </tr>\n",
                            "    <tr>\n",
                            "      <th>10514</th>\n",
                            "      <td>838f037e8b6a4b6d57c284d3ae5b157d</td>\n",
                            "      <td>8.1</td>\n",
                            "    </tr>\n",
                            "    <tr>\n",
                            "      <th>10517</th>\n",
                            "      <td>865acdb96823643020382e53511234b0</td>\n",
                            "      <td>9.2</td>\n",
                            "    </tr>\n",
                            "    <tr>\n",
                            "      <th>10520</th>\n",
                            "      <td>d1cc1d8d9326efc619dcd34db13bd13f</td>\n",
                            "      <td>9.1</td>\n",
                            "    </tr>\n",
                            "    <tr>\n",
                            "      <th>10527</th>\n",
                            "      <td>4641154186598ae01d4d0af879ea5003</td>\n",
                            "      <td>8.6</td>\n",
                            "    </tr>\n",
                            "  </tbody>\n",
                            "</table>\n",
                            "</div>"
                        ],
                        "text/plain": [
                            "                               discente  sad\n",
                            "10508  b7906ff2033159efee62c639917a68ac  6.6\n",
                            "10514  838f037e8b6a4b6d57c284d3ae5b157d  8.1\n",
                            "10517  865acdb96823643020382e53511234b0  9.2\n",
                            "10520  d1cc1d8d9326efc619dcd34db13bd13f  9.1\n",
                            "10527  4641154186598ae01d4d0af879ea5003  8.6"
                        ]
                    },
                    "execution_count": 717,
                    "metadata": {},
                    "output_type": "execute_result"
                }
            ],
            "source": [
                "sad = df_dados_filtrado.loc[(df_dados_filtrado['id_componente'] == 2037053) |\n",
                "                                               (df_dados_filtrado['id_componente'] == 62766)&\n",
                "                                             (df_dados_filtrado['ano'] < 20222)]\n",
                "#Separando atributos\n",
                "sad = sad[['discente', 'media_final']]\n",
                "sad  = sad .rename(columns={'media_final': 'sad'})\n",
                "sad.head()"
            ]
        },
        {
            "cell_type": "code",
            "execution_count": 718,
            "metadata": {},
            "outputs": [],
            "source": [
                "sad = sad.groupby('discente').mean().reset_index()"
            ]
        },
        {
            "attachments": {},
            "cell_type": "markdown",
            "metadata": {},
            "source": [
                "## Correlação de Pearson"
            ]
        },
        {
            "cell_type": "code",
            "execution_count": 719,
            "metadata": {},
            "outputs": [],
            "source": [
                "def correlacao(media_final):\n",
                "    employees_df = media_final\n",
                "    corr_df = employees_df.corr(method='pearson')\n",
                "    # Aplica o estilo diretamente às células do DataFrame\n",
                "    styled_df = corr_df.style.applymap(lambda x: 'background-color: %s' % 'blue' if x > 0.7 else '')\n",
                "    \n",
                "    return styled_df"
            ]
        },
        {
            "cell_type": "code",
            "execution_count": 720,
            "metadata": {},
            "outputs": [],
            "source": [
                "notas_1p = pd.merge( intro_informatica, algoritmo,  how = 'inner', on = 'discente')\n",
                "notas_1p = notas_1p.rename(columns={'media_final_x': 'intro_informatica', 'media_final_y': 'algoritmo'})"
            ]
        },
        {
            "cell_type": "code",
            "execution_count": 721,
            "metadata": {},
            "outputs": [],
            "source": [
                "notas_1p = pd.merge( notas_1p, logica, how = 'inner', on = 'discente')\n",
                "notas_1p = notas_1p.rename(columns={'media_final': 'logica'})"
            ]
        },
        {
            "cell_type": "code",
            "execution_count": 722,
            "metadata": {},
            "outputs": [],
            "source": [
                "notas_1p = pd.merge( notas_1p, fundamentos_mat, how = 'inner', on = 'discente')\n",
                "notas_1p = notas_1p.rename(columns={'media_final': 'fundamentos_mat'})"
            ]
        },
        {
            "cell_type": "code",
            "execution_count": 723,
            "metadata": {},
            "outputs": [
                {
                    "data": {
                        "text/html": [
                            "<div>\n",
                            "<style scoped>\n",
                            "    .dataframe tbody tr th:only-of-type {\n",
                            "        vertical-align: middle;\n",
                            "    }\n",
                            "\n",
                            "    .dataframe tbody tr th {\n",
                            "        vertical-align: top;\n",
                            "    }\n",
                            "\n",
                            "    .dataframe thead th {\n",
                            "        text-align: right;\n",
                            "    }\n",
                            "</style>\n",
                            "<table border=\"1\" class=\"dataframe\">\n",
                            "  <thead>\n",
                            "    <tr style=\"text-align: right;\">\n",
                            "      <th></th>\n",
                            "      <th>discente</th>\n",
                            "      <th>intro_informatica</th>\n",
                            "      <th>algoritmo</th>\n",
                            "      <th>logica</th>\n",
                            "      <th>fundamentos_mat</th>\n",
                            "      <th>tga</th>\n",
                            "    </tr>\n",
                            "  </thead>\n",
                            "  <tbody>\n",
                            "    <tr>\n",
                            "      <th>0</th>\n",
                            "      <td>005c14d7c07bf7980b60c703f99c5ee7</td>\n",
                            "      <td>2.55</td>\n",
                            "      <td>5.9</td>\n",
                            "      <td>4.200000</td>\n",
                            "      <td>3.250000</td>\n",
                            "      <td>8.7</td>\n",
                            "    </tr>\n",
                            "    <tr>\n",
                            "      <th>1</th>\n",
                            "      <td>0107fd69d8cd7e3d30dede96fb68bfe5</td>\n",
                            "      <td>2.70</td>\n",
                            "      <td>5.6</td>\n",
                            "      <td>4.900000</td>\n",
                            "      <td>1.600000</td>\n",
                            "      <td>7.8</td>\n",
                            "    </tr>\n",
                            "    <tr>\n",
                            "      <th>2</th>\n",
                            "      <td>014789363f7940922e71e710ee9d22bc</td>\n",
                            "      <td>3.00</td>\n",
                            "      <td>6.0</td>\n",
                            "      <td>5.100000</td>\n",
                            "      <td>1.766667</td>\n",
                            "      <td>5.7</td>\n",
                            "    </tr>\n",
                            "    <tr>\n",
                            "      <th>3</th>\n",
                            "      <td>0168075add041f9eb4bba46d6fdb6387</td>\n",
                            "      <td>0.00</td>\n",
                            "      <td>2.0</td>\n",
                            "      <td>1.400000</td>\n",
                            "      <td>0.000000</td>\n",
                            "      <td>0.0</td>\n",
                            "    </tr>\n",
                            "    <tr>\n",
                            "      <th>4</th>\n",
                            "      <td>026f9509c92f18fdea01c391a9d401a8</td>\n",
                            "      <td>5.40</td>\n",
                            "      <td>6.8</td>\n",
                            "      <td>4.433333</td>\n",
                            "      <td>1.833333</td>\n",
                            "      <td>6.7</td>\n",
                            "    </tr>\n",
                            "  </tbody>\n",
                            "</table>\n",
                            "</div>"
                        ],
                        "text/plain": [
                            "                           discente  intro_informatica  algoritmo    logica  \\\n",
                            "0  005c14d7c07bf7980b60c703f99c5ee7               2.55        5.9  4.200000   \n",
                            "1  0107fd69d8cd7e3d30dede96fb68bfe5               2.70        5.6  4.900000   \n",
                            "2  014789363f7940922e71e710ee9d22bc               3.00        6.0  5.100000   \n",
                            "3  0168075add041f9eb4bba46d6fdb6387               0.00        2.0  1.400000   \n",
                            "4  026f9509c92f18fdea01c391a9d401a8               5.40        6.8  4.433333   \n",
                            "\n",
                            "   fundamentos_mat  tga  \n",
                            "0         3.250000  8.7  \n",
                            "1         1.600000  7.8  \n",
                            "2         1.766667  5.7  \n",
                            "3         0.000000  0.0  \n",
                            "4         1.833333  6.7  "
                        ]
                    },
                    "execution_count": 723,
                    "metadata": {},
                    "output_type": "execute_result"
                }
            ],
            "source": [
                "notas_1p = pd.merge( notas_1p, tga, how = 'inner', on = 'discente')\n",
                "notas_1p = notas_1p.rename(columns={'media_final': 'tga'})\n",
                "notas_1p.head()"
            ]
        },
        {
            "cell_type": "code",
            "execution_count": 724,
            "metadata": {},
            "outputs": [],
            "source": [
                "corr_programacao = pd.merge( notas_1p, programacao, how = 'inner', on = 'discente')\n",
                "corr_programacao = corr_programacao.rename(columns={'media_final': 'programacao'})"
            ]
        },
        {
            "attachments": {},
            "cell_type": "markdown",
            "metadata": {},
            "source": [
                "Apagando a coluna **discente**."
            ]
        },
        {
            "cell_type": "code",
            "execution_count": 725,
            "metadata": {},
            "outputs": [],
            "source": [
                "corr_programacao = corr_programacao.drop(columns=['discente'])"
            ]
        },
        {
            "attachments": {},
            "cell_type": "markdown",
            "metadata": {},
            "source": [
                "Chamando a função e armazenando o resultado em uma variável."
            ]
        },
        {
            "cell_type": "code",
            "execution_count": 726,
            "metadata": {},
            "outputs": [
                {
                    "name": "stderr",
                    "output_type": "stream",
                    "text": [
                        "/tmp/ipykernel_6400/373976776.py:5: FutureWarning: Styler.applymap has been deprecated. Use Styler.map instead.\n",
                        "  styled_df = corr_df.style.applymap(lambda x: 'background-color: %s' % 'blue' if x > 0.7 else '')\n"
                    ]
                },
                {
                    "data": {
                        "text/html": [
                            "<style type=\"text/css\">\n",
                            "#T_608f5_row0_col0, #T_608f5_row1_col1, #T_608f5_row2_col2, #T_608f5_row3_col3, #T_608f5_row4_col4, #T_608f5_row5_col5 {\n",
                            "  background-color: blue;\n",
                            "}\n",
                            "</style>\n",
                            "<table id=\"T_608f5\">\n",
                            "  <thead>\n",
                            "    <tr>\n",
                            "      <th class=\"blank level0\" >&nbsp;</th>\n",
                            "      <th id=\"T_608f5_level0_col0\" class=\"col_heading level0 col0\" >intro_informatica</th>\n",
                            "      <th id=\"T_608f5_level0_col1\" class=\"col_heading level0 col1\" >algoritmo</th>\n",
                            "      <th id=\"T_608f5_level0_col2\" class=\"col_heading level0 col2\" >logica</th>\n",
                            "      <th id=\"T_608f5_level0_col3\" class=\"col_heading level0 col3\" >fundamentos_mat</th>\n",
                            "      <th id=\"T_608f5_level0_col4\" class=\"col_heading level0 col4\" >tga</th>\n",
                            "      <th id=\"T_608f5_level0_col5\" class=\"col_heading level0 col5\" >programacao</th>\n",
                            "    </tr>\n",
                            "  </thead>\n",
                            "  <tbody>\n",
                            "    <tr>\n",
                            "      <th id=\"T_608f5_level0_row0\" class=\"row_heading level0 row0\" >intro_informatica</th>\n",
                            "      <td id=\"T_608f5_row0_col0\" class=\"data row0 col0\" >1.000000</td>\n",
                            "      <td id=\"T_608f5_row0_col1\" class=\"data row0 col1\" >0.617758</td>\n",
                            "      <td id=\"T_608f5_row0_col2\" class=\"data row0 col2\" >0.641903</td>\n",
                            "      <td id=\"T_608f5_row0_col3\" class=\"data row0 col3\" >0.513873</td>\n",
                            "      <td id=\"T_608f5_row0_col4\" class=\"data row0 col4\" >0.160097</td>\n",
                            "      <td id=\"T_608f5_row0_col5\" class=\"data row0 col5\" >0.576225</td>\n",
                            "    </tr>\n",
                            "    <tr>\n",
                            "      <th id=\"T_608f5_level0_row1\" class=\"row_heading level0 row1\" >algoritmo</th>\n",
                            "      <td id=\"T_608f5_row1_col0\" class=\"data row1 col0\" >0.617758</td>\n",
                            "      <td id=\"T_608f5_row1_col1\" class=\"data row1 col1\" >1.000000</td>\n",
                            "      <td id=\"T_608f5_row1_col2\" class=\"data row1 col2\" >0.607787</td>\n",
                            "      <td id=\"T_608f5_row1_col3\" class=\"data row1 col3\" >0.477079</td>\n",
                            "      <td id=\"T_608f5_row1_col4\" class=\"data row1 col4\" >0.336208</td>\n",
                            "      <td id=\"T_608f5_row1_col5\" class=\"data row1 col5\" >0.594796</td>\n",
                            "    </tr>\n",
                            "    <tr>\n",
                            "      <th id=\"T_608f5_level0_row2\" class=\"row_heading level0 row2\" >logica</th>\n",
                            "      <td id=\"T_608f5_row2_col0\" class=\"data row2 col0\" >0.641903</td>\n",
                            "      <td id=\"T_608f5_row2_col1\" class=\"data row2 col1\" >0.607787</td>\n",
                            "      <td id=\"T_608f5_row2_col2\" class=\"data row2 col2\" >1.000000</td>\n",
                            "      <td id=\"T_608f5_row2_col3\" class=\"data row2 col3\" >0.457813</td>\n",
                            "      <td id=\"T_608f5_row2_col4\" class=\"data row2 col4\" >0.311370</td>\n",
                            "      <td id=\"T_608f5_row2_col5\" class=\"data row2 col5\" >0.566820</td>\n",
                            "    </tr>\n",
                            "    <tr>\n",
                            "      <th id=\"T_608f5_level0_row3\" class=\"row_heading level0 row3\" >fundamentos_mat</th>\n",
                            "      <td id=\"T_608f5_row3_col0\" class=\"data row3 col0\" >0.513873</td>\n",
                            "      <td id=\"T_608f5_row3_col1\" class=\"data row3 col1\" >0.477079</td>\n",
                            "      <td id=\"T_608f5_row3_col2\" class=\"data row3 col2\" >0.457813</td>\n",
                            "      <td id=\"T_608f5_row3_col3\" class=\"data row3 col3\" >1.000000</td>\n",
                            "      <td id=\"T_608f5_row3_col4\" class=\"data row3 col4\" >0.352599</td>\n",
                            "      <td id=\"T_608f5_row3_col5\" class=\"data row3 col5\" >0.586176</td>\n",
                            "    </tr>\n",
                            "    <tr>\n",
                            "      <th id=\"T_608f5_level0_row4\" class=\"row_heading level0 row4\" >tga</th>\n",
                            "      <td id=\"T_608f5_row4_col0\" class=\"data row4 col0\" >0.160097</td>\n",
                            "      <td id=\"T_608f5_row4_col1\" class=\"data row4 col1\" >0.336208</td>\n",
                            "      <td id=\"T_608f5_row4_col2\" class=\"data row4 col2\" >0.311370</td>\n",
                            "      <td id=\"T_608f5_row4_col3\" class=\"data row4 col3\" >0.352599</td>\n",
                            "      <td id=\"T_608f5_row4_col4\" class=\"data row4 col4\" >1.000000</td>\n",
                            "      <td id=\"T_608f5_row4_col5\" class=\"data row4 col5\" >0.236595</td>\n",
                            "    </tr>\n",
                            "    <tr>\n",
                            "      <th id=\"T_608f5_level0_row5\" class=\"row_heading level0 row5\" >programacao</th>\n",
                            "      <td id=\"T_608f5_row5_col0\" class=\"data row5 col0\" >0.576225</td>\n",
                            "      <td id=\"T_608f5_row5_col1\" class=\"data row5 col1\" >0.594796</td>\n",
                            "      <td id=\"T_608f5_row5_col2\" class=\"data row5 col2\" >0.566820</td>\n",
                            "      <td id=\"T_608f5_row5_col3\" class=\"data row5 col3\" >0.586176</td>\n",
                            "      <td id=\"T_608f5_row5_col4\" class=\"data row5 col4\" >0.236595</td>\n",
                            "      <td id=\"T_608f5_row5_col5\" class=\"data row5 col5\" >1.000000</td>\n",
                            "    </tr>\n",
                            "  </tbody>\n",
                            "</table>\n"
                        ],
                        "text/plain": [
                            "<pandas.io.formats.style.Styler at 0x7f530f65d000>"
                        ]
                    },
                    "execution_count": 726,
                    "metadata": {},
                    "output_type": "execute_result"
                }
            ],
            "source": [
                "styled_df = correlacao(corr_programacao)\n",
                "styled_df"
            ]
        },
        {
            "cell_type": "code",
            "execution_count": 727,
            "metadata": {},
            "outputs": [],
            "source": [
                "corrp = corr_programacao.corr()"
            ]
        },
        {
            "cell_type": "code",
            "execution_count": 728,
            "metadata": {},
            "outputs": [
                {
                    "data": {
                        "text/plain": [
                            "<AxesSubplot: >"
                        ]
                    },
                    "execution_count": 728,
                    "metadata": {},
                    "output_type": "execute_result"
                },
                {
                    "data": {
                        "image/png": "[encoded data removed]",
                        "text/plain": [
                            "<Figure size 640x480 with 2 Axes>"
                        ]
                    },
                    "metadata": {},
                    "output_type": "display_data"
                }
            ],
            "source": [
                "sns.heatmap(corrp, annot = True) # Plotting heatmap"
            ]
        },
        {
            "attachments": {},
            "cell_type": "markdown",
            "metadata": {},
            "source": [
                "Correlação CÁLCULO DIFERENCIAL E INTEGRAL"
            ]
        },
        {
            "cell_type": "code",
            "execution_count": 729,
            "metadata": {},
            "outputs": [],
            "source": [
                "corr_calculo = pd.merge( notas_1p, calculo, how = 'inner', on = 'discente')\n",
                "corr_calculo = corr_calculo.rename(columns={'media_final': 'calculo'})"
            ]
        },
        {
            "cell_type": "code",
            "execution_count": 730,
            "metadata": {},
            "outputs": [],
            "source": [
                "corr_calculo = corr_calculo.drop(columns=['discente'])"
            ]
        },
        {
            "cell_type": "code",
            "execution_count": 731,
            "metadata": {},
            "outputs": [
                {
                    "name": "stderr",
                    "output_type": "stream",
                    "text": [
                        "/tmp/ipykernel_6400/373976776.py:5: FutureWarning: Styler.applymap has been deprecated. Use Styler.map instead.\n",
                        "  styled_df = corr_df.style.applymap(lambda x: 'background-color: %s' % 'blue' if x > 0.7 else '')\n"
                    ]
                },
                {
                    "data": {
                        "text/html": [
                            "<style type=\"text/css\">\n",
                            "#T_fa9a8_row0_col0, #T_fa9a8_row1_col1, #T_fa9a8_row2_col2, #T_fa9a8_row3_col3, #T_fa9a8_row4_col4, #T_fa9a8_row5_col5 {\n",
                            "  background-color: blue;\n",
                            "}\n",
                            "</style>\n",
                            "<table id=\"T_fa9a8\">\n",
                            "  <thead>\n",
                            "    <tr>\n",
                            "      <th class=\"blank level0\" >&nbsp;</th>\n",
                            "      <th id=\"T_fa9a8_level0_col0\" class=\"col_heading level0 col0\" >intro_informatica</th>\n",
                            "      <th id=\"T_fa9a8_level0_col1\" class=\"col_heading level0 col1\" >algoritmo</th>\n",
                            "      <th id=\"T_fa9a8_level0_col2\" class=\"col_heading level0 col2\" >logica</th>\n",
                            "      <th id=\"T_fa9a8_level0_col3\" class=\"col_heading level0 col3\" >fundamentos_mat</th>\n",
                            "      <th id=\"T_fa9a8_level0_col4\" class=\"col_heading level0 col4\" >tga</th>\n",
                            "      <th id=\"T_fa9a8_level0_col5\" class=\"col_heading level0 col5\" >calculo</th>\n",
                            "    </tr>\n",
                            "  </thead>\n",
                            "  <tbody>\n",
                            "    <tr>\n",
                            "      <th id=\"T_fa9a8_level0_row0\" class=\"row_heading level0 row0\" >intro_informatica</th>\n",
                            "      <td id=\"T_fa9a8_row0_col0\" class=\"data row0 col0\" >1.000000</td>\n",
                            "      <td id=\"T_fa9a8_row0_col1\" class=\"data row0 col1\" >0.600932</td>\n",
                            "      <td id=\"T_fa9a8_row0_col2\" class=\"data row0 col2\" >0.618255</td>\n",
                            "      <td id=\"T_fa9a8_row0_col3\" class=\"data row0 col3\" >0.362258</td>\n",
                            "      <td id=\"T_fa9a8_row0_col4\" class=\"data row0 col4\" >0.040939</td>\n",
                            "      <td id=\"T_fa9a8_row0_col5\" class=\"data row0 col5\" >0.474921</td>\n",
                            "    </tr>\n",
                            "    <tr>\n",
                            "      <th id=\"T_fa9a8_level0_row1\" class=\"row_heading level0 row1\" >algoritmo</th>\n",
                            "      <td id=\"T_fa9a8_row1_col0\" class=\"data row1 col0\" >0.600932</td>\n",
                            "      <td id=\"T_fa9a8_row1_col1\" class=\"data row1 col1\" >1.000000</td>\n",
                            "      <td id=\"T_fa9a8_row1_col2\" class=\"data row1 col2\" >0.587610</td>\n",
                            "      <td id=\"T_fa9a8_row1_col3\" class=\"data row1 col3\" >0.313124</td>\n",
                            "      <td id=\"T_fa9a8_row1_col4\" class=\"data row1 col4\" >0.342139</td>\n",
                            "      <td id=\"T_fa9a8_row1_col5\" class=\"data row1 col5\" >0.357536</td>\n",
                            "    </tr>\n",
                            "    <tr>\n",
                            "      <th id=\"T_fa9a8_level0_row2\" class=\"row_heading level0 row2\" >logica</th>\n",
                            "      <td id=\"T_fa9a8_row2_col0\" class=\"data row2 col0\" >0.618255</td>\n",
                            "      <td id=\"T_fa9a8_row2_col1\" class=\"data row2 col1\" >0.587610</td>\n",
                            "      <td id=\"T_fa9a8_row2_col2\" class=\"data row2 col2\" >1.000000</td>\n",
                            "      <td id=\"T_fa9a8_row2_col3\" class=\"data row2 col3\" >0.366496</td>\n",
                            "      <td id=\"T_fa9a8_row2_col4\" class=\"data row2 col4\" >0.252907</td>\n",
                            "      <td id=\"T_fa9a8_row2_col5\" class=\"data row2 col5\" >0.459381</td>\n",
                            "    </tr>\n",
                            "    <tr>\n",
                            "      <th id=\"T_fa9a8_level0_row3\" class=\"row_heading level0 row3\" >fundamentos_mat</th>\n",
                            "      <td id=\"T_fa9a8_row3_col0\" class=\"data row3 col0\" >0.362258</td>\n",
                            "      <td id=\"T_fa9a8_row3_col1\" class=\"data row3 col1\" >0.313124</td>\n",
                            "      <td id=\"T_fa9a8_row3_col2\" class=\"data row3 col2\" >0.366496</td>\n",
                            "      <td id=\"T_fa9a8_row3_col3\" class=\"data row3 col3\" >1.000000</td>\n",
                            "      <td id=\"T_fa9a8_row3_col4\" class=\"data row3 col4\" >0.163505</td>\n",
                            "      <td id=\"T_fa9a8_row3_col5\" class=\"data row3 col5\" >0.369023</td>\n",
                            "    </tr>\n",
                            "    <tr>\n",
                            "      <th id=\"T_fa9a8_level0_row4\" class=\"row_heading level0 row4\" >tga</th>\n",
                            "      <td id=\"T_fa9a8_row4_col0\" class=\"data row4 col0\" >0.040939</td>\n",
                            "      <td id=\"T_fa9a8_row4_col1\" class=\"data row4 col1\" >0.342139</td>\n",
                            "      <td id=\"T_fa9a8_row4_col2\" class=\"data row4 col2\" >0.252907</td>\n",
                            "      <td id=\"T_fa9a8_row4_col3\" class=\"data row4 col3\" >0.163505</td>\n",
                            "      <td id=\"T_fa9a8_row4_col4\" class=\"data row4 col4\" >1.000000</td>\n",
                            "      <td id=\"T_fa9a8_row4_col5\" class=\"data row4 col5\" >0.095903</td>\n",
                            "    </tr>\n",
                            "    <tr>\n",
                            "      <th id=\"T_fa9a8_level0_row5\" class=\"row_heading level0 row5\" >calculo</th>\n",
                            "      <td id=\"T_fa9a8_row5_col0\" class=\"data row5 col0\" >0.474921</td>\n",
                            "      <td id=\"T_fa9a8_row5_col1\" class=\"data row5 col1\" >0.357536</td>\n",
                            "      <td id=\"T_fa9a8_row5_col2\" class=\"data row5 col2\" >0.459381</td>\n",
                            "      <td id=\"T_fa9a8_row5_col3\" class=\"data row5 col3\" >0.369023</td>\n",
                            "      <td id=\"T_fa9a8_row5_col4\" class=\"data row5 col4\" >0.095903</td>\n",
                            "      <td id=\"T_fa9a8_row5_col5\" class=\"data row5 col5\" >1.000000</td>\n",
                            "    </tr>\n",
                            "  </tbody>\n",
                            "</table>\n"
                        ],
                        "text/plain": [
                            "<pandas.io.formats.style.Styler at 0x7f530fc1c520>"
                        ]
                    },
                    "execution_count": 731,
                    "metadata": {},
                    "output_type": "execute_result"
                }
            ],
            "source": [
                "correlacao(corr_calculo)"
            ]
        },
        {
            "cell_type": "code",
            "execution_count": 732,
            "metadata": {},
            "outputs": [],
            "source": [
                "corr_tgs = pd.merge( notas_1p, tgs, how = 'inner', on = 'discente')\n",
                "corr_tgs = corr_tgs.rename(columns={'media_final': 'tgs'})"
            ]
        },
        {
            "cell_type": "code",
            "execution_count": 733,
            "metadata": {},
            "outputs": [],
            "source": [
                "corr_tgs = corr_tgs.drop(columns=['discente'])"
            ]
        },
        {
            "cell_type": "code",
            "execution_count": 734,
            "metadata": {},
            "outputs": [
                {
                    "name": "stderr",
                    "output_type": "stream",
                    "text": [
                        "/tmp/ipykernel_6400/373976776.py:5: FutureWarning: Styler.applymap has been deprecated. Use Styler.map instead.\n",
                        "  styled_df = corr_df.style.applymap(lambda x: 'background-color: %s' % 'blue' if x > 0.7 else '')\n"
                    ]
                },
                {
                    "data": {
                        "text/html": [
                            "<style type=\"text/css\">\n",
                            "#T_0813f_row0_col0, #T_0813f_row1_col1, #T_0813f_row2_col2, #T_0813f_row3_col3, #T_0813f_row4_col4, #T_0813f_row5_col5 {\n",
                            "  background-color: blue;\n",
                            "}\n",
                            "</style>\n",
                            "<table id=\"T_0813f\">\n",
                            "  <thead>\n",
                            "    <tr>\n",
                            "      <th class=\"blank level0\" >&nbsp;</th>\n",
                            "      <th id=\"T_0813f_level0_col0\" class=\"col_heading level0 col0\" >intro_informatica</th>\n",
                            "      <th id=\"T_0813f_level0_col1\" class=\"col_heading level0 col1\" >algoritmo</th>\n",
                            "      <th id=\"T_0813f_level0_col2\" class=\"col_heading level0 col2\" >logica</th>\n",
                            "      <th id=\"T_0813f_level0_col3\" class=\"col_heading level0 col3\" >fundamentos_mat</th>\n",
                            "      <th id=\"T_0813f_level0_col4\" class=\"col_heading level0 col4\" >tga</th>\n",
                            "      <th id=\"T_0813f_level0_col5\" class=\"col_heading level0 col5\" >tgs</th>\n",
                            "    </tr>\n",
                            "  </thead>\n",
                            "  <tbody>\n",
                            "    <tr>\n",
                            "      <th id=\"T_0813f_level0_row0\" class=\"row_heading level0 row0\" >intro_informatica</th>\n",
                            "      <td id=\"T_0813f_row0_col0\" class=\"data row0 col0\" >1.000000</td>\n",
                            "      <td id=\"T_0813f_row0_col1\" class=\"data row0 col1\" >0.629017</td>\n",
                            "      <td id=\"T_0813f_row0_col2\" class=\"data row0 col2\" >0.672749</td>\n",
                            "      <td id=\"T_0813f_row0_col3\" class=\"data row0 col3\" >0.499364</td>\n",
                            "      <td id=\"T_0813f_row0_col4\" class=\"data row0 col4\" >0.175925</td>\n",
                            "      <td id=\"T_0813f_row0_col5\" class=\"data row0 col5\" >0.301664</td>\n",
                            "    </tr>\n",
                            "    <tr>\n",
                            "      <th id=\"T_0813f_level0_row1\" class=\"row_heading level0 row1\" >algoritmo</th>\n",
                            "      <td id=\"T_0813f_row1_col0\" class=\"data row1 col0\" >0.629017</td>\n",
                            "      <td id=\"T_0813f_row1_col1\" class=\"data row1 col1\" >1.000000</td>\n",
                            "      <td id=\"T_0813f_row1_col2\" class=\"data row1 col2\" >0.657940</td>\n",
                            "      <td id=\"T_0813f_row1_col3\" class=\"data row1 col3\" >0.498203</td>\n",
                            "      <td id=\"T_0813f_row1_col4\" class=\"data row1 col4\" >0.411412</td>\n",
                            "      <td id=\"T_0813f_row1_col5\" class=\"data row1 col5\" >0.301650</td>\n",
                            "    </tr>\n",
                            "    <tr>\n",
                            "      <th id=\"T_0813f_level0_row2\" class=\"row_heading level0 row2\" >logica</th>\n",
                            "      <td id=\"T_0813f_row2_col0\" class=\"data row2 col0\" >0.672749</td>\n",
                            "      <td id=\"T_0813f_row2_col1\" class=\"data row2 col1\" >0.657940</td>\n",
                            "      <td id=\"T_0813f_row2_col2\" class=\"data row2 col2\" >1.000000</td>\n",
                            "      <td id=\"T_0813f_row2_col3\" class=\"data row2 col3\" >0.478165</td>\n",
                            "      <td id=\"T_0813f_row2_col4\" class=\"data row2 col4\" >0.354550</td>\n",
                            "      <td id=\"T_0813f_row2_col5\" class=\"data row2 col5\" >0.356972</td>\n",
                            "    </tr>\n",
                            "    <tr>\n",
                            "      <th id=\"T_0813f_level0_row3\" class=\"row_heading level0 row3\" >fundamentos_mat</th>\n",
                            "      <td id=\"T_0813f_row3_col0\" class=\"data row3 col0\" >0.499364</td>\n",
                            "      <td id=\"T_0813f_row3_col1\" class=\"data row3 col1\" >0.498203</td>\n",
                            "      <td id=\"T_0813f_row3_col2\" class=\"data row3 col2\" >0.478165</td>\n",
                            "      <td id=\"T_0813f_row3_col3\" class=\"data row3 col3\" >1.000000</td>\n",
                            "      <td id=\"T_0813f_row3_col4\" class=\"data row3 col4\" >0.314279</td>\n",
                            "      <td id=\"T_0813f_row3_col5\" class=\"data row3 col5\" >0.179280</td>\n",
                            "    </tr>\n",
                            "    <tr>\n",
                            "      <th id=\"T_0813f_level0_row4\" class=\"row_heading level0 row4\" >tga</th>\n",
                            "      <td id=\"T_0813f_row4_col0\" class=\"data row4 col0\" >0.175925</td>\n",
                            "      <td id=\"T_0813f_row4_col1\" class=\"data row4 col1\" >0.411412</td>\n",
                            "      <td id=\"T_0813f_row4_col2\" class=\"data row4 col2\" >0.354550</td>\n",
                            "      <td id=\"T_0813f_row4_col3\" class=\"data row4 col3\" >0.314279</td>\n",
                            "      <td id=\"T_0813f_row4_col4\" class=\"data row4 col4\" >1.000000</td>\n",
                            "      <td id=\"T_0813f_row4_col5\" class=\"data row4 col5\" >0.298619</td>\n",
                            "    </tr>\n",
                            "    <tr>\n",
                            "      <th id=\"T_0813f_level0_row5\" class=\"row_heading level0 row5\" >tgs</th>\n",
                            "      <td id=\"T_0813f_row5_col0\" class=\"data row5 col0\" >0.301664</td>\n",
                            "      <td id=\"T_0813f_row5_col1\" class=\"data row5 col1\" >0.301650</td>\n",
                            "      <td id=\"T_0813f_row5_col2\" class=\"data row5 col2\" >0.356972</td>\n",
                            "      <td id=\"T_0813f_row5_col3\" class=\"data row5 col3\" >0.179280</td>\n",
                            "      <td id=\"T_0813f_row5_col4\" class=\"data row5 col4\" >0.298619</td>\n",
                            "      <td id=\"T_0813f_row5_col5\" class=\"data row5 col5\" >1.000000</td>\n",
                            "    </tr>\n",
                            "  </tbody>\n",
                            "</table>\n"
                        ],
                        "text/plain": [
                            "<pandas.io.formats.style.Styler at 0x7f530f487220>"
                        ]
                    },
                    "execution_count": 734,
                    "metadata": {},
                    "output_type": "execute_result"
                }
            ],
            "source": [
                "correlacao(corr_tgs)"
            ]
        },
        {
            "attachments": {},
            "cell_type": "markdown",
            "metadata": {},
            "source": [
                "Correlação 3° período"
            ]
        },
        {
            "cell_type": "code",
            "execution_count": 735,
            "metadata": {},
            "outputs": [],
            "source": [
                "notas_2p = pd.merge( notas_1p, calculo, how = 'inner', on = 'discente')\n",
                "notas_2p = notas_2p.rename(columns={'media_final': 'calculo'})"
            ]
        },
        {
            "cell_type": "code",
            "execution_count": 736,
            "metadata": {},
            "outputs": [],
            "source": [
                "notas_2p = pd.merge( notas_2p, programacao, how = 'inner', on = 'discente')\n",
                "notas_2p = notas_2p.rename(columns={'media_final': 'programacao'})"
            ]
        },
        {
            "cell_type": "code",
            "execution_count": 737,
            "metadata": {},
            "outputs": [],
            "source": [
                "notas_2p = pd.merge( notas_2p, tgs, how = 'inner', on = 'discente')\n",
                "notas_2p = notas_2p.rename(columns={'media_final': 'tgs'})"
            ]
        },
        {
            "attachments": {},
            "cell_type": "markdown",
            "metadata": {},
            "source": [
                "Correlação PROGRAMAÇÃO ORIENTADA A OBJETOS I"
            ]
        },
        {
            "cell_type": "code",
            "execution_count": 738,
            "metadata": {},
            "outputs": [],
            "source": [
                "corr_poo_1 = pd.merge( notas_1p, poo_1, how = 'inner', on = 'discente')\n",
                "corr_poo_1 = corr_poo_1.rename(columns={'media_final': 'poo_1'})"
            ]
        },
        {
            "cell_type": "code",
            "execution_count": 739,
            "metadata": {},
            "outputs": [],
            "source": [
                "corr_poo_1 = pd.merge( corr_poo_1, programacao, how = 'inner', on = 'discente')\n",
                "corr_poo_1 = corr_poo_1.rename(columns={'media_final': 'programacao'})"
            ]
        },
        {
            "cell_type": "code",
            "execution_count": 740,
            "metadata": {},
            "outputs": [],
            "source": [
                "corr_poo_1 = corr_poo_1.drop(columns=['discente'])"
            ]
        },
        {
            "cell_type": "code",
            "execution_count": 741,
            "metadata": {},
            "outputs": [
                {
                    "name": "stderr",
                    "output_type": "stream",
                    "text": [
                        "/tmp/ipykernel_6400/373976776.py:5: FutureWarning: Styler.applymap has been deprecated. Use Styler.map instead.\n",
                        "  styled_df = corr_df.style.applymap(lambda x: 'background-color: %s' % 'blue' if x > 0.7 else '')\n"
                    ]
                },
                {
                    "data": {
                        "text/html": [
                            "<style type=\"text/css\">\n",
                            "#T_2e08b_row0_col0, #T_2e08b_row1_col1, #T_2e08b_row2_col2, #T_2e08b_row3_col3, #T_2e08b_row4_col4, #T_2e08b_row5_col5, #T_2e08b_row6_col6 {\n",
                            "  background-color: blue;\n",
                            "}\n",
                            "</style>\n",
                            "<table id=\"T_2e08b\">\n",
                            "  <thead>\n",
                            "    <tr>\n",
                            "      <th class=\"blank level0\" >&nbsp;</th>\n",
                            "      <th id=\"T_2e08b_level0_col0\" class=\"col_heading level0 col0\" >intro_informatica</th>\n",
                            "      <th id=\"T_2e08b_level0_col1\" class=\"col_heading level0 col1\" >algoritmo</th>\n",
                            "      <th id=\"T_2e08b_level0_col2\" class=\"col_heading level0 col2\" >logica</th>\n",
                            "      <th id=\"T_2e08b_level0_col3\" class=\"col_heading level0 col3\" >fundamentos_mat</th>\n",
                            "      <th id=\"T_2e08b_level0_col4\" class=\"col_heading level0 col4\" >tga</th>\n",
                            "      <th id=\"T_2e08b_level0_col5\" class=\"col_heading level0 col5\" >poo_1</th>\n",
                            "      <th id=\"T_2e08b_level0_col6\" class=\"col_heading level0 col6\" >programacao</th>\n",
                            "    </tr>\n",
                            "  </thead>\n",
                            "  <tbody>\n",
                            "    <tr>\n",
                            "      <th id=\"T_2e08b_level0_row0\" class=\"row_heading level0 row0\" >intro_informatica</th>\n",
                            "      <td id=\"T_2e08b_row0_col0\" class=\"data row0 col0\" >1.000000</td>\n",
                            "      <td id=\"T_2e08b_row0_col1\" class=\"data row0 col1\" >0.590517</td>\n",
                            "      <td id=\"T_2e08b_row0_col2\" class=\"data row0 col2\" >0.620320</td>\n",
                            "      <td id=\"T_2e08b_row0_col3\" class=\"data row0 col3\" >0.456548</td>\n",
                            "      <td id=\"T_2e08b_row0_col4\" class=\"data row0 col4\" >0.118928</td>\n",
                            "      <td id=\"T_2e08b_row0_col5\" class=\"data row0 col5\" >0.203838</td>\n",
                            "      <td id=\"T_2e08b_row0_col6\" class=\"data row0 col6\" >0.529435</td>\n",
                            "    </tr>\n",
                            "    <tr>\n",
                            "      <th id=\"T_2e08b_level0_row1\" class=\"row_heading level0 row1\" >algoritmo</th>\n",
                            "      <td id=\"T_2e08b_row1_col0\" class=\"data row1 col0\" >0.590517</td>\n",
                            "      <td id=\"T_2e08b_row1_col1\" class=\"data row1 col1\" >1.000000</td>\n",
                            "      <td id=\"T_2e08b_row1_col2\" class=\"data row1 col2\" >0.586398</td>\n",
                            "      <td id=\"T_2e08b_row1_col3\" class=\"data row1 col3\" >0.409267</td>\n",
                            "      <td id=\"T_2e08b_row1_col4\" class=\"data row1 col4\" >0.342103</td>\n",
                            "      <td id=\"T_2e08b_row1_col5\" class=\"data row1 col5\" >0.320405</td>\n",
                            "      <td id=\"T_2e08b_row1_col6\" class=\"data row1 col6\" >0.625015</td>\n",
                            "    </tr>\n",
                            "    <tr>\n",
                            "      <th id=\"T_2e08b_level0_row2\" class=\"row_heading level0 row2\" >logica</th>\n",
                            "      <td id=\"T_2e08b_row2_col0\" class=\"data row2 col0\" >0.620320</td>\n",
                            "      <td id=\"T_2e08b_row2_col1\" class=\"data row2 col1\" >0.586398</td>\n",
                            "      <td id=\"T_2e08b_row2_col2\" class=\"data row2 col2\" >1.000000</td>\n",
                            "      <td id=\"T_2e08b_row2_col3\" class=\"data row2 col3\" >0.410730</td>\n",
                            "      <td id=\"T_2e08b_row2_col4\" class=\"data row2 col4\" >0.311712</td>\n",
                            "      <td id=\"T_2e08b_row2_col5\" class=\"data row2 col5\" >0.134047</td>\n",
                            "      <td id=\"T_2e08b_row2_col6\" class=\"data row2 col6\" >0.600676</td>\n",
                            "    </tr>\n",
                            "    <tr>\n",
                            "      <th id=\"T_2e08b_level0_row3\" class=\"row_heading level0 row3\" >fundamentos_mat</th>\n",
                            "      <td id=\"T_2e08b_row3_col0\" class=\"data row3 col0\" >0.456548</td>\n",
                            "      <td id=\"T_2e08b_row3_col1\" class=\"data row3 col1\" >0.409267</td>\n",
                            "      <td id=\"T_2e08b_row3_col2\" class=\"data row3 col2\" >0.410730</td>\n",
                            "      <td id=\"T_2e08b_row3_col3\" class=\"data row3 col3\" >1.000000</td>\n",
                            "      <td id=\"T_2e08b_row3_col4\" class=\"data row3 col4\" >0.313312</td>\n",
                            "      <td id=\"T_2e08b_row3_col5\" class=\"data row3 col5\" >0.081554</td>\n",
                            "      <td id=\"T_2e08b_row3_col6\" class=\"data row3 col6\" >0.528875</td>\n",
                            "    </tr>\n",
                            "    <tr>\n",
                            "      <th id=\"T_2e08b_level0_row4\" class=\"row_heading level0 row4\" >tga</th>\n",
                            "      <td id=\"T_2e08b_row4_col0\" class=\"data row4 col0\" >0.118928</td>\n",
                            "      <td id=\"T_2e08b_row4_col1\" class=\"data row4 col1\" >0.342103</td>\n",
                            "      <td id=\"T_2e08b_row4_col2\" class=\"data row4 col2\" >0.311712</td>\n",
                            "      <td id=\"T_2e08b_row4_col3\" class=\"data row4 col3\" >0.313312</td>\n",
                            "      <td id=\"T_2e08b_row4_col4\" class=\"data row4 col4\" >1.000000</td>\n",
                            "      <td id=\"T_2e08b_row4_col5\" class=\"data row4 col5\" >0.077245</td>\n",
                            "      <td id=\"T_2e08b_row4_col6\" class=\"data row4 col6\" >0.290375</td>\n",
                            "    </tr>\n",
                            "    <tr>\n",
                            "      <th id=\"T_2e08b_level0_row5\" class=\"row_heading level0 row5\" >poo_1</th>\n",
                            "      <td id=\"T_2e08b_row5_col0\" class=\"data row5 col0\" >0.203838</td>\n",
                            "      <td id=\"T_2e08b_row5_col1\" class=\"data row5 col1\" >0.320405</td>\n",
                            "      <td id=\"T_2e08b_row5_col2\" class=\"data row5 col2\" >0.134047</td>\n",
                            "      <td id=\"T_2e08b_row5_col3\" class=\"data row5 col3\" >0.081554</td>\n",
                            "      <td id=\"T_2e08b_row5_col4\" class=\"data row5 col4\" >0.077245</td>\n",
                            "      <td id=\"T_2e08b_row5_col5\" class=\"data row5 col5\" >1.000000</td>\n",
                            "      <td id=\"T_2e08b_row5_col6\" class=\"data row5 col6\" >0.287012</td>\n",
                            "    </tr>\n",
                            "    <tr>\n",
                            "      <th id=\"T_2e08b_level0_row6\" class=\"row_heading level0 row6\" >programacao</th>\n",
                            "      <td id=\"T_2e08b_row6_col0\" class=\"data row6 col0\" >0.529435</td>\n",
                            "      <td id=\"T_2e08b_row6_col1\" class=\"data row6 col1\" >0.625015</td>\n",
                            "      <td id=\"T_2e08b_row6_col2\" class=\"data row6 col2\" >0.600676</td>\n",
                            "      <td id=\"T_2e08b_row6_col3\" class=\"data row6 col3\" >0.528875</td>\n",
                            "      <td id=\"T_2e08b_row6_col4\" class=\"data row6 col4\" >0.290375</td>\n",
                            "      <td id=\"T_2e08b_row6_col5\" class=\"data row6 col5\" >0.287012</td>\n",
                            "      <td id=\"T_2e08b_row6_col6\" class=\"data row6 col6\" >1.000000</td>\n",
                            "    </tr>\n",
                            "  </tbody>\n",
                            "</table>\n"
                        ],
                        "text/plain": [
                            "<pandas.io.formats.style.Styler at 0x7f530f3b95a0>"
                        ]
                    },
                    "execution_count": 741,
                    "metadata": {},
                    "output_type": "execute_result"
                }
            ],
            "source": [
                "correlacao(corr_poo_1)"
            ]
        },
        {
            "attachments": {},
            "cell_type": "markdown",
            "metadata": {},
            "source": [
                "##### Correlação ESTRUTURA DE DADOS"
            ]
        },
        {
            "cell_type": "code",
            "execution_count": 742,
            "metadata": {},
            "outputs": [
                {
                    "name": "stderr",
                    "output_type": "stream",
                    "text": [
                        "/tmp/ipykernel_6400/373976776.py:5: FutureWarning: Styler.applymap has been deprecated. Use Styler.map instead.\n",
                        "  styled_df = corr_df.style.applymap(lambda x: 'background-color: %s' % 'blue' if x > 0.7 else '')\n"
                    ]
                },
                {
                    "data": {
                        "text/html": [
                            "<style type=\"text/css\">\n",
                            "#T_23294_row0_col0, #T_23294_row1_col1, #T_23294_row2_col2, #T_23294_row3_col3, #T_23294_row4_col4, #T_23294_row5_col5, #T_23294_row6_col6 {\n",
                            "  background-color: blue;\n",
                            "}\n",
                            "</style>\n",
                            "<table id=\"T_23294\">\n",
                            "  <thead>\n",
                            "    <tr>\n",
                            "      <th class=\"blank level0\" >&nbsp;</th>\n",
                            "      <th id=\"T_23294_level0_col0\" class=\"col_heading level0 col0\" >intro_informatica</th>\n",
                            "      <th id=\"T_23294_level0_col1\" class=\"col_heading level0 col1\" >algoritmo</th>\n",
                            "      <th id=\"T_23294_level0_col2\" class=\"col_heading level0 col2\" >logica</th>\n",
                            "      <th id=\"T_23294_level0_col3\" class=\"col_heading level0 col3\" >fundamentos_mat</th>\n",
                            "      <th id=\"T_23294_level0_col4\" class=\"col_heading level0 col4\" >tga</th>\n",
                            "      <th id=\"T_23294_level0_col5\" class=\"col_heading level0 col5\" >programacao</th>\n",
                            "      <th id=\"T_23294_level0_col6\" class=\"col_heading level0 col6\" >ed</th>\n",
                            "    </tr>\n",
                            "  </thead>\n",
                            "  <tbody>\n",
                            "    <tr>\n",
                            "      <th id=\"T_23294_level0_row0\" class=\"row_heading level0 row0\" >intro_informatica</th>\n",
                            "      <td id=\"T_23294_row0_col0\" class=\"data row0 col0\" >1.000000</td>\n",
                            "      <td id=\"T_23294_row0_col1\" class=\"data row0 col1\" >0.577332</td>\n",
                            "      <td id=\"T_23294_row0_col2\" class=\"data row0 col2\" >0.585056</td>\n",
                            "      <td id=\"T_23294_row0_col3\" class=\"data row0 col3\" >0.465001</td>\n",
                            "      <td id=\"T_23294_row0_col4\" class=\"data row0 col4\" >0.093771</td>\n",
                            "      <td id=\"T_23294_row0_col5\" class=\"data row0 col5\" >0.532053</td>\n",
                            "      <td id=\"T_23294_row0_col6\" class=\"data row0 col6\" >0.409363</td>\n",
                            "    </tr>\n",
                            "    <tr>\n",
                            "      <th id=\"T_23294_level0_row1\" class=\"row_heading level0 row1\" >algoritmo</th>\n",
                            "      <td id=\"T_23294_row1_col0\" class=\"data row1 col0\" >0.577332</td>\n",
                            "      <td id=\"T_23294_row1_col1\" class=\"data row1 col1\" >1.000000</td>\n",
                            "      <td id=\"T_23294_row1_col2\" class=\"data row1 col2\" >0.577970</td>\n",
                            "      <td id=\"T_23294_row1_col3\" class=\"data row1 col3\" >0.411594</td>\n",
                            "      <td id=\"T_23294_row1_col4\" class=\"data row1 col4\" >0.357767</td>\n",
                            "      <td id=\"T_23294_row1_col5\" class=\"data row1 col5\" >0.619195</td>\n",
                            "      <td id=\"T_23294_row1_col6\" class=\"data row1 col6\" >0.388559</td>\n",
                            "    </tr>\n",
                            "    <tr>\n",
                            "      <th id=\"T_23294_level0_row2\" class=\"row_heading level0 row2\" >logica</th>\n",
                            "      <td id=\"T_23294_row2_col0\" class=\"data row2 col0\" >0.585056</td>\n",
                            "      <td id=\"T_23294_row2_col1\" class=\"data row2 col1\" >0.577970</td>\n",
                            "      <td id=\"T_23294_row2_col2\" class=\"data row2 col2\" >1.000000</td>\n",
                            "      <td id=\"T_23294_row2_col3\" class=\"data row2 col3\" >0.408137</td>\n",
                            "      <td id=\"T_23294_row2_col4\" class=\"data row2 col4\" >0.310936</td>\n",
                            "      <td id=\"T_23294_row2_col5\" class=\"data row2 col5\" >0.619960</td>\n",
                            "      <td id=\"T_23294_row2_col6\" class=\"data row2 col6\" >0.345419</td>\n",
                            "    </tr>\n",
                            "    <tr>\n",
                            "      <th id=\"T_23294_level0_row3\" class=\"row_heading level0 row3\" >fundamentos_mat</th>\n",
                            "      <td id=\"T_23294_row3_col0\" class=\"data row3 col0\" >0.465001</td>\n",
                            "      <td id=\"T_23294_row3_col1\" class=\"data row3 col1\" >0.411594</td>\n",
                            "      <td id=\"T_23294_row3_col2\" class=\"data row3 col2\" >0.408137</td>\n",
                            "      <td id=\"T_23294_row3_col3\" class=\"data row3 col3\" >1.000000</td>\n",
                            "      <td id=\"T_23294_row3_col4\" class=\"data row3 col4\" >0.292186</td>\n",
                            "      <td id=\"T_23294_row3_col5\" class=\"data row3 col5\" >0.526783</td>\n",
                            "      <td id=\"T_23294_row3_col6\" class=\"data row3 col6\" >0.208994</td>\n",
                            "    </tr>\n",
                            "    <tr>\n",
                            "      <th id=\"T_23294_level0_row4\" class=\"row_heading level0 row4\" >tga</th>\n",
                            "      <td id=\"T_23294_row4_col0\" class=\"data row4 col0\" >0.093771</td>\n",
                            "      <td id=\"T_23294_row4_col1\" class=\"data row4 col1\" >0.357767</td>\n",
                            "      <td id=\"T_23294_row4_col2\" class=\"data row4 col2\" >0.310936</td>\n",
                            "      <td id=\"T_23294_row4_col3\" class=\"data row4 col3\" >0.292186</td>\n",
                            "      <td id=\"T_23294_row4_col4\" class=\"data row4 col4\" >1.000000</td>\n",
                            "      <td id=\"T_23294_row4_col5\" class=\"data row4 col5\" >0.317198</td>\n",
                            "      <td id=\"T_23294_row4_col6\" class=\"data row4 col6\" >0.174330</td>\n",
                            "    </tr>\n",
                            "    <tr>\n",
                            "      <th id=\"T_23294_level0_row5\" class=\"row_heading level0 row5\" >programacao</th>\n",
                            "      <td id=\"T_23294_row5_col0\" class=\"data row5 col0\" >0.532053</td>\n",
                            "      <td id=\"T_23294_row5_col1\" class=\"data row5 col1\" >0.619195</td>\n",
                            "      <td id=\"T_23294_row5_col2\" class=\"data row5 col2\" >0.619960</td>\n",
                            "      <td id=\"T_23294_row5_col3\" class=\"data row5 col3\" >0.526783</td>\n",
                            "      <td id=\"T_23294_row5_col4\" class=\"data row5 col4\" >0.317198</td>\n",
                            "      <td id=\"T_23294_row5_col5\" class=\"data row5 col5\" >1.000000</td>\n",
                            "      <td id=\"T_23294_row5_col6\" class=\"data row5 col6\" >0.429215</td>\n",
                            "    </tr>\n",
                            "    <tr>\n",
                            "      <th id=\"T_23294_level0_row6\" class=\"row_heading level0 row6\" >ed</th>\n",
                            "      <td id=\"T_23294_row6_col0\" class=\"data row6 col0\" >0.409363</td>\n",
                            "      <td id=\"T_23294_row6_col1\" class=\"data row6 col1\" >0.388559</td>\n",
                            "      <td id=\"T_23294_row6_col2\" class=\"data row6 col2\" >0.345419</td>\n",
                            "      <td id=\"T_23294_row6_col3\" class=\"data row6 col3\" >0.208994</td>\n",
                            "      <td id=\"T_23294_row6_col4\" class=\"data row6 col4\" >0.174330</td>\n",
                            "      <td id=\"T_23294_row6_col5\" class=\"data row6 col5\" >0.429215</td>\n",
                            "      <td id=\"T_23294_row6_col6\" class=\"data row6 col6\" >1.000000</td>\n",
                            "    </tr>\n",
                            "  </tbody>\n",
                            "</table>\n"
                        ],
                        "text/plain": [
                            "<pandas.io.formats.style.Styler at 0x7f530f486c20>"
                        ]
                    },
                    "execution_count": 742,
                    "metadata": {},
                    "output_type": "execute_result"
                }
            ],
            "source": [
                "corr_ed = pd.merge(notas_1p, programacao, how = 'inner', on = 'discente')\n",
                "corr_ed = corr_ed.rename(columns={'media_final': 'programacao'})\n",
                "\n",
                "corr_ed = pd.merge( corr_ed, ed, how = 'inner', on = 'discente')\n",
                "corr_ed = corr_ed.rename(columns={'media_final': 'ed'})\n",
                "\n",
                "corr_ed = corr_ed.drop(columns=['discente'])\n",
                "\n",
                "correlacao(corr_ed)"
            ]
        },
        {
            "attachments": {},
            "cell_type": "markdown",
            "metadata": {},
            "source": [
                "##### Correlação FUNDAMENTOS DE SISTEMAS DE INFORMAÇÃO"
            ]
        },
        {
            "cell_type": "code",
            "execution_count": 743,
            "metadata": {},
            "outputs": [
                {
                    "name": "stderr",
                    "output_type": "stream",
                    "text": [
                        "/tmp/ipykernel_6400/373976776.py:5: FutureWarning: Styler.applymap has been deprecated. Use Styler.map instead.\n",
                        "  styled_df = corr_df.style.applymap(lambda x: 'background-color: %s' % 'blue' if x > 0.7 else '')\n"
                    ]
                },
                {
                    "data": {
                        "text/html": [
                            "<style type=\"text/css\">\n",
                            "#T_5b222_row0_col0, #T_5b222_row1_col1, #T_5b222_row2_col2, #T_5b222_row3_col3, #T_5b222_row4_col4, #T_5b222_row5_col5, #T_5b222_row6_col6 {\n",
                            "  background-color: blue;\n",
                            "}\n",
                            "</style>\n",
                            "<table id=\"T_5b222\">\n",
                            "  <thead>\n",
                            "    <tr>\n",
                            "      <th class=\"blank level0\" >&nbsp;</th>\n",
                            "      <th id=\"T_5b222_level0_col0\" class=\"col_heading level0 col0\" >intro_informatica</th>\n",
                            "      <th id=\"T_5b222_level0_col1\" class=\"col_heading level0 col1\" >algoritmo</th>\n",
                            "      <th id=\"T_5b222_level0_col2\" class=\"col_heading level0 col2\" >logica</th>\n",
                            "      <th id=\"T_5b222_level0_col3\" class=\"col_heading level0 col3\" >fundamentos_mat</th>\n",
                            "      <th id=\"T_5b222_level0_col4\" class=\"col_heading level0 col4\" >tga</th>\n",
                            "      <th id=\"T_5b222_level0_col5\" class=\"col_heading level0 col5\" >tgs</th>\n",
                            "      <th id=\"T_5b222_level0_col6\" class=\"col_heading level0 col6\" >fundamentos_si</th>\n",
                            "    </tr>\n",
                            "  </thead>\n",
                            "  <tbody>\n",
                            "    <tr>\n",
                            "      <th id=\"T_5b222_level0_row0\" class=\"row_heading level0 row0\" >intro_informatica</th>\n",
                            "      <td id=\"T_5b222_row0_col0\" class=\"data row0 col0\" >1.000000</td>\n",
                            "      <td id=\"T_5b222_row0_col1\" class=\"data row0 col1\" >0.643216</td>\n",
                            "      <td id=\"T_5b222_row0_col2\" class=\"data row0 col2\" >0.659284</td>\n",
                            "      <td id=\"T_5b222_row0_col3\" class=\"data row0 col3\" >0.520495</td>\n",
                            "      <td id=\"T_5b222_row0_col4\" class=\"data row0 col4\" >0.090673</td>\n",
                            "      <td id=\"T_5b222_row0_col5\" class=\"data row0 col5\" >0.270275</td>\n",
                            "      <td id=\"T_5b222_row0_col6\" class=\"data row0 col6\" >0.249362</td>\n",
                            "    </tr>\n",
                            "    <tr>\n",
                            "      <th id=\"T_5b222_level0_row1\" class=\"row_heading level0 row1\" >algoritmo</th>\n",
                            "      <td id=\"T_5b222_row1_col0\" class=\"data row1 col0\" >0.643216</td>\n",
                            "      <td id=\"T_5b222_row1_col1\" class=\"data row1 col1\" >1.000000</td>\n",
                            "      <td id=\"T_5b222_row1_col2\" class=\"data row1 col2\" >0.619822</td>\n",
                            "      <td id=\"T_5b222_row1_col3\" class=\"data row1 col3\" >0.486239</td>\n",
                            "      <td id=\"T_5b222_row1_col4\" class=\"data row1 col4\" >0.387409</td>\n",
                            "      <td id=\"T_5b222_row1_col5\" class=\"data row1 col5\" >0.403274</td>\n",
                            "      <td id=\"T_5b222_row1_col6\" class=\"data row1 col6\" >0.380526</td>\n",
                            "    </tr>\n",
                            "    <tr>\n",
                            "      <th id=\"T_5b222_level0_row2\" class=\"row_heading level0 row2\" >logica</th>\n",
                            "      <td id=\"T_5b222_row2_col0\" class=\"data row2 col0\" >0.659284</td>\n",
                            "      <td id=\"T_5b222_row2_col1\" class=\"data row2 col1\" >0.619822</td>\n",
                            "      <td id=\"T_5b222_row2_col2\" class=\"data row2 col2\" >1.000000</td>\n",
                            "      <td id=\"T_5b222_row2_col3\" class=\"data row2 col3\" >0.465851</td>\n",
                            "      <td id=\"T_5b222_row2_col4\" class=\"data row2 col4\" >0.312184</td>\n",
                            "      <td id=\"T_5b222_row2_col5\" class=\"data row2 col5\" >0.457774</td>\n",
                            "      <td id=\"T_5b222_row2_col6\" class=\"data row2 col6\" >0.345256</td>\n",
                            "    </tr>\n",
                            "    <tr>\n",
                            "      <th id=\"T_5b222_level0_row3\" class=\"row_heading level0 row3\" >fundamentos_mat</th>\n",
                            "      <td id=\"T_5b222_row3_col0\" class=\"data row3 col0\" >0.520495</td>\n",
                            "      <td id=\"T_5b222_row3_col1\" class=\"data row3 col1\" >0.486239</td>\n",
                            "      <td id=\"T_5b222_row3_col2\" class=\"data row3 col2\" >0.465851</td>\n",
                            "      <td id=\"T_5b222_row3_col3\" class=\"data row3 col3\" >1.000000</td>\n",
                            "      <td id=\"T_5b222_row3_col4\" class=\"data row3 col4\" >0.316484</td>\n",
                            "      <td id=\"T_5b222_row3_col5\" class=\"data row3 col5\" >0.166770</td>\n",
                            "      <td id=\"T_5b222_row3_col6\" class=\"data row3 col6\" >0.131325</td>\n",
                            "    </tr>\n",
                            "    <tr>\n",
                            "      <th id=\"T_5b222_level0_row4\" class=\"row_heading level0 row4\" >tga</th>\n",
                            "      <td id=\"T_5b222_row4_col0\" class=\"data row4 col0\" >0.090673</td>\n",
                            "      <td id=\"T_5b222_row4_col1\" class=\"data row4 col1\" >0.387409</td>\n",
                            "      <td id=\"T_5b222_row4_col2\" class=\"data row4 col2\" >0.312184</td>\n",
                            "      <td id=\"T_5b222_row4_col3\" class=\"data row4 col3\" >0.316484</td>\n",
                            "      <td id=\"T_5b222_row4_col4\" class=\"data row4 col4\" >1.000000</td>\n",
                            "      <td id=\"T_5b222_row4_col5\" class=\"data row4 col5\" >0.385224</td>\n",
                            "      <td id=\"T_5b222_row4_col6\" class=\"data row4 col6\" >0.357889</td>\n",
                            "    </tr>\n",
                            "    <tr>\n",
                            "      <th id=\"T_5b222_level0_row5\" class=\"row_heading level0 row5\" >tgs</th>\n",
                            "      <td id=\"T_5b222_row5_col0\" class=\"data row5 col0\" >0.270275</td>\n",
                            "      <td id=\"T_5b222_row5_col1\" class=\"data row5 col1\" >0.403274</td>\n",
                            "      <td id=\"T_5b222_row5_col2\" class=\"data row5 col2\" >0.457774</td>\n",
                            "      <td id=\"T_5b222_row5_col3\" class=\"data row5 col3\" >0.166770</td>\n",
                            "      <td id=\"T_5b222_row5_col4\" class=\"data row5 col4\" >0.385224</td>\n",
                            "      <td id=\"T_5b222_row5_col5\" class=\"data row5 col5\" >1.000000</td>\n",
                            "      <td id=\"T_5b222_row5_col6\" class=\"data row5 col6\" >0.485836</td>\n",
                            "    </tr>\n",
                            "    <tr>\n",
                            "      <th id=\"T_5b222_level0_row6\" class=\"row_heading level0 row6\" >fundamentos_si</th>\n",
                            "      <td id=\"T_5b222_row6_col0\" class=\"data row6 col0\" >0.249362</td>\n",
                            "      <td id=\"T_5b222_row6_col1\" class=\"data row6 col1\" >0.380526</td>\n",
                            "      <td id=\"T_5b222_row6_col2\" class=\"data row6 col2\" >0.345256</td>\n",
                            "      <td id=\"T_5b222_row6_col3\" class=\"data row6 col3\" >0.131325</td>\n",
                            "      <td id=\"T_5b222_row6_col4\" class=\"data row6 col4\" >0.357889</td>\n",
                            "      <td id=\"T_5b222_row6_col5\" class=\"data row6 col5\" >0.485836</td>\n",
                            "      <td id=\"T_5b222_row6_col6\" class=\"data row6 col6\" >1.000000</td>\n",
                            "    </tr>\n",
                            "  </tbody>\n",
                            "</table>\n"
                        ],
                        "text/plain": [
                            "<pandas.io.formats.style.Styler at 0x7f530f4870a0>"
                        ]
                    },
                    "execution_count": 743,
                    "metadata": {},
                    "output_type": "execute_result"
                }
            ],
            "source": [
                "corr_fundamentos_si = pd.merge(notas_1p, tgs, how = 'inner', on = 'discente')\n",
                "corr_fundamentos_si = corr_fundamentos_si.rename(columns={'media_final': 'tgs'})\n",
                "\n",
                "corr_fundamentos_si = pd.merge(corr_fundamentos_si, fundamentos_si, how = 'inner', on = 'discente')\n",
                "corr_fundamentos_si = corr_fundamentos_si.rename(columns={'media_final': 'fundamentos_si'})\n",
                "corr_fundamentos_si = corr_fundamentos_si.drop(columns=['discente'])\n",
                "correlacao(corr_fundamentos_si)"
            ]
        },
        {
            "attachments": {},
            "cell_type": "markdown",
            "metadata": {},
            "source": [
                "##### Correlação ÁLGEBRA LINEAR"
            ]
        },
        {
            "cell_type": "code",
            "execution_count": 744,
            "metadata": {},
            "outputs": [
                {
                    "name": "stderr",
                    "output_type": "stream",
                    "text": [
                        "/tmp/ipykernel_6400/373976776.py:5: FutureWarning: Styler.applymap has been deprecated. Use Styler.map instead.\n",
                        "  styled_df = corr_df.style.applymap(lambda x: 'background-color: %s' % 'blue' if x > 0.7 else '')\n"
                    ]
                },
                {
                    "data": {
                        "text/html": [
                            "<style type=\"text/css\">\n",
                            "#T_182ca_row0_col0, #T_182ca_row1_col1, #T_182ca_row2_col2, #T_182ca_row3_col3, #T_182ca_row4_col4, #T_182ca_row5_col5 {\n",
                            "  background-color: blue;\n",
                            "}\n",
                            "</style>\n",
                            "<table id=\"T_182ca\">\n",
                            "  <thead>\n",
                            "    <tr>\n",
                            "      <th class=\"blank level0\" >&nbsp;</th>\n",
                            "      <th id=\"T_182ca_level0_col0\" class=\"col_heading level0 col0\" >intro_informatica</th>\n",
                            "      <th id=\"T_182ca_level0_col1\" class=\"col_heading level0 col1\" >algoritmo</th>\n",
                            "      <th id=\"T_182ca_level0_col2\" class=\"col_heading level0 col2\" >logica</th>\n",
                            "      <th id=\"T_182ca_level0_col3\" class=\"col_heading level0 col3\" >fundamentos_mat</th>\n",
                            "      <th id=\"T_182ca_level0_col4\" class=\"col_heading level0 col4\" >tga</th>\n",
                            "      <th id=\"T_182ca_level0_col5\" class=\"col_heading level0 col5\" >algebra</th>\n",
                            "    </tr>\n",
                            "  </thead>\n",
                            "  <tbody>\n",
                            "    <tr>\n",
                            "      <th id=\"T_182ca_level0_row0\" class=\"row_heading level0 row0\" >intro_informatica</th>\n",
                            "      <td id=\"T_182ca_row0_col0\" class=\"data row0 col0\" >1.000000</td>\n",
                            "      <td id=\"T_182ca_row0_col1\" class=\"data row0 col1\" >0.588274</td>\n",
                            "      <td id=\"T_182ca_row0_col2\" class=\"data row0 col2\" >0.605822</td>\n",
                            "      <td id=\"T_182ca_row0_col3\" class=\"data row0 col3\" >0.428483</td>\n",
                            "      <td id=\"T_182ca_row0_col4\" class=\"data row0 col4\" >0.050302</td>\n",
                            "      <td id=\"T_182ca_row0_col5\" class=\"data row0 col5\" >0.408626</td>\n",
                            "    </tr>\n",
                            "    <tr>\n",
                            "      <th id=\"T_182ca_level0_row1\" class=\"row_heading level0 row1\" >algoritmo</th>\n",
                            "      <td id=\"T_182ca_row1_col0\" class=\"data row1 col0\" >0.588274</td>\n",
                            "      <td id=\"T_182ca_row1_col1\" class=\"data row1 col1\" >1.000000</td>\n",
                            "      <td id=\"T_182ca_row1_col2\" class=\"data row1 col2\" >0.541032</td>\n",
                            "      <td id=\"T_182ca_row1_col3\" class=\"data row1 col3\" >0.398359</td>\n",
                            "      <td id=\"T_182ca_row1_col4\" class=\"data row1 col4\" >0.322992</td>\n",
                            "      <td id=\"T_182ca_row1_col5\" class=\"data row1 col5\" >0.286345</td>\n",
                            "    </tr>\n",
                            "    <tr>\n",
                            "      <th id=\"T_182ca_level0_row2\" class=\"row_heading level0 row2\" >logica</th>\n",
                            "      <td id=\"T_182ca_row2_col0\" class=\"data row2 col0\" >0.605822</td>\n",
                            "      <td id=\"T_182ca_row2_col1\" class=\"data row2 col1\" >0.541032</td>\n",
                            "      <td id=\"T_182ca_row2_col2\" class=\"data row2 col2\" >1.000000</td>\n",
                            "      <td id=\"T_182ca_row2_col3\" class=\"data row2 col3\" >0.381748</td>\n",
                            "      <td id=\"T_182ca_row2_col4\" class=\"data row2 col4\" >0.217138</td>\n",
                            "      <td id=\"T_182ca_row2_col5\" class=\"data row2 col5\" >0.346141</td>\n",
                            "    </tr>\n",
                            "    <tr>\n",
                            "      <th id=\"T_182ca_level0_row3\" class=\"row_heading level0 row3\" >fundamentos_mat</th>\n",
                            "      <td id=\"T_182ca_row3_col0\" class=\"data row3 col0\" >0.428483</td>\n",
                            "      <td id=\"T_182ca_row3_col1\" class=\"data row3 col1\" >0.398359</td>\n",
                            "      <td id=\"T_182ca_row3_col2\" class=\"data row3 col2\" >0.381748</td>\n",
                            "      <td id=\"T_182ca_row3_col3\" class=\"data row3 col3\" >1.000000</td>\n",
                            "      <td id=\"T_182ca_row3_col4\" class=\"data row3 col4\" >0.269990</td>\n",
                            "      <td id=\"T_182ca_row3_col5\" class=\"data row3 col5\" >0.271102</td>\n",
                            "    </tr>\n",
                            "    <tr>\n",
                            "      <th id=\"T_182ca_level0_row4\" class=\"row_heading level0 row4\" >tga</th>\n",
                            "      <td id=\"T_182ca_row4_col0\" class=\"data row4 col0\" >0.050302</td>\n",
                            "      <td id=\"T_182ca_row4_col1\" class=\"data row4 col1\" >0.322992</td>\n",
                            "      <td id=\"T_182ca_row4_col2\" class=\"data row4 col2\" >0.217138</td>\n",
                            "      <td id=\"T_182ca_row4_col3\" class=\"data row4 col3\" >0.269990</td>\n",
                            "      <td id=\"T_182ca_row4_col4\" class=\"data row4 col4\" >1.000000</td>\n",
                            "      <td id=\"T_182ca_row4_col5\" class=\"data row4 col5\" >0.016728</td>\n",
                            "    </tr>\n",
                            "    <tr>\n",
                            "      <th id=\"T_182ca_level0_row5\" class=\"row_heading level0 row5\" >algebra</th>\n",
                            "      <td id=\"T_182ca_row5_col0\" class=\"data row5 col0\" >0.408626</td>\n",
                            "      <td id=\"T_182ca_row5_col1\" class=\"data row5 col1\" >0.286345</td>\n",
                            "      <td id=\"T_182ca_row5_col2\" class=\"data row5 col2\" >0.346141</td>\n",
                            "      <td id=\"T_182ca_row5_col3\" class=\"data row5 col3\" >0.271102</td>\n",
                            "      <td id=\"T_182ca_row5_col4\" class=\"data row5 col4\" >0.016728</td>\n",
                            "      <td id=\"T_182ca_row5_col5\" class=\"data row5 col5\" >1.000000</td>\n",
                            "    </tr>\n",
                            "  </tbody>\n",
                            "</table>\n"
                        ],
                        "text/plain": [
                            "<pandas.io.formats.style.Styler at 0x7f530f487100>"
                        ]
                    },
                    "execution_count": 744,
                    "metadata": {},
                    "output_type": "execute_result"
                }
            ],
            "source": [
                "corr_algebra = pd.merge( notas_1p, algebra, how = 'inner', on = 'discente')\n",
                "corr_algebra = corr_algebra.rename(columns={'media_final': 'algebra'})\n",
                "corr_algebra = corr_algebra.drop(columns=['discente'])\n",
                "correlacao(corr_algebra)"
            ]
        },
        {
            "attachments": {},
            "cell_type": "markdown",
            "metadata": {},
            "source": [
                "##### Correlação \tORGANIZAÇÃO, SISTEMAS E MÉTODOS"
            ]
        },
        {
            "cell_type": "code",
            "execution_count": 745,
            "metadata": {},
            "outputs": [
                {
                    "name": "stderr",
                    "output_type": "stream",
                    "text": [
                        "/tmp/ipykernel_6400/373976776.py:5: FutureWarning: Styler.applymap has been deprecated. Use Styler.map instead.\n",
                        "  styled_df = corr_df.style.applymap(lambda x: 'background-color: %s' % 'blue' if x > 0.7 else '')\n"
                    ]
                },
                {
                    "data": {
                        "text/html": [
                            "<style type=\"text/css\">\n",
                            "#T_6b81d_row0_col0, #T_6b81d_row1_col1, #T_6b81d_row2_col2, #T_6b81d_row3_col3, #T_6b81d_row4_col4, #T_6b81d_row5_col5 {\n",
                            "  background-color: blue;\n",
                            "}\n",
                            "</style>\n",
                            "<table id=\"T_6b81d\">\n",
                            "  <thead>\n",
                            "    <tr>\n",
                            "      <th class=\"blank level0\" >&nbsp;</th>\n",
                            "      <th id=\"T_6b81d_level0_col0\" class=\"col_heading level0 col0\" >intro_informatica</th>\n",
                            "      <th id=\"T_6b81d_level0_col1\" class=\"col_heading level0 col1\" >algoritmo</th>\n",
                            "      <th id=\"T_6b81d_level0_col2\" class=\"col_heading level0 col2\" >logica</th>\n",
                            "      <th id=\"T_6b81d_level0_col3\" class=\"col_heading level0 col3\" >fundamentos_mat</th>\n",
                            "      <th id=\"T_6b81d_level0_col4\" class=\"col_heading level0 col4\" >tga</th>\n",
                            "      <th id=\"T_6b81d_level0_col5\" class=\"col_heading level0 col5\" >osm</th>\n",
                            "    </tr>\n",
                            "  </thead>\n",
                            "  <tbody>\n",
                            "    <tr>\n",
                            "      <th id=\"T_6b81d_level0_row0\" class=\"row_heading level0 row0\" >intro_informatica</th>\n",
                            "      <td id=\"T_6b81d_row0_col0\" class=\"data row0 col0\" >1.000000</td>\n",
                            "      <td id=\"T_6b81d_row0_col1\" class=\"data row0 col1\" >0.590716</td>\n",
                            "      <td id=\"T_6b81d_row0_col2\" class=\"data row0 col2\" >0.607331</td>\n",
                            "      <td id=\"T_6b81d_row0_col3\" class=\"data row0 col3\" >0.490974</td>\n",
                            "      <td id=\"T_6b81d_row0_col4\" class=\"data row0 col4\" >0.129586</td>\n",
                            "      <td id=\"T_6b81d_row0_col5\" class=\"data row0 col5\" >0.434792</td>\n",
                            "    </tr>\n",
                            "    <tr>\n",
                            "      <th id=\"T_6b81d_level0_row1\" class=\"row_heading level0 row1\" >algoritmo</th>\n",
                            "      <td id=\"T_6b81d_row1_col0\" class=\"data row1 col0\" >0.590716</td>\n",
                            "      <td id=\"T_6b81d_row1_col1\" class=\"data row1 col1\" >1.000000</td>\n",
                            "      <td id=\"T_6b81d_row1_col2\" class=\"data row1 col2\" >0.614339</td>\n",
                            "      <td id=\"T_6b81d_row1_col3\" class=\"data row1 col3\" >0.470825</td>\n",
                            "      <td id=\"T_6b81d_row1_col4\" class=\"data row1 col4\" >0.343496</td>\n",
                            "      <td id=\"T_6b81d_row1_col5\" class=\"data row1 col5\" >0.384105</td>\n",
                            "    </tr>\n",
                            "    <tr>\n",
                            "      <th id=\"T_6b81d_level0_row2\" class=\"row_heading level0 row2\" >logica</th>\n",
                            "      <td id=\"T_6b81d_row2_col0\" class=\"data row2 col0\" >0.607331</td>\n",
                            "      <td id=\"T_6b81d_row2_col1\" class=\"data row2 col1\" >0.614339</td>\n",
                            "      <td id=\"T_6b81d_row2_col2\" class=\"data row2 col2\" >1.000000</td>\n",
                            "      <td id=\"T_6b81d_row2_col3\" class=\"data row2 col3\" >0.471788</td>\n",
                            "      <td id=\"T_6b81d_row2_col4\" class=\"data row2 col4\" >0.309826</td>\n",
                            "      <td id=\"T_6b81d_row2_col5\" class=\"data row2 col5\" >0.395599</td>\n",
                            "    </tr>\n",
                            "    <tr>\n",
                            "      <th id=\"T_6b81d_level0_row3\" class=\"row_heading level0 row3\" >fundamentos_mat</th>\n",
                            "      <td id=\"T_6b81d_row3_col0\" class=\"data row3 col0\" >0.490974</td>\n",
                            "      <td id=\"T_6b81d_row3_col1\" class=\"data row3 col1\" >0.470825</td>\n",
                            "      <td id=\"T_6b81d_row3_col2\" class=\"data row3 col2\" >0.471788</td>\n",
                            "      <td id=\"T_6b81d_row3_col3\" class=\"data row3 col3\" >1.000000</td>\n",
                            "      <td id=\"T_6b81d_row3_col4\" class=\"data row3 col4\" >0.323562</td>\n",
                            "      <td id=\"T_6b81d_row3_col5\" class=\"data row3 col5\" >0.315765</td>\n",
                            "    </tr>\n",
                            "    <tr>\n",
                            "      <th id=\"T_6b81d_level0_row4\" class=\"row_heading level0 row4\" >tga</th>\n",
                            "      <td id=\"T_6b81d_row4_col0\" class=\"data row4 col0\" >0.129586</td>\n",
                            "      <td id=\"T_6b81d_row4_col1\" class=\"data row4 col1\" >0.343496</td>\n",
                            "      <td id=\"T_6b81d_row4_col2\" class=\"data row4 col2\" >0.309826</td>\n",
                            "      <td id=\"T_6b81d_row4_col3\" class=\"data row4 col3\" >0.323562</td>\n",
                            "      <td id=\"T_6b81d_row4_col4\" class=\"data row4 col4\" >1.000000</td>\n",
                            "      <td id=\"T_6b81d_row4_col5\" class=\"data row4 col5\" >0.273688</td>\n",
                            "    </tr>\n",
                            "    <tr>\n",
                            "      <th id=\"T_6b81d_level0_row5\" class=\"row_heading level0 row5\" >osm</th>\n",
                            "      <td id=\"T_6b81d_row5_col0\" class=\"data row5 col0\" >0.434792</td>\n",
                            "      <td id=\"T_6b81d_row5_col1\" class=\"data row5 col1\" >0.384105</td>\n",
                            "      <td id=\"T_6b81d_row5_col2\" class=\"data row5 col2\" >0.395599</td>\n",
                            "      <td id=\"T_6b81d_row5_col3\" class=\"data row5 col3\" >0.315765</td>\n",
                            "      <td id=\"T_6b81d_row5_col4\" class=\"data row5 col4\" >0.273688</td>\n",
                            "      <td id=\"T_6b81d_row5_col5\" class=\"data row5 col5\" >1.000000</td>\n",
                            "    </tr>\n",
                            "  </tbody>\n",
                            "</table>\n"
                        ],
                        "text/plain": [
                            "<pandas.io.formats.style.Styler at 0x7f530fcaf130>"
                        ]
                    },
                    "execution_count": 745,
                    "metadata": {},
                    "output_type": "execute_result"
                }
            ],
            "source": [
                "corr_osm = pd.merge( notas_1p, osm, how = 'inner', on = 'discente')\n",
                "corr_osm = corr_osm.rename(columns={'media_final': 'osm'})\n",
                "corr_osm = corr_osm.drop(columns=['discente'])\n",
                "correlacao(corr_osm)"
            ]
        },
        {
            "attachments": {},
            "cell_type": "markdown",
            "metadata": {},
            "source": [
                "## Correlação - Programação"
            ]
        },
        {
            "attachments": {},
            "cell_type": "markdown",
            "metadata": {},
            "source": [
                "#### Programação -> Algoritmo e Lógica de Programação"
            ]
        },
        {
            "cell_type": "code",
            "execution_count": 746,
            "metadata": {},
            "outputs": [
                {
                    "data": {
                        "text/html": [
                            "<div>\n",
                            "<style scoped>\n",
                            "    .dataframe tbody tr th:only-of-type {\n",
                            "        vertical-align: middle;\n",
                            "    }\n",
                            "\n",
                            "    .dataframe tbody tr th {\n",
                            "        vertical-align: top;\n",
                            "    }\n",
                            "\n",
                            "    .dataframe thead th {\n",
                            "        text-align: right;\n",
                            "    }\n",
                            "</style>\n",
                            "<table border=\"1\" class=\"dataframe\">\n",
                            "  <thead>\n",
                            "    <tr style=\"text-align: right;\">\n",
                            "      <th></th>\n",
                            "      <th>algoritmo</th>\n",
                            "      <th>programacao</th>\n",
                            "    </tr>\n",
                            "  </thead>\n",
                            "  <tbody>\n",
                            "    <tr>\n",
                            "      <th>0</th>\n",
                            "      <td>5.90</td>\n",
                            "      <td>4.00</td>\n",
                            "    </tr>\n",
                            "    <tr>\n",
                            "      <th>1</th>\n",
                            "      <td>6.00</td>\n",
                            "      <td>7.10</td>\n",
                            "    </tr>\n",
                            "    <tr>\n",
                            "      <th>2</th>\n",
                            "      <td>6.80</td>\n",
                            "      <td>4.15</td>\n",
                            "    </tr>\n",
                            "    <tr>\n",
                            "      <th>3</th>\n",
                            "      <td>2.95</td>\n",
                            "      <td>0.80</td>\n",
                            "    </tr>\n",
                            "    <tr>\n",
                            "      <th>4</th>\n",
                            "      <td>5.30</td>\n",
                            "      <td>5.20</td>\n",
                            "    </tr>\n",
                            "    <tr>\n",
                            "      <th>...</th>\n",
                            "      <td>...</td>\n",
                            "      <td>...</td>\n",
                            "    </tr>\n",
                            "    <tr>\n",
                            "      <th>392</th>\n",
                            "      <td>8.00</td>\n",
                            "      <td>7.00</td>\n",
                            "    </tr>\n",
                            "    <tr>\n",
                            "      <th>393</th>\n",
                            "      <td>9.10</td>\n",
                            "      <td>9.70</td>\n",
                            "    </tr>\n",
                            "    <tr>\n",
                            "      <th>394</th>\n",
                            "      <td>9.70</td>\n",
                            "      <td>8.60</td>\n",
                            "    </tr>\n",
                            "    <tr>\n",
                            "      <th>395</th>\n",
                            "      <td>8.70</td>\n",
                            "      <td>10.00</td>\n",
                            "    </tr>\n",
                            "    <tr>\n",
                            "      <th>396</th>\n",
                            "      <td>4.45</td>\n",
                            "      <td>4.50</td>\n",
                            "    </tr>\n",
                            "  </tbody>\n",
                            "</table>\n",
                            "<p>397 rows × 2 columns</p>\n",
                            "</div>"
                        ],
                        "text/plain": [
                            "     algoritmo  programacao\n",
                            "0         5.90         4.00\n",
                            "1         6.00         7.10\n",
                            "2         6.80         4.15\n",
                            "3         2.95         0.80\n",
                            "4         5.30         5.20\n",
                            "..         ...          ...\n",
                            "392       8.00         7.00\n",
                            "393       9.10         9.70\n",
                            "394       9.70         8.60\n",
                            "395       8.70        10.00\n",
                            "396       4.45         4.50\n",
                            "\n",
                            "[397 rows x 2 columns]"
                        ]
                    },
                    "execution_count": 746,
                    "metadata": {},
                    "output_type": "execute_result"
                }
            ],
            "source": [
                "pro_cor = pd.merge(algoritmo, programacao, how = 'inner', on = 'discente')\n",
                "pro_cor = pro_cor.rename(columns={'media_final_x': 'algoritmo', 'media_final_y': 'programacao'})\n",
                "pro_cor = pro_cor.drop(columns=['discente'])\n",
                "pro_cor"
            ]
        },
        {
            "cell_type": "code",
            "execution_count": 747,
            "metadata": {},
            "outputs": [
                {
                    "name": "stderr",
                    "output_type": "stream",
                    "text": [
                        "/tmp/ipykernel_6400/373976776.py:5: FutureWarning: Styler.applymap has been deprecated. Use Styler.map instead.\n",
                        "  styled_df = corr_df.style.applymap(lambda x: 'background-color: %s' % 'blue' if x > 0.7 else '')\n"
                    ]
                },
                {
                    "data": {
                        "text/html": [
                            "<style type=\"text/css\">\n",
                            "#T_576f1_row0_col0, #T_576f1_row1_col1 {\n",
                            "  background-color: blue;\n",
                            "}\n",
                            "</style>\n",
                            "<table id=\"T_576f1\">\n",
                            "  <thead>\n",
                            "    <tr>\n",
                            "      <th class=\"blank level0\" >&nbsp;</th>\n",
                            "      <th id=\"T_576f1_level0_col0\" class=\"col_heading level0 col0\" >algoritmo</th>\n",
                            "      <th id=\"T_576f1_level0_col1\" class=\"col_heading level0 col1\" >programacao</th>\n",
                            "    </tr>\n",
                            "  </thead>\n",
                            "  <tbody>\n",
                            "    <tr>\n",
                            "      <th id=\"T_576f1_level0_row0\" class=\"row_heading level0 row0\" >algoritmo</th>\n",
                            "      <td id=\"T_576f1_row0_col0\" class=\"data row0 col0\" >1.000000</td>\n",
                            "      <td id=\"T_576f1_row0_col1\" class=\"data row0 col1\" >0.562569</td>\n",
                            "    </tr>\n",
                            "    <tr>\n",
                            "      <th id=\"T_576f1_level0_row1\" class=\"row_heading level0 row1\" >programacao</th>\n",
                            "      <td id=\"T_576f1_row1_col0\" class=\"data row1 col0\" >0.562569</td>\n",
                            "      <td id=\"T_576f1_row1_col1\" class=\"data row1 col1\" >1.000000</td>\n",
                            "    </tr>\n",
                            "  </tbody>\n",
                            "</table>\n"
                        ],
                        "text/plain": [
                            "<pandas.io.formats.style.Styler at 0x7f530f487160>"
                        ]
                    },
                    "execution_count": 747,
                    "metadata": {},
                    "output_type": "execute_result"
                }
            ],
            "source": [
                "correlacao(pro_cor)"
            ]
        },
        {
            "attachments": {},
            "cell_type": "markdown",
            "metadata": {},
            "source": [
                "## Programação -> Fundamentos de Matemática"
            ]
        },
        {
            "cell_type": "code",
            "execution_count": 748,
            "metadata": {},
            "outputs": [
                {
                    "name": "stderr",
                    "output_type": "stream",
                    "text": [
                        "/tmp/ipykernel_6400/373976776.py:5: FutureWarning: Styler.applymap has been deprecated. Use Styler.map instead.\n",
                        "  styled_df = corr_df.style.applymap(lambda x: 'background-color: %s' % 'blue' if x > 0.7 else '')\n"
                    ]
                },
                {
                    "data": {
                        "text/html": [
                            "<style type=\"text/css\">\n",
                            "#T_a9da1_row0_col0, #T_a9da1_row1_col1 {\n",
                            "  background-color: blue;\n",
                            "}\n",
                            "</style>\n",
                            "<table id=\"T_a9da1\">\n",
                            "  <thead>\n",
                            "    <tr>\n",
                            "      <th class=\"blank level0\" >&nbsp;</th>\n",
                            "      <th id=\"T_a9da1_level0_col0\" class=\"col_heading level0 col0\" >fundamentos_mat</th>\n",
                            "      <th id=\"T_a9da1_level0_col1\" class=\"col_heading level0 col1\" >programacao</th>\n",
                            "    </tr>\n",
                            "  </thead>\n",
                            "  <tbody>\n",
                            "    <tr>\n",
                            "      <th id=\"T_a9da1_level0_row0\" class=\"row_heading level0 row0\" >fundamentos_mat</th>\n",
                            "      <td id=\"T_a9da1_row0_col0\" class=\"data row0 col0\" >1.000000</td>\n",
                            "      <td id=\"T_a9da1_row0_col1\" class=\"data row0 col1\" >0.561963</td>\n",
                            "    </tr>\n",
                            "    <tr>\n",
                            "      <th id=\"T_a9da1_level0_row1\" class=\"row_heading level0 row1\" >programacao</th>\n",
                            "      <td id=\"T_a9da1_row1_col0\" class=\"data row1 col0\" >0.561963</td>\n",
                            "      <td id=\"T_a9da1_row1_col1\" class=\"data row1 col1\" >1.000000</td>\n",
                            "    </tr>\n",
                            "  </tbody>\n",
                            "</table>\n"
                        ],
                        "text/plain": [
                            "<pandas.io.formats.style.Styler at 0x7f530f4a1000>"
                        ]
                    },
                    "execution_count": 748,
                    "metadata": {},
                    "output_type": "execute_result"
                }
            ],
            "source": [
                "pro_corr_fud_si = pd.merge(fundamentos_mat, programacao, how = 'inner', on = 'discente')\n",
                "pro_corr_fud_si  = pro_corr_fud_si.rename(columns={'media_final_x': 'fundamentos_mat', 'media_final_y': 'programacao'})\n",
                "pro_corr_fud_si  = pro_corr_fud_si.drop(columns=['discente'])\n",
                "correlacao(pro_corr_fud_si )"
            ]
        },
        {
            "attachments": {},
            "cell_type": "markdown",
            "metadata": {},
            "source": [
                "#### Programação -> Cálculo Diferencial e Integral"
            ]
        },
        {
            "cell_type": "code",
            "execution_count": 749,
            "metadata": {},
            "outputs": [
                {
                    "name": "stderr",
                    "output_type": "stream",
                    "text": [
                        "/tmp/ipykernel_6400/373976776.py:5: FutureWarning: Styler.applymap has been deprecated. Use Styler.map instead.\n",
                        "  styled_df = corr_df.style.applymap(lambda x: 'background-color: %s' % 'blue' if x > 0.7 else '')\n"
                    ]
                },
                {
                    "data": {
                        "text/html": [
                            "<style type=\"text/css\">\n",
                            "#T_0fecb_row0_col0, #T_0fecb_row1_col1 {\n",
                            "  background-color: blue;\n",
                            "}\n",
                            "</style>\n",
                            "<table id=\"T_0fecb\">\n",
                            "  <thead>\n",
                            "    <tr>\n",
                            "      <th class=\"blank level0\" >&nbsp;</th>\n",
                            "      <th id=\"T_0fecb_level0_col0\" class=\"col_heading level0 col0\" >logica</th>\n",
                            "      <th id=\"T_0fecb_level0_col1\" class=\"col_heading level0 col1\" >programacao</th>\n",
                            "    </tr>\n",
                            "  </thead>\n",
                            "  <tbody>\n",
                            "    <tr>\n",
                            "      <th id=\"T_0fecb_level0_row0\" class=\"row_heading level0 row0\" >logica</th>\n",
                            "      <td id=\"T_0fecb_row0_col0\" class=\"data row0 col0\" >1.000000</td>\n",
                            "      <td id=\"T_0fecb_row0_col1\" class=\"data row0 col1\" >0.549630</td>\n",
                            "    </tr>\n",
                            "    <tr>\n",
                            "      <th id=\"T_0fecb_level0_row1\" class=\"row_heading level0 row1\" >programacao</th>\n",
                            "      <td id=\"T_0fecb_row1_col0\" class=\"data row1 col0\" >0.549630</td>\n",
                            "      <td id=\"T_0fecb_row1_col1\" class=\"data row1 col1\" >1.000000</td>\n",
                            "    </tr>\n",
                            "  </tbody>\n",
                            "</table>\n"
                        ],
                        "text/plain": [
                            "<pandas.io.formats.style.Styler at 0x7f530f3ba4a0>"
                        ]
                    },
                    "execution_count": 749,
                    "metadata": {},
                    "output_type": "execute_result"
                }
            ],
            "source": [
                "pro_corr_calculo = pd.merge(logica, programacao, how = 'inner', on = 'discente')\n",
                "pro_corr_calculo = pro_corr_calculo.rename(columns={'media_final_x': 'logica', 'media_final_y': 'programacao'})\n",
                "pro_corr_calculo = pro_corr_calculo.drop(columns=['discente'])\n",
                "correlacao(pro_corr_calculo)"
            ]
        },
        {
            "attachments": {},
            "cell_type": "markdown",
            "metadata": {},
            "source": [
                "## Correlação Introdução à Informática"
            ]
        },
        {
            "attachments": {},
            "cell_type": "markdown",
            "metadata": {},
            "source": [
                "#### Introdução à Informática -> Algoritmo e Lógica de Programação"
            ]
        },
        {
            "cell_type": "code",
            "execution_count": 750,
            "metadata": {},
            "outputs": [
                {
                    "name": "stderr",
                    "output_type": "stream",
                    "text": [
                        "/tmp/ipykernel_6400/373976776.py:5: FutureWarning: Styler.applymap has been deprecated. Use Styler.map instead.\n",
                        "  styled_df = corr_df.style.applymap(lambda x: 'background-color: %s' % 'blue' if x > 0.7 else '')\n"
                    ]
                },
                {
                    "data": {
                        "text/html": [
                            "<style type=\"text/css\">\n",
                            "#T_07c5e_row0_col0, #T_07c5e_row0_col1, #T_07c5e_row1_col0, #T_07c5e_row1_col1 {\n",
                            "  background-color: blue;\n",
                            "}\n",
                            "</style>\n",
                            "<table id=\"T_07c5e\">\n",
                            "  <thead>\n",
                            "    <tr>\n",
                            "      <th class=\"blank level0\" >&nbsp;</th>\n",
                            "      <th id=\"T_07c5e_level0_col0\" class=\"col_heading level0 col0\" >algoritmo</th>\n",
                            "      <th id=\"T_07c5e_level0_col1\" class=\"col_heading level0 col1\" >intro_informatica</th>\n",
                            "    </tr>\n",
                            "  </thead>\n",
                            "  <tbody>\n",
                            "    <tr>\n",
                            "      <th id=\"T_07c5e_level0_row0\" class=\"row_heading level0 row0\" >algoritmo</th>\n",
                            "      <td id=\"T_07c5e_row0_col0\" class=\"data row0 col0\" >1.000000</td>\n",
                            "      <td id=\"T_07c5e_row0_col1\" class=\"data row0 col1\" >0.794427</td>\n",
                            "    </tr>\n",
                            "    <tr>\n",
                            "      <th id=\"T_07c5e_level0_row1\" class=\"row_heading level0 row1\" >intro_informatica</th>\n",
                            "      <td id=\"T_07c5e_row1_col0\" class=\"data row1 col0\" >0.794427</td>\n",
                            "      <td id=\"T_07c5e_row1_col1\" class=\"data row1 col1\" >1.000000</td>\n",
                            "    </tr>\n",
                            "  </tbody>\n",
                            "</table>\n"
                        ],
                        "text/plain": [
                            "<pandas.io.formats.style.Styler at 0x7f530f487430>"
                        ]
                    },
                    "execution_count": 750,
                    "metadata": {},
                    "output_type": "execute_result"
                }
            ],
            "source": [
                "intro_corr_algoritmo = pd.merge(algoritmo, intro_informatica, how = 'inner', on = 'discente')\n",
                "intro_corr_algoritmo = intro_corr_algoritmo.rename(columns={'media_final_x': 'algoritmo', 'media_final_y': 'intro_informatica', 'nota_x':'algoritmo_n1', 'nota_y':'intro_informatica_n1'})\n",
                "intro_corr_algoritmo = intro_corr_algoritmo.drop(columns=['discente'])\n",
                "correlacao(intro_corr_algoritmo)"
            ]
        },
        {
            "attachments": {},
            "cell_type": "markdown",
            "metadata": {},
            "source": [
                "#### Introdução à Informática -> Fundamentos de Matemática"
            ]
        },
        {
            "cell_type": "code",
            "execution_count": 751,
            "metadata": {},
            "outputs": [
                {
                    "name": "stderr",
                    "output_type": "stream",
                    "text": [
                        "/tmp/ipykernel_6400/373976776.py:5: FutureWarning: Styler.applymap has been deprecated. Use Styler.map instead.\n",
                        "  styled_df = corr_df.style.applymap(lambda x: 'background-color: %s' % 'blue' if x > 0.7 else '')\n"
                    ]
                },
                {
                    "data": {
                        "text/html": [
                            "<style type=\"text/css\">\n",
                            "#T_965a4_row0_col0, #T_965a4_row1_col1 {\n",
                            "  background-color: blue;\n",
                            "}\n",
                            "</style>\n",
                            "<table id=\"T_965a4\">\n",
                            "  <thead>\n",
                            "    <tr>\n",
                            "      <th class=\"blank level0\" >&nbsp;</th>\n",
                            "      <th id=\"T_965a4_level0_col0\" class=\"col_heading level0 col0\" >fundamentos_mat</th>\n",
                            "      <th id=\"T_965a4_level0_col1\" class=\"col_heading level0 col1\" >intro_informatica</th>\n",
                            "    </tr>\n",
                            "  </thead>\n",
                            "  <tbody>\n",
                            "    <tr>\n",
                            "      <th id=\"T_965a4_level0_row0\" class=\"row_heading level0 row0\" >fundamentos_mat</th>\n",
                            "      <td id=\"T_965a4_row0_col0\" class=\"data row0 col0\" >1.000000</td>\n",
                            "      <td id=\"T_965a4_row0_col1\" class=\"data row0 col1\" >0.690513</td>\n",
                            "    </tr>\n",
                            "    <tr>\n",
                            "      <th id=\"T_965a4_level0_row1\" class=\"row_heading level0 row1\" >intro_informatica</th>\n",
                            "      <td id=\"T_965a4_row1_col0\" class=\"data row1 col0\" >0.690513</td>\n",
                            "      <td id=\"T_965a4_row1_col1\" class=\"data row1 col1\" >1.000000</td>\n",
                            "    </tr>\n",
                            "  </tbody>\n",
                            "</table>\n"
                        ],
                        "text/plain": [
                            "<pandas.io.formats.style.Styler at 0x7f530f69dff0>"
                        ]
                    },
                    "execution_count": 751,
                    "metadata": {},
                    "output_type": "execute_result"
                }
            ],
            "source": [
                "intro_cor = pd.merge(fundamentos_mat, intro_informatica, how = 'inner', on = 'discente')\n",
                "intro_cor = intro_cor.rename(columns={'media_final_x': 'fundamentos_mat', 'media_final_y': 'intro_informatica'})\n",
                "intro_cor = intro_cor.drop(columns=['discente'])\n",
                "correlacao(intro_cor)"
            ]
        },
        {
            "attachments": {},
            "cell_type": "markdown",
            "metadata": {},
            "source": [
                "#### Introdução à Informática -> Lógica"
            ]
        },
        {
            "cell_type": "code",
            "execution_count": 752,
            "metadata": {},
            "outputs": [
                {
                    "name": "stderr",
                    "output_type": "stream",
                    "text": [
                        "/tmp/ipykernel_6400/373976776.py:5: FutureWarning: Styler.applymap has been deprecated. Use Styler.map instead.\n",
                        "  styled_df = corr_df.style.applymap(lambda x: 'background-color: %s' % 'blue' if x > 0.7 else '')\n"
                    ]
                },
                {
                    "data": {
                        "text/html": [
                            "<style type=\"text/css\">\n",
                            "#T_5f337_row0_col0, #T_5f337_row0_col1, #T_5f337_row1_col0, #T_5f337_row1_col1 {\n",
                            "  background-color: blue;\n",
                            "}\n",
                            "</style>\n",
                            "<table id=\"T_5f337\">\n",
                            "  <thead>\n",
                            "    <tr>\n",
                            "      <th class=\"blank level0\" >&nbsp;</th>\n",
                            "      <th id=\"T_5f337_level0_col0\" class=\"col_heading level0 col0\" >logica</th>\n",
                            "      <th id=\"T_5f337_level0_col1\" class=\"col_heading level0 col1\" >intro_informatica</th>\n",
                            "    </tr>\n",
                            "  </thead>\n",
                            "  <tbody>\n",
                            "    <tr>\n",
                            "      <th id=\"T_5f337_level0_row0\" class=\"row_heading level0 row0\" >logica</th>\n",
                            "      <td id=\"T_5f337_row0_col0\" class=\"data row0 col0\" >1.000000</td>\n",
                            "      <td id=\"T_5f337_row0_col1\" class=\"data row0 col1\" >0.801520</td>\n",
                            "    </tr>\n",
                            "    <tr>\n",
                            "      <th id=\"T_5f337_level0_row1\" class=\"row_heading level0 row1\" >intro_informatica</th>\n",
                            "      <td id=\"T_5f337_row1_col0\" class=\"data row1 col0\" >0.801520</td>\n",
                            "      <td id=\"T_5f337_row1_col1\" class=\"data row1 col1\" >1.000000</td>\n",
                            "    </tr>\n",
                            "  </tbody>\n",
                            "</table>\n"
                        ],
                        "text/plain": [
                            "<pandas.io.formats.style.Styler at 0x7f530fbda080>"
                        ]
                    },
                    "execution_count": 752,
                    "metadata": {},
                    "output_type": "execute_result"
                }
            ],
            "source": [
                "intro_cor = pd.merge(logica, intro_informatica, how = 'inner', on = 'discente')\n",
                "intro_cor = intro_cor.rename(columns={'media_final_x': 'logica', 'media_final_y': 'intro_informatica'})\n",
                "intro_cor = intro_cor.drop(columns=['discente'])\n",
                "correlacao(intro_cor)"
            ]
        },
        {
            "attachments": {},
            "cell_type": "markdown",
            "metadata": {},
            "source": [
                "#### Introdução à Informática -> Programação"
            ]
        },
        {
            "cell_type": "code",
            "execution_count": 753,
            "metadata": {},
            "outputs": [
                {
                    "name": "stderr",
                    "output_type": "stream",
                    "text": [
                        "/tmp/ipykernel_6400/373976776.py:5: FutureWarning: Styler.applymap has been deprecated. Use Styler.map instead.\n",
                        "  styled_df = corr_df.style.applymap(lambda x: 'background-color: %s' % 'blue' if x > 0.7 else '')\n"
                    ]
                },
                {
                    "data": {
                        "text/html": [
                            "<style type=\"text/css\">\n",
                            "#T_69bee_row0_col0, #T_69bee_row1_col1 {\n",
                            "  background-color: blue;\n",
                            "}\n",
                            "</style>\n",
                            "<table id=\"T_69bee\">\n",
                            "  <thead>\n",
                            "    <tr>\n",
                            "      <th class=\"blank level0\" >&nbsp;</th>\n",
                            "      <th id=\"T_69bee_level0_col0\" class=\"col_heading level0 col0\" >programacao</th>\n",
                            "      <th id=\"T_69bee_level0_col1\" class=\"col_heading level0 col1\" >intro_informatica</th>\n",
                            "    </tr>\n",
                            "  </thead>\n",
                            "  <tbody>\n",
                            "    <tr>\n",
                            "      <th id=\"T_69bee_level0_row0\" class=\"row_heading level0 row0\" >programacao</th>\n",
                            "      <td id=\"T_69bee_row0_col0\" class=\"data row0 col0\" >1.000000</td>\n",
                            "      <td id=\"T_69bee_row0_col1\" class=\"data row0 col1\" >0.570141</td>\n",
                            "    </tr>\n",
                            "    <tr>\n",
                            "      <th id=\"T_69bee_level0_row1\" class=\"row_heading level0 row1\" >intro_informatica</th>\n",
                            "      <td id=\"T_69bee_row1_col0\" class=\"data row1 col0\" >0.570141</td>\n",
                            "      <td id=\"T_69bee_row1_col1\" class=\"data row1 col1\" >1.000000</td>\n",
                            "    </tr>\n",
                            "  </tbody>\n",
                            "</table>\n"
                        ],
                        "text/plain": [
                            "<pandas.io.formats.style.Styler at 0x7f530f69ef50>"
                        ]
                    },
                    "execution_count": 753,
                    "metadata": {},
                    "output_type": "execute_result"
                }
            ],
            "source": [
                "intro_cor = pd.merge(programacao, intro_informatica, how = 'inner', on = 'discente')\n",
                "intro_cor = intro_cor.rename(columns={'media_final_x': 'programacao', 'media_final_y': 'intro_informatica'})\n",
                "intro_cor = intro_cor.drop(columns=['discente'])\n",
                "correlacao(intro_cor)"
            ]
        },
        {
            "attachments": {},
            "cell_type": "markdown",
            "metadata": {},
            "source": [
                "#### Introdução à Informática -> Teoria Geral da Administração"
            ]
        },
        {
            "cell_type": "code",
            "execution_count": 754,
            "metadata": {},
            "outputs": [
                {
                    "name": "stderr",
                    "output_type": "stream",
                    "text": [
                        "/tmp/ipykernel_6400/373976776.py:5: FutureWarning: Styler.applymap has been deprecated. Use Styler.map instead.\n",
                        "  styled_df = corr_df.style.applymap(lambda x: 'background-color: %s' % 'blue' if x > 0.7 else '')\n"
                    ]
                },
                {
                    "data": {
                        "text/html": [
                            "<style type=\"text/css\">\n",
                            "#T_9c378_row0_col0, #T_9c378_row1_col1 {\n",
                            "  background-color: blue;\n",
                            "}\n",
                            "</style>\n",
                            "<table id=\"T_9c378\">\n",
                            "  <thead>\n",
                            "    <tr>\n",
                            "      <th class=\"blank level0\" >&nbsp;</th>\n",
                            "      <th id=\"T_9c378_level0_col0\" class=\"col_heading level0 col0\" >tga</th>\n",
                            "      <th id=\"T_9c378_level0_col1\" class=\"col_heading level0 col1\" >intro_informatica</th>\n",
                            "    </tr>\n",
                            "  </thead>\n",
                            "  <tbody>\n",
                            "    <tr>\n",
                            "      <th id=\"T_9c378_level0_row0\" class=\"row_heading level0 row0\" >tga</th>\n",
                            "      <td id=\"T_9c378_row0_col0\" class=\"data row0 col0\" >1.000000</td>\n",
                            "      <td id=\"T_9c378_row0_col1\" class=\"data row0 col1\" >0.589379</td>\n",
                            "    </tr>\n",
                            "    <tr>\n",
                            "      <th id=\"T_9c378_level0_row1\" class=\"row_heading level0 row1\" >intro_informatica</th>\n",
                            "      <td id=\"T_9c378_row1_col0\" class=\"data row1 col0\" >0.589379</td>\n",
                            "      <td id=\"T_9c378_row1_col1\" class=\"data row1 col1\" >1.000000</td>\n",
                            "    </tr>\n",
                            "  </tbody>\n",
                            "</table>\n"
                        ],
                        "text/plain": [
                            "<pandas.io.formats.style.Styler at 0x7f530fa0c5b0>"
                        ]
                    },
                    "execution_count": 754,
                    "metadata": {},
                    "output_type": "execute_result"
                }
            ],
            "source": [
                "intro_cor = pd.merge(tga, intro_informatica, how = 'inner', on = 'discente')\n",
                "intro_cor = intro_cor.rename(columns={'media_final_x': 'tga', 'media_final_y': 'intro_informatica'})\n",
                "intro_cor = intro_cor.drop(columns=['discente'])\n",
                "correlacao(intro_cor)"
            ]
        },
        {
            "attachments": {},
            "cell_type": "markdown",
            "metadata": {},
            "source": [
                "## Correlação Fundamentos de Matemática"
            ]
        },
        {
            "attachments": {},
            "cell_type": "markdown",
            "metadata": {},
            "source": [
                "#### Fundamentos de Matemática -> Algoritmo e Lógica de Programação"
            ]
        },
        {
            "cell_type": "code",
            "execution_count": 755,
            "metadata": {},
            "outputs": [
                {
                    "name": "stderr",
                    "output_type": "stream",
                    "text": [
                        "/tmp/ipykernel_6400/373976776.py:5: FutureWarning: Styler.applymap has been deprecated. Use Styler.map instead.\n",
                        "  styled_df = corr_df.style.applymap(lambda x: 'background-color: %s' % 'blue' if x > 0.7 else '')\n"
                    ]
                },
                {
                    "data": {
                        "text/html": [
                            "<style type=\"text/css\">\n",
                            "#T_dea8b_row0_col0, #T_dea8b_row0_col1, #T_dea8b_row1_col0, #T_dea8b_row1_col1 {\n",
                            "  background-color: blue;\n",
                            "}\n",
                            "</style>\n",
                            "<table id=\"T_dea8b\">\n",
                            "  <thead>\n",
                            "    <tr>\n",
                            "      <th class=\"blank level0\" >&nbsp;</th>\n",
                            "      <th id=\"T_dea8b_level0_col0\" class=\"col_heading level0 col0\" >algoritmo</th>\n",
                            "      <th id=\"T_dea8b_level0_col1\" class=\"col_heading level0 col1\" >fundamentos_mat</th>\n",
                            "    </tr>\n",
                            "  </thead>\n",
                            "  <tbody>\n",
                            "    <tr>\n",
                            "      <th id=\"T_dea8b_level0_row0\" class=\"row_heading level0 row0\" >algoritmo</th>\n",
                            "      <td id=\"T_dea8b_row0_col0\" class=\"data row0 col0\" >1.000000</td>\n",
                            "      <td id=\"T_dea8b_row0_col1\" class=\"data row0 col1\" >0.709215</td>\n",
                            "    </tr>\n",
                            "    <tr>\n",
                            "      <th id=\"T_dea8b_level0_row1\" class=\"row_heading level0 row1\" >fundamentos_mat</th>\n",
                            "      <td id=\"T_dea8b_row1_col0\" class=\"data row1 col0\" >0.709215</td>\n",
                            "      <td id=\"T_dea8b_row1_col1\" class=\"data row1 col1\" >1.000000</td>\n",
                            "    </tr>\n",
                            "  </tbody>\n",
                            "</table>\n"
                        ],
                        "text/plain": [
                            "<pandas.io.formats.style.Styler at 0x7f530f485ea0>"
                        ]
                    },
                    "execution_count": 755,
                    "metadata": {},
                    "output_type": "execute_result"
                }
            ],
            "source": [
                "fun_cor = pd.merge(algoritmo, fundamentos_mat, how = 'inner', on = 'discente')\n",
                "fun_cor = fun_cor.rename(columns={'media_final_x': 'algoritmo', 'media_final_y': 'fundamentos_mat', 'nota_x':'algoritmo_n1', 'nota_y':'fundamentos_mat_n1'})\n",
                "fun_cor = fun_cor.drop(columns=['discente'])\n",
                "correlacao(fun_cor)"
            ]
        },
        {
            "attachments": {},
            "cell_type": "markdown",
            "metadata": {},
            "source": [
                "#### Fundamentos de Matemática -> Lógica"
            ]
        },
        {
            "cell_type": "code",
            "execution_count": 756,
            "metadata": {},
            "outputs": [
                {
                    "name": "stderr",
                    "output_type": "stream",
                    "text": [
                        "/tmp/ipykernel_6400/373976776.py:5: FutureWarning: Styler.applymap has been deprecated. Use Styler.map instead.\n",
                        "  styled_df = corr_df.style.applymap(lambda x: 'background-color: %s' % 'blue' if x > 0.7 else '')\n"
                    ]
                },
                {
                    "data": {
                        "text/html": [
                            "<style type=\"text/css\">\n",
                            "#T_19be1_row0_col0, #T_19be1_row1_col1 {\n",
                            "  background-color: blue;\n",
                            "}\n",
                            "</style>\n",
                            "<table id=\"T_19be1\">\n",
                            "  <thead>\n",
                            "    <tr>\n",
                            "      <th class=\"blank level0\" >&nbsp;</th>\n",
                            "      <th id=\"T_19be1_level0_col0\" class=\"col_heading level0 col0\" >logica</th>\n",
                            "      <th id=\"T_19be1_level0_col1\" class=\"col_heading level0 col1\" >fundamentos_mat</th>\n",
                            "    </tr>\n",
                            "  </thead>\n",
                            "  <tbody>\n",
                            "    <tr>\n",
                            "      <th id=\"T_19be1_level0_row0\" class=\"row_heading level0 row0\" >logica</th>\n",
                            "      <td id=\"T_19be1_row0_col0\" class=\"data row0 col0\" >1.000000</td>\n",
                            "      <td id=\"T_19be1_row0_col1\" class=\"data row0 col1\" >0.676551</td>\n",
                            "    </tr>\n",
                            "    <tr>\n",
                            "      <th id=\"T_19be1_level0_row1\" class=\"row_heading level0 row1\" >fundamentos_mat</th>\n",
                            "      <td id=\"T_19be1_row1_col0\" class=\"data row1 col0\" >0.676551</td>\n",
                            "      <td id=\"T_19be1_row1_col1\" class=\"data row1 col1\" >1.000000</td>\n",
                            "    </tr>\n",
                            "  </tbody>\n",
                            "</table>\n"
                        ],
                        "text/plain": [
                            "<pandas.io.formats.style.Styler at 0x7f530f4a1a50>"
                        ]
                    },
                    "execution_count": 756,
                    "metadata": {},
                    "output_type": "execute_result"
                }
            ],
            "source": [
                "fun_cor = pd.merge(logica, fundamentos_mat, how = 'inner', on = 'discente')\n",
                "fun_cor = fun_cor.rename(columns={'media_final_x': 'logica', 'media_final_y': 'fundamentos_mat'})\n",
                "fun_cor = fun_cor.drop(columns=['discente'])\n",
                "correlacao(fun_cor)"
            ]
        },
        {
            "attachments": {},
            "cell_type": "markdown",
            "metadata": {},
            "source": [
                "#### Fundamentos de Matemática -> Teoria Geral da Administração"
            ]
        },
        {
            "cell_type": "code",
            "execution_count": 757,
            "metadata": {},
            "outputs": [
                {
                    "name": "stderr",
                    "output_type": "stream",
                    "text": [
                        "/tmp/ipykernel_6400/373976776.py:5: FutureWarning: Styler.applymap has been deprecated. Use Styler.map instead.\n",
                        "  styled_df = corr_df.style.applymap(lambda x: 'background-color: %s' % 'blue' if x > 0.7 else '')\n"
                    ]
                },
                {
                    "data": {
                        "text/html": [
                            "<style type=\"text/css\">\n",
                            "#T_3ae2a_row0_col0, #T_3ae2a_row1_col1 {\n",
                            "  background-color: blue;\n",
                            "}\n",
                            "</style>\n",
                            "<table id=\"T_3ae2a\">\n",
                            "  <thead>\n",
                            "    <tr>\n",
                            "      <th class=\"blank level0\" >&nbsp;</th>\n",
                            "      <th id=\"T_3ae2a_level0_col0\" class=\"col_heading level0 col0\" >tga</th>\n",
                            "      <th id=\"T_3ae2a_level0_col1\" class=\"col_heading level0 col1\" >fundamentos_mat</th>\n",
                            "    </tr>\n",
                            "  </thead>\n",
                            "  <tbody>\n",
                            "    <tr>\n",
                            "      <th id=\"T_3ae2a_level0_row0\" class=\"row_heading level0 row0\" >tga</th>\n",
                            "      <td id=\"T_3ae2a_row0_col0\" class=\"data row0 col0\" >1.000000</td>\n",
                            "      <td id=\"T_3ae2a_row0_col1\" class=\"data row0 col1\" >0.611728</td>\n",
                            "    </tr>\n",
                            "    <tr>\n",
                            "      <th id=\"T_3ae2a_level0_row1\" class=\"row_heading level0 row1\" >fundamentos_mat</th>\n",
                            "      <td id=\"T_3ae2a_row1_col0\" class=\"data row1 col0\" >0.611728</td>\n",
                            "      <td id=\"T_3ae2a_row1_col1\" class=\"data row1 col1\" >1.000000</td>\n",
                            "    </tr>\n",
                            "  </tbody>\n",
                            "</table>\n"
                        ],
                        "text/plain": [
                            "<pandas.io.formats.style.Styler at 0x7f530f4a2050>"
                        ]
                    },
                    "execution_count": 757,
                    "metadata": {},
                    "output_type": "execute_result"
                }
            ],
            "source": [
                "fun_cor = pd.merge(tga, fundamentos_mat, how = 'inner', on = 'discente')\n",
                "fun_cor = fun_cor.rename(columns={'media_final_x': 'tga', 'media_final_y': 'fundamentos_mat'})\n",
                "fun_cor = fun_cor.drop(columns=['discente'])\n",
                "correlacao(fun_cor)"
            ]
        },
        {
            "attachments": {},
            "cell_type": "markdown",
            "metadata": {},
            "source": [
                "#### Fundamentos de Matemática -> Introdução à Informática"
            ]
        },
        {
            "cell_type": "code",
            "execution_count": 758,
            "metadata": {},
            "outputs": [
                {
                    "name": "stderr",
                    "output_type": "stream",
                    "text": [
                        "/tmp/ipykernel_6400/373976776.py:5: FutureWarning: Styler.applymap has been deprecated. Use Styler.map instead.\n",
                        "  styled_df = corr_df.style.applymap(lambda x: 'background-color: %s' % 'blue' if x > 0.7 else '')\n"
                    ]
                },
                {
                    "data": {
                        "text/html": [
                            "<style type=\"text/css\">\n",
                            "#T_cb7e0_row0_col0, #T_cb7e0_row1_col1 {\n",
                            "  background-color: blue;\n",
                            "}\n",
                            "</style>\n",
                            "<table id=\"T_cb7e0\">\n",
                            "  <thead>\n",
                            "    <tr>\n",
                            "      <th class=\"blank level0\" >&nbsp;</th>\n",
                            "      <th id=\"T_cb7e0_level0_col0\" class=\"col_heading level0 col0\" >intro_informatica</th>\n",
                            "      <th id=\"T_cb7e0_level0_col1\" class=\"col_heading level0 col1\" >fundamentos_mat</th>\n",
                            "    </tr>\n",
                            "  </thead>\n",
                            "  <tbody>\n",
                            "    <tr>\n",
                            "      <th id=\"T_cb7e0_level0_row0\" class=\"row_heading level0 row0\" >intro_informatica</th>\n",
                            "      <td id=\"T_cb7e0_row0_col0\" class=\"data row0 col0\" >1.000000</td>\n",
                            "      <td id=\"T_cb7e0_row0_col1\" class=\"data row0 col1\" >0.690513</td>\n",
                            "    </tr>\n",
                            "    <tr>\n",
                            "      <th id=\"T_cb7e0_level0_row1\" class=\"row_heading level0 row1\" >fundamentos_mat</th>\n",
                            "      <td id=\"T_cb7e0_row1_col0\" class=\"data row1 col0\" >0.690513</td>\n",
                            "      <td id=\"T_cb7e0_row1_col1\" class=\"data row1 col1\" >1.000000</td>\n",
                            "    </tr>\n",
                            "  </tbody>\n",
                            "</table>\n"
                        ],
                        "text/plain": [
                            "<pandas.io.formats.style.Styler at 0x7f530f4a1630>"
                        ]
                    },
                    "execution_count": 758,
                    "metadata": {},
                    "output_type": "execute_result"
                }
            ],
            "source": [
                "fun_cor = pd.merge(intro_informatica, fundamentos_mat, how = 'inner', on = 'discente')\n",
                "fun_cor = fun_cor.rename(columns={'media_final_x': 'intro_informatica', 'media_final_y': 'fundamentos_mat'})\n",
                "fun_cor = fun_cor.drop(columns=['discente'])\n",
                "correlacao(fun_cor)"
            ]
        },
        {
            "attachments": {},
            "cell_type": "markdown",
            "metadata": {},
            "source": [
                "## Correlação Lógica"
            ]
        },
        {
            "attachments": {},
            "cell_type": "markdown",
            "metadata": {},
            "source": [
                "#### Lógica -> Algoritmo e Lógica de Programação"
            ]
        },
        {
            "cell_type": "code",
            "execution_count": 759,
            "metadata": {},
            "outputs": [
                {
                    "name": "stderr",
                    "output_type": "stream",
                    "text": [
                        "/tmp/ipykernel_6400/373976776.py:5: FutureWarning: Styler.applymap has been deprecated. Use Styler.map instead.\n",
                        "  styled_df = corr_df.style.applymap(lambda x: 'background-color: %s' % 'blue' if x > 0.7 else '')\n"
                    ]
                },
                {
                    "data": {
                        "text/html": [
                            "<style type=\"text/css\">\n",
                            "#T_fcc76_row0_col0, #T_fcc76_row0_col1, #T_fcc76_row1_col0, #T_fcc76_row1_col1 {\n",
                            "  background-color: blue;\n",
                            "}\n",
                            "</style>\n",
                            "<table id=\"T_fcc76\">\n",
                            "  <thead>\n",
                            "    <tr>\n",
                            "      <th class=\"blank level0\" >&nbsp;</th>\n",
                            "      <th id=\"T_fcc76_level0_col0\" class=\"col_heading level0 col0\" >algoritmo</th>\n",
                            "      <th id=\"T_fcc76_level0_col1\" class=\"col_heading level0 col1\" >logica</th>\n",
                            "    </tr>\n",
                            "  </thead>\n",
                            "  <tbody>\n",
                            "    <tr>\n",
                            "      <th id=\"T_fcc76_level0_row0\" class=\"row_heading level0 row0\" >algoritmo</th>\n",
                            "      <td id=\"T_fcc76_row0_col0\" class=\"data row0 col0\" >1.000000</td>\n",
                            "      <td id=\"T_fcc76_row0_col1\" class=\"data row0 col1\" >0.826162</td>\n",
                            "    </tr>\n",
                            "    <tr>\n",
                            "      <th id=\"T_fcc76_level0_row1\" class=\"row_heading level0 row1\" >logica</th>\n",
                            "      <td id=\"T_fcc76_row1_col0\" class=\"data row1 col0\" >0.826162</td>\n",
                            "      <td id=\"T_fcc76_row1_col1\" class=\"data row1 col1\" >1.000000</td>\n",
                            "    </tr>\n",
                            "  </tbody>\n",
                            "</table>\n"
                        ],
                        "text/plain": [
                            "<pandas.io.formats.style.Styler at 0x7f530f4a3670>"
                        ]
                    },
                    "execution_count": 759,
                    "metadata": {},
                    "output_type": "execute_result"
                }
            ],
            "source": [
                "log_cor = pd.merge(algoritmo, logica, how = 'inner', on = 'discente')\n",
                "log_cor = log_cor.rename(columns={'media_final_x': 'algoritmo', 'media_final_y': 'logica', 'nota_x':'algoritmo_n1', 'nota_y':'logica_n1'})\n",
                "log_cor = log_cor.drop(columns=['discente'])\n",
                "correlacao(log_cor)"
            ]
        },
        {
            "attachments": {},
            "cell_type": "markdown",
            "metadata": {},
            "source": [
                "#### Lógica -> Fundamentos de Matemática"
            ]
        },
        {
            "cell_type": "code",
            "execution_count": 760,
            "metadata": {},
            "outputs": [
                {
                    "name": "stderr",
                    "output_type": "stream",
                    "text": [
                        "/tmp/ipykernel_6400/373976776.py:5: FutureWarning: Styler.applymap has been deprecated. Use Styler.map instead.\n",
                        "  styled_df = corr_df.style.applymap(lambda x: 'background-color: %s' % 'blue' if x > 0.7 else '')\n"
                    ]
                },
                {
                    "data": {
                        "text/html": [
                            "<style type=\"text/css\">\n",
                            "#T_06ffb_row0_col0, #T_06ffb_row1_col1 {\n",
                            "  background-color: blue;\n",
                            "}\n",
                            "</style>\n",
                            "<table id=\"T_06ffb\">\n",
                            "  <thead>\n",
                            "    <tr>\n",
                            "      <th class=\"blank level0\" >&nbsp;</th>\n",
                            "      <th id=\"T_06ffb_level0_col0\" class=\"col_heading level0 col0\" >fundamentos_mat</th>\n",
                            "      <th id=\"T_06ffb_level0_col1\" class=\"col_heading level0 col1\" >logica</th>\n",
                            "    </tr>\n",
                            "  </thead>\n",
                            "  <tbody>\n",
                            "    <tr>\n",
                            "      <th id=\"T_06ffb_level0_row0\" class=\"row_heading level0 row0\" >fundamentos_mat</th>\n",
                            "      <td id=\"T_06ffb_row0_col0\" class=\"data row0 col0\" >1.000000</td>\n",
                            "      <td id=\"T_06ffb_row0_col1\" class=\"data row0 col1\" >0.676551</td>\n",
                            "    </tr>\n",
                            "    <tr>\n",
                            "      <th id=\"T_06ffb_level0_row1\" class=\"row_heading level0 row1\" >logica</th>\n",
                            "      <td id=\"T_06ffb_row1_col0\" class=\"data row1 col0\" >0.676551</td>\n",
                            "      <td id=\"T_06ffb_row1_col1\" class=\"data row1 col1\" >1.000000</td>\n",
                            "    </tr>\n",
                            "  </tbody>\n",
                            "</table>\n"
                        ],
                        "text/plain": [
                            "<pandas.io.formats.style.Styler at 0x7f530f4a2710>"
                        ]
                    },
                    "execution_count": 760,
                    "metadata": {},
                    "output_type": "execute_result"
                }
            ],
            "source": [
                "log_cor = pd.merge(fundamentos_mat, logica, how = 'inner', on = 'discente')\n",
                "log_cor = log_cor.rename(columns={'media_final_x': 'fundamentos_mat', 'media_final_y': 'logica'})\n",
                "log_cor = log_cor.drop(columns=['discente'])\n",
                "correlacao(log_cor)"
            ]
        },
        {
            "attachments": {},
            "cell_type": "markdown",
            "metadata": {},
            "source": [
                "#### Lógica -> Teoria Geral da Administração"
            ]
        },
        {
            "cell_type": "code",
            "execution_count": 761,
            "metadata": {},
            "outputs": [
                {
                    "name": "stderr",
                    "output_type": "stream",
                    "text": [
                        "/tmp/ipykernel_6400/373976776.py:5: FutureWarning: Styler.applymap has been deprecated. Use Styler.map instead.\n",
                        "  styled_df = corr_df.style.applymap(lambda x: 'background-color: %s' % 'blue' if x > 0.7 else '')\n"
                    ]
                },
                {
                    "data": {
                        "text/html": [
                            "<style type=\"text/css\">\n",
                            "#T_ffb79_row0_col0, #T_ffb79_row1_col1 {\n",
                            "  background-color: blue;\n",
                            "}\n",
                            "</style>\n",
                            "<table id=\"T_ffb79\">\n",
                            "  <thead>\n",
                            "    <tr>\n",
                            "      <th class=\"blank level0\" >&nbsp;</th>\n",
                            "      <th id=\"T_ffb79_level0_col0\" class=\"col_heading level0 col0\" >tga</th>\n",
                            "      <th id=\"T_ffb79_level0_col1\" class=\"col_heading level0 col1\" >logica</th>\n",
                            "    </tr>\n",
                            "  </thead>\n",
                            "  <tbody>\n",
                            "    <tr>\n",
                            "      <th id=\"T_ffb79_level0_row0\" class=\"row_heading level0 row0\" >tga</th>\n",
                            "      <td id=\"T_ffb79_row0_col0\" class=\"data row0 col0\" >1.000000</td>\n",
                            "      <td id=\"T_ffb79_row0_col1\" class=\"data row0 col1\" >0.672345</td>\n",
                            "    </tr>\n",
                            "    <tr>\n",
                            "      <th id=\"T_ffb79_level0_row1\" class=\"row_heading level0 row1\" >logica</th>\n",
                            "      <td id=\"T_ffb79_row1_col0\" class=\"data row1 col0\" >0.672345</td>\n",
                            "      <td id=\"T_ffb79_row1_col1\" class=\"data row1 col1\" >1.000000</td>\n",
                            "    </tr>\n",
                            "  </tbody>\n",
                            "</table>\n"
                        ],
                        "text/plain": [
                            "<pandas.io.formats.style.Styler at 0x7f530f4a3220>"
                        ]
                    },
                    "execution_count": 761,
                    "metadata": {},
                    "output_type": "execute_result"
                }
            ],
            "source": [
                "log_cor = pd.merge(tga, logica, how = 'inner', on = 'discente')\n",
                "log_cor = log_cor.rename(columns={'media_final_x': 'tga', 'media_final_y': 'logica'})\n",
                "log_cor = log_cor.drop(columns=['discente'])\n",
                "correlacao(log_cor)"
            ]
        },
        {
            "attachments": {},
            "cell_type": "markdown",
            "metadata": {},
            "source": [
                "#### Lógica -> Introdução à Informática"
            ]
        },
        {
            "cell_type": "code",
            "execution_count": 762,
            "metadata": {},
            "outputs": [
                {
                    "name": "stderr",
                    "output_type": "stream",
                    "text": [
                        "/tmp/ipykernel_6400/373976776.py:5: FutureWarning: Styler.applymap has been deprecated. Use Styler.map instead.\n",
                        "  styled_df = corr_df.style.applymap(lambda x: 'background-color: %s' % 'blue' if x > 0.7 else '')\n"
                    ]
                },
                {
                    "data": {
                        "text/html": [
                            "<style type=\"text/css\">\n",
                            "#T_c04c0_row0_col0, #T_c04c0_row0_col1, #T_c04c0_row1_col0, #T_c04c0_row1_col1 {\n",
                            "  background-color: blue;\n",
                            "}\n",
                            "</style>\n",
                            "<table id=\"T_c04c0\">\n",
                            "  <thead>\n",
                            "    <tr>\n",
                            "      <th class=\"blank level0\" >&nbsp;</th>\n",
                            "      <th id=\"T_c04c0_level0_col0\" class=\"col_heading level0 col0\" >intro_informatica</th>\n",
                            "      <th id=\"T_c04c0_level0_col1\" class=\"col_heading level0 col1\" >logica</th>\n",
                            "    </tr>\n",
                            "  </thead>\n",
                            "  <tbody>\n",
                            "    <tr>\n",
                            "      <th id=\"T_c04c0_level0_row0\" class=\"row_heading level0 row0\" >intro_informatica</th>\n",
                            "      <td id=\"T_c04c0_row0_col0\" class=\"data row0 col0\" >1.000000</td>\n",
                            "      <td id=\"T_c04c0_row0_col1\" class=\"data row0 col1\" >0.801520</td>\n",
                            "    </tr>\n",
                            "    <tr>\n",
                            "      <th id=\"T_c04c0_level0_row1\" class=\"row_heading level0 row1\" >logica</th>\n",
                            "      <td id=\"T_c04c0_row1_col0\" class=\"data row1 col0\" >0.801520</td>\n",
                            "      <td id=\"T_c04c0_row1_col1\" class=\"data row1 col1\" >1.000000</td>\n",
                            "    </tr>\n",
                            "  </tbody>\n",
                            "</table>\n"
                        ],
                        "text/plain": [
                            "<pandas.io.formats.style.Styler at 0x7f530f4a2c50>"
                        ]
                    },
                    "execution_count": 762,
                    "metadata": {},
                    "output_type": "execute_result"
                }
            ],
            "source": [
                "log_cor = pd.merge(intro_informatica, logica, how = 'inner', on = 'discente')\n",
                "log_cor = log_cor.rename(columns={'media_final_x': 'intro_informatica', 'media_final_y': 'logica'})\n",
                "log_cor = log_cor.drop(columns=['discente'])\n",
                "correlacao(log_cor)"
            ]
        },
        {
            "attachments": {},
            "cell_type": "markdown",
            "metadata": {},
            "source": [
                "## Correlação Estrutura de Dados"
            ]
        },
        {
            "attachments": {},
            "cell_type": "markdown",
            "metadata": {},
            "source": [
                "#### Estrutura de Dados -> Programação Orientada à Objetos I"
            ]
        },
        {
            "cell_type": "code",
            "execution_count": 763,
            "metadata": {},
            "outputs": [
                {
                    "name": "stderr",
                    "output_type": "stream",
                    "text": [
                        "/tmp/ipykernel_6400/373976776.py:5: FutureWarning: Styler.applymap has been deprecated. Use Styler.map instead.\n",
                        "  styled_df = corr_df.style.applymap(lambda x: 'background-color: %s' % 'blue' if x > 0.7 else '')\n"
                    ]
                },
                {
                    "data": {
                        "text/html": [
                            "<style type=\"text/css\">\n",
                            "#T_cb2a5_row0_col0, #T_cb2a5_row1_col1 {\n",
                            "  background-color: blue;\n",
                            "}\n",
                            "</style>\n",
                            "<table id=\"T_cb2a5\">\n",
                            "  <thead>\n",
                            "    <tr>\n",
                            "      <th class=\"blank level0\" >&nbsp;</th>\n",
                            "      <th id=\"T_cb2a5_level0_col0\" class=\"col_heading level0 col0\" >poo_1</th>\n",
                            "      <th id=\"T_cb2a5_level0_col1\" class=\"col_heading level0 col1\" >ed</th>\n",
                            "    </tr>\n",
                            "  </thead>\n",
                            "  <tbody>\n",
                            "    <tr>\n",
                            "      <th id=\"T_cb2a5_level0_row0\" class=\"row_heading level0 row0\" >poo_1</th>\n",
                            "      <td id=\"T_cb2a5_row0_col0\" class=\"data row0 col0\" >1.000000</td>\n",
                            "      <td id=\"T_cb2a5_row0_col1\" class=\"data row0 col1\" >0.635872</td>\n",
                            "    </tr>\n",
                            "    <tr>\n",
                            "      <th id=\"T_cb2a5_level0_row1\" class=\"row_heading level0 row1\" >ed</th>\n",
                            "      <td id=\"T_cb2a5_row1_col0\" class=\"data row1 col0\" >0.635872</td>\n",
                            "      <td id=\"T_cb2a5_row1_col1\" class=\"data row1 col1\" >1.000000</td>\n",
                            "    </tr>\n",
                            "  </tbody>\n",
                            "</table>\n"
                        ],
                        "text/plain": [
                            "<pandas.io.formats.style.Styler at 0x7f530f4a0430>"
                        ]
                    },
                    "execution_count": 763,
                    "metadata": {},
                    "output_type": "execute_result"
                }
            ],
            "source": [
                "ed_cor = pd.merge(poo_1, ed, how = 'inner', on = 'discente')\n",
                "ed_cor = ed_cor.rename(columns={'media_final_x': 'poo_1', 'media_final_y': 'ed'})\n",
                "ed_cor = ed_cor.drop(columns=['discente'])\n",
                "correlacao(ed_cor)"
            ]
        },
        {
            "attachments": {},
            "cell_type": "markdown",
            "metadata": {},
            "source": [
                "#### Estrutura de Dados -> Álgebra Linear"
            ]
        },
        {
            "cell_type": "code",
            "execution_count": 764,
            "metadata": {},
            "outputs": [
                {
                    "name": "stderr",
                    "output_type": "stream",
                    "text": [
                        "/tmp/ipykernel_6400/373976776.py:5: FutureWarning: Styler.applymap has been deprecated. Use Styler.map instead.\n",
                        "  styled_df = corr_df.style.applymap(lambda x: 'background-color: %s' % 'blue' if x > 0.7 else '')\n"
                    ]
                },
                {
                    "data": {
                        "text/html": [
                            "<style type=\"text/css\">\n",
                            "#T_e28ec_row0_col0, #T_e28ec_row1_col1 {\n",
                            "  background-color: blue;\n",
                            "}\n",
                            "</style>\n",
                            "<table id=\"T_e28ec\">\n",
                            "  <thead>\n",
                            "    <tr>\n",
                            "      <th class=\"blank level0\" >&nbsp;</th>\n",
                            "      <th id=\"T_e28ec_level0_col0\" class=\"col_heading level0 col0\" >algebra</th>\n",
                            "      <th id=\"T_e28ec_level0_col1\" class=\"col_heading level0 col1\" >ed</th>\n",
                            "    </tr>\n",
                            "  </thead>\n",
                            "  <tbody>\n",
                            "    <tr>\n",
                            "      <th id=\"T_e28ec_level0_row0\" class=\"row_heading level0 row0\" >algebra</th>\n",
                            "      <td id=\"T_e28ec_row0_col0\" class=\"data row0 col0\" >1.000000</td>\n",
                            "      <td id=\"T_e28ec_row0_col1\" class=\"data row0 col1\" >0.488632</td>\n",
                            "    </tr>\n",
                            "    <tr>\n",
                            "      <th id=\"T_e28ec_level0_row1\" class=\"row_heading level0 row1\" >ed</th>\n",
                            "      <td id=\"T_e28ec_row1_col0\" class=\"data row1 col0\" >0.488632</td>\n",
                            "      <td id=\"T_e28ec_row1_col1\" class=\"data row1 col1\" >1.000000</td>\n",
                            "    </tr>\n",
                            "  </tbody>\n",
                            "</table>\n"
                        ],
                        "text/plain": [
                            "<pandas.io.formats.style.Styler at 0x7f530f4a24a0>"
                        ]
                    },
                    "execution_count": 764,
                    "metadata": {},
                    "output_type": "execute_result"
                }
            ],
            "source": [
                "ed_cor = pd.merge(algebra, ed, how = 'inner', on = 'discente')\n",
                "ed_cor = ed_cor.rename(columns={'media_final_x': 'algebra', 'media_final_y': 'ed'})\n",
                "ed_cor = ed_cor.drop(columns=['discente'])\n",
                "correlacao(ed_cor)"
            ]
        },
        {
            "attachments": {},
            "cell_type": "markdown",
            "metadata": {},
            "source": [
                "#### Estrutura de Dados -> Organização, Sistemas e Métodos"
            ]
        },
        {
            "cell_type": "code",
            "execution_count": 765,
            "metadata": {},
            "outputs": [
                {
                    "name": "stderr",
                    "output_type": "stream",
                    "text": [
                        "/tmp/ipykernel_6400/373976776.py:5: FutureWarning: Styler.applymap has been deprecated. Use Styler.map instead.\n",
                        "  styled_df = corr_df.style.applymap(lambda x: 'background-color: %s' % 'blue' if x > 0.7 else '')\n"
                    ]
                },
                {
                    "data": {
                        "text/html": [
                            "<style type=\"text/css\">\n",
                            "#T_ff55e_row0_col0, #T_ff55e_row1_col1 {\n",
                            "  background-color: blue;\n",
                            "}\n",
                            "</style>\n",
                            "<table id=\"T_ff55e\">\n",
                            "  <thead>\n",
                            "    <tr>\n",
                            "      <th class=\"blank level0\" >&nbsp;</th>\n",
                            "      <th id=\"T_ff55e_level0_col0\" class=\"col_heading level0 col0\" >osm</th>\n",
                            "      <th id=\"T_ff55e_level0_col1\" class=\"col_heading level0 col1\" >ed</th>\n",
                            "    </tr>\n",
                            "  </thead>\n",
                            "  <tbody>\n",
                            "    <tr>\n",
                            "      <th id=\"T_ff55e_level0_row0\" class=\"row_heading level0 row0\" >osm</th>\n",
                            "      <td id=\"T_ff55e_row0_col0\" class=\"data row0 col0\" >1.000000</td>\n",
                            "      <td id=\"T_ff55e_row0_col1\" class=\"data row0 col1\" >0.554990</td>\n",
                            "    </tr>\n",
                            "    <tr>\n",
                            "      <th id=\"T_ff55e_level0_row1\" class=\"row_heading level0 row1\" >ed</th>\n",
                            "      <td id=\"T_ff55e_row1_col0\" class=\"data row1 col0\" >0.554990</td>\n",
                            "      <td id=\"T_ff55e_row1_col1\" class=\"data row1 col1\" >1.000000</td>\n",
                            "    </tr>\n",
                            "  </tbody>\n",
                            "</table>\n"
                        ],
                        "text/plain": [
                            "<pandas.io.formats.style.Styler at 0x7f530f5b7e80>"
                        ]
                    },
                    "execution_count": 765,
                    "metadata": {},
                    "output_type": "execute_result"
                }
            ],
            "source": [
                "ed_cor = pd.merge(osm, ed, how = 'inner', on = 'discente')\n",
                "ed_cor = ed_cor.rename(columns={'media_final_x': 'osm', 'media_final_y': 'ed'})\n",
                "ed_cor = ed_cor.drop(columns=['discente'])\n",
                "correlacao(ed_cor)"
            ]
        },
        {
            "attachments": {},
            "cell_type": "markdown",
            "metadata": {},
            "source": [
                "#### Estrutura de Dados -> Banco de Dados"
            ]
        },
        {
            "cell_type": "code",
            "execution_count": 766,
            "metadata": {},
            "outputs": [
                {
                    "name": "stderr",
                    "output_type": "stream",
                    "text": [
                        "/tmp/ipykernel_6400/373976776.py:5: FutureWarning: Styler.applymap has been deprecated. Use Styler.map instead.\n",
                        "  styled_df = corr_df.style.applymap(lambda x: 'background-color: %s' % 'blue' if x > 0.7 else '')\n"
                    ]
                },
                {
                    "data": {
                        "text/html": [
                            "<style type=\"text/css\">\n",
                            "#T_7525f_row0_col0, #T_7525f_row1_col1 {\n",
                            "  background-color: blue;\n",
                            "}\n",
                            "</style>\n",
                            "<table id=\"T_7525f\">\n",
                            "  <thead>\n",
                            "    <tr>\n",
                            "      <th class=\"blank level0\" >&nbsp;</th>\n",
                            "      <th id=\"T_7525f_level0_col0\" class=\"col_heading level0 col0\" >bd_1</th>\n",
                            "      <th id=\"T_7525f_level0_col1\" class=\"col_heading level0 col1\" >ed</th>\n",
                            "    </tr>\n",
                            "  </thead>\n",
                            "  <tbody>\n",
                            "    <tr>\n",
                            "      <th id=\"T_7525f_level0_row0\" class=\"row_heading level0 row0\" >bd_1</th>\n",
                            "      <td id=\"T_7525f_row0_col0\" class=\"data row0 col0\" >1.000000</td>\n",
                            "      <td id=\"T_7525f_row0_col1\" class=\"data row0 col1\" >0.510769</td>\n",
                            "    </tr>\n",
                            "    <tr>\n",
                            "      <th id=\"T_7525f_level0_row1\" class=\"row_heading level0 row1\" >ed</th>\n",
                            "      <td id=\"T_7525f_row1_col0\" class=\"data row1 col0\" >0.510769</td>\n",
                            "      <td id=\"T_7525f_row1_col1\" class=\"data row1 col1\" >1.000000</td>\n",
                            "    </tr>\n",
                            "  </tbody>\n",
                            "</table>\n"
                        ],
                        "text/plain": [
                            "<pandas.io.formats.style.Styler at 0x7f530f4a3370>"
                        ]
                    },
                    "execution_count": 766,
                    "metadata": {},
                    "output_type": "execute_result"
                }
            ],
            "source": [
                "ed_cor = pd.merge(bd_1, ed, how = 'inner', on = 'discente')\n",
                "ed_cor = ed_cor.rename(columns={'media_final_x': 'bd_1', 'media_final_y': 'ed'})\n",
                "ed_cor = ed_cor.drop(columns=['discente'])\n",
                "correlacao(ed_cor)"
            ]
        },
        {
            "attachments": {},
            "cell_type": "markdown",
            "metadata": {},
            "source": [
                "## Correlação Arquitetura de Computadores"
            ]
        },
        {
            "attachments": {},
            "cell_type": "markdown",
            "metadata": {},
            "source": [
                "#### Arquitetura de Computadores -> Programação Orientada à Objetos I"
            ]
        },
        {
            "cell_type": "code",
            "execution_count": 767,
            "metadata": {},
            "outputs": [
                {
                    "name": "stderr",
                    "output_type": "stream",
                    "text": [
                        "/tmp/ipykernel_6400/373976776.py:5: FutureWarning: Styler.applymap has been deprecated. Use Styler.map instead.\n",
                        "  styled_df = corr_df.style.applymap(lambda x: 'background-color: %s' % 'blue' if x > 0.7 else '')\n"
                    ]
                },
                {
                    "data": {
                        "text/html": [
                            "<style type=\"text/css\">\n",
                            "#T_6e189_row0_col0, #T_6e189_row1_col1 {\n",
                            "  background-color: blue;\n",
                            "}\n",
                            "</style>\n",
                            "<table id=\"T_6e189\">\n",
                            "  <thead>\n",
                            "    <tr>\n",
                            "      <th class=\"blank level0\" >&nbsp;</th>\n",
                            "      <th id=\"T_6e189_level0_col0\" class=\"col_heading level0 col0\" >poo_1</th>\n",
                            "      <th id=\"T_6e189_level0_col1\" class=\"col_heading level0 col1\" >arquitetura</th>\n",
                            "    </tr>\n",
                            "  </thead>\n",
                            "  <tbody>\n",
                            "    <tr>\n",
                            "      <th id=\"T_6e189_level0_row0\" class=\"row_heading level0 row0\" >poo_1</th>\n",
                            "      <td id=\"T_6e189_row0_col0\" class=\"data row0 col0\" >1.000000</td>\n",
                            "      <td id=\"T_6e189_row0_col1\" class=\"data row0 col1\" >0.604187</td>\n",
                            "    </tr>\n",
                            "    <tr>\n",
                            "      <th id=\"T_6e189_level0_row1\" class=\"row_heading level0 row1\" >arquitetura</th>\n",
                            "      <td id=\"T_6e189_row1_col0\" class=\"data row1 col0\" >0.604187</td>\n",
                            "      <td id=\"T_6e189_row1_col1\" class=\"data row1 col1\" >1.000000</td>\n",
                            "    </tr>\n",
                            "  </tbody>\n",
                            "</table>\n"
                        ],
                        "text/plain": [
                            "<pandas.io.formats.style.Styler at 0x7f530f550610>"
                        ]
                    },
                    "execution_count": 767,
                    "metadata": {},
                    "output_type": "execute_result"
                }
            ],
            "source": [
                "arqt_cor = pd.merge(poo_1, arquitetura, how = 'inner', on = 'discente')\n",
                "arqt_cor = arqt_cor.rename(columns={'media_final_x': 'poo_1', 'media_final_y': 'arquitetura'})\n",
                "arqt_cor = arqt_cor.drop(columns=['discente'])\n",
                "correlacao(arqt_cor)"
            ]
        },
        {
            "attachments": {},
            "cell_type": "markdown",
            "metadata": {},
            "source": [
                "#### Arquitetura de Computadores -> Estrutura de Dados"
            ]
        },
        {
            "cell_type": "code",
            "execution_count": 768,
            "metadata": {},
            "outputs": [
                {
                    "name": "stderr",
                    "output_type": "stream",
                    "text": [
                        "/tmp/ipykernel_6400/373976776.py:5: FutureWarning: Styler.applymap has been deprecated. Use Styler.map instead.\n",
                        "  styled_df = corr_df.style.applymap(lambda x: 'background-color: %s' % 'blue' if x > 0.7 else '')\n"
                    ]
                },
                {
                    "data": {
                        "text/html": [
                            "<style type=\"text/css\">\n",
                            "#T_332f8_row0_col0, #T_332f8_row1_col1 {\n",
                            "  background-color: blue;\n",
                            "}\n",
                            "</style>\n",
                            "<table id=\"T_332f8\">\n",
                            "  <thead>\n",
                            "    <tr>\n",
                            "      <th class=\"blank level0\" >&nbsp;</th>\n",
                            "      <th id=\"T_332f8_level0_col0\" class=\"col_heading level0 col0\" >ed</th>\n",
                            "      <th id=\"T_332f8_level0_col1\" class=\"col_heading level0 col1\" >arquitetura</th>\n",
                            "    </tr>\n",
                            "  </thead>\n",
                            "  <tbody>\n",
                            "    <tr>\n",
                            "      <th id=\"T_332f8_level0_row0\" class=\"row_heading level0 row0\" >ed</th>\n",
                            "      <td id=\"T_332f8_row0_col0\" class=\"data row0 col0\" >1.000000</td>\n",
                            "      <td id=\"T_332f8_row0_col1\" class=\"data row0 col1\" >0.617393</td>\n",
                            "    </tr>\n",
                            "    <tr>\n",
                            "      <th id=\"T_332f8_level0_row1\" class=\"row_heading level0 row1\" >arquitetura</th>\n",
                            "      <td id=\"T_332f8_row1_col0\" class=\"data row1 col0\" >0.617393</td>\n",
                            "      <td id=\"T_332f8_row1_col1\" class=\"data row1 col1\" >1.000000</td>\n",
                            "    </tr>\n",
                            "  </tbody>\n",
                            "</table>\n"
                        ],
                        "text/plain": [
                            "<pandas.io.formats.style.Styler at 0x7f530f4a0190>"
                        ]
                    },
                    "execution_count": 768,
                    "metadata": {},
                    "output_type": "execute_result"
                }
            ],
            "source": [
                "arqt_cor = pd.merge(ed, arquitetura, how = 'inner', on = 'discente')\n",
                "arqt_cor = arqt_cor.rename(columns={'media_final_x': 'ed', 'media_final_y': 'arquitetura'})\n",
                "arqt_cor = arqt_cor.drop(columns=['discente'])\n",
                "correlacao(arqt_cor)"
            ]
        },
        {
            "attachments": {},
            "cell_type": "markdown",
            "metadata": {},
            "source": [
                "#### Arquitetura de Computadores -> Banco de Dados"
            ]
        },
        {
            "cell_type": "code",
            "execution_count": 769,
            "metadata": {},
            "outputs": [
                {
                    "name": "stderr",
                    "output_type": "stream",
                    "text": [
                        "/tmp/ipykernel_6400/373976776.py:5: FutureWarning: Styler.applymap has been deprecated. Use Styler.map instead.\n",
                        "  styled_df = corr_df.style.applymap(lambda x: 'background-color: %s' % 'blue' if x > 0.7 else '')\n"
                    ]
                },
                {
                    "data": {
                        "text/html": [
                            "<style type=\"text/css\">\n",
                            "#T_73313_row0_col0, #T_73313_row1_col1 {\n",
                            "  background-color: blue;\n",
                            "}\n",
                            "</style>\n",
                            "<table id=\"T_73313\">\n",
                            "  <thead>\n",
                            "    <tr>\n",
                            "      <th class=\"blank level0\" >&nbsp;</th>\n",
                            "      <th id=\"T_73313_level0_col0\" class=\"col_heading level0 col0\" >bd_1</th>\n",
                            "      <th id=\"T_73313_level0_col1\" class=\"col_heading level0 col1\" >arquitetura</th>\n",
                            "    </tr>\n",
                            "  </thead>\n",
                            "  <tbody>\n",
                            "    <tr>\n",
                            "      <th id=\"T_73313_level0_row0\" class=\"row_heading level0 row0\" >bd_1</th>\n",
                            "      <td id=\"T_73313_row0_col0\" class=\"data row0 col0\" >1.000000</td>\n",
                            "      <td id=\"T_73313_row0_col1\" class=\"data row0 col1\" >0.579615</td>\n",
                            "    </tr>\n",
                            "    <tr>\n",
                            "      <th id=\"T_73313_level0_row1\" class=\"row_heading level0 row1\" >arquitetura</th>\n",
                            "      <td id=\"T_73313_row1_col0\" class=\"data row1 col0\" >0.579615</td>\n",
                            "      <td id=\"T_73313_row1_col1\" class=\"data row1 col1\" >1.000000</td>\n",
                            "    </tr>\n",
                            "  </tbody>\n",
                            "</table>\n"
                        ],
                        "text/plain": [
                            "<pandas.io.formats.style.Styler at 0x7f530f4a39a0>"
                        ]
                    },
                    "execution_count": 769,
                    "metadata": {},
                    "output_type": "execute_result"
                }
            ],
            "source": [
                "arqt_cor = pd.merge(bd_1, arquitetura, how = 'inner', on = 'discente')\n",
                "arqt_cor = arqt_cor.rename(columns={'media_final_x': 'bd_1', 'media_final_y': 'arquitetura'})\n",
                "arqt_cor = arqt_cor.drop(columns=['discente'])\n",
                "correlacao(arqt_cor)"
            ]
        },
        {
            "attachments": {},
            "cell_type": "markdown",
            "metadata": {},
            "source": [
                "## Correlação Algoritmo e Lógica de Programação"
            ]
        },
        {
            "attachments": {},
            "cell_type": "markdown",
            "metadata": {},
            "source": [
                "#### Algoritmo e Lógica de Programação -> Fundamentos de Matemática"
            ]
        },
        {
            "cell_type": "code",
            "execution_count": 770,
            "metadata": {},
            "outputs": [
                {
                    "name": "stderr",
                    "output_type": "stream",
                    "text": [
                        "/tmp/ipykernel_6400/373976776.py:5: FutureWarning: Styler.applymap has been deprecated. Use Styler.map instead.\n",
                        "  styled_df = corr_df.style.applymap(lambda x: 'background-color: %s' % 'blue' if x > 0.7 else '')\n"
                    ]
                },
                {
                    "data": {
                        "text/html": [
                            "<style type=\"text/css\">\n",
                            "#T_3bcc4_row0_col0, #T_3bcc4_row0_col1, #T_3bcc4_row1_col0, #T_3bcc4_row1_col1 {\n",
                            "  background-color: blue;\n",
                            "}\n",
                            "</style>\n",
                            "<table id=\"T_3bcc4\">\n",
                            "  <thead>\n",
                            "    <tr>\n",
                            "      <th class=\"blank level0\" >&nbsp;</th>\n",
                            "      <th id=\"T_3bcc4_level0_col0\" class=\"col_heading level0 col0\" >fundamentos_mat</th>\n",
                            "      <th id=\"T_3bcc4_level0_col1\" class=\"col_heading level0 col1\" >algoritmo</th>\n",
                            "    </tr>\n",
                            "  </thead>\n",
                            "  <tbody>\n",
                            "    <tr>\n",
                            "      <th id=\"T_3bcc4_level0_row0\" class=\"row_heading level0 row0\" >fundamentos_mat</th>\n",
                            "      <td id=\"T_3bcc4_row0_col0\" class=\"data row0 col0\" >1.000000</td>\n",
                            "      <td id=\"T_3bcc4_row0_col1\" class=\"data row0 col1\" >0.709215</td>\n",
                            "    </tr>\n",
                            "    <tr>\n",
                            "      <th id=\"T_3bcc4_level0_row1\" class=\"row_heading level0 row1\" >algoritmo</th>\n",
                            "      <td id=\"T_3bcc4_row1_col0\" class=\"data row1 col0\" >0.709215</td>\n",
                            "      <td id=\"T_3bcc4_row1_col1\" class=\"data row1 col1\" >1.000000</td>\n",
                            "    </tr>\n",
                            "  </tbody>\n",
                            "</table>\n"
                        ],
                        "text/plain": [
                            "<pandas.io.formats.style.Styler at 0x7f530f551de0>"
                        ]
                    },
                    "execution_count": 770,
                    "metadata": {},
                    "output_type": "execute_result"
                }
            ],
            "source": [
                "alp_cor = pd.merge(fundamentos_mat, algoritmo, how = 'inner', on = 'discente')\n",
                "alp_cor = alp_cor.rename(columns={'media_final_x': 'fundamentos_mat', 'media_final_y': 'algoritmo'})\n",
                "alp_cor = alp_cor.drop(columns=['discente'])\n",
                "correlacao(alp_cor)"
            ]
        },
        {
            "attachments": {},
            "cell_type": "markdown",
            "metadata": {},
            "source": [
                "#### Algoritmo e Lógica de Programação -> Teoria Geral da Administração"
            ]
        },
        {
            "cell_type": "code",
            "execution_count": 771,
            "metadata": {},
            "outputs": [
                {
                    "name": "stderr",
                    "output_type": "stream",
                    "text": [
                        "/tmp/ipykernel_6400/373976776.py:5: FutureWarning: Styler.applymap has been deprecated. Use Styler.map instead.\n",
                        "  styled_df = corr_df.style.applymap(lambda x: 'background-color: %s' % 'blue' if x > 0.7 else '')\n"
                    ]
                },
                {
                    "data": {
                        "text/html": [
                            "<style type=\"text/css\">\n",
                            "#T_9b5f6_row0_col0, #T_9b5f6_row0_col1, #T_9b5f6_row1_col0, #T_9b5f6_row1_col1 {\n",
                            "  background-color: blue;\n",
                            "}\n",
                            "</style>\n",
                            "<table id=\"T_9b5f6\">\n",
                            "  <thead>\n",
                            "    <tr>\n",
                            "      <th class=\"blank level0\" >&nbsp;</th>\n",
                            "      <th id=\"T_9b5f6_level0_col0\" class=\"col_heading level0 col0\" >tga</th>\n",
                            "      <th id=\"T_9b5f6_level0_col1\" class=\"col_heading level0 col1\" >algoritmo</th>\n",
                            "    </tr>\n",
                            "  </thead>\n",
                            "  <tbody>\n",
                            "    <tr>\n",
                            "      <th id=\"T_9b5f6_level0_row0\" class=\"row_heading level0 row0\" >tga</th>\n",
                            "      <td id=\"T_9b5f6_row0_col0\" class=\"data row0 col0\" >1.000000</td>\n",
                            "      <td id=\"T_9b5f6_row0_col1\" class=\"data row0 col1\" >0.709225</td>\n",
                            "    </tr>\n",
                            "    <tr>\n",
                            "      <th id=\"T_9b5f6_level0_row1\" class=\"row_heading level0 row1\" >algoritmo</th>\n",
                            "      <td id=\"T_9b5f6_row1_col0\" class=\"data row1 col0\" >0.709225</td>\n",
                            "      <td id=\"T_9b5f6_row1_col1\" class=\"data row1 col1\" >1.000000</td>\n",
                            "    </tr>\n",
                            "  </tbody>\n",
                            "</table>\n"
                        ],
                        "text/plain": [
                            "<pandas.io.formats.style.Styler at 0x7f530f4a28c0>"
                        ]
                    },
                    "execution_count": 771,
                    "metadata": {},
                    "output_type": "execute_result"
                }
            ],
            "source": [
                "alp_cor = pd.merge(tga, algoritmo, how = 'inner', on = 'discente')\n",
                "alp_cor = alp_cor.rename(columns={'media_final_x': 'tga', 'media_final_y': 'algoritmo'})\n",
                "alp_cor = alp_cor.drop(columns=['discente'])\n",
                "correlacao(alp_cor)"
            ]
        },
        {
            "attachments": {},
            "cell_type": "markdown",
            "metadata": {},
            "source": [
                "#### Algoritmo e Lógica de Programação -> Introdução à Informática"
            ]
        },
        {
            "cell_type": "code",
            "execution_count": 772,
            "metadata": {},
            "outputs": [
                {
                    "name": "stderr",
                    "output_type": "stream",
                    "text": [
                        "/tmp/ipykernel_6400/373976776.py:5: FutureWarning: Styler.applymap has been deprecated. Use Styler.map instead.\n",
                        "  styled_df = corr_df.style.applymap(lambda x: 'background-color: %s' % 'blue' if x > 0.7 else '')\n"
                    ]
                },
                {
                    "data": {
                        "text/html": [
                            "<style type=\"text/css\">\n",
                            "#T_b4a2a_row0_col0, #T_b4a2a_row0_col1, #T_b4a2a_row1_col0, #T_b4a2a_row1_col1 {\n",
                            "  background-color: blue;\n",
                            "}\n",
                            "</style>\n",
                            "<table id=\"T_b4a2a\">\n",
                            "  <thead>\n",
                            "    <tr>\n",
                            "      <th class=\"blank level0\" >&nbsp;</th>\n",
                            "      <th id=\"T_b4a2a_level0_col0\" class=\"col_heading level0 col0\" >intro_informatica</th>\n",
                            "      <th id=\"T_b4a2a_level0_col1\" class=\"col_heading level0 col1\" >algoritmo</th>\n",
                            "    </tr>\n",
                            "  </thead>\n",
                            "  <tbody>\n",
                            "    <tr>\n",
                            "      <th id=\"T_b4a2a_level0_row0\" class=\"row_heading level0 row0\" >intro_informatica</th>\n",
                            "      <td id=\"T_b4a2a_row0_col0\" class=\"data row0 col0\" >1.000000</td>\n",
                            "      <td id=\"T_b4a2a_row0_col1\" class=\"data row0 col1\" >0.794427</td>\n",
                            "    </tr>\n",
                            "    <tr>\n",
                            "      <th id=\"T_b4a2a_level0_row1\" class=\"row_heading level0 row1\" >algoritmo</th>\n",
                            "      <td id=\"T_b4a2a_row1_col0\" class=\"data row1 col0\" >0.794427</td>\n",
                            "      <td id=\"T_b4a2a_row1_col1\" class=\"data row1 col1\" >1.000000</td>\n",
                            "    </tr>\n",
                            "  </tbody>\n",
                            "</table>\n"
                        ],
                        "text/plain": [
                            "<pandas.io.formats.style.Styler at 0x7f530f4a2830>"
                        ]
                    },
                    "execution_count": 772,
                    "metadata": {},
                    "output_type": "execute_result"
                }
            ],
            "source": [
                "alp_cor = pd.merge(intro_informatica, algoritmo, how = 'inner', on = 'discente')\n",
                "alp_cor = alp_cor.rename(columns={'media_final_x': 'intro_informatica', 'media_final_y': 'algoritmo'})\n",
                "alp_cor = alp_cor.drop(columns=['discente'])\n",
                "correlacao(alp_cor)"
            ]
        },
        {
            "attachments": {},
            "cell_type": "markdown",
            "metadata": {},
            "source": [
                "#### Algoritmo e Lógica de Programação -> Lógica"
            ]
        },
        {
            "cell_type": "code",
            "execution_count": 773,
            "metadata": {},
            "outputs": [
                {
                    "name": "stderr",
                    "output_type": "stream",
                    "text": [
                        "/tmp/ipykernel_6400/373976776.py:5: FutureWarning: Styler.applymap has been deprecated. Use Styler.map instead.\n",
                        "  styled_df = corr_df.style.applymap(lambda x: 'background-color: %s' % 'blue' if x > 0.7 else '')\n"
                    ]
                },
                {
                    "data": {
                        "text/html": [
                            "<style type=\"text/css\">\n",
                            "#T_fe015_row0_col0, #T_fe015_row0_col1, #T_fe015_row1_col0, #T_fe015_row1_col1 {\n",
                            "  background-color: blue;\n",
                            "}\n",
                            "</style>\n",
                            "<table id=\"T_fe015\">\n",
                            "  <thead>\n",
                            "    <tr>\n",
                            "      <th class=\"blank level0\" >&nbsp;</th>\n",
                            "      <th id=\"T_fe015_level0_col0\" class=\"col_heading level0 col0\" >logica</th>\n",
                            "      <th id=\"T_fe015_level0_col1\" class=\"col_heading level0 col1\" >algoritmo</th>\n",
                            "    </tr>\n",
                            "  </thead>\n",
                            "  <tbody>\n",
                            "    <tr>\n",
                            "      <th id=\"T_fe015_level0_row0\" class=\"row_heading level0 row0\" >logica</th>\n",
                            "      <td id=\"T_fe015_row0_col0\" class=\"data row0 col0\" >1.000000</td>\n",
                            "      <td id=\"T_fe015_row0_col1\" class=\"data row0 col1\" >0.826162</td>\n",
                            "    </tr>\n",
                            "    <tr>\n",
                            "      <th id=\"T_fe015_level0_row1\" class=\"row_heading level0 row1\" >algoritmo</th>\n",
                            "      <td id=\"T_fe015_row1_col0\" class=\"data row1 col0\" >0.826162</td>\n",
                            "      <td id=\"T_fe015_row1_col1\" class=\"data row1 col1\" >1.000000</td>\n",
                            "    </tr>\n",
                            "  </tbody>\n",
                            "</table>\n"
                        ],
                        "text/plain": [
                            "<pandas.io.formats.style.Styler at 0x7f530f4a1ff0>"
                        ]
                    },
                    "execution_count": 773,
                    "metadata": {},
                    "output_type": "execute_result"
                }
            ],
            "source": [
                "alp_cor = pd.merge(logica, algoritmo, how = 'inner', on = 'discente')\n",
                "alp_cor = alp_cor.rename(columns={'media_final_x': 'logica', 'media_final_y': 'algoritmo'})\n",
                "alp_cor = alp_cor.drop(columns=['discente'])\n",
                "correlacao(alp_cor)"
            ]
        },
        {
            "attachments": {},
            "cell_type": "markdown",
            "metadata": {},
            "source": [
                "## Correlação Programação Orientada à Objetos I"
            ]
        },
        {
            "attachments": {},
            "cell_type": "markdown",
            "metadata": {},
            "source": [
                "#### Programação Orientada à Objetos I -> Estrutura de Dados"
            ]
        },
        {
            "cell_type": "code",
            "execution_count": 774,
            "metadata": {},
            "outputs": [
                {
                    "name": "stderr",
                    "output_type": "stream",
                    "text": [
                        "/tmp/ipykernel_6400/373976776.py:5: FutureWarning: Styler.applymap has been deprecated. Use Styler.map instead.\n",
                        "  styled_df = corr_df.style.applymap(lambda x: 'background-color: %s' % 'blue' if x > 0.7 else '')\n"
                    ]
                },
                {
                    "data": {
                        "text/html": [
                            "<style type=\"text/css\">\n",
                            "#T_ef72c_row0_col0, #T_ef72c_row1_col1 {\n",
                            "  background-color: blue;\n",
                            "}\n",
                            "</style>\n",
                            "<table id=\"T_ef72c\">\n",
                            "  <thead>\n",
                            "    <tr>\n",
                            "      <th class=\"blank level0\" >&nbsp;</th>\n",
                            "      <th id=\"T_ef72c_level0_col0\" class=\"col_heading level0 col0\" >ed</th>\n",
                            "      <th id=\"T_ef72c_level0_col1\" class=\"col_heading level0 col1\" >poo_1</th>\n",
                            "    </tr>\n",
                            "  </thead>\n",
                            "  <tbody>\n",
                            "    <tr>\n",
                            "      <th id=\"T_ef72c_level0_row0\" class=\"row_heading level0 row0\" >ed</th>\n",
                            "      <td id=\"T_ef72c_row0_col0\" class=\"data row0 col0\" >1.000000</td>\n",
                            "      <td id=\"T_ef72c_row0_col1\" class=\"data row0 col1\" >0.635872</td>\n",
                            "    </tr>\n",
                            "    <tr>\n",
                            "      <th id=\"T_ef72c_level0_row1\" class=\"row_heading level0 row1\" >poo_1</th>\n",
                            "      <td id=\"T_ef72c_row1_col0\" class=\"data row1 col0\" >0.635872</td>\n",
                            "      <td id=\"T_ef72c_row1_col1\" class=\"data row1 col1\" >1.000000</td>\n",
                            "    </tr>\n",
                            "  </tbody>\n",
                            "</table>\n"
                        ],
                        "text/plain": [
                            "<pandas.io.formats.style.Styler at 0x7f530f5523b0>"
                        ]
                    },
                    "execution_count": 774,
                    "metadata": {},
                    "output_type": "execute_result"
                }
            ],
            "source": [
                "pro_oo1_cor = pd.merge(ed, poo_1, how = 'inner', on = 'discente')\n",
                "pro_oo1_cor = pro_oo1_cor.rename(columns={'media_final_x': 'ed', 'media_final_y': 'poo_1'})\n",
                "pro_oo1_cor = pro_oo1_cor.drop(columns=['discente'])\n",
                "correlacao(pro_oo1_cor)"
            ]
        },
        {
            "attachments": {},
            "cell_type": "markdown",
            "metadata": {},
            "source": [
                "#### Programação Orientada à Objetos I -> Organização, Sistemas e Métodos"
            ]
        },
        {
            "cell_type": "code",
            "execution_count": 775,
            "metadata": {},
            "outputs": [
                {
                    "name": "stderr",
                    "output_type": "stream",
                    "text": [
                        "/tmp/ipykernel_6400/373976776.py:5: FutureWarning: Styler.applymap has been deprecated. Use Styler.map instead.\n",
                        "  styled_df = corr_df.style.applymap(lambda x: 'background-color: %s' % 'blue' if x > 0.7 else '')\n"
                    ]
                },
                {
                    "data": {
                        "text/html": [
                            "<style type=\"text/css\">\n",
                            "#T_49b34_row0_col0, #T_49b34_row1_col1 {\n",
                            "  background-color: blue;\n",
                            "}\n",
                            "</style>\n",
                            "<table id=\"T_49b34\">\n",
                            "  <thead>\n",
                            "    <tr>\n",
                            "      <th class=\"blank level0\" >&nbsp;</th>\n",
                            "      <th id=\"T_49b34_level0_col0\" class=\"col_heading level0 col0\" >osm</th>\n",
                            "      <th id=\"T_49b34_level0_col1\" class=\"col_heading level0 col1\" >poo_1</th>\n",
                            "    </tr>\n",
                            "  </thead>\n",
                            "  <tbody>\n",
                            "    <tr>\n",
                            "      <th id=\"T_49b34_level0_row0\" class=\"row_heading level0 row0\" >osm</th>\n",
                            "      <td id=\"T_49b34_row0_col0\" class=\"data row0 col0\" >1.000000</td>\n",
                            "      <td id=\"T_49b34_row0_col1\" class=\"data row0 col1\" >0.535896</td>\n",
                            "    </tr>\n",
                            "    <tr>\n",
                            "      <th id=\"T_49b34_level0_row1\" class=\"row_heading level0 row1\" >poo_1</th>\n",
                            "      <td id=\"T_49b34_row1_col0\" class=\"data row1 col0\" >0.535896</td>\n",
                            "      <td id=\"T_49b34_row1_col1\" class=\"data row1 col1\" >1.000000</td>\n",
                            "    </tr>\n",
                            "  </tbody>\n",
                            "</table>\n"
                        ],
                        "text/plain": [
                            "<pandas.io.formats.style.Styler at 0x7f530f553850>"
                        ]
                    },
                    "execution_count": 775,
                    "metadata": {},
                    "output_type": "execute_result"
                }
            ],
            "source": [
                "pro_oo1_cor = pd.merge(osm, poo_1, how = 'inner', on = 'discente')\n",
                "pro_oo1_cor = pro_oo1_cor.rename(columns={'media_final_x': 'osm', 'media_final_y': 'poo_1'})\n",
                "pro_oo1_cor = pro_oo1_cor.drop(columns=['discente'])\n",
                "correlacao(pro_oo1_cor)"
            ]
        }
    ],
    "metadata": {
        "kernelspec": {
            "display_name": "Python 3",
            "language": "python",
            "name": "python3"
        },
        "language_info": {
            "codemirror_mode": {
                "name": "ipython",
                "version": 3
            },
            "file_extension": ".py",
            "mimetype": "text/x-python",
            "name": "python",
            "nbconvert_exporter": "python",
            "pygments_lexer": "ipython3",
            "version": "3.10.12"
        },
        "orig_nbformat": 4,
        "vscode": {
            "interpreter": {
                "hash": "916dbcbb3f70747c44a77c7bcd40155683ae19c65e1c03b4aa3499c5328201f1"
            }
        }
    },
    "nbformat": 4,
    "nbformat_minor": 2
}
