{
    "cells": [
        {
            "attachments": {},
            "cell_type": "markdown",
            "metadata": {},
            "source": [
                "Imports"
            ]
        },
        {
            "cell_type": "code",
            "execution_count": 200,
            "metadata": {},
            "outputs": [],
            "source": [
                "import pandas as pd\n",
                "import csv\n",
                "import numpy as np\n",
                "import matplotlib.pyplot as plt\n",
                "import seaborn as sns\n",
                "\n",
                "from sklearn.metrics import r2_score\n",
                "from sklearn.metrics import mean_absolute_error\n",
                "from sklearn.metrics import mean_squared_error\n",
                "from sklearn.linear_model import LinearRegression"
            ]
        },
        {
            "attachments": {},
            "cell_type": "markdown",
            "metadata": {},
            "source": [
                "Leitura do arquivo em csv e carregamento desses dados em um DataFrame usando o ponto e vírgula como separador."
            ]
        },
        {
            "cell_type": "code",
            "execution_count": 201,
            "metadata": {},
            "outputs": [],
            "source": [
                "df_dados = pd.read_csv('dataframe-bsi-2009-2022.csv', sep=';')"
            ]
        },
        {
            "attachments": {},
            "cell_type": "markdown",
            "metadata": {},
            "source": [
                "Convertendo dados da coluna media_final para coluna do tipo numérico"
            ]
        },
        {
            "cell_type": "code",
            "execution_count": 202,
            "metadata": {},
            "outputs": [
                {
                    "data": {
                        "text/html": [
                            "<div>\n",
                            "<style scoped>\n",
                            "    .dataframe tbody tr th:only-of-type {\n",
                            "        vertical-align: middle;\n",
                            "    }\n",
                            "\n",
                            "    .dataframe tbody tr th {\n",
                            "        vertical-align: top;\n",
                            "    }\n",
                            "\n",
                            "    .dataframe thead th {\n",
                            "        text-align: right;\n",
                            "    }\n",
                            "</style>\n",
                            "<table border=\"1\" class=\"dataframe\">\n",
                            "  <thead>\n",
                            "    <tr style=\"text-align: right;\">\n",
                            "      <th></th>\n",
                            "      <th>discente</th>\n",
                            "      <th>unidade</th>\n",
                            "      <th>media_final</th>\n",
                            "      <th>descricao</th>\n",
                            "      <th>ano</th>\n",
                            "      <th>id_componente</th>\n",
                            "      <th>nome</th>\n",
                            "      <th>sexo</th>\n",
                            "      <th>ano_nascimento</th>\n",
                            "      <th>ano_ingresso</th>\n",
                            "      <th>status</th>\n",
                            "    </tr>\n",
                            "  </thead>\n",
                            "  <tbody>\n",
                            "    <tr>\n",
                            "      <th>0</th>\n",
                            "      <td>afba64c0118bfcc8d5b3987e725ed545</td>\n",
                            "      <td>1.0</td>\n",
                            "      <td>1.5</td>\n",
                            "      <td>REPROVADO</td>\n",
                            "      <td>20091</td>\n",
                            "      <td>2037000</td>\n",
                            "      <td>ALGORITMOS E LÓGICA DE PROGRAMAÇÃO</td>\n",
                            "      <td>M</td>\n",
                            "      <td>1987</td>\n",
                            "      <td>2009</td>\n",
                            "      <td>CANCELADO</td>\n",
                            "    </tr>\n",
                            "    <tr>\n",
                            "      <th>1</th>\n",
                            "      <td>afba64c0118bfcc8d5b3987e725ed545</td>\n",
                            "      <td>2.0</td>\n",
                            "      <td>1.5</td>\n",
                            "      <td>REPROVADO</td>\n",
                            "      <td>20091</td>\n",
                            "      <td>2037000</td>\n",
                            "      <td>ALGORITMOS E LÓGICA DE PROGRAMAÇÃO</td>\n",
                            "      <td>M</td>\n",
                            "      <td>1987</td>\n",
                            "      <td>2009</td>\n",
                            "      <td>CANCELADO</td>\n",
                            "    </tr>\n",
                            "    <tr>\n",
                            "      <th>2</th>\n",
                            "      <td>afba64c0118bfcc8d5b3987e725ed545</td>\n",
                            "      <td>3.0</td>\n",
                            "      <td>1.5</td>\n",
                            "      <td>REPROVADO</td>\n",
                            "      <td>20091</td>\n",
                            "      <td>2037000</td>\n",
                            "      <td>ALGORITMOS E LÓGICA DE PROGRAMAÇÃO</td>\n",
                            "      <td>M</td>\n",
                            "      <td>1987</td>\n",
                            "      <td>2009</td>\n",
                            "      <td>CANCELADO</td>\n",
                            "    </tr>\n",
                            "    <tr>\n",
                            "      <th>3</th>\n",
                            "      <td>9526e01da587b20211a39b4e66673aea</td>\n",
                            "      <td>1.0</td>\n",
                            "      <td>9.2</td>\n",
                            "      <td>APROVADO</td>\n",
                            "      <td>20091</td>\n",
                            "      <td>2037000</td>\n",
                            "      <td>ALGORITMOS E LÓGICA DE PROGRAMAÇÃO</td>\n",
                            "      <td>M</td>\n",
                            "      <td>1990</td>\n",
                            "      <td>2009</td>\n",
                            "      <td>CONCLUÍDO</td>\n",
                            "    </tr>\n",
                            "    <tr>\n",
                            "      <th>4</th>\n",
                            "      <td>9526e01da587b20211a39b4e66673aea</td>\n",
                            "      <td>2.0</td>\n",
                            "      <td>9.2</td>\n",
                            "      <td>APROVADO</td>\n",
                            "      <td>20091</td>\n",
                            "      <td>2037000</td>\n",
                            "      <td>ALGORITMOS E LÓGICA DE PROGRAMAÇÃO</td>\n",
                            "      <td>M</td>\n",
                            "      <td>1990</td>\n",
                            "      <td>2009</td>\n",
                            "      <td>CONCLUÍDO</td>\n",
                            "    </tr>\n",
                            "    <tr>\n",
                            "      <th>...</th>\n",
                            "      <td>...</td>\n",
                            "      <td>...</td>\n",
                            "      <td>...</td>\n",
                            "      <td>...</td>\n",
                            "      <td>...</td>\n",
                            "      <td>...</td>\n",
                            "      <td>...</td>\n",
                            "      <td>...</td>\n",
                            "      <td>...</td>\n",
                            "      <td>...</td>\n",
                            "      <td>...</td>\n",
                            "    </tr>\n",
                            "    <tr>\n",
                            "      <th>53197</th>\n",
                            "      <td>e10089f6080d3afa8904437086ea2752</td>\n",
                            "      <td>2.0</td>\n",
                            "      <td>9.3</td>\n",
                            "      <td>APROVADO</td>\n",
                            "      <td>20222</td>\n",
                            "      <td>2050107</td>\n",
                            "      <td>DIREITO E LEGISLAÇÃO SOCIAL</td>\n",
                            "      <td>M</td>\n",
                            "      <td>2002</td>\n",
                            "      <td>2019</td>\n",
                            "      <td>ATIVO</td>\n",
                            "    </tr>\n",
                            "    <tr>\n",
                            "      <th>53198</th>\n",
                            "      <td>e10089f6080d3afa8904437086ea2752</td>\n",
                            "      <td>3.0</td>\n",
                            "      <td>9.3</td>\n",
                            "      <td>APROVADO</td>\n",
                            "      <td>20222</td>\n",
                            "      <td>2050107</td>\n",
                            "      <td>DIREITO E LEGISLAÇÃO SOCIAL</td>\n",
                            "      <td>M</td>\n",
                            "      <td>2002</td>\n",
                            "      <td>2019</td>\n",
                            "      <td>ATIVO</td>\n",
                            "    </tr>\n",
                            "    <tr>\n",
                            "      <th>53199</th>\n",
                            "      <td>943463d2de8c6a60ec5f5d959ba7f1ac</td>\n",
                            "      <td>1.0</td>\n",
                            "      <td>10.0</td>\n",
                            "      <td>APROVADO</td>\n",
                            "      <td>20222</td>\n",
                            "      <td>2054400</td>\n",
                            "      <td>MATEMÁTICA FINANCEIRA</td>\n",
                            "      <td>M</td>\n",
                            "      <td>1999</td>\n",
                            "      <td>2018</td>\n",
                            "      <td>CONCLUÍDO</td>\n",
                            "    </tr>\n",
                            "    <tr>\n",
                            "      <th>53200</th>\n",
                            "      <td>943463d2de8c6a60ec5f5d959ba7f1ac</td>\n",
                            "      <td>2.0</td>\n",
                            "      <td>10.0</td>\n",
                            "      <td>APROVADO</td>\n",
                            "      <td>20222</td>\n",
                            "      <td>2054400</td>\n",
                            "      <td>MATEMÁTICA FINANCEIRA</td>\n",
                            "      <td>M</td>\n",
                            "      <td>1999</td>\n",
                            "      <td>2018</td>\n",
                            "      <td>CONCLUÍDO</td>\n",
                            "    </tr>\n",
                            "    <tr>\n",
                            "      <th>53201</th>\n",
                            "      <td>943463d2de8c6a60ec5f5d959ba7f1ac</td>\n",
                            "      <td>3.0</td>\n",
                            "      <td>10.0</td>\n",
                            "      <td>APROVADO</td>\n",
                            "      <td>20222</td>\n",
                            "      <td>2054400</td>\n",
                            "      <td>MATEMÁTICA FINANCEIRA</td>\n",
                            "      <td>M</td>\n",
                            "      <td>1999</td>\n",
                            "      <td>2018</td>\n",
                            "      <td>CONCLUÍDO</td>\n",
                            "    </tr>\n",
                            "  </tbody>\n",
                            "</table>\n",
                            "<p>53202 rows × 11 columns</p>\n",
                            "</div>"
                        ],
                        "text/plain": [
                            "                               discente  unidade  media_final  descricao  \\\n",
                            "0      afba64c0118bfcc8d5b3987e725ed545      1.0          1.5  REPROVADO   \n",
                            "1      afba64c0118bfcc8d5b3987e725ed545      2.0          1.5  REPROVADO   \n",
                            "2      afba64c0118bfcc8d5b3987e725ed545      3.0          1.5  REPROVADO   \n",
                            "3      9526e01da587b20211a39b4e66673aea      1.0          9.2   APROVADO   \n",
                            "4      9526e01da587b20211a39b4e66673aea      2.0          9.2   APROVADO   \n",
                            "...                                 ...      ...          ...        ...   \n",
                            "53197  e10089f6080d3afa8904437086ea2752      2.0          9.3   APROVADO   \n",
                            "53198  e10089f6080d3afa8904437086ea2752      3.0          9.3   APROVADO   \n",
                            "53199  943463d2de8c6a60ec5f5d959ba7f1ac      1.0         10.0   APROVADO   \n",
                            "53200  943463d2de8c6a60ec5f5d959ba7f1ac      2.0         10.0   APROVADO   \n",
                            "53201  943463d2de8c6a60ec5f5d959ba7f1ac      3.0         10.0   APROVADO   \n",
                            "\n",
                            "         ano  id_componente                                nome sexo  \\\n",
                            "0      20091        2037000  ALGORITMOS E LÓGICA DE PROGRAMAÇÃO    M   \n",
                            "1      20091        2037000  ALGORITMOS E LÓGICA DE PROGRAMAÇÃO    M   \n",
                            "2      20091        2037000  ALGORITMOS E LÓGICA DE PROGRAMAÇÃO    M   \n",
                            "3      20091        2037000  ALGORITMOS E LÓGICA DE PROGRAMAÇÃO    M   \n",
                            "4      20091        2037000  ALGORITMOS E LÓGICA DE PROGRAMAÇÃO    M   \n",
                            "...      ...            ...                                 ...  ...   \n",
                            "53197  20222        2050107         DIREITO E LEGISLAÇÃO SOCIAL    M   \n",
                            "53198  20222        2050107         DIREITO E LEGISLAÇÃO SOCIAL    M   \n",
                            "53199  20222        2054400               MATEMÁTICA FINANCEIRA    M   \n",
                            "53200  20222        2054400               MATEMÁTICA FINANCEIRA    M   \n",
                            "53201  20222        2054400               MATEMÁTICA FINANCEIRA    M   \n",
                            "\n",
                            "       ano_nascimento  ano_ingresso     status  \n",
                            "0                1987          2009  CANCELADO  \n",
                            "1                1987          2009  CANCELADO  \n",
                            "2                1987          2009  CANCELADO  \n",
                            "3                1990          2009  CONCLUÍDO  \n",
                            "4                1990          2009  CONCLUÍDO  \n",
                            "...               ...           ...        ...  \n",
                            "53197            2002          2019      ATIVO  \n",
                            "53198            2002          2019      ATIVO  \n",
                            "53199            1999          2018  CONCLUÍDO  \n",
                            "53200            1999          2018  CONCLUÍDO  \n",
                            "53201            1999          2018  CONCLUÍDO  \n",
                            "\n",
                            "[53202 rows x 11 columns]"
                        ]
                    },
                    "execution_count": 202,
                    "metadata": {},
                    "output_type": "execute_result"
                }
            ],
            "source": [
                "# Substituir vírgulas por pontos nas colunas que contêm valores decimais\n",
                "colunas_decimais = ['media_final']\n",
                "for coluna in colunas_decimais:\n",
                "    df_dados[coluna] = df_dados[coluna].str.replace(',', '.')\n",
                "\n",
                "# Converter as colunas para tipo numérico\n",
                "df_dados[colunas_decimais] = df_dados[colunas_decimais].astype(float)\n",
                "df_dados"
            ]
        },
        {
            "cell_type": "code",
            "execution_count": 203,
            "metadata": {},
            "outputs": [
                {
                    "data": {
                        "text/html": [
                            "<div>\n",
                            "<style scoped>\n",
                            "    .dataframe tbody tr th:only-of-type {\n",
                            "        vertical-align: middle;\n",
                            "    }\n",
                            "\n",
                            "    .dataframe tbody tr th {\n",
                            "        vertical-align: top;\n",
                            "    }\n",
                            "\n",
                            "    .dataframe thead th {\n",
                            "        text-align: right;\n",
                            "    }\n",
                            "</style>\n",
                            "<table border=\"1\" class=\"dataframe\">\n",
                            "  <thead>\n",
                            "    <tr style=\"text-align: right;\">\n",
                            "      <th></th>\n",
                            "      <th>discente</th>\n",
                            "      <th>unidade</th>\n",
                            "      <th>media_final</th>\n",
                            "      <th>descricao</th>\n",
                            "      <th>ano</th>\n",
                            "      <th>id_componente</th>\n",
                            "      <th>nome</th>\n",
                            "      <th>sexo</th>\n",
                            "      <th>ano_nascimento</th>\n",
                            "      <th>ano_ingresso</th>\n",
                            "      <th>status</th>\n",
                            "    </tr>\n",
                            "  </thead>\n",
                            "  <tbody>\n",
                            "    <tr>\n",
                            "      <th>0</th>\n",
                            "      <td>afba64c0118bfcc8d5b3987e725ed545</td>\n",
                            "      <td>1.0</td>\n",
                            "      <td>1.5</td>\n",
                            "      <td>REPROVADO</td>\n",
                            "      <td>20091</td>\n",
                            "      <td>2037000</td>\n",
                            "      <td>ALGORITMOS E LÓGICA DE PROGRAMAÇÃO</td>\n",
                            "      <td>M</td>\n",
                            "      <td>1987</td>\n",
                            "      <td>2009</td>\n",
                            "      <td>CANCELADO</td>\n",
                            "    </tr>\n",
                            "    <tr>\n",
                            "      <th>1</th>\n",
                            "      <td>afba64c0118bfcc8d5b3987e725ed545</td>\n",
                            "      <td>2.0</td>\n",
                            "      <td>1.5</td>\n",
                            "      <td>REPROVADO</td>\n",
                            "      <td>20091</td>\n",
                            "      <td>2037000</td>\n",
                            "      <td>ALGORITMOS E LÓGICA DE PROGRAMAÇÃO</td>\n",
                            "      <td>M</td>\n",
                            "      <td>1987</td>\n",
                            "      <td>2009</td>\n",
                            "      <td>CANCELADO</td>\n",
                            "    </tr>\n",
                            "    <tr>\n",
                            "      <th>2</th>\n",
                            "      <td>afba64c0118bfcc8d5b3987e725ed545</td>\n",
                            "      <td>3.0</td>\n",
                            "      <td>1.5</td>\n",
                            "      <td>REPROVADO</td>\n",
                            "      <td>20091</td>\n",
                            "      <td>2037000</td>\n",
                            "      <td>ALGORITMOS E LÓGICA DE PROGRAMAÇÃO</td>\n",
                            "      <td>M</td>\n",
                            "      <td>1987</td>\n",
                            "      <td>2009</td>\n",
                            "      <td>CANCELADO</td>\n",
                            "    </tr>\n",
                            "    <tr>\n",
                            "      <th>3</th>\n",
                            "      <td>9526e01da587b20211a39b4e66673aea</td>\n",
                            "      <td>1.0</td>\n",
                            "      <td>9.2</td>\n",
                            "      <td>APROVADO</td>\n",
                            "      <td>20091</td>\n",
                            "      <td>2037000</td>\n",
                            "      <td>ALGORITMOS E LÓGICA DE PROGRAMAÇÃO</td>\n",
                            "      <td>M</td>\n",
                            "      <td>1990</td>\n",
                            "      <td>2009</td>\n",
                            "      <td>CONCLUÍDO</td>\n",
                            "    </tr>\n",
                            "    <tr>\n",
                            "      <th>4</th>\n",
                            "      <td>9526e01da587b20211a39b4e66673aea</td>\n",
                            "      <td>2.0</td>\n",
                            "      <td>9.2</td>\n",
                            "      <td>APROVADO</td>\n",
                            "      <td>20091</td>\n",
                            "      <td>2037000</td>\n",
                            "      <td>ALGORITMOS E LÓGICA DE PROGRAMAÇÃO</td>\n",
                            "      <td>M</td>\n",
                            "      <td>1990</td>\n",
                            "      <td>2009</td>\n",
                            "      <td>CONCLUÍDO</td>\n",
                            "    </tr>\n",
                            "    <tr>\n",
                            "      <th>...</th>\n",
                            "      <td>...</td>\n",
                            "      <td>...</td>\n",
                            "      <td>...</td>\n",
                            "      <td>...</td>\n",
                            "      <td>...</td>\n",
                            "      <td>...</td>\n",
                            "      <td>...</td>\n",
                            "      <td>...</td>\n",
                            "      <td>...</td>\n",
                            "      <td>...</td>\n",
                            "      <td>...</td>\n",
                            "    </tr>\n",
                            "    <tr>\n",
                            "      <th>53197</th>\n",
                            "      <td>e10089f6080d3afa8904437086ea2752</td>\n",
                            "      <td>2.0</td>\n",
                            "      <td>9.3</td>\n",
                            "      <td>APROVADO</td>\n",
                            "      <td>20222</td>\n",
                            "      <td>2050107</td>\n",
                            "      <td>DIREITO E LEGISLAÇÃO SOCIAL</td>\n",
                            "      <td>M</td>\n",
                            "      <td>2002</td>\n",
                            "      <td>2019</td>\n",
                            "      <td>ATIVO</td>\n",
                            "    </tr>\n",
                            "    <tr>\n",
                            "      <th>53198</th>\n",
                            "      <td>e10089f6080d3afa8904437086ea2752</td>\n",
                            "      <td>3.0</td>\n",
                            "      <td>9.3</td>\n",
                            "      <td>APROVADO</td>\n",
                            "      <td>20222</td>\n",
                            "      <td>2050107</td>\n",
                            "      <td>DIREITO E LEGISLAÇÃO SOCIAL</td>\n",
                            "      <td>M</td>\n",
                            "      <td>2002</td>\n",
                            "      <td>2019</td>\n",
                            "      <td>ATIVO</td>\n",
                            "    </tr>\n",
                            "    <tr>\n",
                            "      <th>53199</th>\n",
                            "      <td>943463d2de8c6a60ec5f5d959ba7f1ac</td>\n",
                            "      <td>1.0</td>\n",
                            "      <td>10.0</td>\n",
                            "      <td>APROVADO</td>\n",
                            "      <td>20222</td>\n",
                            "      <td>2054400</td>\n",
                            "      <td>MATEMÁTICA FINANCEIRA</td>\n",
                            "      <td>M</td>\n",
                            "      <td>1999</td>\n",
                            "      <td>2018</td>\n",
                            "      <td>CONCLUÍDO</td>\n",
                            "    </tr>\n",
                            "    <tr>\n",
                            "      <th>53200</th>\n",
                            "      <td>943463d2de8c6a60ec5f5d959ba7f1ac</td>\n",
                            "      <td>2.0</td>\n",
                            "      <td>10.0</td>\n",
                            "      <td>APROVADO</td>\n",
                            "      <td>20222</td>\n",
                            "      <td>2054400</td>\n",
                            "      <td>MATEMÁTICA FINANCEIRA</td>\n",
                            "      <td>M</td>\n",
                            "      <td>1999</td>\n",
                            "      <td>2018</td>\n",
                            "      <td>CONCLUÍDO</td>\n",
                            "    </tr>\n",
                            "    <tr>\n",
                            "      <th>53201</th>\n",
                            "      <td>943463d2de8c6a60ec5f5d959ba7f1ac</td>\n",
                            "      <td>3.0</td>\n",
                            "      <td>10.0</td>\n",
                            "      <td>APROVADO</td>\n",
                            "      <td>20222</td>\n",
                            "      <td>2054400</td>\n",
                            "      <td>MATEMÁTICA FINANCEIRA</td>\n",
                            "      <td>M</td>\n",
                            "      <td>1999</td>\n",
                            "      <td>2018</td>\n",
                            "      <td>CONCLUÍDO</td>\n",
                            "    </tr>\n",
                            "  </tbody>\n",
                            "</table>\n",
                            "<p>46355 rows × 11 columns</p>\n",
                            "</div>"
                        ],
                        "text/plain": [
                            "                               discente  unidade  media_final  descricao  \\\n",
                            "0      afba64c0118bfcc8d5b3987e725ed545      1.0          1.5  REPROVADO   \n",
                            "1      afba64c0118bfcc8d5b3987e725ed545      2.0          1.5  REPROVADO   \n",
                            "2      afba64c0118bfcc8d5b3987e725ed545      3.0          1.5  REPROVADO   \n",
                            "3      9526e01da587b20211a39b4e66673aea      1.0          9.2   APROVADO   \n",
                            "4      9526e01da587b20211a39b4e66673aea      2.0          9.2   APROVADO   \n",
                            "...                                 ...      ...          ...        ...   \n",
                            "53197  e10089f6080d3afa8904437086ea2752      2.0          9.3   APROVADO   \n",
                            "53198  e10089f6080d3afa8904437086ea2752      3.0          9.3   APROVADO   \n",
                            "53199  943463d2de8c6a60ec5f5d959ba7f1ac      1.0         10.0   APROVADO   \n",
                            "53200  943463d2de8c6a60ec5f5d959ba7f1ac      2.0         10.0   APROVADO   \n",
                            "53201  943463d2de8c6a60ec5f5d959ba7f1ac      3.0         10.0   APROVADO   \n",
                            "\n",
                            "         ano  id_componente                                nome sexo  \\\n",
                            "0      20091        2037000  ALGORITMOS E LÓGICA DE PROGRAMAÇÃO    M   \n",
                            "1      20091        2037000  ALGORITMOS E LÓGICA DE PROGRAMAÇÃO    M   \n",
                            "2      20091        2037000  ALGORITMOS E LÓGICA DE PROGRAMAÇÃO    M   \n",
                            "3      20091        2037000  ALGORITMOS E LÓGICA DE PROGRAMAÇÃO    M   \n",
                            "4      20091        2037000  ALGORITMOS E LÓGICA DE PROGRAMAÇÃO    M   \n",
                            "...      ...            ...                                 ...  ...   \n",
                            "53197  20222        2050107         DIREITO E LEGISLAÇÃO SOCIAL    M   \n",
                            "53198  20222        2050107         DIREITO E LEGISLAÇÃO SOCIAL    M   \n",
                            "53199  20222        2054400               MATEMÁTICA FINANCEIRA    M   \n",
                            "53200  20222        2054400               MATEMÁTICA FINANCEIRA    M   \n",
                            "53201  20222        2054400               MATEMÁTICA FINANCEIRA    M   \n",
                            "\n",
                            "       ano_nascimento  ano_ingresso     status  \n",
                            "0                1987          2009  CANCELADO  \n",
                            "1                1987          2009  CANCELADO  \n",
                            "2                1987          2009  CANCELADO  \n",
                            "3                1990          2009  CONCLUÍDO  \n",
                            "4                1990          2009  CONCLUÍDO  \n",
                            "...               ...           ...        ...  \n",
                            "53197            2002          2019      ATIVO  \n",
                            "53198            2002          2019      ATIVO  \n",
                            "53199            1999          2018  CONCLUÍDO  \n",
                            "53200            1999          2018  CONCLUÍDO  \n",
                            "53201            1999          2018  CONCLUÍDO  \n",
                            "\n",
                            "[46355 rows x 11 columns]"
                        ]
                    },
                    "execution_count": 203,
                    "metadata": {},
                    "output_type": "execute_result"
                }
            ],
            "source": [
                "#retirando dados inválidos da coluna media_final\n",
                "df_dados.dropna(subset=[\"media_final\"], inplace=True)\n",
                "df_dados"
            ]
        },
        {
            "attachments": {},
            "cell_type": "markdown",
            "metadata": {},
            "source": [
                "## Tratamento de Dados"
            ]
        },
        {
            "attachments": {},
            "cell_type": "markdown",
            "metadata": {},
            "source": [
                "Agrupando dados por situação Aprovado e Reprovados"
            ]
        },
        {
            "cell_type": "code",
            "execution_count": 204,
            "metadata": {},
            "outputs": [
                {
                    "data": {
                        "text/plain": [
                            "descricao\n",
                            "APROVADO                            27542\n",
                            "APROVADO POR NOTA                    7821\n",
                            "REPROVADO                            5655\n",
                            "REPROVADO POR MÉDIA E POR FALTAS     3741\n",
                            "CANCELADO                             754\n",
                            "EXCLUIDA                              489\n",
                            "REPROVADO POR FALTAS                  138\n",
                            "REPROVADO POR NOTA                     90\n",
                            "TRANCADO                               82\n",
                            "REPROVADO POR NOTA E FALTA             42\n",
                            "DESISTENCIA                             1\n",
                            "Name: count, dtype: int64"
                        ]
                    },
                    "execution_count": 204,
                    "metadata": {},
                    "output_type": "execute_result"
                }
            ],
            "source": [
                "df_dados['descricao'].value_counts()"
            ]
        },
        {
            "attachments": {},
            "cell_type": "markdown",
            "metadata": {},
            "source": [
                "Renomeando dados da coluna descrição."
            ]
        },
        {
            "cell_type": "code",
            "execution_count": 205,
            "metadata": {},
            "outputs": [
                {
                    "data": {
                        "text/plain": [
                            "\"df_dados = df_dados.replace({'descricao':\\n               {'APROVADO POR NOTA':'APROVADO',\\n                'REPROVADO POR FALTAS':'REPROVADO',\\n                'REPROVADO POR MÉDIA E POR FALTAS':'REPROVADO',\\n                'REPROVADO POR NOTA E FALTA':'REPROVADO',\\n                'REPROVADO POR NOTA':'REPROVADO',\\n\\n                }}, regex=True)\""
                        ]
                    },
                    "execution_count": 205,
                    "metadata": {},
                    "output_type": "execute_result"
                }
            ],
            "source": [
                "'''df_dados = df_dados.replace({'descricao':\n",
                "               {'APROVADO POR NOTA':'APROVADO',\n",
                "                'REPROVADO POR FALTAS':'REPROVADO',\n",
                "                'REPROVADO POR MÉDIA E POR FALTAS':'REPROVADO',\n",
                "                'REPROVADO POR NOTA E FALTA':'REPROVADO',\n",
                "                'REPROVADO POR NOTA':'REPROVADO',\n",
                "\n",
                "                }}, regex=True)'''"
            ]
        },
        {
            "cell_type": "code",
            "execution_count": 206,
            "metadata": {},
            "outputs": [
                {
                    "data": {
                        "text/plain": [
                            "descricao\n",
                            "APROVADO                            27542\n",
                            "APROVADO POR NOTA                    7821\n",
                            "REPROVADO                            5655\n",
                            "REPROVADO POR MÉDIA E POR FALTAS     3741\n",
                            "CANCELADO                             754\n",
                            "EXCLUIDA                              489\n",
                            "REPROVADO POR FALTAS                  138\n",
                            "REPROVADO POR NOTA                     90\n",
                            "TRANCADO                               82\n",
                            "REPROVADO POR NOTA E FALTA             42\n",
                            "DESISTENCIA                             1\n",
                            "Name: count, dtype: int64"
                        ]
                    },
                    "execution_count": 206,
                    "metadata": {},
                    "output_type": "execute_result"
                }
            ],
            "source": [
                "df_dados['descricao'].value_counts()"
            ]
        },
        {
            "attachments": {},
            "cell_type": "markdown",
            "metadata": {},
            "source": [
                "### Filtros "
            ]
        },
        {
            "attachments": {},
            "cell_type": "markdown",
            "metadata": {},
            "source": [
                "Filtrando os dados da unidade 1."
            ]
        },
        {
            "cell_type": "code",
            "execution_count": 207,
            "metadata": {},
            "outputs": [
                {
                    "data": {
                        "text/html": [
                            "<div>\n",
                            "<style scoped>\n",
                            "    .dataframe tbody tr th:only-of-type {\n",
                            "        vertical-align: middle;\n",
                            "    }\n",
                            "\n",
                            "    .dataframe tbody tr th {\n",
                            "        vertical-align: top;\n",
                            "    }\n",
                            "\n",
                            "    .dataframe thead th {\n",
                            "        text-align: right;\n",
                            "    }\n",
                            "</style>\n",
                            "<table border=\"1\" class=\"dataframe\">\n",
                            "  <thead>\n",
                            "    <tr style=\"text-align: right;\">\n",
                            "      <th></th>\n",
                            "      <th>discente</th>\n",
                            "      <th>unidade</th>\n",
                            "      <th>media_final</th>\n",
                            "      <th>descricao</th>\n",
                            "      <th>ano</th>\n",
                            "      <th>id_componente</th>\n",
                            "      <th>nome</th>\n",
                            "      <th>sexo</th>\n",
                            "      <th>ano_nascimento</th>\n",
                            "      <th>ano_ingresso</th>\n",
                            "      <th>status</th>\n",
                            "    </tr>\n",
                            "  </thead>\n",
                            "  <tbody>\n",
                            "    <tr>\n",
                            "      <th>0</th>\n",
                            "      <td>afba64c0118bfcc8d5b3987e725ed545</td>\n",
                            "      <td>1.0</td>\n",
                            "      <td>1.5</td>\n",
                            "      <td>REPROVADO</td>\n",
                            "      <td>20091</td>\n",
                            "      <td>2037000</td>\n",
                            "      <td>ALGORITMOS E LÓGICA DE PROGRAMAÇÃO</td>\n",
                            "      <td>M</td>\n",
                            "      <td>1987</td>\n",
                            "      <td>2009</td>\n",
                            "      <td>CANCELADO</td>\n",
                            "    </tr>\n",
                            "    <tr>\n",
                            "      <th>3</th>\n",
                            "      <td>9526e01da587b20211a39b4e66673aea</td>\n",
                            "      <td>1.0</td>\n",
                            "      <td>9.2</td>\n",
                            "      <td>APROVADO</td>\n",
                            "      <td>20091</td>\n",
                            "      <td>2037000</td>\n",
                            "      <td>ALGORITMOS E LÓGICA DE PROGRAMAÇÃO</td>\n",
                            "      <td>M</td>\n",
                            "      <td>1990</td>\n",
                            "      <td>2009</td>\n",
                            "      <td>CONCLUÍDO</td>\n",
                            "    </tr>\n",
                            "    <tr>\n",
                            "      <th>6</th>\n",
                            "      <td>1ed6777bd6ff4fd393e0b334d519c642</td>\n",
                            "      <td>1.0</td>\n",
                            "      <td>8.0</td>\n",
                            "      <td>APROVADO</td>\n",
                            "      <td>20091</td>\n",
                            "      <td>2037000</td>\n",
                            "      <td>ALGORITMOS E LÓGICA DE PROGRAMAÇÃO</td>\n",
                            "      <td>M</td>\n",
                            "      <td>1991</td>\n",
                            "      <td>2009</td>\n",
                            "      <td>CONCLUÍDO</td>\n",
                            "    </tr>\n",
                            "    <tr>\n",
                            "      <th>9</th>\n",
                            "      <td>cd66757ed4a317a3537ae3e246648778</td>\n",
                            "      <td>1.0</td>\n",
                            "      <td>7.3</td>\n",
                            "      <td>APROVADO</td>\n",
                            "      <td>20091</td>\n",
                            "      <td>2037000</td>\n",
                            "      <td>ALGORITMOS E LÓGICA DE PROGRAMAÇÃO</td>\n",
                            "      <td>M</td>\n",
                            "      <td>1975</td>\n",
                            "      <td>2009</td>\n",
                            "      <td>CANCELADO</td>\n",
                            "    </tr>\n",
                            "    <tr>\n",
                            "      <th>12</th>\n",
                            "      <td>fa7b20f8ac2312976cd7338487ad527d</td>\n",
                            "      <td>1.0</td>\n",
                            "      <td>9.8</td>\n",
                            "      <td>APROVADO</td>\n",
                            "      <td>20091</td>\n",
                            "      <td>2037000</td>\n",
                            "      <td>ALGORITMOS E LÓGICA DE PROGRAMAÇÃO</td>\n",
                            "      <td>M</td>\n",
                            "      <td>1978</td>\n",
                            "      <td>2009</td>\n",
                            "      <td>CONCLUÍDO</td>\n",
                            "    </tr>\n",
                            "    <tr>\n",
                            "      <th>...</th>\n",
                            "      <td>...</td>\n",
                            "      <td>...</td>\n",
                            "      <td>...</td>\n",
                            "      <td>...</td>\n",
                            "      <td>...</td>\n",
                            "      <td>...</td>\n",
                            "      <td>...</td>\n",
                            "      <td>...</td>\n",
                            "      <td>...</td>\n",
                            "      <td>...</td>\n",
                            "      <td>...</td>\n",
                            "    </tr>\n",
                            "    <tr>\n",
                            "      <th>53189</th>\n",
                            "      <td>7d2dd0d35ebb8319b0c0e612660d2c3a</td>\n",
                            "      <td>1.0</td>\n",
                            "      <td>9.3</td>\n",
                            "      <td>APROVADO</td>\n",
                            "      <td>20222</td>\n",
                            "      <td>62766</td>\n",
                            "      <td>SISTEMAS DE APOIO À DECISÃO</td>\n",
                            "      <td>M</td>\n",
                            "      <td>2000</td>\n",
                            "      <td>2019</td>\n",
                            "      <td>CONCLUÍDO</td>\n",
                            "    </tr>\n",
                            "    <tr>\n",
                            "      <th>53190</th>\n",
                            "      <td>7d2dd0d35ebb8319b0c0e612660d2c3a</td>\n",
                            "      <td>1.0</td>\n",
                            "      <td>9.8</td>\n",
                            "      <td>APROVADO</td>\n",
                            "      <td>20222</td>\n",
                            "      <td>62764</td>\n",
                            "      <td>PROGRAMAÇÃO VISUAL</td>\n",
                            "      <td>M</td>\n",
                            "      <td>2000</td>\n",
                            "      <td>2019</td>\n",
                            "      <td>CONCLUÍDO</td>\n",
                            "    </tr>\n",
                            "    <tr>\n",
                            "      <th>53193</th>\n",
                            "      <td>22f4aed4a073c5e9515a8669e9c102f3</td>\n",
                            "      <td>1.0</td>\n",
                            "      <td>5.2</td>\n",
                            "      <td>APROVADO POR NOTA</td>\n",
                            "      <td>20222</td>\n",
                            "      <td>62764</td>\n",
                            "      <td>PROGRAMAÇÃO VISUAL</td>\n",
                            "      <td>M</td>\n",
                            "      <td>1984</td>\n",
                            "      <td>2019</td>\n",
                            "      <td>ATIVO - FORMANDO</td>\n",
                            "    </tr>\n",
                            "    <tr>\n",
                            "      <th>53196</th>\n",
                            "      <td>e10089f6080d3afa8904437086ea2752</td>\n",
                            "      <td>1.0</td>\n",
                            "      <td>9.3</td>\n",
                            "      <td>APROVADO</td>\n",
                            "      <td>20222</td>\n",
                            "      <td>2050107</td>\n",
                            "      <td>DIREITO E LEGISLAÇÃO SOCIAL</td>\n",
                            "      <td>M</td>\n",
                            "      <td>2002</td>\n",
                            "      <td>2019</td>\n",
                            "      <td>ATIVO</td>\n",
                            "    </tr>\n",
                            "    <tr>\n",
                            "      <th>53199</th>\n",
                            "      <td>943463d2de8c6a60ec5f5d959ba7f1ac</td>\n",
                            "      <td>1.0</td>\n",
                            "      <td>10.0</td>\n",
                            "      <td>APROVADO</td>\n",
                            "      <td>20222</td>\n",
                            "      <td>2054400</td>\n",
                            "      <td>MATEMÁTICA FINANCEIRA</td>\n",
                            "      <td>M</td>\n",
                            "      <td>1999</td>\n",
                            "      <td>2018</td>\n",
                            "      <td>CONCLUÍDO</td>\n",
                            "    </tr>\n",
                            "  </tbody>\n",
                            "</table>\n",
                            "<p>15453 rows × 11 columns</p>\n",
                            "</div>"
                        ],
                        "text/plain": [
                            "                               discente  unidade  media_final  \\\n",
                            "0      afba64c0118bfcc8d5b3987e725ed545      1.0          1.5   \n",
                            "3      9526e01da587b20211a39b4e66673aea      1.0          9.2   \n",
                            "6      1ed6777bd6ff4fd393e0b334d519c642      1.0          8.0   \n",
                            "9      cd66757ed4a317a3537ae3e246648778      1.0          7.3   \n",
                            "12     fa7b20f8ac2312976cd7338487ad527d      1.0          9.8   \n",
                            "...                                 ...      ...          ...   \n",
                            "53189  7d2dd0d35ebb8319b0c0e612660d2c3a      1.0          9.3   \n",
                            "53190  7d2dd0d35ebb8319b0c0e612660d2c3a      1.0          9.8   \n",
                            "53193  22f4aed4a073c5e9515a8669e9c102f3      1.0          5.2   \n",
                            "53196  e10089f6080d3afa8904437086ea2752      1.0          9.3   \n",
                            "53199  943463d2de8c6a60ec5f5d959ba7f1ac      1.0         10.0   \n",
                            "\n",
                            "               descricao    ano  id_componente  \\\n",
                            "0              REPROVADO  20091        2037000   \n",
                            "3               APROVADO  20091        2037000   \n",
                            "6               APROVADO  20091        2037000   \n",
                            "9               APROVADO  20091        2037000   \n",
                            "12              APROVADO  20091        2037000   \n",
                            "...                  ...    ...            ...   \n",
                            "53189           APROVADO  20222          62766   \n",
                            "53190           APROVADO  20222          62764   \n",
                            "53193  APROVADO POR NOTA  20222          62764   \n",
                            "53196           APROVADO  20222        2050107   \n",
                            "53199           APROVADO  20222        2054400   \n",
                            "\n",
                            "                                     nome sexo  ano_nascimento  ano_ingresso  \\\n",
                            "0      ALGORITMOS E LÓGICA DE PROGRAMAÇÃO    M            1987          2009   \n",
                            "3      ALGORITMOS E LÓGICA DE PROGRAMAÇÃO    M            1990          2009   \n",
                            "6      ALGORITMOS E LÓGICA DE PROGRAMAÇÃO    M            1991          2009   \n",
                            "9      ALGORITMOS E LÓGICA DE PROGRAMAÇÃO    M            1975          2009   \n",
                            "12     ALGORITMOS E LÓGICA DE PROGRAMAÇÃO    M            1978          2009   \n",
                            "...                                   ...  ...             ...           ...   \n",
                            "53189         SISTEMAS DE APOIO À DECISÃO    M            2000          2019   \n",
                            "53190                  PROGRAMAÇÃO VISUAL    M            2000          2019   \n",
                            "53193                  PROGRAMAÇÃO VISUAL    M            1984          2019   \n",
                            "53196         DIREITO E LEGISLAÇÃO SOCIAL    M            2002          2019   \n",
                            "53199               MATEMÁTICA FINANCEIRA    M            1999          2018   \n",
                            "\n",
                            "                 status  \n",
                            "0             CANCELADO  \n",
                            "3             CONCLUÍDO  \n",
                            "6             CONCLUÍDO  \n",
                            "9             CANCELADO  \n",
                            "12            CONCLUÍDO  \n",
                            "...                 ...  \n",
                            "53189         CONCLUÍDO  \n",
                            "53190         CONCLUÍDO  \n",
                            "53193  ATIVO - FORMANDO  \n",
                            "53196             ATIVO  \n",
                            "53199         CONCLUÍDO  \n",
                            "\n",
                            "[15453 rows x 11 columns]"
                        ]
                    },
                    "execution_count": 207,
                    "metadata": {},
                    "output_type": "execute_result"
                }
            ],
            "source": [
                "filtro  = df_dados['unidade'] == 1\n",
                "df_dados_filtrado = df_dados[filtro]\n",
                "df_dados_filtrado"
            ]
        },
        {
            "attachments": {},
            "cell_type": "markdown",
            "metadata": {},
            "source": [
                "Lista dos componentes curriculares obrigatórios."
            ]
        },
        {
            "cell_type": "code",
            "execution_count": 208,
            "metadata": {},
            "outputs": [
                {
                    "data": {
                        "text/plain": [
                            "'lista_obrigatórias = [\\n                \\'ALGORITMOS E LÓGICA DE PROGRAMAÇÃO\\',\\n                \\'INTRODUÇÃO À INFORMÁTICA\\',\\n                \\'FUNDAMENTOS DE MATEMÁTICA\\',\\n                \\'LÓGICA\\',\\n                \\'TEORIA GERAL DA ADMINISTRAÇÃO\\',\\n                \\'PROGRAMAÇÃO\\',\\n                \\'CÁLCULO DIFERENCIAL E INTEGRAL\\',\\n                \\'TEORIA GERAL DOS SISTEMAS\\',\\n                \\'PROGRAMAÇÃO ORIENTADA A OBJETOS I\\',\\n                \\'ESTRUTURA DE DADOS\\',\\n                \\'ÁLGEBRA LINEAR\\',\\n                \\'ORGANIZAÇÃO, SISTEMAS E MÉTODOS\\',\\n                \\'FUNDAMENTOS DE SISTEMAS DE INFORMAÇÃO\\',\\n                \\'PROGRAMAÇÃO WEB\\',\\n                \\'ARQUITETURA DE COMPUTADORES\\',\\n                \\'PROBABILIDADE E ESTATÍSTICA\\',\\n                \\'BANCO DE DADOS\\',\\n                \\'ENGENHARIA DE SOFTWARE I\\',\\n                \\'PROGRAMAÇÃO ORIENTADA A OBJETOS II\\',\\n                \\'SISTEMAS OPERACIONAIS\\',\\n                \\'PROJETO E ADMINISTRAÇÃO DE BANCO DE DADOS\\',\\n                \\'ENGENHARIA DE SOFTWARE II\\',\\n                \\'REDES DE COMPUTADORES\\',\\n                \\'CONTABILIDADE E CUSTOS\\',\\n                \\'EMPREENDEDORISMO EM INFORMÁTICA\\',\\n                \\'GESTÃO DE PROJETO DE SOFTWARE\\',\\n                \\'PROGRAMAÇÃO VISUAL\\',\\n                \\'MATEMÁTICA FINANCEIRA\\',\\n                \\'SISTEMAS DE APOIO À DECISÃO\\',\\n                \\'ÉTICA\\',\\n                ]\\ncondição_nome = f\"nome in {lista_obrigatórias}\"\\ndf_dados_filtrado = df_dados_filtrado.query(condição_nome)'"
                        ]
                    },
                    "execution_count": 208,
                    "metadata": {},
                    "output_type": "execute_result"
                }
            ],
            "source": [
                "'''lista_obrigatórias = [\n",
                "                'ALGORITMOS E LÓGICA DE PROGRAMAÇÃO',\n",
                "                'INTRODUÇÃO À INFORMÁTICA',\n",
                "                'FUNDAMENTOS DE MATEMÁTICA',\n",
                "                'LÓGICA',\n",
                "                'TEORIA GERAL DA ADMINISTRAÇÃO',\n",
                "                'PROGRAMAÇÃO',\n",
                "                'CÁLCULO DIFERENCIAL E INTEGRAL',\n",
                "                'TEORIA GERAL DOS SISTEMAS',\n",
                "                'PROGRAMAÇÃO ORIENTADA A OBJETOS I',\n",
                "                'ESTRUTURA DE DADOS',\n",
                "                'ÁLGEBRA LINEAR',\n",
                "                'ORGANIZAÇÃO, SISTEMAS E MÉTODOS',\n",
                "                'FUNDAMENTOS DE SISTEMAS DE INFORMAÇÃO',\n",
                "                'PROGRAMAÇÃO WEB',\n",
                "                'ARQUITETURA DE COMPUTADORES',\n",
                "                'PROBABILIDADE E ESTATÍSTICA',\n",
                "                'BANCO DE DADOS',\n",
                "                'ENGENHARIA DE SOFTWARE I',\n",
                "                'PROGRAMAÇÃO ORIENTADA A OBJETOS II',\n",
                "                'SISTEMAS OPERACIONAIS',\n",
                "                'PROJETO E ADMINISTRAÇÃO DE BANCO DE DADOS',\n",
                "                'ENGENHARIA DE SOFTWARE II',\n",
                "                'REDES DE COMPUTADORES',\n",
                "                'CONTABILIDADE E CUSTOS',\n",
                "                'EMPREENDEDORISMO EM INFORMÁTICA',\n",
                "                'GESTÃO DE PROJETO DE SOFTWARE',\n",
                "                'PROGRAMAÇÃO VISUAL',\n",
                "                'MATEMÁTICA FINANCEIRA',\n",
                "                'SISTEMAS DE APOIO À DECISÃO',\n",
                "                'ÉTICA',\n",
                "                ]\n",
                "condição_nome = f\"nome in {lista_obrigatórias}\"\n",
                "df_dados_filtrado = df_dados_filtrado.query(condição_nome)'''"
            ]
        },
        {
            "cell_type": "code",
            "execution_count": 209,
            "metadata": {},
            "outputs": [],
            "source": [
                "#filtro = (df_dados_filtrado['descricao'] == 'APROVADO') | (df_dados_filtrado['descricao'] == 'REPROVADO')"
            ]
        },
        {
            "cell_type": "code",
            "execution_count": 210,
            "metadata": {},
            "outputs": [],
            "source": [
                "#df_dados_filtrado = df_dados_filtrado[filtro]"
            ]
        },
        {
            "cell_type": "code",
            "execution_count": 211,
            "metadata": {},
            "outputs": [],
            "source": [
                "#df_dados_filtrado.groupby(['descricao']).count()"
            ]
        },
        {
            "attachments": {},
            "cell_type": "markdown",
            "metadata": {},
            "source": [
                "### Disciplinas com maior indice de reprovação"
            ]
        },
        {
            "cell_type": "code",
            "execution_count": 212,
            "metadata": {},
            "outputs": [],
            "source": [
                "#Agrupa e conta nome e descricao\n",
                "situacao_disciplinas = df_dados_filtrado.groupby(['nome','descricao'],as_index=False).count()"
            ]
        },
        {
            "cell_type": "code",
            "execution_count": 213,
            "metadata": {},
            "outputs": [],
            "source": [
                "#selecionas colunas\n",
                "situacao_disciplinas = situacao_disciplinas.filter(['nome','descricao', 'ano'])"
            ]
        },
        {
            "cell_type": "code",
            "execution_count": 214,
            "metadata": {},
            "outputs": [],
            "source": [
                "situacao_disciplinas = situacao_disciplinas.rename(columns={'ano': 'total'})"
            ]
        },
        {
            "cell_type": "code",
            "execution_count": 215,
            "metadata": {},
            "outputs": [],
            "source": [
                "filtro_situacao  = situacao_disciplinas['descricao'] == 'REPROVADO'\n",
                "situacao_reprovado = situacao_disciplinas[filtro_situacao]"
            ]
        },
        {
            "cell_type": "code",
            "execution_count": 216,
            "metadata": {},
            "outputs": [
                {
                    "data": {
                        "text/html": [
                            "<div>\n",
                            "<style scoped>\n",
                            "    .dataframe tbody tr th:only-of-type {\n",
                            "        vertical-align: middle;\n",
                            "    }\n",
                            "\n",
                            "    .dataframe tbody tr th {\n",
                            "        vertical-align: top;\n",
                            "    }\n",
                            "\n",
                            "    .dataframe thead th {\n",
                            "        text-align: right;\n",
                            "    }\n",
                            "</style>\n",
                            "<table border=\"1\" class=\"dataframe\">\n",
                            "  <thead>\n",
                            "    <tr style=\"text-align: right;\">\n",
                            "      <th></th>\n",
                            "      <th>nome</th>\n",
                            "      <th>descricao</th>\n",
                            "      <th>total</th>\n",
                            "    </tr>\n",
                            "  </thead>\n",
                            "  <tbody>\n",
                            "    <tr>\n",
                            "      <th>105</th>\n",
                            "      <td>FUNDAMENTOS DE MATEMÁTICA</td>\n",
                            "      <td>REPROVADO</td>\n",
                            "      <td>227</td>\n",
                            "    </tr>\n",
                            "    <tr>\n",
                            "      <th>178</th>\n",
                            "      <td>INTRODUÇÃO À INFORMÁTICA</td>\n",
                            "      <td>REPROVADO</td>\n",
                            "      <td>199</td>\n",
                            "    </tr>\n",
                            "    <tr>\n",
                            "      <th>200</th>\n",
                            "      <td>LÓGICA</td>\n",
                            "      <td>REPROVADO</td>\n",
                            "      <td>189</td>\n",
                            "    </tr>\n",
                            "    <tr>\n",
                            "      <th>91</th>\n",
                            "      <td>ESTRUTURA DE DADOS</td>\n",
                            "      <td>REPROVADO</td>\n",
                            "      <td>139</td>\n",
                            "    </tr>\n",
                            "    <tr>\n",
                            "      <th>9</th>\n",
                            "      <td>ALGORITMOS E LÓGICA DE PROGRAMAÇÃO</td>\n",
                            "      <td>REPROVADO</td>\n",
                            "      <td>139</td>\n",
                            "    </tr>\n",
                            "    <tr>\n",
                            "      <th>25</th>\n",
                            "      <td>ARQUITETURA DE COMPUTADORES</td>\n",
                            "      <td>REPROVADO</td>\n",
                            "      <td>128</td>\n",
                            "    </tr>\n",
                            "    <tr>\n",
                            "      <th>282</th>\n",
                            "      <td>PROGRAMAÇÃO ORIENTADA A OBJETOS I</td>\n",
                            "      <td>REPROVADO</td>\n",
                            "      <td>121</td>\n",
                            "    </tr>\n",
                            "    <tr>\n",
                            "      <th>275</th>\n",
                            "      <td>PROGRAMAÇÃO</td>\n",
                            "      <td>REPROVADO</td>\n",
                            "      <td>103</td>\n",
                            "    </tr>\n",
                            "  </tbody>\n",
                            "</table>\n",
                            "</div>"
                        ],
                        "text/plain": [
                            "                                   nome  descricao  total\n",
                            "105           FUNDAMENTOS DE MATEMÁTICA  REPROVADO    227\n",
                            "178            INTRODUÇÃO À INFORMÁTICA  REPROVADO    199\n",
                            "200                              LÓGICA  REPROVADO    189\n",
                            "91                   ESTRUTURA DE DADOS  REPROVADO    139\n",
                            "9    ALGORITMOS E LÓGICA DE PROGRAMAÇÃO  REPROVADO    139\n",
                            "25          ARQUITETURA DE COMPUTADORES  REPROVADO    128\n",
                            "282   PROGRAMAÇÃO ORIENTADA A OBJETOS I  REPROVADO    121\n",
                            "275                         PROGRAMAÇÃO  REPROVADO    103"
                        ]
                    },
                    "execution_count": 216,
                    "metadata": {},
                    "output_type": "execute_result"
                }
            ],
            "source": [
                "situacao_reprovado.sort_values(by='total', ascending=False).head(8)"
            ]
        },
        {
            "attachments": {},
            "cell_type": "markdown",
            "metadata": {},
            "source": [
                "Agrupando os dados e deixando ordenado pela coluna discente."
            ]
        },
        {
            "cell_type": "code",
            "execution_count": 217,
            "metadata": {},
            "outputs": [
                {
                    "data": {
                        "text/html": [
                            "<div>\n",
                            "<style scoped>\n",
                            "    .dataframe tbody tr th:only-of-type {\n",
                            "        vertical-align: middle;\n",
                            "    }\n",
                            "\n",
                            "    .dataframe tbody tr th {\n",
                            "        vertical-align: top;\n",
                            "    }\n",
                            "\n",
                            "    .dataframe thead th {\n",
                            "        text-align: right;\n",
                            "    }\n",
                            "</style>\n",
                            "<table border=\"1\" class=\"dataframe\">\n",
                            "  <thead>\n",
                            "    <tr style=\"text-align: right;\">\n",
                            "      <th></th>\n",
                            "      <th>discente</th>\n",
                            "      <th>unidade</th>\n",
                            "      <th>media_final</th>\n",
                            "      <th>descricao</th>\n",
                            "      <th>ano</th>\n",
                            "      <th>id_componente</th>\n",
                            "      <th>nome</th>\n",
                            "      <th>sexo</th>\n",
                            "      <th>ano_nascimento</th>\n",
                            "      <th>ano_ingresso</th>\n",
                            "      <th>status</th>\n",
                            "    </tr>\n",
                            "  </thead>\n",
                            "  <tbody>\n",
                            "    <tr>\n",
                            "      <th>46673</th>\n",
                            "      <td>001cea3c82e2010681f2cdeab21e5ecf</td>\n",
                            "      <td>1.0</td>\n",
                            "      <td>0.0</td>\n",
                            "      <td>REPROVADO</td>\n",
                            "      <td>20211</td>\n",
                            "      <td>70811</td>\n",
                            "      <td>GESTÃO DA INOVAÇÃO</td>\n",
                            "      <td>M</td>\n",
                            "      <td>1986</td>\n",
                            "      <td>2018</td>\n",
                            "      <td>CANCELADO</td>\n",
                            "    </tr>\n",
                            "    <tr>\n",
                            "      <th>34990</th>\n",
                            "      <td>001cea3c82e2010681f2cdeab21e5ecf</td>\n",
                            "      <td>1.0</td>\n",
                            "      <td>6.2</td>\n",
                            "      <td>APROVADO POR NOTA</td>\n",
                            "      <td>20181</td>\n",
                            "      <td>62768</td>\n",
                            "      <td>PROGRAMAÇÃO PARA DISPOSITIVOS MÓVEIS</td>\n",
                            "      <td>M</td>\n",
                            "      <td>1986</td>\n",
                            "      <td>2018</td>\n",
                            "      <td>CANCELADO</td>\n",
                            "    </tr>\n",
                            "    <tr>\n",
                            "      <th>52378</th>\n",
                            "      <td>001cea3c82e2010681f2cdeab21e5ecf</td>\n",
                            "      <td>1.0</td>\n",
                            "      <td>0.0</td>\n",
                            "      <td>REPROVADO</td>\n",
                            "      <td>20222</td>\n",
                            "      <td>62802</td>\n",
                            "      <td>PESQUISA OPERACIONAL</td>\n",
                            "      <td>M</td>\n",
                            "      <td>1986</td>\n",
                            "      <td>2018</td>\n",
                            "      <td>CANCELADO</td>\n",
                            "    </tr>\n",
                            "    <tr>\n",
                            "      <th>50878</th>\n",
                            "      <td>001cea3c82e2010681f2cdeab21e5ecf</td>\n",
                            "      <td>1.0</td>\n",
                            "      <td>0.0</td>\n",
                            "      <td>REPROVADO POR MÉDIA E POR FALTAS</td>\n",
                            "      <td>20221</td>\n",
                            "      <td>70811</td>\n",
                            "      <td>GESTÃO DA INOVAÇÃO</td>\n",
                            "      <td>M</td>\n",
                            "      <td>1986</td>\n",
                            "      <td>2018</td>\n",
                            "      <td>CANCELADO</td>\n",
                            "    </tr>\n",
                            "    <tr>\n",
                            "      <th>42319</th>\n",
                            "      <td>001cea3c82e2010681f2cdeab21e5ecf</td>\n",
                            "      <td>1.0</td>\n",
                            "      <td>1.0</td>\n",
                            "      <td>EXCLUIDA</td>\n",
                            "      <td>20205</td>\n",
                            "      <td>71950</td>\n",
                            "      <td>MARKETING DIGITAL</td>\n",
                            "      <td>M</td>\n",
                            "      <td>1986</td>\n",
                            "      <td>2018</td>\n",
                            "      <td>CANCELADO</td>\n",
                            "    </tr>\n",
                            "    <tr>\n",
                            "      <th>...</th>\n",
                            "      <td>...</td>\n",
                            "      <td>...</td>\n",
                            "      <td>...</td>\n",
                            "      <td>...</td>\n",
                            "      <td>...</td>\n",
                            "      <td>...</td>\n",
                            "      <td>...</td>\n",
                            "      <td>...</td>\n",
                            "      <td>...</td>\n",
                            "      <td>...</td>\n",
                            "      <td>...</td>\n",
                            "    </tr>\n",
                            "    <tr>\n",
                            "      <th>36280</th>\n",
                            "      <td>ff56f2c5048dae0797fd3e851572b80c</td>\n",
                            "      <td>1.0</td>\n",
                            "      <td>5.8</td>\n",
                            "      <td>APROVADO POR NOTA</td>\n",
                            "      <td>20182</td>\n",
                            "      <td>62758</td>\n",
                            "      <td>PROGRAMAÇÃO ORIENTADA A OBJETOS II</td>\n",
                            "      <td>M</td>\n",
                            "      <td>1995</td>\n",
                            "      <td>2014</td>\n",
                            "      <td>CONCLUÍDO</td>\n",
                            "    </tr>\n",
                            "    <tr>\n",
                            "      <th>24176</th>\n",
                            "      <td>ff56f2c5048dae0797fd3e851572b80c</td>\n",
                            "      <td>1.0</td>\n",
                            "      <td>4.7</td>\n",
                            "      <td>CANCELADO</td>\n",
                            "      <td>20152</td>\n",
                            "      <td>2037001</td>\n",
                            "      <td>INTRODUÇÃO À INFORMÁTICA</td>\n",
                            "      <td>M</td>\n",
                            "      <td>1995</td>\n",
                            "      <td>2014</td>\n",
                            "      <td>CONCLUÍDO</td>\n",
                            "    </tr>\n",
                            "    <tr>\n",
                            "      <th>9666</th>\n",
                            "      <td>ffe447b2fe2058d45d5f756349a26f45</td>\n",
                            "      <td>1.0</td>\n",
                            "      <td>0.0</td>\n",
                            "      <td>REPROVADO POR MÉDIA E POR FALTAS</td>\n",
                            "      <td>20121</td>\n",
                            "      <td>2037004</td>\n",
                            "      <td>TEORIA GERAL DA ADMINISTRAÇÃO</td>\n",
                            "      <td>M</td>\n",
                            "      <td>1988</td>\n",
                            "      <td>2012</td>\n",
                            "      <td>CANCELADO</td>\n",
                            "    </tr>\n",
                            "    <tr>\n",
                            "      <th>8512</th>\n",
                            "      <td>ffe447b2fe2058d45d5f756349a26f45</td>\n",
                            "      <td>1.0</td>\n",
                            "      <td>0.0</td>\n",
                            "      <td>REPROVADO POR MÉDIA E POR FALTAS</td>\n",
                            "      <td>20121</td>\n",
                            "      <td>2037001</td>\n",
                            "      <td>INTRODUÇÃO À INFORMÁTICA</td>\n",
                            "      <td>M</td>\n",
                            "      <td>1988</td>\n",
                            "      <td>2012</td>\n",
                            "      <td>CANCELADO</td>\n",
                            "    </tr>\n",
                            "    <tr>\n",
                            "      <th>8359</th>\n",
                            "      <td>ffe447b2fe2058d45d5f756349a26f45</td>\n",
                            "      <td>1.0</td>\n",
                            "      <td>0.0</td>\n",
                            "      <td>REPROVADO POR MÉDIA E POR FALTAS</td>\n",
                            "      <td>20121</td>\n",
                            "      <td>2037000</td>\n",
                            "      <td>ALGORITMOS E LÓGICA DE PROGRAMAÇÃO</td>\n",
                            "      <td>M</td>\n",
                            "      <td>1988</td>\n",
                            "      <td>2012</td>\n",
                            "      <td>CANCELADO</td>\n",
                            "    </tr>\n",
                            "  </tbody>\n",
                            "</table>\n",
                            "<p>15453 rows × 11 columns</p>\n",
                            "</div>"
                        ],
                        "text/plain": [
                            "                               discente  unidade  media_final  \\\n",
                            "46673  001cea3c82e2010681f2cdeab21e5ecf      1.0          0.0   \n",
                            "34990  001cea3c82e2010681f2cdeab21e5ecf      1.0          6.2   \n",
                            "52378  001cea3c82e2010681f2cdeab21e5ecf      1.0          0.0   \n",
                            "50878  001cea3c82e2010681f2cdeab21e5ecf      1.0          0.0   \n",
                            "42319  001cea3c82e2010681f2cdeab21e5ecf      1.0          1.0   \n",
                            "...                                 ...      ...          ...   \n",
                            "36280  ff56f2c5048dae0797fd3e851572b80c      1.0          5.8   \n",
                            "24176  ff56f2c5048dae0797fd3e851572b80c      1.0          4.7   \n",
                            "9666   ffe447b2fe2058d45d5f756349a26f45      1.0          0.0   \n",
                            "8512   ffe447b2fe2058d45d5f756349a26f45      1.0          0.0   \n",
                            "8359   ffe447b2fe2058d45d5f756349a26f45      1.0          0.0   \n",
                            "\n",
                            "                              descricao    ano  id_componente  \\\n",
                            "46673                         REPROVADO  20211          70811   \n",
                            "34990                 APROVADO POR NOTA  20181          62768   \n",
                            "52378                         REPROVADO  20222          62802   \n",
                            "50878  REPROVADO POR MÉDIA E POR FALTAS  20221          70811   \n",
                            "42319                          EXCLUIDA  20205          71950   \n",
                            "...                                 ...    ...            ...   \n",
                            "36280                 APROVADO POR NOTA  20182          62758   \n",
                            "24176                         CANCELADO  20152        2037001   \n",
                            "9666   REPROVADO POR MÉDIA E POR FALTAS  20121        2037004   \n",
                            "8512   REPROVADO POR MÉDIA E POR FALTAS  20121        2037001   \n",
                            "8359   REPROVADO POR MÉDIA E POR FALTAS  20121        2037000   \n",
                            "\n",
                            "                                       nome sexo  ano_nascimento  \\\n",
                            "46673                    GESTÃO DA INOVAÇÃO    M            1986   \n",
                            "34990  PROGRAMAÇÃO PARA DISPOSITIVOS MÓVEIS    M            1986   \n",
                            "52378                  PESQUISA OPERACIONAL    M            1986   \n",
                            "50878                    GESTÃO DA INOVAÇÃO    M            1986   \n",
                            "42319                     MARKETING DIGITAL    M            1986   \n",
                            "...                                     ...  ...             ...   \n",
                            "36280    PROGRAMAÇÃO ORIENTADA A OBJETOS II    M            1995   \n",
                            "24176              INTRODUÇÃO À INFORMÁTICA    M            1995   \n",
                            "9666          TEORIA GERAL DA ADMINISTRAÇÃO    M            1988   \n",
                            "8512               INTRODUÇÃO À INFORMÁTICA    M            1988   \n",
                            "8359     ALGORITMOS E LÓGICA DE PROGRAMAÇÃO    M            1988   \n",
                            "\n",
                            "       ano_ingresso     status  \n",
                            "46673          2018  CANCELADO  \n",
                            "34990          2018  CANCELADO  \n",
                            "52378          2018  CANCELADO  \n",
                            "50878          2018  CANCELADO  \n",
                            "42319          2018  CANCELADO  \n",
                            "...             ...        ...  \n",
                            "36280          2014  CONCLUÍDO  \n",
                            "24176          2014  CONCLUÍDO  \n",
                            "9666           2012  CANCELADO  \n",
                            "8512           2012  CANCELADO  \n",
                            "8359           2012  CANCELADO  \n",
                            "\n",
                            "[15453 rows x 11 columns]"
                        ]
                    },
                    "execution_count": 217,
                    "metadata": {},
                    "output_type": "execute_result"
                }
            ],
            "source": [
                "agregado_obrigatórias = df_dados_filtrado .groupby([\"discente\",\"nome\",\"ano\",\"descricao\"]).size()\n",
                "df_dados_filtrado = df_dados_filtrado.sort_values(by='discente')\n",
                "df_dados_filtrado"
            ]
        },
        {
            "cell_type": "code",
            "execution_count": 218,
            "metadata": {},
            "outputs": [
                {
                    "data": {
                        "text/plain": [
                            "nome                                 descricao                       \n",
                            "ADMINISTRAÇÃO DE SERVIDORES DE REDE  APROVADO                            59\n",
                            "                                     APROVADO POR NOTA                   18\n",
                            "                                     CANCELADO                            1\n",
                            "                                     REPROVADO                            8\n",
                            "                                     REPROVADO POR MÉDIA E POR FALTAS     3\n",
                            "                                                                         ..\n",
                            "ÉTICA                                REPROVADO POR MÉDIA E POR FALTAS     9\n",
                            "ÉTICA GERAL E PROFISSIONAL           APROVADO                            59\n",
                            "                                     APROVADO POR NOTA                    2\n",
                            "                                     CANCELADO                            1\n",
                            "                                     REPROVADO POR MÉDIA E POR FALTAS     1\n",
                            "Length: 449, dtype: int64"
                        ]
                    },
                    "execution_count": 218,
                    "metadata": {},
                    "output_type": "execute_result"
                }
            ],
            "source": [
                "agregado_obrigatórias = df_dados_filtrado .groupby([\"nome\",\"descricao\"]).size()\n",
                "agregado_obrigatórias"
            ]
        },
        {
            "cell_type": "code",
            "execution_count": 219,
            "metadata": {},
            "outputs": [],
            "source": [
                "agregado_obrigatórias.to_csv('contabilizamatricula.csv', index=False, sep=';', quoting=csv.QUOTE_NONNUMERIC)"
            ]
        },
        {
            "attachments": {},
            "cell_type": "markdown",
            "metadata": {},
            "source": [
                "### **Primeiro Período**"
            ]
        },
        {
            "attachments": {},
            "cell_type": "markdown",
            "metadata": {},
            "source": [
                "```\n",
                "\tALGORITMOS E LÓGICA DE PROGRAMAÇÃO 90h\n",
                "\tINTRODUÇÃO À INFORMÁTICA 60h\n",
                "\tFUNDAMENTOS DE MATEMÁTICA 60h\n",
                "\tLÓGICA 60h\n",
                "\tTEORIA GERAL DA ADMINISTRAÇÃO 60h\n",
                "```"
            ]
        },
        {
            "attachments": {},
            "cell_type": "markdown",
            "metadata": {},
            "source": [
                "#### ALGORITMOS E LÓGICA DE PROGRAMAÇÃO"
            ]
        },
        {
            "cell_type": "code",
            "execution_count": 220,
            "metadata": {},
            "outputs": [
                {
                    "data": {
                        "text/html": [
                            "<div>\n",
                            "<style scoped>\n",
                            "    .dataframe tbody tr th:only-of-type {\n",
                            "        vertical-align: middle;\n",
                            "    }\n",
                            "\n",
                            "    .dataframe tbody tr th {\n",
                            "        vertical-align: top;\n",
                            "    }\n",
                            "\n",
                            "    .dataframe thead th {\n",
                            "        text-align: right;\n",
                            "    }\n",
                            "</style>\n",
                            "<table border=\"1\" class=\"dataframe\">\n",
                            "  <thead>\n",
                            "    <tr style=\"text-align: right;\">\n",
                            "      <th></th>\n",
                            "      <th>discente</th>\n",
                            "      <th>media_final</th>\n",
                            "      <th>ano</th>\n",
                            "    </tr>\n",
                            "  </thead>\n",
                            "  <tbody>\n",
                            "    <tr>\n",
                            "      <th>34877</th>\n",
                            "      <td>005c14d7c07bf7980b60c703f99c5ee7</td>\n",
                            "      <td>5.9</td>\n",
                            "      <td>20181</td>\n",
                            "    </tr>\n",
                            "    <tr>\n",
                            "      <th>6964</th>\n",
                            "      <td>0107fd69d8cd7e3d30dede96fb68bfe5</td>\n",
                            "      <td>7.0</td>\n",
                            "      <td>20112</td>\n",
                            "    </tr>\n",
                            "    <tr>\n",
                            "      <th>4339</th>\n",
                            "      <td>0107fd69d8cd7e3d30dede96fb68bfe5</td>\n",
                            "      <td>4.2</td>\n",
                            "      <td>20111</td>\n",
                            "    </tr>\n",
                            "    <tr>\n",
                            "      <th>27681</th>\n",
                            "      <td>014789363f7940922e71e710ee9d22bc</td>\n",
                            "      <td>7.0</td>\n",
                            "      <td>20162</td>\n",
                            "    </tr>\n",
                            "    <tr>\n",
                            "      <th>25600</th>\n",
                            "      <td>014789363f7940922e71e710ee9d22bc</td>\n",
                            "      <td>5.0</td>\n",
                            "      <td>20161</td>\n",
                            "    </tr>\n",
                            "    <tr>\n",
                            "      <th>...</th>\n",
                            "      <td>...</td>\n",
                            "      <td>...</td>\n",
                            "      <td>...</td>\n",
                            "    </tr>\n",
                            "    <tr>\n",
                            "      <th>49000</th>\n",
                            "      <td>fe802d8d85de6f842749468401d1146c</td>\n",
                            "      <td>2.0</td>\n",
                            "      <td>20221</td>\n",
                            "    </tr>\n",
                            "    <tr>\n",
                            "      <th>44810</th>\n",
                            "      <td>fec9ed6026d55ecdf514c640312c3d08</td>\n",
                            "      <td>8.7</td>\n",
                            "      <td>20206</td>\n",
                            "    </tr>\n",
                            "    <tr>\n",
                            "      <th>16871</th>\n",
                            "      <td>ff56f2c5048dae0797fd3e851572b80c</td>\n",
                            "      <td>3.7</td>\n",
                            "      <td>20141</td>\n",
                            "    </tr>\n",
                            "    <tr>\n",
                            "      <th>21322</th>\n",
                            "      <td>ff56f2c5048dae0797fd3e851572b80c</td>\n",
                            "      <td>5.2</td>\n",
                            "      <td>20151</td>\n",
                            "    </tr>\n",
                            "    <tr>\n",
                            "      <th>8359</th>\n",
                            "      <td>ffe447b2fe2058d45d5f756349a26f45</td>\n",
                            "      <td>0.0</td>\n",
                            "      <td>20121</td>\n",
                            "    </tr>\n",
                            "  </tbody>\n",
                            "</table>\n",
                            "<p>718 rows × 3 columns</p>\n",
                            "</div>"
                        ],
                        "text/plain": [
                            "                               discente  media_final    ano\n",
                            "34877  005c14d7c07bf7980b60c703f99c5ee7          5.9  20181\n",
                            "6964   0107fd69d8cd7e3d30dede96fb68bfe5          7.0  20112\n",
                            "4339   0107fd69d8cd7e3d30dede96fb68bfe5          4.2  20111\n",
                            "27681  014789363f7940922e71e710ee9d22bc          7.0  20162\n",
                            "25600  014789363f7940922e71e710ee9d22bc          5.0  20161\n",
                            "...                                 ...          ...    ...\n",
                            "49000  fe802d8d85de6f842749468401d1146c          2.0  20221\n",
                            "44810  fec9ed6026d55ecdf514c640312c3d08          8.7  20206\n",
                            "16871  ff56f2c5048dae0797fd3e851572b80c          3.7  20141\n",
                            "21322  ff56f2c5048dae0797fd3e851572b80c          5.2  20151\n",
                            "8359   ffe447b2fe2058d45d5f756349a26f45          0.0  20121\n",
                            "\n",
                            "[718 rows x 3 columns]"
                        ]
                    },
                    "execution_count": 220,
                    "metadata": {},
                    "output_type": "execute_result"
                }
            ],
            "source": [
                "algoritmo = df_dados_filtrado.loc[(df_dados_filtrado['id_componente'] == 2037000) |\n",
                "                                               (df_dados_filtrado['id_componente'] == 62486) &\n",
                "                                             (df_dados_filtrado['ano'] < 20222)]\n",
                "#Separando atributos\n",
                "algoritmo = algoritmo[['discente', 'media_final', 'ano']]\n",
                "algoritmo"
            ]
        },
        {
            "cell_type": "code",
            "execution_count": 221,
            "metadata": {},
            "outputs": [
                {
                    "data": {
                        "text/html": [
                            "<div>\n",
                            "<style scoped>\n",
                            "    .dataframe tbody tr th:only-of-type {\n",
                            "        vertical-align: middle;\n",
                            "    }\n",
                            "\n",
                            "    .dataframe tbody tr th {\n",
                            "        vertical-align: top;\n",
                            "    }\n",
                            "\n",
                            "    .dataframe thead th {\n",
                            "        text-align: right;\n",
                            "    }\n",
                            "</style>\n",
                            "<table border=\"1\" class=\"dataframe\">\n",
                            "  <thead>\n",
                            "    <tr style=\"text-align: right;\">\n",
                            "      <th></th>\n",
                            "      <th>discente</th>\n",
                            "      <th>media_final</th>\n",
                            "      <th>ano</th>\n",
                            "    </tr>\n",
                            "  </thead>\n",
                            "  <tbody>\n",
                            "    <tr>\n",
                            "      <th>0</th>\n",
                            "      <td>005c14d7c07bf7980b60c703f99c5ee7</td>\n",
                            "      <td>5.90</td>\n",
                            "      <td>20181.0</td>\n",
                            "    </tr>\n",
                            "    <tr>\n",
                            "      <th>1</th>\n",
                            "      <td>0107fd69d8cd7e3d30dede96fb68bfe5</td>\n",
                            "      <td>5.60</td>\n",
                            "      <td>20111.5</td>\n",
                            "    </tr>\n",
                            "    <tr>\n",
                            "      <th>2</th>\n",
                            "      <td>014789363f7940922e71e710ee9d22bc</td>\n",
                            "      <td>6.00</td>\n",
                            "      <td>20161.5</td>\n",
                            "    </tr>\n",
                            "    <tr>\n",
                            "      <th>3</th>\n",
                            "      <td>0168075add041f9eb4bba46d6fdb6387</td>\n",
                            "      <td>2.00</td>\n",
                            "      <td>20181.0</td>\n",
                            "    </tr>\n",
                            "    <tr>\n",
                            "      <th>4</th>\n",
                            "      <td>020d362ad9aecb1942935475f1dc5f10</td>\n",
                            "      <td>3.90</td>\n",
                            "      <td>20121.0</td>\n",
                            "    </tr>\n",
                            "    <tr>\n",
                            "      <th>...</th>\n",
                            "      <td>...</td>\n",
                            "      <td>...</td>\n",
                            "      <td>...</td>\n",
                            "    </tr>\n",
                            "    <tr>\n",
                            "      <th>584</th>\n",
                            "      <td>fe508adc657a48bc4cbfeed0856f5d93</td>\n",
                            "      <td>1.80</td>\n",
                            "      <td>20191.0</td>\n",
                            "    </tr>\n",
                            "    <tr>\n",
                            "      <th>585</th>\n",
                            "      <td>fe802d8d85de6f842749468401d1146c</td>\n",
                            "      <td>2.00</td>\n",
                            "      <td>20221.0</td>\n",
                            "    </tr>\n",
                            "    <tr>\n",
                            "      <th>586</th>\n",
                            "      <td>fec9ed6026d55ecdf514c640312c3d08</td>\n",
                            "      <td>8.70</td>\n",
                            "      <td>20206.0</td>\n",
                            "    </tr>\n",
                            "    <tr>\n",
                            "      <th>587</th>\n",
                            "      <td>ff56f2c5048dae0797fd3e851572b80c</td>\n",
                            "      <td>4.45</td>\n",
                            "      <td>20146.0</td>\n",
                            "    </tr>\n",
                            "    <tr>\n",
                            "      <th>588</th>\n",
                            "      <td>ffe447b2fe2058d45d5f756349a26f45</td>\n",
                            "      <td>0.00</td>\n",
                            "      <td>20121.0</td>\n",
                            "    </tr>\n",
                            "  </tbody>\n",
                            "</table>\n",
                            "<p>589 rows × 3 columns</p>\n",
                            "</div>"
                        ],
                        "text/plain": [
                            "                             discente  media_final      ano\n",
                            "0    005c14d7c07bf7980b60c703f99c5ee7         5.90  20181.0\n",
                            "1    0107fd69d8cd7e3d30dede96fb68bfe5         5.60  20111.5\n",
                            "2    014789363f7940922e71e710ee9d22bc         6.00  20161.5\n",
                            "3    0168075add041f9eb4bba46d6fdb6387         2.00  20181.0\n",
                            "4    020d362ad9aecb1942935475f1dc5f10         3.90  20121.0\n",
                            "..                                ...          ...      ...\n",
                            "584  fe508adc657a48bc4cbfeed0856f5d93         1.80  20191.0\n",
                            "585  fe802d8d85de6f842749468401d1146c         2.00  20221.0\n",
                            "586  fec9ed6026d55ecdf514c640312c3d08         8.70  20206.0\n",
                            "587  ff56f2c5048dae0797fd3e851572b80c         4.45  20146.0\n",
                            "588  ffe447b2fe2058d45d5f756349a26f45         0.00  20121.0\n",
                            "\n",
                            "[589 rows x 3 columns]"
                        ]
                    },
                    "execution_count": 221,
                    "metadata": {},
                    "output_type": "execute_result"
                }
            ],
            "source": [
                "algoritmo = algoritmo.groupby('discente').mean().reset_index()\n",
                "algoritmo"
            ]
        },
        {
            "attachments": {},
            "cell_type": "markdown",
            "metadata": {},
            "source": [
                "#### INTRODUÇÃO À INFORMÁTICA"
            ]
        },
        {
            "cell_type": "code",
            "execution_count": 222,
            "metadata": {},
            "outputs": [
                {
                    "data": {
                        "text/html": [
                            "<div>\n",
                            "<style scoped>\n",
                            "    .dataframe tbody tr th:only-of-type {\n",
                            "        vertical-align: middle;\n",
                            "    }\n",
                            "\n",
                            "    .dataframe tbody tr th {\n",
                            "        vertical-align: top;\n",
                            "    }\n",
                            "\n",
                            "    .dataframe thead th {\n",
                            "        text-align: right;\n",
                            "    }\n",
                            "</style>\n",
                            "<table border=\"1\" class=\"dataframe\">\n",
                            "  <thead>\n",
                            "    <tr style=\"text-align: right;\">\n",
                            "      <th></th>\n",
                            "      <th>discente</th>\n",
                            "      <th>media_final</th>\n",
                            "      <th>ano</th>\n",
                            "    </tr>\n",
                            "  </thead>\n",
                            "  <tbody>\n",
                            "    <tr>\n",
                            "      <th>33377</th>\n",
                            "      <td>005c14d7c07bf7980b60c703f99c5ee7</td>\n",
                            "      <td>0.0</td>\n",
                            "      <td>20181</td>\n",
                            "    </tr>\n",
                            "    <tr>\n",
                            "      <th>35312</th>\n",
                            "      <td>005c14d7c07bf7980b60c703f99c5ee7</td>\n",
                            "      <td>5.1</td>\n",
                            "      <td>20182</td>\n",
                            "    </tr>\n",
                            "    <tr>\n",
                            "      <th>4498</th>\n",
                            "      <td>0107fd69d8cd7e3d30dede96fb68bfe5</td>\n",
                            "      <td>2.7</td>\n",
                            "      <td>20111</td>\n",
                            "    </tr>\n",
                            "    <tr>\n",
                            "      <th>25778</th>\n",
                            "      <td>014789363f7940922e71e710ee9d22bc</td>\n",
                            "      <td>0.3</td>\n",
                            "      <td>20161</td>\n",
                            "    </tr>\n",
                            "    <tr>\n",
                            "      <th>28153</th>\n",
                            "      <td>014789363f7940922e71e710ee9d22bc</td>\n",
                            "      <td>5.7</td>\n",
                            "      <td>20162</td>\n",
                            "    </tr>\n",
                            "    <tr>\n",
                            "      <th>...</th>\n",
                            "      <td>...</td>\n",
                            "      <td>...</td>\n",
                            "      <td>...</td>\n",
                            "    </tr>\n",
                            "    <tr>\n",
                            "      <th>21514</th>\n",
                            "      <td>ff56f2c5048dae0797fd3e851572b80c</td>\n",
                            "      <td>2.7</td>\n",
                            "      <td>20151</td>\n",
                            "    </tr>\n",
                            "    <tr>\n",
                            "      <th>25779</th>\n",
                            "      <td>ff56f2c5048dae0797fd3e851572b80c</td>\n",
                            "      <td>6.0</td>\n",
                            "      <td>20161</td>\n",
                            "    </tr>\n",
                            "    <tr>\n",
                            "      <th>17040</th>\n",
                            "      <td>ff56f2c5048dae0797fd3e851572b80c</td>\n",
                            "      <td>2.7</td>\n",
                            "      <td>20141</td>\n",
                            "    </tr>\n",
                            "    <tr>\n",
                            "      <th>24176</th>\n",
                            "      <td>ff56f2c5048dae0797fd3e851572b80c</td>\n",
                            "      <td>4.7</td>\n",
                            "      <td>20152</td>\n",
                            "    </tr>\n",
                            "    <tr>\n",
                            "      <th>8512</th>\n",
                            "      <td>ffe447b2fe2058d45d5f756349a26f45</td>\n",
                            "      <td>0.0</td>\n",
                            "      <td>20121</td>\n",
                            "    </tr>\n",
                            "  </tbody>\n",
                            "</table>\n",
                            "<p>751 rows × 3 columns</p>\n",
                            "</div>"
                        ],
                        "text/plain": [
                            "                               discente  media_final    ano\n",
                            "33377  005c14d7c07bf7980b60c703f99c5ee7          0.0  20181\n",
                            "35312  005c14d7c07bf7980b60c703f99c5ee7          5.1  20182\n",
                            "4498   0107fd69d8cd7e3d30dede96fb68bfe5          2.7  20111\n",
                            "25778  014789363f7940922e71e710ee9d22bc          0.3  20161\n",
                            "28153  014789363f7940922e71e710ee9d22bc          5.7  20162\n",
                            "...                                 ...          ...    ...\n",
                            "21514  ff56f2c5048dae0797fd3e851572b80c          2.7  20151\n",
                            "25779  ff56f2c5048dae0797fd3e851572b80c          6.0  20161\n",
                            "17040  ff56f2c5048dae0797fd3e851572b80c          2.7  20141\n",
                            "24176  ff56f2c5048dae0797fd3e851572b80c          4.7  20152\n",
                            "8512   ffe447b2fe2058d45d5f756349a26f45          0.0  20121\n",
                            "\n",
                            "[751 rows x 3 columns]"
                        ]
                    },
                    "execution_count": 222,
                    "metadata": {},
                    "output_type": "execute_result"
                }
            ],
            "source": [
                "intro_informatica = df_dados_filtrado.loc[(df_dados_filtrado['id_componente'] == 2037001) |\n",
                "                                               (df_dados_filtrado['id_componente'] == 62487)&\n",
                "                                             (df_dados_filtrado['ano'] < 20222)]\n",
                "#Separando atributos\n",
                "intro_informatica = intro_informatica[['discente', 'media_final', 'ano']]\n",
                "intro_informatica"
            ]
        },
        {
            "cell_type": "code",
            "execution_count": 223,
            "metadata": {},
            "outputs": [
                {
                    "data": {
                        "text/html": [
                            "<div>\n",
                            "<style scoped>\n",
                            "    .dataframe tbody tr th:only-of-type {\n",
                            "        vertical-align: middle;\n",
                            "    }\n",
                            "\n",
                            "    .dataframe tbody tr th {\n",
                            "        vertical-align: top;\n",
                            "    }\n",
                            "\n",
                            "    .dataframe thead th {\n",
                            "        text-align: right;\n",
                            "    }\n",
                            "</style>\n",
                            "<table border=\"1\" class=\"dataframe\">\n",
                            "  <thead>\n",
                            "    <tr style=\"text-align: right;\">\n",
                            "      <th></th>\n",
                            "      <th>discente</th>\n",
                            "      <th>media_final</th>\n",
                            "      <th>ano</th>\n",
                            "    </tr>\n",
                            "  </thead>\n",
                            "  <tbody>\n",
                            "    <tr>\n",
                            "      <th>0</th>\n",
                            "      <td>005c14d7c07bf7980b60c703f99c5ee7</td>\n",
                            "      <td>2.550</td>\n",
                            "      <td>20181.50</td>\n",
                            "    </tr>\n",
                            "    <tr>\n",
                            "      <th>1</th>\n",
                            "      <td>0107fd69d8cd7e3d30dede96fb68bfe5</td>\n",
                            "      <td>2.700</td>\n",
                            "      <td>20111.00</td>\n",
                            "    </tr>\n",
                            "    <tr>\n",
                            "      <th>2</th>\n",
                            "      <td>014789363f7940922e71e710ee9d22bc</td>\n",
                            "      <td>3.000</td>\n",
                            "      <td>20161.50</td>\n",
                            "    </tr>\n",
                            "    <tr>\n",
                            "      <th>3</th>\n",
                            "      <td>0168075add041f9eb4bba46d6fdb6387</td>\n",
                            "      <td>0.000</td>\n",
                            "      <td>20181.00</td>\n",
                            "    </tr>\n",
                            "    <tr>\n",
                            "      <th>4</th>\n",
                            "      <td>020d362ad9aecb1942935475f1dc5f10</td>\n",
                            "      <td>7.200</td>\n",
                            "      <td>20121.00</td>\n",
                            "    </tr>\n",
                            "    <tr>\n",
                            "      <th>...</th>\n",
                            "      <td>...</td>\n",
                            "      <td>...</td>\n",
                            "      <td>...</td>\n",
                            "    </tr>\n",
                            "    <tr>\n",
                            "      <th>569</th>\n",
                            "      <td>fe508adc657a48bc4cbfeed0856f5d93</td>\n",
                            "      <td>1.800</td>\n",
                            "      <td>20191.00</td>\n",
                            "    </tr>\n",
                            "    <tr>\n",
                            "      <th>570</th>\n",
                            "      <td>fe802d8d85de6f842749468401d1146c</td>\n",
                            "      <td>0.000</td>\n",
                            "      <td>20221.00</td>\n",
                            "    </tr>\n",
                            "    <tr>\n",
                            "      <th>571</th>\n",
                            "      <td>fec9ed6026d55ecdf514c640312c3d08</td>\n",
                            "      <td>8.600</td>\n",
                            "      <td>20205.00</td>\n",
                            "    </tr>\n",
                            "    <tr>\n",
                            "      <th>572</th>\n",
                            "      <td>ff56f2c5048dae0797fd3e851572b80c</td>\n",
                            "      <td>4.025</td>\n",
                            "      <td>20151.25</td>\n",
                            "    </tr>\n",
                            "    <tr>\n",
                            "      <th>573</th>\n",
                            "      <td>ffe447b2fe2058d45d5f756349a26f45</td>\n",
                            "      <td>0.000</td>\n",
                            "      <td>20121.00</td>\n",
                            "    </tr>\n",
                            "  </tbody>\n",
                            "</table>\n",
                            "<p>574 rows × 3 columns</p>\n",
                            "</div>"
                        ],
                        "text/plain": [
                            "                             discente  media_final       ano\n",
                            "0    005c14d7c07bf7980b60c703f99c5ee7        2.550  20181.50\n",
                            "1    0107fd69d8cd7e3d30dede96fb68bfe5        2.700  20111.00\n",
                            "2    014789363f7940922e71e710ee9d22bc        3.000  20161.50\n",
                            "3    0168075add041f9eb4bba46d6fdb6387        0.000  20181.00\n",
                            "4    020d362ad9aecb1942935475f1dc5f10        7.200  20121.00\n",
                            "..                                ...          ...       ...\n",
                            "569  fe508adc657a48bc4cbfeed0856f5d93        1.800  20191.00\n",
                            "570  fe802d8d85de6f842749468401d1146c        0.000  20221.00\n",
                            "571  fec9ed6026d55ecdf514c640312c3d08        8.600  20205.00\n",
                            "572  ff56f2c5048dae0797fd3e851572b80c        4.025  20151.25\n",
                            "573  ffe447b2fe2058d45d5f756349a26f45        0.000  20121.00\n",
                            "\n",
                            "[574 rows x 3 columns]"
                        ]
                    },
                    "execution_count": 223,
                    "metadata": {},
                    "output_type": "execute_result"
                }
            ],
            "source": [
                "intro_informatica = intro_informatica.groupby('discente').mean().reset_index()\n",
                "intro_informatica "
            ]
        },
        {
            "attachments": {},
            "cell_type": "markdown",
            "metadata": {},
            "source": [
                "#### FUNDAMENTOS DE MATEMÁTICA"
            ]
        },
        {
            "cell_type": "code",
            "execution_count": 224,
            "metadata": {},
            "outputs": [
                {
                    "data": {
                        "text/html": [
                            "<div>\n",
                            "<style scoped>\n",
                            "    .dataframe tbody tr th:only-of-type {\n",
                            "        vertical-align: middle;\n",
                            "    }\n",
                            "\n",
                            "    .dataframe tbody tr th {\n",
                            "        vertical-align: top;\n",
                            "    }\n",
                            "\n",
                            "    .dataframe thead th {\n",
                            "        text-align: right;\n",
                            "    }\n",
                            "</style>\n",
                            "<table border=\"1\" class=\"dataframe\">\n",
                            "  <thead>\n",
                            "    <tr style=\"text-align: right;\">\n",
                            "      <th></th>\n",
                            "      <th>discente</th>\n",
                            "      <th>media_final</th>\n",
                            "    </tr>\n",
                            "  </thead>\n",
                            "  <tbody>\n",
                            "    <tr>\n",
                            "      <th>38374</th>\n",
                            "      <td>005c14d7c07bf7980b60c703f99c5ee7</td>\n",
                            "      <td>5.7</td>\n",
                            "    </tr>\n",
                            "    <tr>\n",
                            "      <th>34392</th>\n",
                            "      <td>005c14d7c07bf7980b60c703f99c5ee7</td>\n",
                            "      <td>0.8</td>\n",
                            "    </tr>\n",
                            "    <tr>\n",
                            "      <th>5510</th>\n",
                            "      <td>0107fd69d8cd7e3d30dede96fb68bfe5</td>\n",
                            "      <td>1.6</td>\n",
                            "    </tr>\n",
                            "    <tr>\n",
                            "      <th>26190</th>\n",
                            "      <td>014789363f7940922e71e710ee9d22bc</td>\n",
                            "      <td>0.2</td>\n",
                            "    </tr>\n",
                            "    <tr>\n",
                            "      <th>34238</th>\n",
                            "      <td>014789363f7940922e71e710ee9d22bc</td>\n",
                            "      <td>5.0</td>\n",
                            "    </tr>\n",
                            "  </tbody>\n",
                            "</table>\n",
                            "</div>"
                        ],
                        "text/plain": [
                            "                               discente  media_final\n",
                            "38374  005c14d7c07bf7980b60c703f99c5ee7          5.7\n",
                            "34392  005c14d7c07bf7980b60c703f99c5ee7          0.8\n",
                            "5510   0107fd69d8cd7e3d30dede96fb68bfe5          1.6\n",
                            "26190  014789363f7940922e71e710ee9d22bc          0.2\n",
                            "34238  014789363f7940922e71e710ee9d22bc          5.0"
                        ]
                    },
                    "execution_count": 224,
                    "metadata": {},
                    "output_type": "execute_result"
                }
            ],
            "source": [
                "fundamentos_mat = df_dados_filtrado.loc[(df_dados_filtrado['id_componente'] == 2037003) |\n",
                "                                               (df_dados_filtrado['id_componente'] == 62488)&\n",
                "                                             (df_dados_filtrado['ano'] < 20222)]\n",
                "#Separando atributos\n",
                "fundamentos_mat = fundamentos_mat[['discente', 'media_final']]\n",
                "fundamentos_mat.head()"
            ]
        },
        {
            "cell_type": "code",
            "execution_count": 225,
            "metadata": {},
            "outputs": [],
            "source": [
                "fundamentos_mat = fundamentos_mat.groupby('discente').mean().reset_index()"
            ]
        },
        {
            "attachments": {},
            "cell_type": "markdown",
            "metadata": {},
            "source": [
                "#### LÓGICA"
            ]
        },
        {
            "cell_type": "code",
            "execution_count": 226,
            "metadata": {},
            "outputs": [
                {
                    "data": {
                        "text/html": [
                            "<div>\n",
                            "<style scoped>\n",
                            "    .dataframe tbody tr th:only-of-type {\n",
                            "        vertical-align: middle;\n",
                            "    }\n",
                            "\n",
                            "    .dataframe tbody tr th {\n",
                            "        vertical-align: top;\n",
                            "    }\n",
                            "\n",
                            "    .dataframe thead th {\n",
                            "        text-align: right;\n",
                            "    }\n",
                            "</style>\n",
                            "<table border=\"1\" class=\"dataframe\">\n",
                            "  <thead>\n",
                            "    <tr style=\"text-align: right;\">\n",
                            "      <th></th>\n",
                            "      <th>discente</th>\n",
                            "      <th>media_final</th>\n",
                            "    </tr>\n",
                            "  </thead>\n",
                            "  <tbody>\n",
                            "    <tr>\n",
                            "      <th>37870</th>\n",
                            "      <td>005c14d7c07bf7980b60c703f99c5ee7</td>\n",
                            "      <td>5.4</td>\n",
                            "    </tr>\n",
                            "    <tr>\n",
                            "      <th>33456</th>\n",
                            "      <td>005c14d7c07bf7980b60c703f99c5ee7</td>\n",
                            "      <td>3.0</td>\n",
                            "    </tr>\n",
                            "    <tr>\n",
                            "      <th>4937</th>\n",
                            "      <td>0107fd69d8cd7e3d30dede96fb68bfe5</td>\n",
                            "      <td>4.9</td>\n",
                            "    </tr>\n",
                            "    <tr>\n",
                            "      <th>26359</th>\n",
                            "      <td>014789363f7940922e71e710ee9d22bc</td>\n",
                            "      <td>4.2</td>\n",
                            "    </tr>\n",
                            "    <tr>\n",
                            "      <th>28624</th>\n",
                            "      <td>014789363f7940922e71e710ee9d22bc</td>\n",
                            "      <td>6.0</td>\n",
                            "    </tr>\n",
                            "  </tbody>\n",
                            "</table>\n",
                            "</div>"
                        ],
                        "text/plain": [
                            "                               discente  media_final\n",
                            "37870  005c14d7c07bf7980b60c703f99c5ee7          5.4\n",
                            "33456  005c14d7c07bf7980b60c703f99c5ee7          3.0\n",
                            "4937   0107fd69d8cd7e3d30dede96fb68bfe5          4.9\n",
                            "26359  014789363f7940922e71e710ee9d22bc          4.2\n",
                            "28624  014789363f7940922e71e710ee9d22bc          6.0"
                        ]
                    },
                    "execution_count": 226,
                    "metadata": {},
                    "output_type": "execute_result"
                }
            ],
            "source": [
                "logica = df_dados_filtrado.loc[(df_dados_filtrado['id_componente'] == 2037002) |\n",
                "                                               (df_dados_filtrado['id_componente'] == 62489)&\n",
                "                                             (df_dados_filtrado['ano'] < 20222)]\n",
                "#Separando atributos\n",
                "logica = logica[['discente', 'media_final']]\n",
                "logica.head()"
            ]
        },
        {
            "cell_type": "code",
            "execution_count": 227,
            "metadata": {},
            "outputs": [],
            "source": [
                "logica = logica.groupby('discente').mean().reset_index()"
            ]
        },
        {
            "attachments": {},
            "cell_type": "markdown",
            "metadata": {},
            "source": [
                "#### TEORIA GERAL DA ADMINISTRAÇÃO"
            ]
        },
        {
            "cell_type": "code",
            "execution_count": 228,
            "metadata": {},
            "outputs": [
                {
                    "data": {
                        "text/html": [
                            "<div>\n",
                            "<style scoped>\n",
                            "    .dataframe tbody tr th:only-of-type {\n",
                            "        vertical-align: middle;\n",
                            "    }\n",
                            "\n",
                            "    .dataframe tbody tr th {\n",
                            "        vertical-align: top;\n",
                            "    }\n",
                            "\n",
                            "    .dataframe thead th {\n",
                            "        text-align: right;\n",
                            "    }\n",
                            "</style>\n",
                            "<table border=\"1\" class=\"dataframe\">\n",
                            "  <thead>\n",
                            "    <tr style=\"text-align: right;\">\n",
                            "      <th></th>\n",
                            "      <th>discente</th>\n",
                            "      <th>media_final</th>\n",
                            "    </tr>\n",
                            "  </thead>\n",
                            "  <tbody>\n",
                            "    <tr>\n",
                            "      <th>33638</th>\n",
                            "      <td>005c14d7c07bf7980b60c703f99c5ee7</td>\n",
                            "      <td>8.7</td>\n",
                            "    </tr>\n",
                            "    <tr>\n",
                            "      <th>5091</th>\n",
                            "      <td>0107fd69d8cd7e3d30dede96fb68bfe5</td>\n",
                            "      <td>7.8</td>\n",
                            "    </tr>\n",
                            "    <tr>\n",
                            "      <th>26834</th>\n",
                            "      <td>014789363f7940922e71e710ee9d22bc</td>\n",
                            "      <td>5.7</td>\n",
                            "    </tr>\n",
                            "    <tr>\n",
                            "      <th>33584</th>\n",
                            "      <td>0168075add041f9eb4bba46d6fdb6387</td>\n",
                            "      <td>0.0</td>\n",
                            "    </tr>\n",
                            "    <tr>\n",
                            "      <th>26825</th>\n",
                            "      <td>026f9509c92f18fdea01c391a9d401a8</td>\n",
                            "      <td>6.7</td>\n",
                            "    </tr>\n",
                            "  </tbody>\n",
                            "</table>\n",
                            "</div>"
                        ],
                        "text/plain": [
                            "                               discente  media_final\n",
                            "33638  005c14d7c07bf7980b60c703f99c5ee7          8.7\n",
                            "5091   0107fd69d8cd7e3d30dede96fb68bfe5          7.8\n",
                            "26834  014789363f7940922e71e710ee9d22bc          5.7\n",
                            "33584  0168075add041f9eb4bba46d6fdb6387          0.0\n",
                            "26825  026f9509c92f18fdea01c391a9d401a8          6.7"
                        ]
                    },
                    "execution_count": 228,
                    "metadata": {},
                    "output_type": "execute_result"
                }
            ],
            "source": [
                "tga = df_dados_filtrado.loc[(df_dados_filtrado['id_componente'] == 2037004) |\n",
                "                                               (df_dados_filtrado['id_componente'] == 62490)&\n",
                "                                             (df_dados_filtrado['ano'] < 20222)]\n",
                "#Separando atributos\n",
                "tga = tga[['discente', 'media_final']]\n",
                "tga.head()"
            ]
        },
        {
            "cell_type": "code",
            "execution_count": 229,
            "metadata": {},
            "outputs": [],
            "source": [
                "tga = tga.groupby('discente').mean().reset_index()"
            ]
        },
        {
            "attachments": {},
            "cell_type": "markdown",
            "metadata": {},
            "source": [
                "### **Segundo Período**"
            ]
        },
        {
            "attachments": {},
            "cell_type": "markdown",
            "metadata": {},
            "source": [
                "```\n",
                "PROGRAMAÇÃO - 90h\n",
                "CÁLCULO DIFERENCIAL E INTEGRAL - 60h\n",
                "TEORIA GERAL DOS SISTEMAS - 60h\n",
                "```"
            ]
        },
        {
            "attachments": {},
            "cell_type": "markdown",
            "metadata": {},
            "source": [
                "#### PROGRAMAÇÃO"
            ]
        },
        {
            "cell_type": "code",
            "execution_count": 230,
            "metadata": {},
            "outputs": [
                {
                    "data": {
                        "text/html": [
                            "<div>\n",
                            "<style scoped>\n",
                            "    .dataframe tbody tr th:only-of-type {\n",
                            "        vertical-align: middle;\n",
                            "    }\n",
                            "\n",
                            "    .dataframe tbody tr th {\n",
                            "        vertical-align: top;\n",
                            "    }\n",
                            "\n",
                            "    .dataframe thead th {\n",
                            "        text-align: right;\n",
                            "    }\n",
                            "</style>\n",
                            "<table border=\"1\" class=\"dataframe\">\n",
                            "  <thead>\n",
                            "    <tr style=\"text-align: right;\">\n",
                            "      <th></th>\n",
                            "      <th>discente</th>\n",
                            "      <th>media_final</th>\n",
                            "    </tr>\n",
                            "  </thead>\n",
                            "  <tbody>\n",
                            "    <tr>\n",
                            "      <th>37439</th>\n",
                            "      <td>005c14d7c07bf7980b60c703f99c5ee7</td>\n",
                            "      <td>5.3</td>\n",
                            "    </tr>\n",
                            "    <tr>\n",
                            "      <th>35463</th>\n",
                            "      <td>005c14d7c07bf7980b60c703f99c5ee7</td>\n",
                            "      <td>2.7</td>\n",
                            "    </tr>\n",
                            "    <tr>\n",
                            "      <th>30196</th>\n",
                            "      <td>014789363f7940922e71e710ee9d22bc</td>\n",
                            "      <td>7.1</td>\n",
                            "    </tr>\n",
                            "    <tr>\n",
                            "      <th>30205</th>\n",
                            "      <td>026f9509c92f18fdea01c391a9d401a8</td>\n",
                            "      <td>5.8</td>\n",
                            "    </tr>\n",
                            "    <tr>\n",
                            "      <th>28298</th>\n",
                            "      <td>026f9509c92f18fdea01c391a9d401a8</td>\n",
                            "      <td>2.5</td>\n",
                            "    </tr>\n",
                            "  </tbody>\n",
                            "</table>\n",
                            "</div>"
                        ],
                        "text/plain": [
                            "                               discente  media_final\n",
                            "37439  005c14d7c07bf7980b60c703f99c5ee7          5.3\n",
                            "35463  005c14d7c07bf7980b60c703f99c5ee7          2.7\n",
                            "30196  014789363f7940922e71e710ee9d22bc          7.1\n",
                            "30205  026f9509c92f18fdea01c391a9d401a8          5.8\n",
                            "28298  026f9509c92f18fdea01c391a9d401a8          2.5"
                        ]
                    },
                    "execution_count": 230,
                    "metadata": {},
                    "output_type": "execute_result"
                }
            ],
            "source": [
                "programacao = df_dados_filtrado.loc[(df_dados_filtrado['id_componente'] == 2037006) |\n",
                "                                               (df_dados_filtrado['id_componente'] == 62748)&\n",
                "                                             (df_dados_filtrado['ano'] < 20222)]\n",
                "#Separando atributos\n",
                "programacao = programacao[['discente', 'media_final']]\n",
                "programacao.head()"
            ]
        },
        {
            "cell_type": "code",
            "execution_count": 231,
            "metadata": {},
            "outputs": [],
            "source": [
                "programacao = programacao.groupby('discente').mean().reset_index()"
            ]
        },
        {
            "attachments": {},
            "cell_type": "markdown",
            "metadata": {},
            "source": [
                "#### CÁLCULO DIFERENCIAL E INTEGRAL"
            ]
        },
        {
            "cell_type": "code",
            "execution_count": 232,
            "metadata": {},
            "outputs": [
                {
                    "data": {
                        "text/html": [
                            "<div>\n",
                            "<style scoped>\n",
                            "    .dataframe tbody tr th:only-of-type {\n",
                            "        vertical-align: middle;\n",
                            "    }\n",
                            "\n",
                            "    .dataframe tbody tr th {\n",
                            "        vertical-align: top;\n",
                            "    }\n",
                            "\n",
                            "    .dataframe thead th {\n",
                            "        text-align: right;\n",
                            "    }\n",
                            "</style>\n",
                            "<table border=\"1\" class=\"dataframe\">\n",
                            "  <thead>\n",
                            "    <tr style=\"text-align: right;\">\n",
                            "      <th></th>\n",
                            "      <th>discente</th>\n",
                            "      <th>media_final</th>\n",
                            "    </tr>\n",
                            "  </thead>\n",
                            "  <tbody>\n",
                            "    <tr>\n",
                            "      <th>39938</th>\n",
                            "      <td>005c14d7c07bf7980b60c703f99c5ee7</td>\n",
                            "      <td>0.3</td>\n",
                            "    </tr>\n",
                            "    <tr>\n",
                            "      <th>41127</th>\n",
                            "      <td>026f9509c92f18fdea01c391a9d401a8</td>\n",
                            "      <td>5.2</td>\n",
                            "    </tr>\n",
                            "    <tr>\n",
                            "      <th>1332</th>\n",
                            "      <td>02dad20dec819bcc384cc6fa0b7ecbf9</td>\n",
                            "      <td>5.0</td>\n",
                            "    </tr>\n",
                            "    <tr>\n",
                            "      <th>13622</th>\n",
                            "      <td>04c4db33b712881ca8936fdc225bf153</td>\n",
                            "      <td>5.1</td>\n",
                            "    </tr>\n",
                            "    <tr>\n",
                            "      <th>3527</th>\n",
                            "      <td>057b5f3791c59f7ea9673943a63ee7ea</td>\n",
                            "      <td>8.5</td>\n",
                            "    </tr>\n",
                            "  </tbody>\n",
                            "</table>\n",
                            "</div>"
                        ],
                        "text/plain": [
                            "                               discente  media_final\n",
                            "39938  005c14d7c07bf7980b60c703f99c5ee7          0.3\n",
                            "41127  026f9509c92f18fdea01c391a9d401a8          5.2\n",
                            "1332   02dad20dec819bcc384cc6fa0b7ecbf9          5.0\n",
                            "13622  04c4db33b712881ca8936fdc225bf153          5.1\n",
                            "3527   057b5f3791c59f7ea9673943a63ee7ea          8.5"
                        ]
                    },
                    "execution_count": 232,
                    "metadata": {},
                    "output_type": "execute_result"
                }
            ],
            "source": [
                "calculo = df_dados_filtrado.loc[(df_dados_filtrado['id_componente'] == 2037007) |\n",
                "                                               (df_dados_filtrado['id_componente'] == 62708)&\n",
                "                                             (df_dados_filtrado['ano'] < 20222)]\n",
                "\n",
                "#Separando atributos\n",
                "calculo = calculo[['discente', 'media_final' ]]\n",
                "calculo.head()"
            ]
        },
        {
            "cell_type": "code",
            "execution_count": 233,
            "metadata": {},
            "outputs": [],
            "source": [
                "calculo = calculo.groupby('discente').mean().reset_index()"
            ]
        },
        {
            "attachments": {},
            "cell_type": "markdown",
            "metadata": {},
            "source": [
                "#### TEORIA GERAL DOS SISTEMAS"
            ]
        },
        {
            "cell_type": "code",
            "execution_count": 234,
            "metadata": {},
            "outputs": [
                {
                    "data": {
                        "text/html": [
                            "<div>\n",
                            "<style scoped>\n",
                            "    .dataframe tbody tr th:only-of-type {\n",
                            "        vertical-align: middle;\n",
                            "    }\n",
                            "\n",
                            "    .dataframe tbody tr th {\n",
                            "        vertical-align: top;\n",
                            "    }\n",
                            "\n",
                            "    .dataframe thead th {\n",
                            "        text-align: right;\n",
                            "    }\n",
                            "</style>\n",
                            "<table border=\"1\" class=\"dataframe\">\n",
                            "  <thead>\n",
                            "    <tr style=\"text-align: right;\">\n",
                            "      <th></th>\n",
                            "      <th>discente</th>\n",
                            "      <th>media_final</th>\n",
                            "    </tr>\n",
                            "  </thead>\n",
                            "  <tbody>\n",
                            "    <tr>\n",
                            "      <th>35647</th>\n",
                            "      <td>005c14d7c07bf7980b60c703f99c5ee7</td>\n",
                            "      <td>5.8</td>\n",
                            "    </tr>\n",
                            "    <tr>\n",
                            "      <th>7413</th>\n",
                            "      <td>0107fd69d8cd7e3d30dede96fb68bfe5</td>\n",
                            "      <td>7.2</td>\n",
                            "    </tr>\n",
                            "    <tr>\n",
                            "      <th>28538</th>\n",
                            "      <td>014789363f7940922e71e710ee9d22bc</td>\n",
                            "      <td>8.3</td>\n",
                            "    </tr>\n",
                            "    <tr>\n",
                            "      <th>11164</th>\n",
                            "      <td>020d362ad9aecb1942935475f1dc5f10</td>\n",
                            "      <td>0.0</td>\n",
                            "    </tr>\n",
                            "    <tr>\n",
                            "      <th>39572</th>\n",
                            "      <td>026f9509c92f18fdea01c391a9d401a8</td>\n",
                            "      <td>8.6</td>\n",
                            "    </tr>\n",
                            "  </tbody>\n",
                            "</table>\n",
                            "</div>"
                        ],
                        "text/plain": [
                            "                               discente  media_final\n",
                            "35647  005c14d7c07bf7980b60c703f99c5ee7          5.8\n",
                            "7413   0107fd69d8cd7e3d30dede96fb68bfe5          7.2\n",
                            "28538  014789363f7940922e71e710ee9d22bc          8.3\n",
                            "11164  020d362ad9aecb1942935475f1dc5f10          0.0\n",
                            "39572  026f9509c92f18fdea01c391a9d401a8          8.6"
                        ]
                    },
                    "execution_count": 234,
                    "metadata": {},
                    "output_type": "execute_result"
                }
            ],
            "source": [
                "tgs = df_dados_filtrado.loc[(df_dados_filtrado['id_componente'] == 62707) |\n",
                "                                               (df_dados_filtrado['id_componente'] == 2037008)&\n",
                "                                             (df_dados_filtrado['ano'] < 20222)]\n",
                "#Separando atributos\n",
                "tgs = tgs[['discente', 'media_final']]\n",
                "tgs.head()"
            ]
        },
        {
            "cell_type": "code",
            "execution_count": 235,
            "metadata": {},
            "outputs": [],
            "source": [
                "tgs = tgs.groupby('discente').mean().reset_index()"
            ]
        },
        {
            "attachments": {},
            "cell_type": "markdown",
            "metadata": {},
            "source": [
                "### **Terceiro Período**"
            ]
        },
        {
            "attachments": {},
            "cell_type": "markdown",
            "metadata": {},
            "source": [
                "\n",
                "```\n",
                "PROGRAMAÇÃO ORIENTADA A OBJETOS I - 60h\n",
                "FUNDAMENTOS DE SISTEMAS DE INFORMAÇÃO - 60h\n",
                "ÁLGEBRA LINEAR - 60h\n",
                "ORGANIZAÇÃO, SISTEMAS E MÉTODOS - 60h\n",
                "ESTRUTURA DE DADOS - 90h\n",
                "```"
            ]
        },
        {
            "attachments": {},
            "cell_type": "markdown",
            "metadata": {},
            "source": [
                "#### PROGRAMAÇÃO ORIENTADA A OBJETOS I"
            ]
        },
        {
            "cell_type": "code",
            "execution_count": 236,
            "metadata": {},
            "outputs": [
                {
                    "data": {
                        "text/html": [
                            "<div>\n",
                            "<style scoped>\n",
                            "    .dataframe tbody tr th:only-of-type {\n",
                            "        vertical-align: middle;\n",
                            "    }\n",
                            "\n",
                            "    .dataframe tbody tr th {\n",
                            "        vertical-align: top;\n",
                            "    }\n",
                            "\n",
                            "    .dataframe thead th {\n",
                            "        text-align: right;\n",
                            "    }\n",
                            "</style>\n",
                            "<table border=\"1\" class=\"dataframe\">\n",
                            "  <thead>\n",
                            "    <tr style=\"text-align: right;\">\n",
                            "      <th></th>\n",
                            "      <th>discente</th>\n",
                            "      <th>media_final</th>\n",
                            "    </tr>\n",
                            "  </thead>\n",
                            "  <tbody>\n",
                            "    <tr>\n",
                            "      <th>39175</th>\n",
                            "      <td>005c14d7c07bf7980b60c703f99c5ee7</td>\n",
                            "      <td>5.6</td>\n",
                            "    </tr>\n",
                            "    <tr>\n",
                            "      <th>32927</th>\n",
                            "      <td>014789363f7940922e71e710ee9d22bc</td>\n",
                            "      <td>9.0</td>\n",
                            "    </tr>\n",
                            "    <tr>\n",
                            "      <th>32924</th>\n",
                            "      <td>026f9509c92f18fdea01c391a9d401a8</td>\n",
                            "      <td>7.5</td>\n",
                            "    </tr>\n",
                            "    <tr>\n",
                            "      <th>4665</th>\n",
                            "      <td>02dad20dec819bcc384cc6fa0b7ecbf9</td>\n",
                            "      <td>5.0</td>\n",
                            "    </tr>\n",
                            "    <tr>\n",
                            "      <th>1809</th>\n",
                            "      <td>02dad20dec819bcc384cc6fa0b7ecbf9</td>\n",
                            "      <td>0.8</td>\n",
                            "    </tr>\n",
                            "  </tbody>\n",
                            "</table>\n",
                            "</div>"
                        ],
                        "text/plain": [
                            "                               discente  media_final\n",
                            "39175  005c14d7c07bf7980b60c703f99c5ee7          5.6\n",
                            "32927  014789363f7940922e71e710ee9d22bc          9.0\n",
                            "32924  026f9509c92f18fdea01c391a9d401a8          7.5\n",
                            "4665   02dad20dec819bcc384cc6fa0b7ecbf9          5.0\n",
                            "1809   02dad20dec819bcc384cc6fa0b7ecbf9          0.8"
                        ]
                    },
                    "execution_count": 236,
                    "metadata": {},
                    "output_type": "execute_result"
                }
            ],
            "source": [
                "poo_1 = df_dados_filtrado.loc[(df_dados_filtrado['id_componente'] == 2037012) |\n",
                "                                               (df_dados_filtrado['id_componente'] == 62750)&\n",
                "                                             (df_dados_filtrado['ano'] < 20222)]\n",
                "#Separando atributos\n",
                "poo_1 = poo_1[['discente', 'media_final']]\n",
                "poo_1.head()"
            ]
        },
        {
            "cell_type": "code",
            "execution_count": 237,
            "metadata": {},
            "outputs": [],
            "source": [
                "poo_1 = poo_1.groupby('discente').mean().reset_index()"
            ]
        },
        {
            "attachments": {},
            "cell_type": "markdown",
            "metadata": {},
            "source": [
                "#### FUNDAMENTOS DE SISTEMAS DE INFORMAÇÃO"
            ]
        },
        {
            "cell_type": "code",
            "execution_count": 238,
            "metadata": {},
            "outputs": [
                {
                    "data": {
                        "text/html": [
                            "<div>\n",
                            "<style scoped>\n",
                            "    .dataframe tbody tr th:only-of-type {\n",
                            "        vertical-align: middle;\n",
                            "    }\n",
                            "\n",
                            "    .dataframe tbody tr th {\n",
                            "        vertical-align: top;\n",
                            "    }\n",
                            "\n",
                            "    .dataframe thead th {\n",
                            "        text-align: right;\n",
                            "    }\n",
                            "</style>\n",
                            "<table border=\"1\" class=\"dataframe\">\n",
                            "  <thead>\n",
                            "    <tr style=\"text-align: right;\">\n",
                            "      <th></th>\n",
                            "      <th>discente</th>\n",
                            "      <th>media_final</th>\n",
                            "    </tr>\n",
                            "  </thead>\n",
                            "  <tbody>\n",
                            "    <tr>\n",
                            "      <th>43635</th>\n",
                            "      <td>005c14d7c07bf7980b60c703f99c5ee7</td>\n",
                            "      <td>9.0</td>\n",
                            "    </tr>\n",
                            "    <tr>\n",
                            "      <th>30348</th>\n",
                            "      <td>014789363f7940922e71e710ee9d22bc</td>\n",
                            "      <td>7.7</td>\n",
                            "    </tr>\n",
                            "    <tr>\n",
                            "      <th>43599</th>\n",
                            "      <td>026f9509c92f18fdea01c391a9d401a8</td>\n",
                            "      <td>9.8</td>\n",
                            "    </tr>\n",
                            "    <tr>\n",
                            "      <th>1947</th>\n",
                            "      <td>02dad20dec819bcc384cc6fa0b7ecbf9</td>\n",
                            "      <td>8.0</td>\n",
                            "    </tr>\n",
                            "    <tr>\n",
                            "      <th>27251</th>\n",
                            "      <td>0347e118dc1347900f6bf3cdbb213dbd</td>\n",
                            "      <td>7.3</td>\n",
                            "    </tr>\n",
                            "  </tbody>\n",
                            "</table>\n",
                            "</div>"
                        ],
                        "text/plain": [
                            "                               discente  media_final\n",
                            "43635  005c14d7c07bf7980b60c703f99c5ee7          9.0\n",
                            "30348  014789363f7940922e71e710ee9d22bc          7.7\n",
                            "43599  026f9509c92f18fdea01c391a9d401a8          9.8\n",
                            "1947   02dad20dec819bcc384cc6fa0b7ecbf9          8.0\n",
                            "27251  0347e118dc1347900f6bf3cdbb213dbd          7.3"
                        ]
                    },
                    "execution_count": 238,
                    "metadata": {},
                    "output_type": "execute_result"
                }
            ],
            "source": [
                "fundamentos_si = df_dados_filtrado.loc[(df_dados_filtrado['id_componente'] == 2037011) |\n",
                "                                               (df_dados_filtrado['id_componente'] == 62709)&\n",
                "                                             (df_dados_filtrado['ano'] < 20222)]\n",
                "#Separando atributos\n",
                "fundamentos_si = fundamentos_si[['discente', 'media_final']]\n",
                "fundamentos_si.head()"
            ]
        },
        {
            "cell_type": "code",
            "execution_count": 239,
            "metadata": {},
            "outputs": [],
            "source": [
                "fundamentos_si = fundamentos_si.groupby('discente').mean().reset_index()"
            ]
        },
        {
            "attachments": {},
            "cell_type": "markdown",
            "metadata": {},
            "source": [
                "#### ÁLGEBRA LINEAR"
            ]
        },
        {
            "cell_type": "code",
            "execution_count": 240,
            "metadata": {},
            "outputs": [
                {
                    "data": {
                        "text/html": [
                            "<div>\n",
                            "<style scoped>\n",
                            "    .dataframe tbody tr th:only-of-type {\n",
                            "        vertical-align: middle;\n",
                            "    }\n",
                            "\n",
                            "    .dataframe tbody tr th {\n",
                            "        vertical-align: top;\n",
                            "    }\n",
                            "\n",
                            "    .dataframe thead th {\n",
                            "        text-align: right;\n",
                            "    }\n",
                            "</style>\n",
                            "<table border=\"1\" class=\"dataframe\">\n",
                            "  <thead>\n",
                            "    <tr style=\"text-align: right;\">\n",
                            "      <th></th>\n",
                            "      <th>discente</th>\n",
                            "      <th>media_final</th>\n",
                            "    </tr>\n",
                            "  </thead>\n",
                            "  <tbody>\n",
                            "    <tr>\n",
                            "      <th>49827</th>\n",
                            "      <td>005c14d7c07bf7980b60c703f99c5ee7</td>\n",
                            "      <td>0.0</td>\n",
                            "    </tr>\n",
                            "    <tr>\n",
                            "      <th>46184</th>\n",
                            "      <td>005c14d7c07bf7980b60c703f99c5ee7</td>\n",
                            "      <td>0.0</td>\n",
                            "    </tr>\n",
                            "    <tr>\n",
                            "      <th>38468</th>\n",
                            "      <td>014789363f7940922e71e710ee9d22bc</td>\n",
                            "      <td>5.9</td>\n",
                            "    </tr>\n",
                            "    <tr>\n",
                            "      <th>43111</th>\n",
                            "      <td>026f9509c92f18fdea01c391a9d401a8</td>\n",
                            "      <td>5.0</td>\n",
                            "    </tr>\n",
                            "    <tr>\n",
                            "      <th>2348</th>\n",
                            "      <td>02dad20dec819bcc384cc6fa0b7ecbf9</td>\n",
                            "      <td>5.0</td>\n",
                            "    </tr>\n",
                            "  </tbody>\n",
                            "</table>\n",
                            "</div>"
                        ],
                        "text/plain": [
                            "                               discente  media_final\n",
                            "49827  005c14d7c07bf7980b60c703f99c5ee7          0.0\n",
                            "46184  005c14d7c07bf7980b60c703f99c5ee7          0.0\n",
                            "38468  014789363f7940922e71e710ee9d22bc          5.9\n",
                            "43111  026f9509c92f18fdea01c391a9d401a8          5.0\n",
                            "2348   02dad20dec819bcc384cc6fa0b7ecbf9          5.0"
                        ]
                    },
                    "execution_count": 240,
                    "metadata": {},
                    "output_type": "execute_result"
                }
            ],
            "source": [
                "algebra = df_dados_filtrado.loc[(df_dados_filtrado['id_componente'] == 2037016) |\n",
                "                                               (df_dados_filtrado['id_componente'] == 62710)&\n",
                "                                             (df_dados_filtrado['ano'] < 20222)]\n",
                "#Separando atributos\n",
                "algebra = algebra[['discente', 'media_final']]\n",
                "algebra.head()"
            ]
        },
        {
            "cell_type": "code",
            "execution_count": 241,
            "metadata": {},
            "outputs": [],
            "source": [
                "algebra = algebra.groupby('discente').mean().reset_index()"
            ]
        },
        {
            "attachments": {},
            "cell_type": "markdown",
            "metadata": {},
            "source": [
                "#### ORGANIZAÇÃO, SISTEMAS E MÉTODOS"
            ]
        },
        {
            "cell_type": "code",
            "execution_count": 242,
            "metadata": {},
            "outputs": [
                {
                    "data": {
                        "text/html": [
                            "<div>\n",
                            "<style scoped>\n",
                            "    .dataframe tbody tr th:only-of-type {\n",
                            "        vertical-align: middle;\n",
                            "    }\n",
                            "\n",
                            "    .dataframe tbody tr th {\n",
                            "        vertical-align: top;\n",
                            "    }\n",
                            "\n",
                            "    .dataframe thead th {\n",
                            "        text-align: right;\n",
                            "    }\n",
                            "</style>\n",
                            "<table border=\"1\" class=\"dataframe\">\n",
                            "  <thead>\n",
                            "    <tr style=\"text-align: right;\">\n",
                            "      <th></th>\n",
                            "      <th>discente</th>\n",
                            "      <th>media_final</th>\n",
                            "    </tr>\n",
                            "  </thead>\n",
                            "  <tbody>\n",
                            "    <tr>\n",
                            "      <th>38770</th>\n",
                            "      <td>005c14d7c07bf7980b60c703f99c5ee7</td>\n",
                            "      <td>8.1</td>\n",
                            "    </tr>\n",
                            "    <tr>\n",
                            "      <th>31189</th>\n",
                            "      <td>014789363f7940922e71e710ee9d22bc</td>\n",
                            "      <td>6.0</td>\n",
                            "    </tr>\n",
                            "    <tr>\n",
                            "      <th>31183</th>\n",
                            "      <td>026f9509c92f18fdea01c391a9d401a8</td>\n",
                            "      <td>6.5</td>\n",
                            "    </tr>\n",
                            "    <tr>\n",
                            "      <th>2620</th>\n",
                            "      <td>02dad20dec819bcc384cc6fa0b7ecbf9</td>\n",
                            "      <td>2.7</td>\n",
                            "    </tr>\n",
                            "    <tr>\n",
                            "      <th>4208</th>\n",
                            "      <td>02dad20dec819bcc384cc6fa0b7ecbf9</td>\n",
                            "      <td>7.2</td>\n",
                            "    </tr>\n",
                            "  </tbody>\n",
                            "</table>\n",
                            "</div>"
                        ],
                        "text/plain": [
                            "                               discente  media_final\n",
                            "38770  005c14d7c07bf7980b60c703f99c5ee7          8.1\n",
                            "31189  014789363f7940922e71e710ee9d22bc          6.0\n",
                            "31183  026f9509c92f18fdea01c391a9d401a8          6.5\n",
                            "2620   02dad20dec819bcc384cc6fa0b7ecbf9          2.7\n",
                            "4208   02dad20dec819bcc384cc6fa0b7ecbf9          7.2"
                        ]
                    },
                    "execution_count": 242,
                    "metadata": {},
                    "output_type": "execute_result"
                }
            ],
            "source": [
                "osm = df_dados_filtrado.loc[(df_dados_filtrado['id_componente'] == 62751) |\n",
                "                                               (df_dados_filtrado['id_componente'] == 2037013)&\n",
                "                                             (df_dados_filtrado['ano'] < 20222)]\n",
                "#Separando atributos\n",
                "osm = osm[['discente', 'media_final']]\n",
                "osm.head()"
            ]
        },
        {
            "cell_type": "code",
            "execution_count": 243,
            "metadata": {},
            "outputs": [],
            "source": [
                "osm = osm.groupby('discente').mean().reset_index()"
            ]
        },
        {
            "attachments": {},
            "cell_type": "markdown",
            "metadata": {},
            "source": [
                "#### ESTRUTURA DE DADOS"
            ]
        },
        {
            "cell_type": "code",
            "execution_count": 244,
            "metadata": {},
            "outputs": [
                {
                    "data": {
                        "text/html": [
                            "<div>\n",
                            "<style scoped>\n",
                            "    .dataframe tbody tr th:only-of-type {\n",
                            "        vertical-align: middle;\n",
                            "    }\n",
                            "\n",
                            "    .dataframe tbody tr th {\n",
                            "        vertical-align: top;\n",
                            "    }\n",
                            "\n",
                            "    .dataframe thead th {\n",
                            "        text-align: right;\n",
                            "    }\n",
                            "</style>\n",
                            "<table border=\"1\" class=\"dataframe\">\n",
                            "  <thead>\n",
                            "    <tr style=\"text-align: right;\">\n",
                            "      <th></th>\n",
                            "      <th>discente</th>\n",
                            "      <th>media_final</th>\n",
                            "    </tr>\n",
                            "  </thead>\n",
                            "  <tbody>\n",
                            "    <tr>\n",
                            "      <th>41950</th>\n",
                            "      <td>005c14d7c07bf7980b60c703f99c5ee7</td>\n",
                            "      <td>0.0</td>\n",
                            "    </tr>\n",
                            "    <tr>\n",
                            "      <th>48039</th>\n",
                            "      <td>005c14d7c07bf7980b60c703f99c5ee7</td>\n",
                            "      <td>0.0</td>\n",
                            "    </tr>\n",
                            "    <tr>\n",
                            "      <th>48864</th>\n",
                            "      <td>005c14d7c07bf7980b60c703f99c5ee7</td>\n",
                            "      <td>0.0</td>\n",
                            "    </tr>\n",
                            "    <tr>\n",
                            "      <th>37162</th>\n",
                            "      <td>014789363f7940922e71e710ee9d22bc</td>\n",
                            "      <td>2.7</td>\n",
                            "    </tr>\n",
                            "    <tr>\n",
                            "      <th>39048</th>\n",
                            "      <td>014789363f7940922e71e710ee9d22bc</td>\n",
                            "      <td>6.1</td>\n",
                            "    </tr>\n",
                            "  </tbody>\n",
                            "</table>\n",
                            "</div>"
                        ],
                        "text/plain": [
                            "                               discente  media_final\n",
                            "41950  005c14d7c07bf7980b60c703f99c5ee7          0.0\n",
                            "48039  005c14d7c07bf7980b60c703f99c5ee7          0.0\n",
                            "48864  005c14d7c07bf7980b60c703f99c5ee7          0.0\n",
                            "37162  014789363f7940922e71e710ee9d22bc          2.7\n",
                            "39048  014789363f7940922e71e710ee9d22bc          6.1"
                        ]
                    },
                    "execution_count": 244,
                    "metadata": {},
                    "output_type": "execute_result"
                }
            ],
            "source": [
                "ed = df_dados_filtrado.loc[(df_dados_filtrado['id_componente'] == 2054351) |\n",
                "                                               (df_dados_filtrado['id_componente'] == 62749)&\n",
                "                                             (df_dados_filtrado['ano'] < 20222)]\n",
                "#Separando atributos\n",
                "ed = ed[['discente', 'media_final']]\n",
                "ed.head()"
            ]
        },
        {
            "cell_type": "code",
            "execution_count": 245,
            "metadata": {},
            "outputs": [],
            "source": [
                "ed = ed.groupby('discente').mean().reset_index()"
            ]
        },
        {
            "attachments": {},
            "cell_type": "markdown",
            "metadata": {},
            "source": [
                "### **Quarto Período**"
            ]
        },
        {
            "attachments": {},
            "cell_type": "markdown",
            "metadata": {},
            "source": [
                "\n",
                "```\n",
                "ARQUITETURA DE COMPUTADORES - 60h\n",
                "PROGRAMAÇÃO WEB - 60h\n",
                "PROBABILIDADE E ESTATÍSTICA - 60h\n",
                "BANCO DE DADOS - 60h\n",
                "ENGENHARIA DE SOFTWARE I - 60h\n",
                "```"
            ]
        },
        {
            "attachments": {},
            "cell_type": "markdown",
            "metadata": {},
            "source": [
                "#### ARQUITETURA DE COMPUTADORES"
            ]
        },
        {
            "cell_type": "code",
            "execution_count": 246,
            "metadata": {},
            "outputs": [
                {
                    "data": {
                        "text/html": [
                            "<div>\n",
                            "<style scoped>\n",
                            "    .dataframe tbody tr th:only-of-type {\n",
                            "        vertical-align: middle;\n",
                            "    }\n",
                            "\n",
                            "    .dataframe tbody tr th {\n",
                            "        vertical-align: top;\n",
                            "    }\n",
                            "\n",
                            "    .dataframe thead th {\n",
                            "        text-align: right;\n",
                            "    }\n",
                            "</style>\n",
                            "<table border=\"1\" class=\"dataframe\">\n",
                            "  <thead>\n",
                            "    <tr style=\"text-align: right;\">\n",
                            "      <th></th>\n",
                            "      <th>discente</th>\n",
                            "      <th>media_final</th>\n",
                            "    </tr>\n",
                            "  </thead>\n",
                            "  <tbody>\n",
                            "    <tr>\n",
                            "      <th>39672</th>\n",
                            "      <td>005c14d7c07bf7980b60c703f99c5ee7</td>\n",
                            "      <td>1.6</td>\n",
                            "    </tr>\n",
                            "    <tr>\n",
                            "      <th>43379</th>\n",
                            "      <td>005c14d7c07bf7980b60c703f99c5ee7</td>\n",
                            "      <td>9.0</td>\n",
                            "    </tr>\n",
                            "    <tr>\n",
                            "      <th>39650</th>\n",
                            "      <td>014789363f7940922e71e710ee9d22bc</td>\n",
                            "      <td>5.0</td>\n",
                            "    </tr>\n",
                            "    <tr>\n",
                            "      <th>32231</th>\n",
                            "      <td>014789363f7940922e71e710ee9d22bc</td>\n",
                            "      <td>0.0</td>\n",
                            "    </tr>\n",
                            "    <tr>\n",
                            "      <th>35331</th>\n",
                            "      <td>014789363f7940922e71e710ee9d22bc</td>\n",
                            "      <td>0.7</td>\n",
                            "    </tr>\n",
                            "  </tbody>\n",
                            "</table>\n",
                            "</div>"
                        ],
                        "text/plain": [
                            "                               discente  media_final\n",
                            "39672  005c14d7c07bf7980b60c703f99c5ee7          1.6\n",
                            "43379  005c14d7c07bf7980b60c703f99c5ee7          9.0\n",
                            "39650  014789363f7940922e71e710ee9d22bc          5.0\n",
                            "32231  014789363f7940922e71e710ee9d22bc          0.0\n",
                            "35331  014789363f7940922e71e710ee9d22bc          0.7"
                        ]
                    },
                    "execution_count": 246,
                    "metadata": {},
                    "output_type": "execute_result"
                }
            ],
            "source": [
                "arquitetura = df_dados_filtrado.loc[(df_dados_filtrado['id_componente'] == 2037018) |\n",
                "                                               (df_dados_filtrado['id_componente'] == 62711)&\n",
                "                                             (df_dados_filtrado['ano'] < 20222)]\n",
                "#Separando atributos\n",
                "arquitetura = arquitetura[['discente', 'media_final']]\n",
                "arquitetura.head()"
            ]
        },
        {
            "cell_type": "code",
            "execution_count": 247,
            "metadata": {},
            "outputs": [],
            "source": [
                "arquitetura = arquitetura.groupby('discente').mean().reset_index()"
            ]
        },
        {
            "attachments": {},
            "cell_type": "markdown",
            "metadata": {},
            "source": [
                "#### PROGRAMAÇÃO WEB"
            ]
        },
        {
            "cell_type": "code",
            "execution_count": 248,
            "metadata": {},
            "outputs": [
                {
                    "data": {
                        "text/html": [
                            "<div>\n",
                            "<style scoped>\n",
                            "    .dataframe tbody tr th:only-of-type {\n",
                            "        vertical-align: middle;\n",
                            "    }\n",
                            "\n",
                            "    .dataframe tbody tr th {\n",
                            "        vertical-align: top;\n",
                            "    }\n",
                            "\n",
                            "    .dataframe thead th {\n",
                            "        text-align: right;\n",
                            "    }\n",
                            "</style>\n",
                            "<table border=\"1\" class=\"dataframe\">\n",
                            "  <thead>\n",
                            "    <tr style=\"text-align: right;\">\n",
                            "      <th></th>\n",
                            "      <th>discente</th>\n",
                            "      <th>media_final</th>\n",
                            "    </tr>\n",
                            "  </thead>\n",
                            "  <tbody>\n",
                            "    <tr>\n",
                            "      <th>44971</th>\n",
                            "      <td>005c14d7c07bf7980b60c703f99c5ee7</td>\n",
                            "      <td>8.7</td>\n",
                            "    </tr>\n",
                            "    <tr>\n",
                            "      <th>34707</th>\n",
                            "      <td>014789363f7940922e71e710ee9d22bc</td>\n",
                            "      <td>7.8</td>\n",
                            "    </tr>\n",
                            "    <tr>\n",
                            "      <th>42545</th>\n",
                            "      <td>014f0dec46fe7a9c5836527662e1df10</td>\n",
                            "      <td>5.4</td>\n",
                            "    </tr>\n",
                            "    <tr>\n",
                            "      <th>34710</th>\n",
                            "      <td>026f9509c92f18fdea01c391a9d401a8</td>\n",
                            "      <td>6.6</td>\n",
                            "    </tr>\n",
                            "    <tr>\n",
                            "      <th>13211</th>\n",
                            "      <td>057b5f3791c59f7ea9673943a63ee7ea</td>\n",
                            "      <td>7.6</td>\n",
                            "    </tr>\n",
                            "  </tbody>\n",
                            "</table>\n",
                            "</div>"
                        ],
                        "text/plain": [
                            "                               discente  media_final\n",
                            "44971  005c14d7c07bf7980b60c703f99c5ee7          8.7\n",
                            "34707  014789363f7940922e71e710ee9d22bc          7.8\n",
                            "42545  014f0dec46fe7a9c5836527662e1df10          5.4\n",
                            "34710  026f9509c92f18fdea01c391a9d401a8          6.6\n",
                            "13211  057b5f3791c59f7ea9673943a63ee7ea          7.6"
                        ]
                    },
                    "execution_count": 248,
                    "metadata": {},
                    "output_type": "execute_result"
                }
            ],
            "source": [
                "p_web = df_dados_filtrado.loc[(df_dados_filtrado['id_componente'] == 2037021) |\n",
                "                                               (df_dados_filtrado['id_componente'] == 62752)&\n",
                "                                             (df_dados_filtrado['ano'] < 20222)]\n",
                "#Separando atributos\n",
                "p_web = p_web[['discente', 'media_final']]\n",
                "p_web.head()"
            ]
        },
        {
            "attachments": {},
            "cell_type": "markdown",
            "metadata": {},
            "source": [
                "#### PROBABILIDADE E ESTATÍSTICA"
            ]
        },
        {
            "cell_type": "code",
            "execution_count": 249,
            "metadata": {},
            "outputs": [
                {
                    "data": {
                        "text/html": [
                            "<div>\n",
                            "<style scoped>\n",
                            "    .dataframe tbody tr th:only-of-type {\n",
                            "        vertical-align: middle;\n",
                            "    }\n",
                            "\n",
                            "    .dataframe tbody tr th {\n",
                            "        vertical-align: top;\n",
                            "    }\n",
                            "\n",
                            "    .dataframe thead th {\n",
                            "        text-align: right;\n",
                            "    }\n",
                            "</style>\n",
                            "<table border=\"1\" class=\"dataframe\">\n",
                            "  <thead>\n",
                            "    <tr style=\"text-align: right;\">\n",
                            "      <th></th>\n",
                            "      <th>discente</th>\n",
                            "      <th>media_final</th>\n",
                            "    </tr>\n",
                            "  </thead>\n",
                            "  <tbody>\n",
                            "    <tr>\n",
                            "      <th>41282</th>\n",
                            "      <td>005c14d7c07bf7980b60c703f99c5ee7</td>\n",
                            "      <td>5.0</td>\n",
                            "    </tr>\n",
                            "    <tr>\n",
                            "      <th>44981</th>\n",
                            "      <td>014789363f7940922e71e710ee9d22bc</td>\n",
                            "      <td>9.7</td>\n",
                            "    </tr>\n",
                            "    <tr>\n",
                            "      <th>46886</th>\n",
                            "      <td>026f9509c92f18fdea01c391a9d401a8</td>\n",
                            "      <td>6.5</td>\n",
                            "    </tr>\n",
                            "    <tr>\n",
                            "      <th>41285</th>\n",
                            "      <td>029458a349548473ecd50f3ed942ddf7</td>\n",
                            "      <td>5.0</td>\n",
                            "    </tr>\n",
                            "    <tr>\n",
                            "      <th>3617</th>\n",
                            "      <td>02dad20dec819bcc384cc6fa0b7ecbf9</td>\n",
                            "      <td>8.4</td>\n",
                            "    </tr>\n",
                            "  </tbody>\n",
                            "</table>\n",
                            "</div>"
                        ],
                        "text/plain": [
                            "                               discente  media_final\n",
                            "41282  005c14d7c07bf7980b60c703f99c5ee7          5.0\n",
                            "44981  014789363f7940922e71e710ee9d22bc          9.7\n",
                            "46886  026f9509c92f18fdea01c391a9d401a8          6.5\n",
                            "41285  029458a349548473ecd50f3ed942ddf7          5.0\n",
                            "3617   02dad20dec819bcc384cc6fa0b7ecbf9          8.4"
                        ]
                    },
                    "execution_count": 249,
                    "metadata": {},
                    "output_type": "execute_result"
                }
            ],
            "source": [
                "probabilidade = df_dados_filtrado.loc[(df_dados_filtrado['id_componente'] == 2037009) |\n",
                "                                               (df_dados_filtrado['id_componente'] == 62712)&\n",
                "                                             (df_dados_filtrado['ano'] < 20222)]\n",
                "#Separando atributos\n",
                "probabilidade = probabilidade[['discente', 'media_final']]\n",
                "probabilidade.head()"
            ]
        },
        {
            "cell_type": "code",
            "execution_count": 250,
            "metadata": {},
            "outputs": [],
            "source": [
                "probabilidade = probabilidade.groupby('discente').mean().reset_index()"
            ]
        },
        {
            "attachments": {},
            "cell_type": "markdown",
            "metadata": {},
            "source": [
                "#### BANCO DE DADOS"
            ]
        },
        {
            "cell_type": "code",
            "execution_count": 251,
            "metadata": {},
            "outputs": [
                {
                    "data": {
                        "text/html": [
                            "<div>\n",
                            "<style scoped>\n",
                            "    .dataframe tbody tr th:only-of-type {\n",
                            "        vertical-align: middle;\n",
                            "    }\n",
                            "\n",
                            "    .dataframe tbody tr th {\n",
                            "        vertical-align: top;\n",
                            "    }\n",
                            "\n",
                            "    .dataframe thead th {\n",
                            "        text-align: right;\n",
                            "    }\n",
                            "</style>\n",
                            "<table border=\"1\" class=\"dataframe\">\n",
                            "  <thead>\n",
                            "    <tr style=\"text-align: right;\">\n",
                            "      <th></th>\n",
                            "      <th>discente</th>\n",
                            "      <th>media_final</th>\n",
                            "    </tr>\n",
                            "  </thead>\n",
                            "  <tbody>\n",
                            "    <tr>\n",
                            "      <th>39432</th>\n",
                            "      <td>005c14d7c07bf7980b60c703f99c5ee7</td>\n",
                            "      <td>5.7</td>\n",
                            "    </tr>\n",
                            "    <tr>\n",
                            "      <th>32258</th>\n",
                            "      <td>014789363f7940922e71e710ee9d22bc</td>\n",
                            "      <td>5.5</td>\n",
                            "    </tr>\n",
                            "    <tr>\n",
                            "      <th>41355</th>\n",
                            "      <td>014f0dec46fe7a9c5836527662e1df10</td>\n",
                            "      <td>2.9</td>\n",
                            "    </tr>\n",
                            "    <tr>\n",
                            "      <th>32268</th>\n",
                            "      <td>026f9509c92f18fdea01c391a9d401a8</td>\n",
                            "      <td>5.8</td>\n",
                            "    </tr>\n",
                            "    <tr>\n",
                            "      <th>7794</th>\n",
                            "      <td>057b5f3791c59f7ea9673943a63ee7ea</td>\n",
                            "      <td>5.3</td>\n",
                            "    </tr>\n",
                            "  </tbody>\n",
                            "</table>\n",
                            "</div>"
                        ],
                        "text/plain": [
                            "                               discente  media_final\n",
                            "39432  005c14d7c07bf7980b60c703f99c5ee7          5.7\n",
                            "32258  014789363f7940922e71e710ee9d22bc          5.5\n",
                            "41355  014f0dec46fe7a9c5836527662e1df10          2.9\n",
                            "32268  026f9509c92f18fdea01c391a9d401a8          5.8\n",
                            "7794   057b5f3791c59f7ea9673943a63ee7ea          5.3"
                        ]
                    },
                    "execution_count": 251,
                    "metadata": {},
                    "output_type": "execute_result"
                }
            ],
            "source": [
                "bd_1 = df_dados_filtrado.loc[(df_dados_filtrado['id_componente'] == 2037014) |\n",
                "                                               (df_dados_filtrado['id_componente'] == 62759)&\n",
                "                                             (df_dados_filtrado['ano'] < 20222)]\n",
                "#Separando atributos\n",
                "bd_1 = bd_1[['discente', 'media_final']]\n",
                "bd_1.head()"
            ]
        },
        {
            "cell_type": "code",
            "execution_count": 252,
            "metadata": {},
            "outputs": [],
            "source": [
                "bd_1 = bd_1.groupby('discente').mean().reset_index()"
            ]
        },
        {
            "attachments": {},
            "cell_type": "markdown",
            "metadata": {},
            "source": [
                "#### ENGENHARIA DE SOFTWARE I"
            ]
        },
        {
            "cell_type": "code",
            "execution_count": 253,
            "metadata": {},
            "outputs": [
                {
                    "data": {
                        "text/html": [
                            "<div>\n",
                            "<style scoped>\n",
                            "    .dataframe tbody tr th:only-of-type {\n",
                            "        vertical-align: middle;\n",
                            "    }\n",
                            "\n",
                            "    .dataframe tbody tr th {\n",
                            "        vertical-align: top;\n",
                            "    }\n",
                            "\n",
                            "    .dataframe thead th {\n",
                            "        text-align: right;\n",
                            "    }\n",
                            "</style>\n",
                            "<table border=\"1\" class=\"dataframe\">\n",
                            "  <thead>\n",
                            "    <tr style=\"text-align: right;\">\n",
                            "      <th></th>\n",
                            "      <th>discente</th>\n",
                            "      <th>media_final</th>\n",
                            "    </tr>\n",
                            "  </thead>\n",
                            "  <tbody>\n",
                            "    <tr>\n",
                            "      <th>47507</th>\n",
                            "      <td>005c14d7c07bf7980b60c703f99c5ee7</td>\n",
                            "      <td>1.7</td>\n",
                            "    </tr>\n",
                            "    <tr>\n",
                            "      <th>34179</th>\n",
                            "      <td>014789363f7940922e71e710ee9d22bc</td>\n",
                            "      <td>7.6</td>\n",
                            "    </tr>\n",
                            "    <tr>\n",
                            "      <th>34182</th>\n",
                            "      <td>026f9509c92f18fdea01c391a9d401a8</td>\n",
                            "      <td>8.1</td>\n",
                            "    </tr>\n",
                            "    <tr>\n",
                            "      <th>3384</th>\n",
                            "      <td>02dad20dec819bcc384cc6fa0b7ecbf9</td>\n",
                            "      <td>6.0</td>\n",
                            "    </tr>\n",
                            "    <tr>\n",
                            "      <th>7847</th>\n",
                            "      <td>04c4db33b712881ca8936fdc225bf153</td>\n",
                            "      <td>4.7</td>\n",
                            "    </tr>\n",
                            "  </tbody>\n",
                            "</table>\n",
                            "</div>"
                        ],
                        "text/plain": [
                            "                               discente  media_final\n",
                            "47507  005c14d7c07bf7980b60c703f99c5ee7          1.7\n",
                            "34179  014789363f7940922e71e710ee9d22bc          7.6\n",
                            "34182  026f9509c92f18fdea01c391a9d401a8          8.1\n",
                            "3384   02dad20dec819bcc384cc6fa0b7ecbf9          6.0\n",
                            "7847   04c4db33b712881ca8936fdc225bf153          4.7"
                        ]
                    },
                    "execution_count": 253,
                    "metadata": {},
                    "output_type": "execute_result"
                }
            ],
            "source": [
                "engenharia_1 = df_dados_filtrado.loc[(df_dados_filtrado['id_componente'] == 2037017) |\n",
                "                                               (df_dados_filtrado['id_componente'] == 62761)&\n",
                "                                             (df_dados_filtrado['ano'] < 20222)]\n",
                "#Separando atributos\n",
                "engenharia_1 = engenharia_1[['discente', 'media_final']]\n",
                "engenharia_1.head()"
            ]
        },
        {
            "cell_type": "code",
            "execution_count": 254,
            "metadata": {},
            "outputs": [],
            "source": [
                "engenharia_1 = engenharia_1.groupby('discente').mean().reset_index()"
            ]
        },
        {
            "attachments": {},
            "cell_type": "markdown",
            "metadata": {},
            "source": [
                "### **Quinto Período**"
            ]
        },
        {
            "attachments": {},
            "cell_type": "markdown",
            "metadata": {},
            "source": [
                "```\n",
                "PROGRAMAÇÃO ORIENTADA A OBJETOS II - 60h\n",
                "SISTEMAS OPERACIONAIS - 60h\n",
                "PROJETO E ADMINISTRAÇÃO DE BANCO DE DADOS - 60h\n",
                "ENGENHARIA DE SOFTWARE II - 60h\n",
                "```"
            ]
        },
        {
            "attachments": {},
            "cell_type": "markdown",
            "metadata": {},
            "source": [
                "#### PROGRAMAÇÃO ORIENTADA A OBJETOS II"
            ]
        },
        {
            "cell_type": "code",
            "execution_count": 255,
            "metadata": {},
            "outputs": [
                {
                    "data": {
                        "text/html": [
                            "<div>\n",
                            "<style scoped>\n",
                            "    .dataframe tbody tr th:only-of-type {\n",
                            "        vertical-align: middle;\n",
                            "    }\n",
                            "\n",
                            "    .dataframe tbody tr th {\n",
                            "        vertical-align: top;\n",
                            "    }\n",
                            "\n",
                            "    .dataframe thead th {\n",
                            "        text-align: right;\n",
                            "    }\n",
                            "</style>\n",
                            "<table border=\"1\" class=\"dataframe\">\n",
                            "  <thead>\n",
                            "    <tr style=\"text-align: right;\">\n",
                            "      <th></th>\n",
                            "      <th>discente</th>\n",
                            "      <th>media_final</th>\n",
                            "    </tr>\n",
                            "  </thead>\n",
                            "  <tbody>\n",
                            "    <tr>\n",
                            "      <th>46398</th>\n",
                            "      <td>005c14d7c07bf7980b60c703f99c5ee7</td>\n",
                            "      <td>6.8</td>\n",
                            "    </tr>\n",
                            "    <tr>\n",
                            "      <th>36268</th>\n",
                            "      <td>014789363f7940922e71e710ee9d22bc</td>\n",
                            "      <td>7.5</td>\n",
                            "    </tr>\n",
                            "    <tr>\n",
                            "      <th>43491</th>\n",
                            "      <td>014f0dec46fe7a9c5836527662e1df10</td>\n",
                            "      <td>5.0</td>\n",
                            "    </tr>\n",
                            "    <tr>\n",
                            "      <th>36274</th>\n",
                            "      <td>026f9509c92f18fdea01c391a9d401a8</td>\n",
                            "      <td>8.9</td>\n",
                            "    </tr>\n",
                            "    <tr>\n",
                            "      <th>11073</th>\n",
                            "      <td>02dad20dec819bcc384cc6fa0b7ecbf9</td>\n",
                            "      <td>0.0</td>\n",
                            "    </tr>\n",
                            "  </tbody>\n",
                            "</table>\n",
                            "</div>"
                        ],
                        "text/plain": [
                            "                               discente  media_final\n",
                            "46398  005c14d7c07bf7980b60c703f99c5ee7          6.8\n",
                            "36268  014789363f7940922e71e710ee9d22bc          7.5\n",
                            "43491  014f0dec46fe7a9c5836527662e1df10          5.0\n",
                            "36274  026f9509c92f18fdea01c391a9d401a8          8.9\n",
                            "11073  02dad20dec819bcc384cc6fa0b7ecbf9          0.0"
                        ]
                    },
                    "execution_count": 255,
                    "metadata": {},
                    "output_type": "execute_result"
                }
            ],
            "source": [
                "poo_2 = df_dados_filtrado.loc[(df_dados_filtrado['id_componente'] == 2037015) |\n",
                "                                               (df_dados_filtrado['id_componente'] == 62758)&\n",
                "                                             (df_dados_filtrado['ano'] < 20222)]\n",
                "#Separando atributos\n",
                "poo_2 = poo_2[['discente', 'media_final']]\n",
                "poo_2.head()"
            ]
        },
        {
            "cell_type": "code",
            "execution_count": 256,
            "metadata": {},
            "outputs": [],
            "source": [
                "poo_2 = poo_2.groupby('discente').mean().reset_index()"
            ]
        },
        {
            "attachments": {},
            "cell_type": "markdown",
            "metadata": {},
            "source": [
                "#### SISTEMAS OPERACIONAIS"
            ]
        },
        {
            "cell_type": "code",
            "execution_count": 257,
            "metadata": {},
            "outputs": [
                {
                    "data": {
                        "text/html": [
                            "<div>\n",
                            "<style scoped>\n",
                            "    .dataframe tbody tr th:only-of-type {\n",
                            "        vertical-align: middle;\n",
                            "    }\n",
                            "\n",
                            "    .dataframe tbody tr th {\n",
                            "        vertical-align: top;\n",
                            "    }\n",
                            "\n",
                            "    .dataframe thead th {\n",
                            "        text-align: right;\n",
                            "    }\n",
                            "</style>\n",
                            "<table border=\"1\" class=\"dataframe\">\n",
                            "  <thead>\n",
                            "    <tr style=\"text-align: right;\">\n",
                            "      <th></th>\n",
                            "      <th>discente</th>\n",
                            "      <th>media_final</th>\n",
                            "    </tr>\n",
                            "  </thead>\n",
                            "  <tbody>\n",
                            "    <tr>\n",
                            "      <th>46449</th>\n",
                            "      <td>005c14d7c07bf7980b60c703f99c5ee7</td>\n",
                            "      <td>7.5</td>\n",
                            "    </tr>\n",
                            "    <tr>\n",
                            "      <th>43694</th>\n",
                            "      <td>014789363f7940922e71e710ee9d22bc</td>\n",
                            "      <td>6.6</td>\n",
                            "    </tr>\n",
                            "    <tr>\n",
                            "      <th>32364</th>\n",
                            "      <td>026f9509c92f18fdea01c391a9d401a8</td>\n",
                            "      <td>7.0</td>\n",
                            "    </tr>\n",
                            "    <tr>\n",
                            "      <th>33979</th>\n",
                            "      <td>041a644db3db3f4b20175881c2248bb0</td>\n",
                            "      <td>7.3</td>\n",
                            "    </tr>\n",
                            "    <tr>\n",
                            "      <th>13734</th>\n",
                            "      <td>057b5f3791c59f7ea9673943a63ee7ea</td>\n",
                            "      <td>7.5</td>\n",
                            "    </tr>\n",
                            "  </tbody>\n",
                            "</table>\n",
                            "</div>"
                        ],
                        "text/plain": [
                            "                               discente  media_final\n",
                            "46449  005c14d7c07bf7980b60c703f99c5ee7          7.5\n",
                            "43694  014789363f7940922e71e710ee9d22bc          6.6\n",
                            "32364  026f9509c92f18fdea01c391a9d401a8          7.0\n",
                            "33979  041a644db3db3f4b20175881c2248bb0          7.3\n",
                            "13734  057b5f3791c59f7ea9673943a63ee7ea          7.5"
                        ]
                    },
                    "execution_count": 257,
                    "metadata": {},
                    "output_type": "execute_result"
                }
            ],
            "source": [
                "so = df_dados_filtrado.loc[(df_dados_filtrado['id_componente'] == 2037022) |\n",
                "                                               (df_dados_filtrado['id_componente'] == 62762)&\n",
                "                                             (df_dados_filtrado['ano'] < 20222)]\n",
                "#Separando atributos\n",
                "so = so[['discente', 'media_final']]\n",
                "so.head()"
            ]
        },
        {
            "cell_type": "code",
            "execution_count": 258,
            "metadata": {},
            "outputs": [],
            "source": [
                "so = so.groupby('discente').mean().reset_index()"
            ]
        },
        {
            "attachments": {},
            "cell_type": "markdown",
            "metadata": {},
            "source": [
                "#### PROJETO E ADMINISTRAÇÃO DE BANCO DE DADOS"
            ]
        },
        {
            "cell_type": "code",
            "execution_count": 259,
            "metadata": {},
            "outputs": [
                {
                    "data": {
                        "text/html": [
                            "<div>\n",
                            "<style scoped>\n",
                            "    .dataframe tbody tr th:only-of-type {\n",
                            "        vertical-align: middle;\n",
                            "    }\n",
                            "\n",
                            "    .dataframe tbody tr th {\n",
                            "        vertical-align: top;\n",
                            "    }\n",
                            "\n",
                            "    .dataframe thead th {\n",
                            "        text-align: right;\n",
                            "    }\n",
                            "</style>\n",
                            "<table border=\"1\" class=\"dataframe\">\n",
                            "  <thead>\n",
                            "    <tr style=\"text-align: right;\">\n",
                            "      <th></th>\n",
                            "      <th>discente</th>\n",
                            "      <th>media_final</th>\n",
                            "    </tr>\n",
                            "  </thead>\n",
                            "  <tbody>\n",
                            "    <tr>\n",
                            "      <th>50099</th>\n",
                            "      <td>005c14d7c07bf7980b60c703f99c5ee7</td>\n",
                            "      <td>0.0</td>\n",
                            "    </tr>\n",
                            "    <tr>\n",
                            "      <th>33069</th>\n",
                            "      <td>014789363f7940922e71e710ee9d22bc</td>\n",
                            "      <td>5.8</td>\n",
                            "    </tr>\n",
                            "    <tr>\n",
                            "      <th>33066</th>\n",
                            "      <td>026f9509c92f18fdea01c391a9d401a8</td>\n",
                            "      <td>7.3</td>\n",
                            "    </tr>\n",
                            "    <tr>\n",
                            "      <th>33045</th>\n",
                            "      <td>041a644db3db3f4b20175881c2248bb0</td>\n",
                            "      <td>6.2</td>\n",
                            "    </tr>\n",
                            "    <tr>\n",
                            "      <th>13826</th>\n",
                            "      <td>057b5f3791c59f7ea9673943a63ee7ea</td>\n",
                            "      <td>7.9</td>\n",
                            "    </tr>\n",
                            "  </tbody>\n",
                            "</table>\n",
                            "</div>"
                        ],
                        "text/plain": [
                            "                               discente  media_final\n",
                            "50099  005c14d7c07bf7980b60c703f99c5ee7          0.0\n",
                            "33069  014789363f7940922e71e710ee9d22bc          5.8\n",
                            "33066  026f9509c92f18fdea01c391a9d401a8          7.3\n",
                            "33045  041a644db3db3f4b20175881c2248bb0          6.2\n",
                            "13826  057b5f3791c59f7ea9673943a63ee7ea          7.9"
                        ]
                    },
                    "execution_count": 259,
                    "metadata": {},
                    "output_type": "execute_result"
                }
            ],
            "source": [
                "bd_2 = df_dados_filtrado.loc[(df_dados_filtrado['id_componente'] == 2037019) |\n",
                "                                               (df_dados_filtrado['id_componente'] == 62765)&\n",
                "                                             (df_dados_filtrado['ano'] < 20222)]\n",
                "#Separando atributos\n",
                "bd_2 = bd_2[['discente', 'media_final']]\n",
                "bd_2.head()"
            ]
        },
        {
            "cell_type": "code",
            "execution_count": 260,
            "metadata": {},
            "outputs": [],
            "source": [
                "bd_2 =bd_2.groupby('discente').mean().reset_index()"
            ]
        },
        {
            "attachments": {},
            "cell_type": "markdown",
            "metadata": {},
            "source": [
                "#### ENGENHARIA DE SOFTWARE II"
            ]
        },
        {
            "cell_type": "code",
            "execution_count": 261,
            "metadata": {},
            "outputs": [
                {
                    "data": {
                        "text/html": [
                            "<div>\n",
                            "<style scoped>\n",
                            "    .dataframe tbody tr th:only-of-type {\n",
                            "        vertical-align: middle;\n",
                            "    }\n",
                            "\n",
                            "    .dataframe tbody tr th {\n",
                            "        vertical-align: top;\n",
                            "    }\n",
                            "\n",
                            "    .dataframe thead th {\n",
                            "        text-align: right;\n",
                            "    }\n",
                            "</style>\n",
                            "<table border=\"1\" class=\"dataframe\">\n",
                            "  <thead>\n",
                            "    <tr style=\"text-align: right;\">\n",
                            "      <th></th>\n",
                            "      <th>discente</th>\n",
                            "      <th>media_final</th>\n",
                            "    </tr>\n",
                            "  </thead>\n",
                            "  <tbody>\n",
                            "    <tr>\n",
                            "      <th>36303</th>\n",
                            "      <td>014789363f7940922e71e710ee9d22bc</td>\n",
                            "      <td>7.8</td>\n",
                            "    </tr>\n",
                            "    <tr>\n",
                            "      <th>36313</th>\n",
                            "      <td>026f9509c92f18fdea01c391a9d401a8</td>\n",
                            "      <td>6.4</td>\n",
                            "    </tr>\n",
                            "    <tr>\n",
                            "      <th>13875</th>\n",
                            "      <td>02dad20dec819bcc384cc6fa0b7ecbf9</td>\n",
                            "      <td>5.6</td>\n",
                            "    </tr>\n",
                            "    <tr>\n",
                            "      <th>33933</th>\n",
                            "      <td>041a644db3db3f4b20175881c2248bb0</td>\n",
                            "      <td>7.9</td>\n",
                            "    </tr>\n",
                            "    <tr>\n",
                            "      <th>9557</th>\n",
                            "      <td>057b5f3791c59f7ea9673943a63ee7ea</td>\n",
                            "      <td>7.3</td>\n",
                            "    </tr>\n",
                            "  </tbody>\n",
                            "</table>\n",
                            "</div>"
                        ],
                        "text/plain": [
                            "                               discente  media_final\n",
                            "36303  014789363f7940922e71e710ee9d22bc          7.8\n",
                            "36313  026f9509c92f18fdea01c391a9d401a8          6.4\n",
                            "13875  02dad20dec819bcc384cc6fa0b7ecbf9          5.6\n",
                            "33933  041a644db3db3f4b20175881c2248bb0          7.9\n",
                            "9557   057b5f3791c59f7ea9673943a63ee7ea          7.3"
                        ]
                    },
                    "execution_count": 261,
                    "metadata": {},
                    "output_type": "execute_result"
                }
            ],
            "source": [
                "engenharia_2 = df_dados_filtrado.loc[(df_dados_filtrado['id_componente'] == 62785) |\n",
                "                                               (df_dados_filtrado['id_componente'] == 2037020)&\n",
                "                                             (df_dados_filtrado['ano'] < 20222)]\n",
                "#Separando atributos\n",
                "engenharia_2 = engenharia_2[['discente', 'media_final']]\n",
                "engenharia_2.head()"
            ]
        },
        {
            "cell_type": "code",
            "execution_count": 262,
            "metadata": {},
            "outputs": [],
            "source": [
                "engenharia_2 = engenharia_2.groupby('discente').mean().reset_index()"
            ]
        },
        {
            "attachments": {},
            "cell_type": "markdown",
            "metadata": {},
            "source": [
                "### **Sexto Período**"
            ]
        },
        {
            "attachments": {},
            "cell_type": "markdown",
            "metadata": {},
            "source": [
                "\n",
                "\n",
                "```\n",
                "REDES DE COMPUTADORES - 60h\n",
                "GESTÃO DE PROJETO DE SOFTWARE - 60h\n",
                "EMPREENDENDORISMO EM INFORMÁTICA - 60h\n",
                "```"
            ]
        },
        {
            "attachments": {},
            "cell_type": "markdown",
            "metadata": {},
            "source": [
                "#### REDES DE COMPUTADORES"
            ]
        },
        {
            "cell_type": "code",
            "execution_count": 263,
            "metadata": {},
            "outputs": [
                {
                    "data": {
                        "text/html": [
                            "<div>\n",
                            "<style scoped>\n",
                            "    .dataframe tbody tr th:only-of-type {\n",
                            "        vertical-align: middle;\n",
                            "    }\n",
                            "\n",
                            "    .dataframe tbody tr th {\n",
                            "        vertical-align: top;\n",
                            "    }\n",
                            "\n",
                            "    .dataframe thead th {\n",
                            "        text-align: right;\n",
                            "    }\n",
                            "</style>\n",
                            "<table border=\"1\" class=\"dataframe\">\n",
                            "  <thead>\n",
                            "    <tr style=\"text-align: right;\">\n",
                            "      <th></th>\n",
                            "      <th>discente</th>\n",
                            "      <th>media_final</th>\n",
                            "    </tr>\n",
                            "  </thead>\n",
                            "  <tbody>\n",
                            "    <tr>\n",
                            "      <th>47246</th>\n",
                            "      <td>005c14d7c07bf7980b60c703f99c5ee7</td>\n",
                            "      <td>0.3</td>\n",
                            "    </tr>\n",
                            "    <tr>\n",
                            "      <th>42638</th>\n",
                            "      <td>014789363f7940922e71e710ee9d22bc</td>\n",
                            "      <td>6.5</td>\n",
                            "    </tr>\n",
                            "    <tr>\n",
                            "      <th>36503</th>\n",
                            "      <td>026f9509c92f18fdea01c391a9d401a8</td>\n",
                            "      <td>7.9</td>\n",
                            "    </tr>\n",
                            "    <tr>\n",
                            "      <th>36491</th>\n",
                            "      <td>041a644db3db3f4b20175881c2248bb0</td>\n",
                            "      <td>6.5</td>\n",
                            "    </tr>\n",
                            "    <tr>\n",
                            "      <th>13746</th>\n",
                            "      <td>057b5f3791c59f7ea9673943a63ee7ea</td>\n",
                            "      <td>8.2</td>\n",
                            "    </tr>\n",
                            "  </tbody>\n",
                            "</table>\n",
                            "</div>"
                        ],
                        "text/plain": [
                            "                               discente  media_final\n",
                            "47246  005c14d7c07bf7980b60c703f99c5ee7          0.3\n",
                            "42638  014789363f7940922e71e710ee9d22bc          6.5\n",
                            "36503  026f9509c92f18fdea01c391a9d401a8          7.9\n",
                            "36491  041a644db3db3f4b20175881c2248bb0          6.5\n",
                            "13746  057b5f3791c59f7ea9673943a63ee7ea          8.2"
                        ]
                    },
                    "execution_count": 263,
                    "metadata": {},
                    "output_type": "execute_result"
                }
            ],
            "source": [
                "redes = df_dados_filtrado.loc[(df_dados_filtrado['id_componente'] == 2037027) |\n",
                "                                               (df_dados_filtrado['id_componente'] == 62763)&\n",
                "                                             (df_dados_filtrado['ano'] < 20222)]\n",
                "#Separando atributos\n",
                "redes = redes[['discente', 'media_final']]\n",
                "redes.head()"
            ]
        },
        {
            "cell_type": "code",
            "execution_count": 264,
            "metadata": {},
            "outputs": [],
            "source": [
                "redes = redes.groupby('discente').mean().reset_index()"
            ]
        },
        {
            "attachments": {},
            "cell_type": "markdown",
            "metadata": {},
            "source": [
                "#### GESTÃO DE PROJETO DE SOFTWARE"
            ]
        },
        {
            "cell_type": "code",
            "execution_count": 265,
            "metadata": {},
            "outputs": [
                {
                    "data": {
                        "text/html": [
                            "<div>\n",
                            "<style scoped>\n",
                            "    .dataframe tbody tr th:only-of-type {\n",
                            "        vertical-align: middle;\n",
                            "    }\n",
                            "\n",
                            "    .dataframe tbody tr th {\n",
                            "        vertical-align: top;\n",
                            "    }\n",
                            "\n",
                            "    .dataframe thead th {\n",
                            "        text-align: right;\n",
                            "    }\n",
                            "</style>\n",
                            "<table border=\"1\" class=\"dataframe\">\n",
                            "  <thead>\n",
                            "    <tr style=\"text-align: right;\">\n",
                            "      <th></th>\n",
                            "      <th>discente</th>\n",
                            "      <th>media_final</th>\n",
                            "    </tr>\n",
                            "  </thead>\n",
                            "  <tbody>\n",
                            "    <tr>\n",
                            "      <th>38959</th>\n",
                            "      <td>014789363f7940922e71e710ee9d22bc</td>\n",
                            "      <td>7.8</td>\n",
                            "    </tr>\n",
                            "    <tr>\n",
                            "      <th>38973</th>\n",
                            "      <td>026f9509c92f18fdea01c391a9d401a8</td>\n",
                            "      <td>7.4</td>\n",
                            "    </tr>\n",
                            "    <tr>\n",
                            "      <th>35979</th>\n",
                            "      <td>041a644db3db3f4b20175881c2248bb0</td>\n",
                            "      <td>6.8</td>\n",
                            "    </tr>\n",
                            "    <tr>\n",
                            "      <th>11585</th>\n",
                            "      <td>057b5f3791c59f7ea9673943a63ee7ea</td>\n",
                            "      <td>4.2</td>\n",
                            "    </tr>\n",
                            "    <tr>\n",
                            "      <th>15470</th>\n",
                            "      <td>057b5f3791c59f7ea9673943a63ee7ea</td>\n",
                            "      <td>8.6</td>\n",
                            "    </tr>\n",
                            "  </tbody>\n",
                            "</table>\n",
                            "</div>"
                        ],
                        "text/plain": [
                            "                               discente  media_final\n",
                            "38959  014789363f7940922e71e710ee9d22bc          7.8\n",
                            "38973  026f9509c92f18fdea01c391a9d401a8          7.4\n",
                            "35979  041a644db3db3f4b20175881c2248bb0          6.8\n",
                            "11585  057b5f3791c59f7ea9673943a63ee7ea          4.2\n",
                            "15470  057b5f3791c59f7ea9673943a63ee7ea          8.6"
                        ]
                    },
                    "execution_count": 265,
                    "metadata": {},
                    "output_type": "execute_result"
                }
            ],
            "source": [
                "gestao = df_dados_filtrado.loc[(df_dados_filtrado['id_componente'] == 2037026) |\n",
                "                                               (df_dados_filtrado['id_componente'] == 62786)&\n",
                "                                             (df_dados_filtrado['ano'] < 20222)]\n",
                "#Separando atributos\n",
                "gestao = gestao[['discente', 'media_final']]\n",
                "gestao.head()"
            ]
        },
        {
            "cell_type": "code",
            "execution_count": 266,
            "metadata": {},
            "outputs": [],
            "source": [
                "gestao = gestao.groupby('discente').mean().reset_index()"
            ]
        },
        {
            "attachments": {},
            "cell_type": "markdown",
            "metadata": {},
            "source": [
                "#### EMPREENDENDORISMO EM INFORMÁTICA"
            ]
        },
        {
            "cell_type": "code",
            "execution_count": 267,
            "metadata": {},
            "outputs": [
                {
                    "data": {
                        "text/html": [
                            "<div>\n",
                            "<style scoped>\n",
                            "    .dataframe tbody tr th:only-of-type {\n",
                            "        vertical-align: middle;\n",
                            "    }\n",
                            "\n",
                            "    .dataframe tbody tr th {\n",
                            "        vertical-align: top;\n",
                            "    }\n",
                            "\n",
                            "    .dataframe thead th {\n",
                            "        text-align: right;\n",
                            "    }\n",
                            "</style>\n",
                            "<table border=\"1\" class=\"dataframe\">\n",
                            "  <thead>\n",
                            "    <tr style=\"text-align: right;\">\n",
                            "      <th></th>\n",
                            "      <th>discente</th>\n",
                            "      <th>emp_informatica</th>\n",
                            "    </tr>\n",
                            "  </thead>\n",
                            "  <tbody>\n",
                            "    <tr>\n",
                            "      <th>36190</th>\n",
                            "      <td>014789363f7940922e71e710ee9d22bc</td>\n",
                            "      <td>8.8</td>\n",
                            "    </tr>\n",
                            "    <tr>\n",
                            "      <th>36186</th>\n",
                            "      <td>026f9509c92f18fdea01c391a9d401a8</td>\n",
                            "      <td>8.5</td>\n",
                            "    </tr>\n",
                            "    <tr>\n",
                            "      <th>9965</th>\n",
                            "      <td>02dad20dec819bcc384cc6fa0b7ecbf9</td>\n",
                            "      <td>7.0</td>\n",
                            "    </tr>\n",
                            "    <tr>\n",
                            "      <th>28961</th>\n",
                            "      <td>0347e118dc1347900f6bf3cdbb213dbd</td>\n",
                            "      <td>6.3</td>\n",
                            "    </tr>\n",
                            "    <tr>\n",
                            "      <th>36165</th>\n",
                            "      <td>03e175180669d96268067a52a9970615</td>\n",
                            "      <td>8.7</td>\n",
                            "    </tr>\n",
                            "  </tbody>\n",
                            "</table>\n",
                            "</div>"
                        ],
                        "text/plain": [
                            "                               discente  emp_informatica\n",
                            "36190  014789363f7940922e71e710ee9d22bc              8.8\n",
                            "36186  026f9509c92f18fdea01c391a9d401a8              8.5\n",
                            "9965   02dad20dec819bcc384cc6fa0b7ecbf9              7.0\n",
                            "28961  0347e118dc1347900f6bf3cdbb213dbd              6.3\n",
                            "36165  03e175180669d96268067a52a9970615              8.7"
                        ]
                    },
                    "execution_count": 267,
                    "metadata": {},
                    "output_type": "execute_result"
                }
            ],
            "source": [
                "emp_informatica = df_dados_filtrado.loc[(df_dados_filtrado['id_componente'] == 2037052) |\n",
                "                                               (df_dados_filtrado['id_componente'] == 62713)&\n",
                "                                             (df_dados_filtrado['ano'] < 20222)]\n",
                "#Separando atributos\n",
                "emp_informatica = emp_informatica[['discente', 'media_final']]\n",
                "emp_informatica = emp_informatica.rename(columns={'media_final':'emp_informatica'})\n",
                "emp_informatica.head()"
            ]
        },
        {
            "cell_type": "code",
            "execution_count": 268,
            "metadata": {},
            "outputs": [],
            "source": [
                "emp_informatica = emp_informatica.groupby('discente').mean().reset_index()"
            ]
        },
        {
            "attachments": {},
            "cell_type": "markdown",
            "metadata": {},
            "source": [
                "#### CONTABILIDADE E CUSTOS"
            ]
        },
        {
            "cell_type": "code",
            "execution_count": 269,
            "metadata": {},
            "outputs": [
                {
                    "data": {
                        "text/html": [
                            "<div>\n",
                            "<style scoped>\n",
                            "    .dataframe tbody tr th:only-of-type {\n",
                            "        vertical-align: middle;\n",
                            "    }\n",
                            "\n",
                            "    .dataframe tbody tr th {\n",
                            "        vertical-align: top;\n",
                            "    }\n",
                            "\n",
                            "    .dataframe thead th {\n",
                            "        text-align: right;\n",
                            "    }\n",
                            "</style>\n",
                            "<table border=\"1\" class=\"dataframe\">\n",
                            "  <thead>\n",
                            "    <tr style=\"text-align: right;\">\n",
                            "      <th></th>\n",
                            "      <th>discente</th>\n",
                            "      <th>contabilidade</th>\n",
                            "    </tr>\n",
                            "  </thead>\n",
                            "  <tbody>\n",
                            "    <tr>\n",
                            "      <th>41647</th>\n",
                            "      <td>005c14d7c07bf7980b60c703f99c5ee7</td>\n",
                            "      <td>6.5</td>\n",
                            "    </tr>\n",
                            "    <tr>\n",
                            "      <th>36586</th>\n",
                            "      <td>014789363f7940922e71e710ee9d22bc</td>\n",
                            "      <td>6.4</td>\n",
                            "    </tr>\n",
                            "    <tr>\n",
                            "      <th>41643</th>\n",
                            "      <td>026f9509c92f18fdea01c391a9d401a8</td>\n",
                            "      <td>0.0</td>\n",
                            "    </tr>\n",
                            "    <tr>\n",
                            "      <th>45021</th>\n",
                            "      <td>026f9509c92f18fdea01c391a9d401a8</td>\n",
                            "      <td>7.2</td>\n",
                            "    </tr>\n",
                            "    <tr>\n",
                            "      <th>47182</th>\n",
                            "      <td>029458a349548473ecd50f3ed942ddf7</td>\n",
                            "      <td>2.3</td>\n",
                            "    </tr>\n",
                            "  </tbody>\n",
                            "</table>\n",
                            "</div>"
                        ],
                        "text/plain": [
                            "                               discente  contabilidade\n",
                            "41647  005c14d7c07bf7980b60c703f99c5ee7            6.5\n",
                            "36586  014789363f7940922e71e710ee9d22bc            6.4\n",
                            "41643  026f9509c92f18fdea01c391a9d401a8            0.0\n",
                            "45021  026f9509c92f18fdea01c391a9d401a8            7.2\n",
                            "47182  029458a349548473ecd50f3ed942ddf7            2.3"
                        ]
                    },
                    "execution_count": 269,
                    "metadata": {},
                    "output_type": "execute_result"
                }
            ],
            "source": [
                "contabilidade = df_dados_filtrado.loc[(df_dados_filtrado['id_componente'] == 62787) |\n",
                "                                               (df_dados_filtrado['id_componente'] == 48333)&\n",
                "                                             (df_dados_filtrado['ano'] < 20222)]\n",
                "#Separando atributos\n",
                "contabilidade = contabilidade[['discente', 'media_final']]\n",
                "contabilidade = contabilidade.rename(columns={'media_final':'contabilidade'})\n",
                "contabilidade.head()"
            ]
        },
        {
            "cell_type": "code",
            "execution_count": 270,
            "metadata": {},
            "outputs": [],
            "source": [
                "contabilidade = contabilidade.groupby('discente').mean().reset_index()"
            ]
        },
        {
            "attachments": {},
            "cell_type": "markdown",
            "metadata": {},
            "source": [
                "### **Sétimo Período**"
            ]
        },
        {
            "attachments": {},
            "cell_type": "markdown",
            "metadata": {},
            "source": [
                "```\n",
                "PROGRAMAÇÃO VISUAL\n",
                "```"
            ]
        },
        {
            "attachments": {},
            "cell_type": "markdown",
            "metadata": {},
            "source": [
                "#### PROGRAMAÇÃO VISUAL"
            ]
        },
        {
            "cell_type": "code",
            "execution_count": 271,
            "metadata": {},
            "outputs": [
                {
                    "data": {
                        "text/html": [
                            "<div>\n",
                            "<style scoped>\n",
                            "    .dataframe tbody tr th:only-of-type {\n",
                            "        vertical-align: middle;\n",
                            "    }\n",
                            "\n",
                            "    .dataframe tbody tr th {\n",
                            "        vertical-align: top;\n",
                            "    }\n",
                            "\n",
                            "    .dataframe thead th {\n",
                            "        text-align: right;\n",
                            "    }\n",
                            "</style>\n",
                            "<table border=\"1\" class=\"dataframe\">\n",
                            "  <thead>\n",
                            "    <tr style=\"text-align: right;\">\n",
                            "      <th></th>\n",
                            "      <th>discente</th>\n",
                            "      <th>prog_visual</th>\n",
                            "    </tr>\n",
                            "  </thead>\n",
                            "  <tbody>\n",
                            "    <tr>\n",
                            "      <th>37756</th>\n",
                            "      <td>014789363f7940922e71e710ee9d22bc</td>\n",
                            "      <td>6.6</td>\n",
                            "    </tr>\n",
                            "    <tr>\n",
                            "      <th>41667</th>\n",
                            "      <td>014f0dec46fe7a9c5836527662e1df10</td>\n",
                            "      <td>5.1</td>\n",
                            "    </tr>\n",
                            "    <tr>\n",
                            "      <th>37757</th>\n",
                            "      <td>026f9509c92f18fdea01c391a9d401a8</td>\n",
                            "      <td>7.3</td>\n",
                            "    </tr>\n",
                            "    <tr>\n",
                            "      <th>44683</th>\n",
                            "      <td>029458a349548473ecd50f3ed942ddf7</td>\n",
                            "      <td>7.3</td>\n",
                            "    </tr>\n",
                            "    <tr>\n",
                            "      <th>37736</th>\n",
                            "      <td>041a644db3db3f4b20175881c2248bb0</td>\n",
                            "      <td>0.2</td>\n",
                            "    </tr>\n",
                            "  </tbody>\n",
                            "</table>\n",
                            "</div>"
                        ],
                        "text/plain": [
                            "                               discente  prog_visual\n",
                            "37756  014789363f7940922e71e710ee9d22bc          6.6\n",
                            "41667  014f0dec46fe7a9c5836527662e1df10          5.1\n",
                            "37757  026f9509c92f18fdea01c391a9d401a8          7.3\n",
                            "44683  029458a349548473ecd50f3ed942ddf7          7.3\n",
                            "37736  041a644db3db3f4b20175881c2248bb0          0.2"
                        ]
                    },
                    "execution_count": 271,
                    "metadata": {},
                    "output_type": "execute_result"
                }
            ],
            "source": [
                "prog_visual = df_dados_filtrado.loc[(df_dados_filtrado['id_componente'] == 48334) |\n",
                "                                               (df_dados_filtrado['id_componente'] == 62764)&\n",
                "                                             (df_dados_filtrado['ano'] < 20222)]\n",
                "#Separando atributos\n",
                "prog_visual = prog_visual[['discente', 'media_final']]\n",
                "prog_visual = prog_visual.rename(columns={'media_final':'prog_visual'})\n",
                "prog_visual.head()\n"
            ]
        },
        {
            "cell_type": "code",
            "execution_count": 272,
            "metadata": {},
            "outputs": [],
            "source": [
                "prog_visual = prog_visual.groupby('discente').mean().reset_index()"
            ]
        },
        {
            "attachments": {},
            "cell_type": "markdown",
            "metadata": {},
            "source": [
                "### **Oitavo Período**"
            ]
        },
        {
            "attachments": {},
            "cell_type": "markdown",
            "metadata": {},
            "source": [
                "\n",
                "\n",
                "```\n",
                "ÉTICA - 60h\n",
                "SISTEMAS DE APOIO À DECISÃO - 60h\n",
                "```\n",
                "\n"
            ]
        },
        {
            "attachments": {},
            "cell_type": "markdown",
            "metadata": {},
            "source": [
                "#### ÉTICA"
            ]
        },
        {
            "cell_type": "code",
            "execution_count": 273,
            "metadata": {},
            "outputs": [
                {
                    "data": {
                        "text/html": [
                            "<div>\n",
                            "<style scoped>\n",
                            "    .dataframe tbody tr th:only-of-type {\n",
                            "        vertical-align: middle;\n",
                            "    }\n",
                            "\n",
                            "    .dataframe tbody tr th {\n",
                            "        vertical-align: top;\n",
                            "    }\n",
                            "\n",
                            "    .dataframe thead th {\n",
                            "        text-align: right;\n",
                            "    }\n",
                            "</style>\n",
                            "<table border=\"1\" class=\"dataframe\">\n",
                            "  <thead>\n",
                            "    <tr style=\"text-align: right;\">\n",
                            "      <th></th>\n",
                            "      <th>discente</th>\n",
                            "      <th>etica</th>\n",
                            "    </tr>\n",
                            "  </thead>\n",
                            "  <tbody>\n",
                            "    <tr>\n",
                            "      <th>41716</th>\n",
                            "      <td>005c14d7c07bf7980b60c703f99c5ee7</td>\n",
                            "      <td>9.2</td>\n",
                            "    </tr>\n",
                            "    <tr>\n",
                            "      <th>30128</th>\n",
                            "      <td>014789363f7940922e71e710ee9d22bc</td>\n",
                            "      <td>7.5</td>\n",
                            "    </tr>\n",
                            "    <tr>\n",
                            "      <th>30136</th>\n",
                            "      <td>026f9509c92f18fdea01c391a9d401a8</td>\n",
                            "      <td>7.8</td>\n",
                            "    </tr>\n",
                            "    <tr>\n",
                            "      <th>45178</th>\n",
                            "      <td>029458a349548473ecd50f3ed942ddf7</td>\n",
                            "      <td>0.0</td>\n",
                            "    </tr>\n",
                            "    <tr>\n",
                            "      <th>10246</th>\n",
                            "      <td>02dad20dec819bcc384cc6fa0b7ecbf9</td>\n",
                            "      <td>10.0</td>\n",
                            "    </tr>\n",
                            "  </tbody>\n",
                            "</table>\n",
                            "</div>"
                        ],
                        "text/plain": [
                            "                               discente  etica\n",
                            "41716  005c14d7c07bf7980b60c703f99c5ee7    9.2\n",
                            "30128  014789363f7940922e71e710ee9d22bc    7.5\n",
                            "30136  026f9509c92f18fdea01c391a9d401a8    7.8\n",
                            "45178  029458a349548473ecd50f3ed942ddf7    0.0\n",
                            "10246  02dad20dec819bcc384cc6fa0b7ecbf9   10.0"
                        ]
                    },
                    "execution_count": 273,
                    "metadata": {},
                    "output_type": "execute_result"
                }
            ],
            "source": [
                "etica = df_dados_filtrado.loc[(df_dados_filtrado['id_componente'] == 48335) |\n",
                "                                               (df_dados_filtrado['id_componente'] == 62714)&\n",
                "                                             (df_dados_filtrado['ano'] < 20222)]\n",
                "#Separando atributos\n",
                "etica = etica[['discente', 'media_final']]\n",
                "etica = etica.rename(columns={'media_final':'etica'})\n",
                "etica.head()"
            ]
        },
        {
            "cell_type": "code",
            "execution_count": 274,
            "metadata": {},
            "outputs": [],
            "source": [
                "etica = etica.groupby('discente').mean().reset_index()"
            ]
        },
        {
            "attachments": {},
            "cell_type": "markdown",
            "metadata": {},
            "source": [
                "#### SISTEMAS DE APOIO À DECISÃO"
            ]
        },
        {
            "cell_type": "code",
            "execution_count": 275,
            "metadata": {},
            "outputs": [
                {
                    "data": {
                        "text/html": [
                            "<div>\n",
                            "<style scoped>\n",
                            "    .dataframe tbody tr th:only-of-type {\n",
                            "        vertical-align: middle;\n",
                            "    }\n",
                            "\n",
                            "    .dataframe tbody tr th {\n",
                            "        vertical-align: top;\n",
                            "    }\n",
                            "\n",
                            "    .dataframe thead th {\n",
                            "        text-align: right;\n",
                            "    }\n",
                            "</style>\n",
                            "<table border=\"1\" class=\"dataframe\">\n",
                            "  <thead>\n",
                            "    <tr style=\"text-align: right;\">\n",
                            "      <th></th>\n",
                            "      <th>discente</th>\n",
                            "      <th>sad</th>\n",
                            "    </tr>\n",
                            "  </thead>\n",
                            "  <tbody>\n",
                            "    <tr>\n",
                            "      <th>38098</th>\n",
                            "      <td>014789363f7940922e71e710ee9d22bc</td>\n",
                            "      <td>9.6</td>\n",
                            "    </tr>\n",
                            "    <tr>\n",
                            "      <th>38111</th>\n",
                            "      <td>026f9509c92f18fdea01c391a9d401a8</td>\n",
                            "      <td>6.7</td>\n",
                            "    </tr>\n",
                            "    <tr>\n",
                            "      <th>50928</th>\n",
                            "      <td>029458a349548473ecd50f3ed942ddf7</td>\n",
                            "      <td>5.1</td>\n",
                            "    </tr>\n",
                            "    <tr>\n",
                            "      <th>41701</th>\n",
                            "      <td>029458a349548473ecd50f3ed942ddf7</td>\n",
                            "      <td>0.5</td>\n",
                            "    </tr>\n",
                            "    <tr>\n",
                            "      <th>42675</th>\n",
                            "      <td>029458a349548473ecd50f3ed942ddf7</td>\n",
                            "      <td>5.6</td>\n",
                            "    </tr>\n",
                            "  </tbody>\n",
                            "</table>\n",
                            "</div>"
                        ],
                        "text/plain": [
                            "                               discente  sad\n",
                            "38098  014789363f7940922e71e710ee9d22bc  9.6\n",
                            "38111  026f9509c92f18fdea01c391a9d401a8  6.7\n",
                            "50928  029458a349548473ecd50f3ed942ddf7  5.1\n",
                            "41701  029458a349548473ecd50f3ed942ddf7  0.5\n",
                            "42675  029458a349548473ecd50f3ed942ddf7  5.6"
                        ]
                    },
                    "execution_count": 275,
                    "metadata": {},
                    "output_type": "execute_result"
                }
            ],
            "source": [
                "sad = df_dados_filtrado.loc[(df_dados_filtrado['id_componente'] == 2037053) |\n",
                "                                               (df_dados_filtrado['id_componente'] == 62766)&\n",
                "                                             (df_dados_filtrado['ano'] < 20222)]\n",
                "#Separando atributos\n",
                "sad = sad[['discente', 'media_final']]\n",
                "sad  = sad .rename(columns={'media_final': 'sad'})\n",
                "sad.head()"
            ]
        },
        {
            "cell_type": "code",
            "execution_count": 276,
            "metadata": {},
            "outputs": [],
            "source": [
                "sad = sad.groupby('discente').mean().reset_index()"
            ]
        },
        {
            "attachments": {},
            "cell_type": "markdown",
            "metadata": {},
            "source": [
                "## tesre"
            ]
        },
        {
            "cell_type": "code",
            "execution_count": 277,
            "metadata": {},
            "outputs": [
                {
                    "data": {
                        "text/html": [
                            "<div>\n",
                            "<style scoped>\n",
                            "    .dataframe tbody tr th:only-of-type {\n",
                            "        vertical-align: middle;\n",
                            "    }\n",
                            "\n",
                            "    .dataframe tbody tr th {\n",
                            "        vertical-align: top;\n",
                            "    }\n",
                            "\n",
                            "    .dataframe thead th {\n",
                            "        text-align: right;\n",
                            "    }\n",
                            "</style>\n",
                            "<table border=\"1\" class=\"dataframe\">\n",
                            "  <thead>\n",
                            "    <tr style=\"text-align: right;\">\n",
                            "      <th>ano</th>\n",
                            "      <th>20091</th>\n",
                            "      <th>20092</th>\n",
                            "      <th>20101</th>\n",
                            "      <th>20102</th>\n",
                            "      <th>20111</th>\n",
                            "      <th>20112</th>\n",
                            "      <th>20121</th>\n",
                            "      <th>20122</th>\n",
                            "      <th>20131</th>\n",
                            "      <th>20132</th>\n",
                            "      <th>...</th>\n",
                            "      <th>20182</th>\n",
                            "      <th>20191</th>\n",
                            "      <th>20192</th>\n",
                            "      <th>20202</th>\n",
                            "      <th>20205</th>\n",
                            "      <th>20206</th>\n",
                            "      <th>20211</th>\n",
                            "      <th>20212</th>\n",
                            "      <th>20221</th>\n",
                            "      <th>20222</th>\n",
                            "    </tr>\n",
                            "    <tr>\n",
                            "      <th>discente</th>\n",
                            "      <th></th>\n",
                            "      <th></th>\n",
                            "      <th></th>\n",
                            "      <th></th>\n",
                            "      <th></th>\n",
                            "      <th></th>\n",
                            "      <th></th>\n",
                            "      <th></th>\n",
                            "      <th></th>\n",
                            "      <th></th>\n",
                            "      <th></th>\n",
                            "      <th></th>\n",
                            "      <th></th>\n",
                            "      <th></th>\n",
                            "      <th></th>\n",
                            "      <th></th>\n",
                            "      <th></th>\n",
                            "      <th></th>\n",
                            "      <th></th>\n",
                            "      <th></th>\n",
                            "      <th></th>\n",
                            "    </tr>\n",
                            "  </thead>\n",
                            "  <tbody>\n",
                            "    <tr>\n",
                            "      <th>001cea3c82e2010681f2cdeab21e5ecf</th>\n",
                            "      <td>0.0</td>\n",
                            "      <td>0.0</td>\n",
                            "      <td>0.0</td>\n",
                            "      <td>0.0</td>\n",
                            "      <td>0.000000</td>\n",
                            "      <td>0.000000</td>\n",
                            "      <td>0.0</td>\n",
                            "      <td>0.0</td>\n",
                            "      <td>0.0</td>\n",
                            "      <td>0.0</td>\n",
                            "      <td>...</td>\n",
                            "      <td>0.000000</td>\n",
                            "      <td>0.000000</td>\n",
                            "      <td>0.000000</td>\n",
                            "      <td>0.000000</td>\n",
                            "      <td>0.166667</td>\n",
                            "      <td>0.000000</td>\n",
                            "      <td>0.166667</td>\n",
                            "      <td>0.166667</td>\n",
                            "      <td>0.166667</td>\n",
                            "      <td>0.166667</td>\n",
                            "    </tr>\n",
                            "    <tr>\n",
                            "      <th>005c14d7c07bf7980b60c703f99c5ee7</th>\n",
                            "      <td>0.0</td>\n",
                            "      <td>0.0</td>\n",
                            "      <td>0.0</td>\n",
                            "      <td>0.0</td>\n",
                            "      <td>0.000000</td>\n",
                            "      <td>0.000000</td>\n",
                            "      <td>0.0</td>\n",
                            "      <td>0.0</td>\n",
                            "      <td>0.0</td>\n",
                            "      <td>0.0</td>\n",
                            "      <td>...</td>\n",
                            "      <td>0.116279</td>\n",
                            "      <td>0.093023</td>\n",
                            "      <td>0.116279</td>\n",
                            "      <td>0.139535</td>\n",
                            "      <td>0.023256</td>\n",
                            "      <td>0.093023</td>\n",
                            "      <td>0.116279</td>\n",
                            "      <td>0.116279</td>\n",
                            "      <td>0.069767</td>\n",
                            "      <td>0.000000</td>\n",
                            "    </tr>\n",
                            "    <tr>\n",
                            "      <th>0107fd69d8cd7e3d30dede96fb68bfe5</th>\n",
                            "      <td>0.0</td>\n",
                            "      <td>0.0</td>\n",
                            "      <td>0.0</td>\n",
                            "      <td>0.0</td>\n",
                            "      <td>0.555556</td>\n",
                            "      <td>0.444444</td>\n",
                            "      <td>0.0</td>\n",
                            "      <td>0.0</td>\n",
                            "      <td>0.0</td>\n",
                            "      <td>0.0</td>\n",
                            "      <td>...</td>\n",
                            "      <td>0.000000</td>\n",
                            "      <td>0.000000</td>\n",
                            "      <td>0.000000</td>\n",
                            "      <td>0.000000</td>\n",
                            "      <td>0.000000</td>\n",
                            "      <td>0.000000</td>\n",
                            "      <td>0.000000</td>\n",
                            "      <td>0.000000</td>\n",
                            "      <td>0.000000</td>\n",
                            "      <td>0.000000</td>\n",
                            "    </tr>\n",
                            "    <tr>\n",
                            "      <th>014789363f7940922e71e710ee9d22bc</th>\n",
                            "      <td>0.0</td>\n",
                            "      <td>0.0</td>\n",
                            "      <td>0.0</td>\n",
                            "      <td>0.0</td>\n",
                            "      <td>0.000000</td>\n",
                            "      <td>0.000000</td>\n",
                            "      <td>0.0</td>\n",
                            "      <td>0.0</td>\n",
                            "      <td>0.0</td>\n",
                            "      <td>0.0</td>\n",
                            "      <td>...</td>\n",
                            "      <td>0.145833</td>\n",
                            "      <td>0.104167</td>\n",
                            "      <td>0.062500</td>\n",
                            "      <td>0.000000</td>\n",
                            "      <td>0.041667</td>\n",
                            "      <td>0.041667</td>\n",
                            "      <td>0.000000</td>\n",
                            "      <td>0.000000</td>\n",
                            "      <td>0.000000</td>\n",
                            "      <td>0.000000</td>\n",
                            "    </tr>\n",
                            "    <tr>\n",
                            "      <th>014f0dec46fe7a9c5836527662e1df10</th>\n",
                            "      <td>0.0</td>\n",
                            "      <td>0.0</td>\n",
                            "      <td>0.0</td>\n",
                            "      <td>0.0</td>\n",
                            "      <td>0.000000</td>\n",
                            "      <td>0.000000</td>\n",
                            "      <td>0.0</td>\n",
                            "      <td>0.0</td>\n",
                            "      <td>0.0</td>\n",
                            "      <td>0.0</td>\n",
                            "      <td>...</td>\n",
                            "      <td>0.000000</td>\n",
                            "      <td>0.000000</td>\n",
                            "      <td>0.000000</td>\n",
                            "      <td>0.272727</td>\n",
                            "      <td>0.272727</td>\n",
                            "      <td>0.454545</td>\n",
                            "      <td>0.000000</td>\n",
                            "      <td>0.000000</td>\n",
                            "      <td>0.000000</td>\n",
                            "      <td>0.000000</td>\n",
                            "    </tr>\n",
                            "    <tr>\n",
                            "      <th>...</th>\n",
                            "      <td>...</td>\n",
                            "      <td>...</td>\n",
                            "      <td>...</td>\n",
                            "      <td>...</td>\n",
                            "      <td>...</td>\n",
                            "      <td>...</td>\n",
                            "      <td>...</td>\n",
                            "      <td>...</td>\n",
                            "      <td>...</td>\n",
                            "      <td>...</td>\n",
                            "      <td>...</td>\n",
                            "      <td>...</td>\n",
                            "      <td>...</td>\n",
                            "      <td>...</td>\n",
                            "      <td>...</td>\n",
                            "      <td>...</td>\n",
                            "      <td>...</td>\n",
                            "      <td>...</td>\n",
                            "      <td>...</td>\n",
                            "      <td>...</td>\n",
                            "      <td>...</td>\n",
                            "    </tr>\n",
                            "    <tr>\n",
                            "      <th>fe802d8d85de6f842749468401d1146c</th>\n",
                            "      <td>0.0</td>\n",
                            "      <td>0.0</td>\n",
                            "      <td>0.0</td>\n",
                            "      <td>0.0</td>\n",
                            "      <td>0.000000</td>\n",
                            "      <td>0.000000</td>\n",
                            "      <td>0.0</td>\n",
                            "      <td>0.0</td>\n",
                            "      <td>0.0</td>\n",
                            "      <td>0.0</td>\n",
                            "      <td>...</td>\n",
                            "      <td>0.000000</td>\n",
                            "      <td>0.000000</td>\n",
                            "      <td>0.000000</td>\n",
                            "      <td>0.000000</td>\n",
                            "      <td>0.000000</td>\n",
                            "      <td>0.000000</td>\n",
                            "      <td>0.000000</td>\n",
                            "      <td>0.000000</td>\n",
                            "      <td>0.500000</td>\n",
                            "      <td>0.500000</td>\n",
                            "    </tr>\n",
                            "    <tr>\n",
                            "      <th>fe87dfa176a74fc10a5cb701b9fb5dd4</th>\n",
                            "      <td>0.0</td>\n",
                            "      <td>0.0</td>\n",
                            "      <td>0.0</td>\n",
                            "      <td>0.0</td>\n",
                            "      <td>0.000000</td>\n",
                            "      <td>0.000000</td>\n",
                            "      <td>0.0</td>\n",
                            "      <td>0.0</td>\n",
                            "      <td>0.0</td>\n",
                            "      <td>0.0</td>\n",
                            "      <td>...</td>\n",
                            "      <td>0.000000</td>\n",
                            "      <td>0.000000</td>\n",
                            "      <td>0.000000</td>\n",
                            "      <td>0.111111</td>\n",
                            "      <td>0.222222</td>\n",
                            "      <td>0.222222</td>\n",
                            "      <td>0.111111</td>\n",
                            "      <td>0.111111</td>\n",
                            "      <td>0.111111</td>\n",
                            "      <td>0.111111</td>\n",
                            "    </tr>\n",
                            "    <tr>\n",
                            "      <th>fec9ed6026d55ecdf514c640312c3d08</th>\n",
                            "      <td>0.0</td>\n",
                            "      <td>0.0</td>\n",
                            "      <td>0.0</td>\n",
                            "      <td>0.0</td>\n",
                            "      <td>0.000000</td>\n",
                            "      <td>0.000000</td>\n",
                            "      <td>0.0</td>\n",
                            "      <td>0.0</td>\n",
                            "      <td>0.0</td>\n",
                            "      <td>0.0</td>\n",
                            "      <td>...</td>\n",
                            "      <td>0.000000</td>\n",
                            "      <td>0.000000</td>\n",
                            "      <td>0.000000</td>\n",
                            "      <td>0.111111</td>\n",
                            "      <td>0.074074</td>\n",
                            "      <td>0.111111</td>\n",
                            "      <td>0.185185</td>\n",
                            "      <td>0.148148</td>\n",
                            "      <td>0.148148</td>\n",
                            "      <td>0.222222</td>\n",
                            "    </tr>\n",
                            "    <tr>\n",
                            "      <th>ff56f2c5048dae0797fd3e851572b80c</th>\n",
                            "      <td>0.0</td>\n",
                            "      <td>0.0</td>\n",
                            "      <td>0.0</td>\n",
                            "      <td>0.0</td>\n",
                            "      <td>0.000000</td>\n",
                            "      <td>0.000000</td>\n",
                            "      <td>0.0</td>\n",
                            "      <td>0.0</td>\n",
                            "      <td>0.0</td>\n",
                            "      <td>0.0</td>\n",
                            "      <td>...</td>\n",
                            "      <td>0.092593</td>\n",
                            "      <td>0.055556</td>\n",
                            "      <td>0.055556</td>\n",
                            "      <td>0.000000</td>\n",
                            "      <td>0.000000</td>\n",
                            "      <td>0.000000</td>\n",
                            "      <td>0.018519</td>\n",
                            "      <td>0.018519</td>\n",
                            "      <td>0.000000</td>\n",
                            "      <td>0.000000</td>\n",
                            "    </tr>\n",
                            "    <tr>\n",
                            "      <th>ffe447b2fe2058d45d5f756349a26f45</th>\n",
                            "      <td>0.0</td>\n",
                            "      <td>0.0</td>\n",
                            "      <td>0.0</td>\n",
                            "      <td>0.0</td>\n",
                            "      <td>0.000000</td>\n",
                            "      <td>0.000000</td>\n",
                            "      <td>1.0</td>\n",
                            "      <td>0.0</td>\n",
                            "      <td>0.0</td>\n",
                            "      <td>0.0</td>\n",
                            "      <td>...</td>\n",
                            "      <td>0.000000</td>\n",
                            "      <td>0.000000</td>\n",
                            "      <td>0.000000</td>\n",
                            "      <td>0.000000</td>\n",
                            "      <td>0.000000</td>\n",
                            "      <td>0.000000</td>\n",
                            "      <td>0.000000</td>\n",
                            "      <td>0.000000</td>\n",
                            "      <td>0.000000</td>\n",
                            "      <td>0.000000</td>\n",
                            "    </tr>\n",
                            "  </tbody>\n",
                            "</table>\n",
                            "<p>661 rows × 29 columns</p>\n",
                            "</div>"
                        ],
                        "text/plain": [
                            "ano                               20091  20092  20101  20102     20111  \\\n",
                            "discente                                                                 \n",
                            "001cea3c82e2010681f2cdeab21e5ecf    0.0    0.0    0.0    0.0  0.000000   \n",
                            "005c14d7c07bf7980b60c703f99c5ee7    0.0    0.0    0.0    0.0  0.000000   \n",
                            "0107fd69d8cd7e3d30dede96fb68bfe5    0.0    0.0    0.0    0.0  0.555556   \n",
                            "014789363f7940922e71e710ee9d22bc    0.0    0.0    0.0    0.0  0.000000   \n",
                            "014f0dec46fe7a9c5836527662e1df10    0.0    0.0    0.0    0.0  0.000000   \n",
                            "...                                 ...    ...    ...    ...       ...   \n",
                            "fe802d8d85de6f842749468401d1146c    0.0    0.0    0.0    0.0  0.000000   \n",
                            "fe87dfa176a74fc10a5cb701b9fb5dd4    0.0    0.0    0.0    0.0  0.000000   \n",
                            "fec9ed6026d55ecdf514c640312c3d08    0.0    0.0    0.0    0.0  0.000000   \n",
                            "ff56f2c5048dae0797fd3e851572b80c    0.0    0.0    0.0    0.0  0.000000   \n",
                            "ffe447b2fe2058d45d5f756349a26f45    0.0    0.0    0.0    0.0  0.000000   \n",
                            "\n",
                            "ano                                  20112  20121  20122  20131  20132  ...  \\\n",
                            "discente                                                                ...   \n",
                            "001cea3c82e2010681f2cdeab21e5ecf  0.000000    0.0    0.0    0.0    0.0  ...   \n",
                            "005c14d7c07bf7980b60c703f99c5ee7  0.000000    0.0    0.0    0.0    0.0  ...   \n",
                            "0107fd69d8cd7e3d30dede96fb68bfe5  0.444444    0.0    0.0    0.0    0.0  ...   \n",
                            "014789363f7940922e71e710ee9d22bc  0.000000    0.0    0.0    0.0    0.0  ...   \n",
                            "014f0dec46fe7a9c5836527662e1df10  0.000000    0.0    0.0    0.0    0.0  ...   \n",
                            "...                                    ...    ...    ...    ...    ...  ...   \n",
                            "fe802d8d85de6f842749468401d1146c  0.000000    0.0    0.0    0.0    0.0  ...   \n",
                            "fe87dfa176a74fc10a5cb701b9fb5dd4  0.000000    0.0    0.0    0.0    0.0  ...   \n",
                            "fec9ed6026d55ecdf514c640312c3d08  0.000000    0.0    0.0    0.0    0.0  ...   \n",
                            "ff56f2c5048dae0797fd3e851572b80c  0.000000    0.0    0.0    0.0    0.0  ...   \n",
                            "ffe447b2fe2058d45d5f756349a26f45  0.000000    1.0    0.0    0.0    0.0  ...   \n",
                            "\n",
                            "ano                                  20182     20191     20192     20202  \\\n",
                            "discente                                                                   \n",
                            "001cea3c82e2010681f2cdeab21e5ecf  0.000000  0.000000  0.000000  0.000000   \n",
                            "005c14d7c07bf7980b60c703f99c5ee7  0.116279  0.093023  0.116279  0.139535   \n",
                            "0107fd69d8cd7e3d30dede96fb68bfe5  0.000000  0.000000  0.000000  0.000000   \n",
                            "014789363f7940922e71e710ee9d22bc  0.145833  0.104167  0.062500  0.000000   \n",
                            "014f0dec46fe7a9c5836527662e1df10  0.000000  0.000000  0.000000  0.272727   \n",
                            "...                                    ...       ...       ...       ...   \n",
                            "fe802d8d85de6f842749468401d1146c  0.000000  0.000000  0.000000  0.000000   \n",
                            "fe87dfa176a74fc10a5cb701b9fb5dd4  0.000000  0.000000  0.000000  0.111111   \n",
                            "fec9ed6026d55ecdf514c640312c3d08  0.000000  0.000000  0.000000  0.111111   \n",
                            "ff56f2c5048dae0797fd3e851572b80c  0.092593  0.055556  0.055556  0.000000   \n",
                            "ffe447b2fe2058d45d5f756349a26f45  0.000000  0.000000  0.000000  0.000000   \n",
                            "\n",
                            "ano                                  20205     20206     20211     20212  \\\n",
                            "discente                                                                   \n",
                            "001cea3c82e2010681f2cdeab21e5ecf  0.166667  0.000000  0.166667  0.166667   \n",
                            "005c14d7c07bf7980b60c703f99c5ee7  0.023256  0.093023  0.116279  0.116279   \n",
                            "0107fd69d8cd7e3d30dede96fb68bfe5  0.000000  0.000000  0.000000  0.000000   \n",
                            "014789363f7940922e71e710ee9d22bc  0.041667  0.041667  0.000000  0.000000   \n",
                            "014f0dec46fe7a9c5836527662e1df10  0.272727  0.454545  0.000000  0.000000   \n",
                            "...                                    ...       ...       ...       ...   \n",
                            "fe802d8d85de6f842749468401d1146c  0.000000  0.000000  0.000000  0.000000   \n",
                            "fe87dfa176a74fc10a5cb701b9fb5dd4  0.222222  0.222222  0.111111  0.111111   \n",
                            "fec9ed6026d55ecdf514c640312c3d08  0.074074  0.111111  0.185185  0.148148   \n",
                            "ff56f2c5048dae0797fd3e851572b80c  0.000000  0.000000  0.018519  0.018519   \n",
                            "ffe447b2fe2058d45d5f756349a26f45  0.000000  0.000000  0.000000  0.000000   \n",
                            "\n",
                            "ano                                  20221     20222  \n",
                            "discente                                              \n",
                            "001cea3c82e2010681f2cdeab21e5ecf  0.166667  0.166667  \n",
                            "005c14d7c07bf7980b60c703f99c5ee7  0.069767  0.000000  \n",
                            "0107fd69d8cd7e3d30dede96fb68bfe5  0.000000  0.000000  \n",
                            "014789363f7940922e71e710ee9d22bc  0.000000  0.000000  \n",
                            "014f0dec46fe7a9c5836527662e1df10  0.000000  0.000000  \n",
                            "...                                    ...       ...  \n",
                            "fe802d8d85de6f842749468401d1146c  0.500000  0.500000  \n",
                            "fe87dfa176a74fc10a5cb701b9fb5dd4  0.111111  0.111111  \n",
                            "fec9ed6026d55ecdf514c640312c3d08  0.148148  0.222222  \n",
                            "ff56f2c5048dae0797fd3e851572b80c  0.000000  0.000000  \n",
                            "ffe447b2fe2058d45d5f756349a26f45  0.000000  0.000000  \n",
                            "\n",
                            "[661 rows x 29 columns]"
                        ]
                    },
                    "execution_count": 277,
                    "metadata": {},
                    "output_type": "execute_result"
                }
            ],
            "source": [
                "percentual_obrigatórias = pd.crosstab(df_dados_filtrado[\"discente\"], df_dados_filtrado[\"ano\"], normalize=\"index\")\n",
                "percentual_obrigatórias"
            ]
        },
        {
            "attachments": {},
            "cell_type": "markdown",
            "metadata": {},
            "source": [
                "# Melhores Correlações"
            ]
        },
        {
            "attachments": {},
            "cell_type": "markdown",
            "metadata": {},
            "source": [
                "### Correlação - Programação"
            ]
        },
        {
            "cell_type": "code",
            "execution_count": 278,
            "metadata": {},
            "outputs": [
                {
                    "data": {
                        "text/html": [
                            "<div>\n",
                            "<style scoped>\n",
                            "    .dataframe tbody tr th:only-of-type {\n",
                            "        vertical-align: middle;\n",
                            "    }\n",
                            "\n",
                            "    .dataframe tbody tr th {\n",
                            "        vertical-align: top;\n",
                            "    }\n",
                            "\n",
                            "    .dataframe thead th {\n",
                            "        text-align: right;\n",
                            "    }\n",
                            "</style>\n",
                            "<table border=\"1\" class=\"dataframe\">\n",
                            "  <thead>\n",
                            "    <tr style=\"text-align: right;\">\n",
                            "      <th></th>\n",
                            "      <th>discente</th>\n",
                            "      <th>logica</th>\n",
                            "      <th>intro_informatica</th>\n",
                            "      <th>ano_x</th>\n",
                            "      <th>fundamentos_mat</th>\n",
                            "      <th>algoritmo</th>\n",
                            "      <th>ano_y</th>\n",
                            "      <th>programacao</th>\n",
                            "    </tr>\n",
                            "  </thead>\n",
                            "  <tbody>\n",
                            "    <tr>\n",
                            "      <th>0</th>\n",
                            "      <td>005c14d7c07bf7980b60c703f99c5ee7</td>\n",
                            "      <td>4.200000</td>\n",
                            "      <td>2.550</td>\n",
                            "      <td>20181.50</td>\n",
                            "      <td>3.250000</td>\n",
                            "      <td>5.90</td>\n",
                            "      <td>20181.0</td>\n",
                            "      <td>4.000000</td>\n",
                            "    </tr>\n",
                            "    <tr>\n",
                            "      <th>1</th>\n",
                            "      <td>014789363f7940922e71e710ee9d22bc</td>\n",
                            "      <td>5.100000</td>\n",
                            "      <td>3.000</td>\n",
                            "      <td>20161.50</td>\n",
                            "      <td>1.766667</td>\n",
                            "      <td>6.00</td>\n",
                            "      <td>20161.5</td>\n",
                            "      <td>7.100000</td>\n",
                            "    </tr>\n",
                            "    <tr>\n",
                            "      <th>2</th>\n",
                            "      <td>026f9509c92f18fdea01c391a9d401a8</td>\n",
                            "      <td>4.433333</td>\n",
                            "      <td>5.400</td>\n",
                            "      <td>20161.00</td>\n",
                            "      <td>1.833333</td>\n",
                            "      <td>6.80</td>\n",
                            "      <td>20161.0</td>\n",
                            "      <td>4.150000</td>\n",
                            "    </tr>\n",
                            "    <tr>\n",
                            "      <th>3</th>\n",
                            "      <td>03e175180669d96268067a52a9970615</td>\n",
                            "      <td>4.500000</td>\n",
                            "      <td>5.500</td>\n",
                            "      <td>20171.00</td>\n",
                            "      <td>1.200000</td>\n",
                            "      <td>2.95</td>\n",
                            "      <td>20176.0</td>\n",
                            "      <td>0.800000</td>\n",
                            "    </tr>\n",
                            "    <tr>\n",
                            "      <th>4</th>\n",
                            "      <td>04c4db33b712881ca8936fdc225bf153</td>\n",
                            "      <td>4.300000</td>\n",
                            "      <td>5.100</td>\n",
                            "      <td>20101.00</td>\n",
                            "      <td>7.900000</td>\n",
                            "      <td>5.30</td>\n",
                            "      <td>20101.0</td>\n",
                            "      <td>5.200000</td>\n",
                            "    </tr>\n",
                            "    <tr>\n",
                            "      <th>...</th>\n",
                            "      <td>...</td>\n",
                            "      <td>...</td>\n",
                            "      <td>...</td>\n",
                            "      <td>...</td>\n",
                            "      <td>...</td>\n",
                            "      <td>...</td>\n",
                            "      <td>...</td>\n",
                            "      <td>...</td>\n",
                            "    </tr>\n",
                            "    <tr>\n",
                            "      <th>371</th>\n",
                            "      <td>fb9c8cfe6651f3eb5b0e54fef1c92d0c</td>\n",
                            "      <td>8.300000</td>\n",
                            "      <td>7.700</td>\n",
                            "      <td>20121.00</td>\n",
                            "      <td>7.500000</td>\n",
                            "      <td>8.00</td>\n",
                            "      <td>20121.0</td>\n",
                            "      <td>7.000000</td>\n",
                            "    </tr>\n",
                            "    <tr>\n",
                            "      <th>372</th>\n",
                            "      <td>fbbb4dd72ec8339e3d9b903c4ddf90a1</td>\n",
                            "      <td>7.200000</td>\n",
                            "      <td>6.100</td>\n",
                            "      <td>20211.00</td>\n",
                            "      <td>6.500000</td>\n",
                            "      <td>9.10</td>\n",
                            "      <td>20211.0</td>\n",
                            "      <td>9.700000</td>\n",
                            "    </tr>\n",
                            "    <tr>\n",
                            "      <th>373</th>\n",
                            "      <td>fc1614293b1cb9388ab3f21ef4767eac</td>\n",
                            "      <td>8.000000</td>\n",
                            "      <td>7.000</td>\n",
                            "      <td>20205.00</td>\n",
                            "      <td>6.600000</td>\n",
                            "      <td>9.70</td>\n",
                            "      <td>20206.0</td>\n",
                            "      <td>8.600000</td>\n",
                            "    </tr>\n",
                            "    <tr>\n",
                            "      <th>374</th>\n",
                            "      <td>fec9ed6026d55ecdf514c640312c3d08</td>\n",
                            "      <td>8.100000</td>\n",
                            "      <td>8.600</td>\n",
                            "      <td>20205.00</td>\n",
                            "      <td>7.000000</td>\n",
                            "      <td>8.70</td>\n",
                            "      <td>20206.0</td>\n",
                            "      <td>10.000000</td>\n",
                            "    </tr>\n",
                            "    <tr>\n",
                            "      <th>375</th>\n",
                            "      <td>ff56f2c5048dae0797fd3e851572b80c</td>\n",
                            "      <td>3.400000</td>\n",
                            "      <td>4.025</td>\n",
                            "      <td>20151.25</td>\n",
                            "      <td>3.075000</td>\n",
                            "      <td>4.45</td>\n",
                            "      <td>20146.0</td>\n",
                            "      <td>3.233333</td>\n",
                            "    </tr>\n",
                            "  </tbody>\n",
                            "</table>\n",
                            "<p>376 rows × 8 columns</p>\n",
                            "</div>"
                        ],
                        "text/plain": [
                            "                             discente    logica  intro_informatica     ano_x  \\\n",
                            "0    005c14d7c07bf7980b60c703f99c5ee7  4.200000              2.550  20181.50   \n",
                            "1    014789363f7940922e71e710ee9d22bc  5.100000              3.000  20161.50   \n",
                            "2    026f9509c92f18fdea01c391a9d401a8  4.433333              5.400  20161.00   \n",
                            "3    03e175180669d96268067a52a9970615  4.500000              5.500  20171.00   \n",
                            "4    04c4db33b712881ca8936fdc225bf153  4.300000              5.100  20101.00   \n",
                            "..                                ...       ...                ...       ...   \n",
                            "371  fb9c8cfe6651f3eb5b0e54fef1c92d0c  8.300000              7.700  20121.00   \n",
                            "372  fbbb4dd72ec8339e3d9b903c4ddf90a1  7.200000              6.100  20211.00   \n",
                            "373  fc1614293b1cb9388ab3f21ef4767eac  8.000000              7.000  20205.00   \n",
                            "374  fec9ed6026d55ecdf514c640312c3d08  8.100000              8.600  20205.00   \n",
                            "375  ff56f2c5048dae0797fd3e851572b80c  3.400000              4.025  20151.25   \n",
                            "\n",
                            "     fundamentos_mat  algoritmo    ano_y  programacao  \n",
                            "0           3.250000       5.90  20181.0     4.000000  \n",
                            "1           1.766667       6.00  20161.5     7.100000  \n",
                            "2           1.833333       6.80  20161.0     4.150000  \n",
                            "3           1.200000       2.95  20176.0     0.800000  \n",
                            "4           7.900000       5.30  20101.0     5.200000  \n",
                            "..               ...        ...      ...          ...  \n",
                            "371         7.500000       8.00  20121.0     7.000000  \n",
                            "372         6.500000       9.10  20211.0     9.700000  \n",
                            "373         6.600000       9.70  20206.0     8.600000  \n",
                            "374         7.000000       8.70  20206.0    10.000000  \n",
                            "375         3.075000       4.45  20146.0     3.233333  \n",
                            "\n",
                            "[376 rows x 8 columns]"
                        ]
                    },
                    "execution_count": 278,
                    "metadata": {},
                    "output_type": "execute_result"
                }
            ],
            "source": [
                "pro_cor = pd.merge(algoritmo, programacao, how = 'inner', on = 'discente')\n",
                "pro_cor = pro_cor.rename(columns={'media_final_x': 'algoritmo', 'media_final_y': 'programacao'})\n",
                "\n",
                "pro_cor = pd.merge(fundamentos_mat, pro_cor, how = 'inner', on = 'discente')\n",
                "pro_cor = pro_cor.rename(columns={'media_final': 'fundamentos_mat'})\n",
                "\n",
                "pro_cor = pd.merge(intro_informatica, pro_cor, how = 'inner', on = 'discente')\n",
                "pro_cor = pro_cor.rename(columns={'media_final': 'intro_informatica'})\n",
                "\n",
                "pro_cor = pd.merge(logica, pro_cor, how = 'inner', on = 'discente')\n",
                "pro_cor = pro_cor.rename(columns={'media_final': 'logica'})\n",
                "\n",
                "pro_cor\n"
            ]
        },
        {
            "attachments": {},
            "cell_type": "markdown",
            "metadata": {},
            "source": [
                "### Correlação - Introdução à Informática"
            ]
        },
        {
            "cell_type": "code",
            "execution_count": 279,
            "metadata": {},
            "outputs": [
                {
                    "data": {
                        "text/html": [
                            "<div>\n",
                            "<style scoped>\n",
                            "    .dataframe tbody tr th:only-of-type {\n",
                            "        vertical-align: middle;\n",
                            "    }\n",
                            "\n",
                            "    .dataframe tbody tr th {\n",
                            "        vertical-align: top;\n",
                            "    }\n",
                            "\n",
                            "    .dataframe thead th {\n",
                            "        text-align: right;\n",
                            "    }\n",
                            "</style>\n",
                            "<table border=\"1\" class=\"dataframe\">\n",
                            "  <thead>\n",
                            "    <tr style=\"text-align: right;\">\n",
                            "      <th></th>\n",
                            "      <th>discente</th>\n",
                            "      <th>tga</th>\n",
                            "      <th>logica</th>\n",
                            "      <th>fundamentos_mat</th>\n",
                            "      <th>algoritmo</th>\n",
                            "      <th>ano_x</th>\n",
                            "      <th>intro_informatica</th>\n",
                            "      <th>ano_y</th>\n",
                            "    </tr>\n",
                            "  </thead>\n",
                            "  <tbody>\n",
                            "    <tr>\n",
                            "      <th>0</th>\n",
                            "      <td>005c14d7c07bf7980b60c703f99c5ee7</td>\n",
                            "      <td>8.7</td>\n",
                            "      <td>4.200000</td>\n",
                            "      <td>3.250000</td>\n",
                            "      <td>5.90</td>\n",
                            "      <td>20181.0</td>\n",
                            "      <td>2.550</td>\n",
                            "      <td>20181.50</td>\n",
                            "    </tr>\n",
                            "    <tr>\n",
                            "      <th>1</th>\n",
                            "      <td>0107fd69d8cd7e3d30dede96fb68bfe5</td>\n",
                            "      <td>7.8</td>\n",
                            "      <td>4.900000</td>\n",
                            "      <td>1.600000</td>\n",
                            "      <td>5.60</td>\n",
                            "      <td>20111.5</td>\n",
                            "      <td>2.700</td>\n",
                            "      <td>20111.00</td>\n",
                            "    </tr>\n",
                            "    <tr>\n",
                            "      <th>2</th>\n",
                            "      <td>014789363f7940922e71e710ee9d22bc</td>\n",
                            "      <td>5.7</td>\n",
                            "      <td>5.100000</td>\n",
                            "      <td>1.766667</td>\n",
                            "      <td>6.00</td>\n",
                            "      <td>20161.5</td>\n",
                            "      <td>3.000</td>\n",
                            "      <td>20161.50</td>\n",
                            "    </tr>\n",
                            "    <tr>\n",
                            "      <th>3</th>\n",
                            "      <td>0168075add041f9eb4bba46d6fdb6387</td>\n",
                            "      <td>0.0</td>\n",
                            "      <td>1.400000</td>\n",
                            "      <td>0.000000</td>\n",
                            "      <td>2.00</td>\n",
                            "      <td>20181.0</td>\n",
                            "      <td>0.000</td>\n",
                            "      <td>20181.00</td>\n",
                            "    </tr>\n",
                            "    <tr>\n",
                            "      <th>4</th>\n",
                            "      <td>026f9509c92f18fdea01c391a9d401a8</td>\n",
                            "      <td>6.7</td>\n",
                            "      <td>4.433333</td>\n",
                            "      <td>1.833333</td>\n",
                            "      <td>6.80</td>\n",
                            "      <td>20161.0</td>\n",
                            "      <td>5.400</td>\n",
                            "      <td>20161.00</td>\n",
                            "    </tr>\n",
                            "    <tr>\n",
                            "      <th>...</th>\n",
                            "      <td>...</td>\n",
                            "      <td>...</td>\n",
                            "      <td>...</td>\n",
                            "      <td>...</td>\n",
                            "      <td>...</td>\n",
                            "      <td>...</td>\n",
                            "      <td>...</td>\n",
                            "      <td>...</td>\n",
                            "    </tr>\n",
                            "    <tr>\n",
                            "      <th>527</th>\n",
                            "      <td>fd2397062d2a9f92dd32ac8fa33863de</td>\n",
                            "      <td>9.2</td>\n",
                            "      <td>6.000000</td>\n",
                            "      <td>5.800000</td>\n",
                            "      <td>6.60</td>\n",
                            "      <td>20221.0</td>\n",
                            "      <td>5.800</td>\n",
                            "      <td>20221.00</td>\n",
                            "    </tr>\n",
                            "    <tr>\n",
                            "      <th>528</th>\n",
                            "      <td>fe508adc657a48bc4cbfeed0856f5d93</td>\n",
                            "      <td>6.6</td>\n",
                            "      <td>5.600000</td>\n",
                            "      <td>7.000000</td>\n",
                            "      <td>1.80</td>\n",
                            "      <td>20191.0</td>\n",
                            "      <td>1.800</td>\n",
                            "      <td>20191.00</td>\n",
                            "    </tr>\n",
                            "    <tr>\n",
                            "      <th>529</th>\n",
                            "      <td>fe802d8d85de6f842749468401d1146c</td>\n",
                            "      <td>6.5</td>\n",
                            "      <td>2.700000</td>\n",
                            "      <td>0.000000</td>\n",
                            "      <td>2.00</td>\n",
                            "      <td>20221.0</td>\n",
                            "      <td>0.000</td>\n",
                            "      <td>20221.00</td>\n",
                            "    </tr>\n",
                            "    <tr>\n",
                            "      <th>530</th>\n",
                            "      <td>fec9ed6026d55ecdf514c640312c3d08</td>\n",
                            "      <td>9.5</td>\n",
                            "      <td>8.100000</td>\n",
                            "      <td>7.000000</td>\n",
                            "      <td>8.70</td>\n",
                            "      <td>20206.0</td>\n",
                            "      <td>8.600</td>\n",
                            "      <td>20205.00</td>\n",
                            "    </tr>\n",
                            "    <tr>\n",
                            "      <th>531</th>\n",
                            "      <td>ff56f2c5048dae0797fd3e851572b80c</td>\n",
                            "      <td>7.2</td>\n",
                            "      <td>3.400000</td>\n",
                            "      <td>3.075000</td>\n",
                            "      <td>4.45</td>\n",
                            "      <td>20146.0</td>\n",
                            "      <td>4.025</td>\n",
                            "      <td>20151.25</td>\n",
                            "    </tr>\n",
                            "  </tbody>\n",
                            "</table>\n",
                            "<p>532 rows × 8 columns</p>\n",
                            "</div>"
                        ],
                        "text/plain": [
                            "                             discente  tga    logica  fundamentos_mat  \\\n",
                            "0    005c14d7c07bf7980b60c703f99c5ee7  8.7  4.200000         3.250000   \n",
                            "1    0107fd69d8cd7e3d30dede96fb68bfe5  7.8  4.900000         1.600000   \n",
                            "2    014789363f7940922e71e710ee9d22bc  5.7  5.100000         1.766667   \n",
                            "3    0168075add041f9eb4bba46d6fdb6387  0.0  1.400000         0.000000   \n",
                            "4    026f9509c92f18fdea01c391a9d401a8  6.7  4.433333         1.833333   \n",
                            "..                                ...  ...       ...              ...   \n",
                            "527  fd2397062d2a9f92dd32ac8fa33863de  9.2  6.000000         5.800000   \n",
                            "528  fe508adc657a48bc4cbfeed0856f5d93  6.6  5.600000         7.000000   \n",
                            "529  fe802d8d85de6f842749468401d1146c  6.5  2.700000         0.000000   \n",
                            "530  fec9ed6026d55ecdf514c640312c3d08  9.5  8.100000         7.000000   \n",
                            "531  ff56f2c5048dae0797fd3e851572b80c  7.2  3.400000         3.075000   \n",
                            "\n",
                            "     algoritmo    ano_x  intro_informatica     ano_y  \n",
                            "0         5.90  20181.0              2.550  20181.50  \n",
                            "1         5.60  20111.5              2.700  20111.00  \n",
                            "2         6.00  20161.5              3.000  20161.50  \n",
                            "3         2.00  20181.0              0.000  20181.00  \n",
                            "4         6.80  20161.0              5.400  20161.00  \n",
                            "..         ...      ...                ...       ...  \n",
                            "527       6.60  20221.0              5.800  20221.00  \n",
                            "528       1.80  20191.0              1.800  20191.00  \n",
                            "529       2.00  20221.0              0.000  20221.00  \n",
                            "530       8.70  20206.0              8.600  20205.00  \n",
                            "531       4.45  20146.0              4.025  20151.25  \n",
                            "\n",
                            "[532 rows x 8 columns]"
                        ]
                    },
                    "execution_count": 279,
                    "metadata": {},
                    "output_type": "execute_result"
                }
            ],
            "source": [
                "intro_cor = pd.merge(algoritmo, intro_informatica, how = 'inner', on = 'discente')\n",
                "intro_cor = intro_cor.rename(columns={'media_final_x': 'algoritmo', 'media_final_y': 'intro_informatica', 'nota_x':'algoritmo_n1', 'nota_y':'intro_informatica_n1'})\n",
                "\n",
                "intro_cor = pd.merge(fundamentos_mat, intro_cor, how = 'inner', on = 'discente')\n",
                "intro_cor = intro_cor.rename(columns={'media_final': 'fundamentos_mat'})\n",
                "\n",
                "intro_cor = pd.merge(logica, intro_cor, how = 'inner', on = 'discente')\n",
                "intro_cor = intro_cor.rename(columns={'media_final': 'logica'})\n",
                "\n",
                "intro_cor = pd.merge(tga, intro_cor, how = 'inner', on = 'discente')\n",
                "intro_cor = intro_cor.rename(columns={'media_final': 'tga'})\n",
                "\n",
                "intro_cor\n",
                "\n"
            ]
        },
        {
            "attachments": {},
            "cell_type": "markdown",
            "metadata": {},
            "source": [
                "### Correlação - Fundamentos de Matemática"
            ]
        },
        {
            "cell_type": "code",
            "execution_count": 280,
            "metadata": {},
            "outputs": [
                {
                    "data": {
                        "text/html": [
                            "<div>\n",
                            "<style scoped>\n",
                            "    .dataframe tbody tr th:only-of-type {\n",
                            "        vertical-align: middle;\n",
                            "    }\n",
                            "\n",
                            "    .dataframe tbody tr th {\n",
                            "        vertical-align: top;\n",
                            "    }\n",
                            "\n",
                            "    .dataframe thead th {\n",
                            "        text-align: right;\n",
                            "    }\n",
                            "</style>\n",
                            "<table border=\"1\" class=\"dataframe\">\n",
                            "  <thead>\n",
                            "    <tr style=\"text-align: right;\">\n",
                            "      <th></th>\n",
                            "      <th>discente</th>\n",
                            "      <th>tga</th>\n",
                            "      <th>logica</th>\n",
                            "      <th>intro_informatica</th>\n",
                            "      <th>ano_x</th>\n",
                            "      <th>algoritmo</th>\n",
                            "      <th>ano_y</th>\n",
                            "      <th>fundamentos_mat</th>\n",
                            "    </tr>\n",
                            "  </thead>\n",
                            "  <tbody>\n",
                            "    <tr>\n",
                            "      <th>0</th>\n",
                            "      <td>005c14d7c07bf7980b60c703f99c5ee7</td>\n",
                            "      <td>8.7</td>\n",
                            "      <td>4.200000</td>\n",
                            "      <td>2.550</td>\n",
                            "      <td>20181.50</td>\n",
                            "      <td>5.90</td>\n",
                            "      <td>20181.0</td>\n",
                            "      <td>3.250000</td>\n",
                            "    </tr>\n",
                            "    <tr>\n",
                            "      <th>1</th>\n",
                            "      <td>0107fd69d8cd7e3d30dede96fb68bfe5</td>\n",
                            "      <td>7.8</td>\n",
                            "      <td>4.900000</td>\n",
                            "      <td>2.700</td>\n",
                            "      <td>20111.00</td>\n",
                            "      <td>5.60</td>\n",
                            "      <td>20111.5</td>\n",
                            "      <td>1.600000</td>\n",
                            "    </tr>\n",
                            "    <tr>\n",
                            "      <th>2</th>\n",
                            "      <td>014789363f7940922e71e710ee9d22bc</td>\n",
                            "      <td>5.7</td>\n",
                            "      <td>5.100000</td>\n",
                            "      <td>3.000</td>\n",
                            "      <td>20161.50</td>\n",
                            "      <td>6.00</td>\n",
                            "      <td>20161.5</td>\n",
                            "      <td>1.766667</td>\n",
                            "    </tr>\n",
                            "    <tr>\n",
                            "      <th>3</th>\n",
                            "      <td>0168075add041f9eb4bba46d6fdb6387</td>\n",
                            "      <td>0.0</td>\n",
                            "      <td>1.400000</td>\n",
                            "      <td>0.000</td>\n",
                            "      <td>20181.00</td>\n",
                            "      <td>2.00</td>\n",
                            "      <td>20181.0</td>\n",
                            "      <td>0.000000</td>\n",
                            "    </tr>\n",
                            "    <tr>\n",
                            "      <th>4</th>\n",
                            "      <td>026f9509c92f18fdea01c391a9d401a8</td>\n",
                            "      <td>6.7</td>\n",
                            "      <td>4.433333</td>\n",
                            "      <td>5.400</td>\n",
                            "      <td>20161.00</td>\n",
                            "      <td>6.80</td>\n",
                            "      <td>20161.0</td>\n",
                            "      <td>1.833333</td>\n",
                            "    </tr>\n",
                            "    <tr>\n",
                            "      <th>...</th>\n",
                            "      <td>...</td>\n",
                            "      <td>...</td>\n",
                            "      <td>...</td>\n",
                            "      <td>...</td>\n",
                            "      <td>...</td>\n",
                            "      <td>...</td>\n",
                            "      <td>...</td>\n",
                            "      <td>...</td>\n",
                            "    </tr>\n",
                            "    <tr>\n",
                            "      <th>527</th>\n",
                            "      <td>fd2397062d2a9f92dd32ac8fa33863de</td>\n",
                            "      <td>9.2</td>\n",
                            "      <td>6.000000</td>\n",
                            "      <td>5.800</td>\n",
                            "      <td>20221.00</td>\n",
                            "      <td>6.60</td>\n",
                            "      <td>20221.0</td>\n",
                            "      <td>5.800000</td>\n",
                            "    </tr>\n",
                            "    <tr>\n",
                            "      <th>528</th>\n",
                            "      <td>fe508adc657a48bc4cbfeed0856f5d93</td>\n",
                            "      <td>6.6</td>\n",
                            "      <td>5.600000</td>\n",
                            "      <td>1.800</td>\n",
                            "      <td>20191.00</td>\n",
                            "      <td>1.80</td>\n",
                            "      <td>20191.0</td>\n",
                            "      <td>7.000000</td>\n",
                            "    </tr>\n",
                            "    <tr>\n",
                            "      <th>529</th>\n",
                            "      <td>fe802d8d85de6f842749468401d1146c</td>\n",
                            "      <td>6.5</td>\n",
                            "      <td>2.700000</td>\n",
                            "      <td>0.000</td>\n",
                            "      <td>20221.00</td>\n",
                            "      <td>2.00</td>\n",
                            "      <td>20221.0</td>\n",
                            "      <td>0.000000</td>\n",
                            "    </tr>\n",
                            "    <tr>\n",
                            "      <th>530</th>\n",
                            "      <td>fec9ed6026d55ecdf514c640312c3d08</td>\n",
                            "      <td>9.5</td>\n",
                            "      <td>8.100000</td>\n",
                            "      <td>8.600</td>\n",
                            "      <td>20205.00</td>\n",
                            "      <td>8.70</td>\n",
                            "      <td>20206.0</td>\n",
                            "      <td>7.000000</td>\n",
                            "    </tr>\n",
                            "    <tr>\n",
                            "      <th>531</th>\n",
                            "      <td>ff56f2c5048dae0797fd3e851572b80c</td>\n",
                            "      <td>7.2</td>\n",
                            "      <td>3.400000</td>\n",
                            "      <td>4.025</td>\n",
                            "      <td>20151.25</td>\n",
                            "      <td>4.45</td>\n",
                            "      <td>20146.0</td>\n",
                            "      <td>3.075000</td>\n",
                            "    </tr>\n",
                            "  </tbody>\n",
                            "</table>\n",
                            "<p>532 rows × 8 columns</p>\n",
                            "</div>"
                        ],
                        "text/plain": [
                            "                             discente  tga    logica  intro_informatica  \\\n",
                            "0    005c14d7c07bf7980b60c703f99c5ee7  8.7  4.200000              2.550   \n",
                            "1    0107fd69d8cd7e3d30dede96fb68bfe5  7.8  4.900000              2.700   \n",
                            "2    014789363f7940922e71e710ee9d22bc  5.7  5.100000              3.000   \n",
                            "3    0168075add041f9eb4bba46d6fdb6387  0.0  1.400000              0.000   \n",
                            "4    026f9509c92f18fdea01c391a9d401a8  6.7  4.433333              5.400   \n",
                            "..                                ...  ...       ...                ...   \n",
                            "527  fd2397062d2a9f92dd32ac8fa33863de  9.2  6.000000              5.800   \n",
                            "528  fe508adc657a48bc4cbfeed0856f5d93  6.6  5.600000              1.800   \n",
                            "529  fe802d8d85de6f842749468401d1146c  6.5  2.700000              0.000   \n",
                            "530  fec9ed6026d55ecdf514c640312c3d08  9.5  8.100000              8.600   \n",
                            "531  ff56f2c5048dae0797fd3e851572b80c  7.2  3.400000              4.025   \n",
                            "\n",
                            "        ano_x  algoritmo    ano_y  fundamentos_mat  \n",
                            "0    20181.50       5.90  20181.0         3.250000  \n",
                            "1    20111.00       5.60  20111.5         1.600000  \n",
                            "2    20161.50       6.00  20161.5         1.766667  \n",
                            "3    20181.00       2.00  20181.0         0.000000  \n",
                            "4    20161.00       6.80  20161.0         1.833333  \n",
                            "..        ...        ...      ...              ...  \n",
                            "527  20221.00       6.60  20221.0         5.800000  \n",
                            "528  20191.00       1.80  20191.0         7.000000  \n",
                            "529  20221.00       2.00  20221.0         0.000000  \n",
                            "530  20205.00       8.70  20206.0         7.000000  \n",
                            "531  20151.25       4.45  20146.0         3.075000  \n",
                            "\n",
                            "[532 rows x 8 columns]"
                        ]
                    },
                    "execution_count": 280,
                    "metadata": {},
                    "output_type": "execute_result"
                }
            ],
            "source": [
                "fun_cor = pd.merge(algoritmo, fundamentos_mat, how = 'inner', on = 'discente')\n",
                "fun_cor = fun_cor.rename(columns={'media_final_x': 'algoritmo', 'media_final_y': 'fundamentos_mat'})\n",
                "\n",
                "fun_cor = pd.merge(intro_informatica, fun_cor, how = 'inner', on = 'discente')\n",
                "fun_cor = fun_cor.rename(columns={'media_final': 'intro_informatica'})\n",
                "\n",
                "fun_cor = pd.merge(logica, fun_cor, how = 'inner', on = 'discente')\n",
                "fun_cor = fun_cor.rename(columns={'media_final': 'logica'})\n",
                "\n",
                "fun_cor = pd.merge(tga, fun_cor, how = 'inner', on = 'discente')\n",
                "fun_cor = fun_cor.rename(columns={'media_final': 'tga'})\n",
                "\n",
                "fun_cor"
            ]
        },
        {
            "attachments": {},
            "cell_type": "markdown",
            "metadata": {},
            "source": [
                "### Correlação - Lógica"
            ]
        },
        {
            "cell_type": "code",
            "execution_count": 281,
            "metadata": {},
            "outputs": [
                {
                    "data": {
                        "text/html": [
                            "<div>\n",
                            "<style scoped>\n",
                            "    .dataframe tbody tr th:only-of-type {\n",
                            "        vertical-align: middle;\n",
                            "    }\n",
                            "\n",
                            "    .dataframe tbody tr th {\n",
                            "        vertical-align: top;\n",
                            "    }\n",
                            "\n",
                            "    .dataframe thead th {\n",
                            "        text-align: right;\n",
                            "    }\n",
                            "</style>\n",
                            "<table border=\"1\" class=\"dataframe\">\n",
                            "  <thead>\n",
                            "    <tr style=\"text-align: right;\">\n",
                            "      <th></th>\n",
                            "      <th>discente</th>\n",
                            "      <th>tga</th>\n",
                            "      <th>fundamentos_mat</th>\n",
                            "      <th>intro_informatica</th>\n",
                            "      <th>ano_x</th>\n",
                            "      <th>algoritmo</th>\n",
                            "      <th>ano_y</th>\n",
                            "      <th>logica</th>\n",
                            "    </tr>\n",
                            "  </thead>\n",
                            "  <tbody>\n",
                            "    <tr>\n",
                            "      <th>0</th>\n",
                            "      <td>005c14d7c07bf7980b60c703f99c5ee7</td>\n",
                            "      <td>8.7</td>\n",
                            "      <td>4.200000</td>\n",
                            "      <td>2.550</td>\n",
                            "      <td>20181.50</td>\n",
                            "      <td>5.90</td>\n",
                            "      <td>20181.0</td>\n",
                            "      <td>4.200000</td>\n",
                            "    </tr>\n",
                            "    <tr>\n",
                            "      <th>1</th>\n",
                            "      <td>0107fd69d8cd7e3d30dede96fb68bfe5</td>\n",
                            "      <td>7.8</td>\n",
                            "      <td>4.900000</td>\n",
                            "      <td>2.700</td>\n",
                            "      <td>20111.00</td>\n",
                            "      <td>5.60</td>\n",
                            "      <td>20111.5</td>\n",
                            "      <td>4.900000</td>\n",
                            "    </tr>\n",
                            "    <tr>\n",
                            "      <th>2</th>\n",
                            "      <td>014789363f7940922e71e710ee9d22bc</td>\n",
                            "      <td>5.7</td>\n",
                            "      <td>5.100000</td>\n",
                            "      <td>3.000</td>\n",
                            "      <td>20161.50</td>\n",
                            "      <td>6.00</td>\n",
                            "      <td>20161.5</td>\n",
                            "      <td>5.100000</td>\n",
                            "    </tr>\n",
                            "    <tr>\n",
                            "      <th>3</th>\n",
                            "      <td>0168075add041f9eb4bba46d6fdb6387</td>\n",
                            "      <td>0.0</td>\n",
                            "      <td>1.400000</td>\n",
                            "      <td>0.000</td>\n",
                            "      <td>20181.00</td>\n",
                            "      <td>2.00</td>\n",
                            "      <td>20181.0</td>\n",
                            "      <td>1.400000</td>\n",
                            "    </tr>\n",
                            "    <tr>\n",
                            "      <th>4</th>\n",
                            "      <td>026f9509c92f18fdea01c391a9d401a8</td>\n",
                            "      <td>6.7</td>\n",
                            "      <td>4.433333</td>\n",
                            "      <td>5.400</td>\n",
                            "      <td>20161.00</td>\n",
                            "      <td>6.80</td>\n",
                            "      <td>20161.0</td>\n",
                            "      <td>4.433333</td>\n",
                            "    </tr>\n",
                            "    <tr>\n",
                            "      <th>...</th>\n",
                            "      <td>...</td>\n",
                            "      <td>...</td>\n",
                            "      <td>...</td>\n",
                            "      <td>...</td>\n",
                            "      <td>...</td>\n",
                            "      <td>...</td>\n",
                            "      <td>...</td>\n",
                            "      <td>...</td>\n",
                            "    </tr>\n",
                            "    <tr>\n",
                            "      <th>534</th>\n",
                            "      <td>fd2397062d2a9f92dd32ac8fa33863de</td>\n",
                            "      <td>9.2</td>\n",
                            "      <td>6.000000</td>\n",
                            "      <td>5.800</td>\n",
                            "      <td>20221.00</td>\n",
                            "      <td>6.60</td>\n",
                            "      <td>20221.0</td>\n",
                            "      <td>6.000000</td>\n",
                            "    </tr>\n",
                            "    <tr>\n",
                            "      <th>535</th>\n",
                            "      <td>fe508adc657a48bc4cbfeed0856f5d93</td>\n",
                            "      <td>6.6</td>\n",
                            "      <td>5.600000</td>\n",
                            "      <td>1.800</td>\n",
                            "      <td>20191.00</td>\n",
                            "      <td>1.80</td>\n",
                            "      <td>20191.0</td>\n",
                            "      <td>5.600000</td>\n",
                            "    </tr>\n",
                            "    <tr>\n",
                            "      <th>536</th>\n",
                            "      <td>fe802d8d85de6f842749468401d1146c</td>\n",
                            "      <td>6.5</td>\n",
                            "      <td>2.700000</td>\n",
                            "      <td>0.000</td>\n",
                            "      <td>20221.00</td>\n",
                            "      <td>2.00</td>\n",
                            "      <td>20221.0</td>\n",
                            "      <td>2.700000</td>\n",
                            "    </tr>\n",
                            "    <tr>\n",
                            "      <th>537</th>\n",
                            "      <td>fec9ed6026d55ecdf514c640312c3d08</td>\n",
                            "      <td>9.5</td>\n",
                            "      <td>8.100000</td>\n",
                            "      <td>8.600</td>\n",
                            "      <td>20205.00</td>\n",
                            "      <td>8.70</td>\n",
                            "      <td>20206.0</td>\n",
                            "      <td>8.100000</td>\n",
                            "    </tr>\n",
                            "    <tr>\n",
                            "      <th>538</th>\n",
                            "      <td>ff56f2c5048dae0797fd3e851572b80c</td>\n",
                            "      <td>7.2</td>\n",
                            "      <td>3.400000</td>\n",
                            "      <td>4.025</td>\n",
                            "      <td>20151.25</td>\n",
                            "      <td>4.45</td>\n",
                            "      <td>20146.0</td>\n",
                            "      <td>3.400000</td>\n",
                            "    </tr>\n",
                            "  </tbody>\n",
                            "</table>\n",
                            "<p>539 rows × 8 columns</p>\n",
                            "</div>"
                        ],
                        "text/plain": [
                            "                             discente  tga  fundamentos_mat  \\\n",
                            "0    005c14d7c07bf7980b60c703f99c5ee7  8.7         4.200000   \n",
                            "1    0107fd69d8cd7e3d30dede96fb68bfe5  7.8         4.900000   \n",
                            "2    014789363f7940922e71e710ee9d22bc  5.7         5.100000   \n",
                            "3    0168075add041f9eb4bba46d6fdb6387  0.0         1.400000   \n",
                            "4    026f9509c92f18fdea01c391a9d401a8  6.7         4.433333   \n",
                            "..                                ...  ...              ...   \n",
                            "534  fd2397062d2a9f92dd32ac8fa33863de  9.2         6.000000   \n",
                            "535  fe508adc657a48bc4cbfeed0856f5d93  6.6         5.600000   \n",
                            "536  fe802d8d85de6f842749468401d1146c  6.5         2.700000   \n",
                            "537  fec9ed6026d55ecdf514c640312c3d08  9.5         8.100000   \n",
                            "538  ff56f2c5048dae0797fd3e851572b80c  7.2         3.400000   \n",
                            "\n",
                            "     intro_informatica     ano_x  algoritmo    ano_y    logica  \n",
                            "0                2.550  20181.50       5.90  20181.0  4.200000  \n",
                            "1                2.700  20111.00       5.60  20111.5  4.900000  \n",
                            "2                3.000  20161.50       6.00  20161.5  5.100000  \n",
                            "3                0.000  20181.00       2.00  20181.0  1.400000  \n",
                            "4                5.400  20161.00       6.80  20161.0  4.433333  \n",
                            "..                 ...       ...        ...      ...       ...  \n",
                            "534              5.800  20221.00       6.60  20221.0  6.000000  \n",
                            "535              1.800  20191.00       1.80  20191.0  5.600000  \n",
                            "536              0.000  20221.00       2.00  20221.0  2.700000  \n",
                            "537              8.600  20205.00       8.70  20206.0  8.100000  \n",
                            "538              4.025  20151.25       4.45  20146.0  3.400000  \n",
                            "\n",
                            "[539 rows x 8 columns]"
                        ]
                    },
                    "execution_count": 281,
                    "metadata": {},
                    "output_type": "execute_result"
                }
            ],
            "source": [
                "log_cor = pd.merge(algoritmo, logica, how = 'inner', on = 'discente')\n",
                "log_cor = log_cor.rename(columns={'media_final_x': 'algoritmo', 'media_final_y': 'logica'})\n",
                "\n",
                "log_cor = pd.merge(intro_informatica, log_cor, how = 'inner', on = 'discente')\n",
                "log_cor = log_cor.rename(columns={'media_final': 'intro_informatica'})\n",
                "\n",
                "log_cor = pd.merge(logica, log_cor, how = 'inner', on = 'discente')\n",
                "log_cor = log_cor.rename(columns={'media_final': 'fundamentos_mat'})\n",
                "\n",
                "log_cor = pd.merge(tga, log_cor, how = 'inner', on = 'discente')\n",
                "log_cor = log_cor.rename(columns={'media_final': 'tga'})\n",
                "\n",
                "log_cor"
            ]
        },
        {
            "attachments": {},
            "cell_type": "markdown",
            "metadata": {},
            "source": [
                "### Correlação - Estrutura de Dados"
            ]
        },
        {
            "cell_type": "code",
            "execution_count": 282,
            "metadata": {},
            "outputs": [
                {
                    "data": {
                        "text/html": [
                            "<div>\n",
                            "<style scoped>\n",
                            "    .dataframe tbody tr th:only-of-type {\n",
                            "        vertical-align: middle;\n",
                            "    }\n",
                            "\n",
                            "    .dataframe tbody tr th {\n",
                            "        vertical-align: top;\n",
                            "    }\n",
                            "\n",
                            "    .dataframe thead th {\n",
                            "        text-align: right;\n",
                            "    }\n",
                            "</style>\n",
                            "<table border=\"1\" class=\"dataframe\">\n",
                            "  <thead>\n",
                            "    <tr style=\"text-align: right;\">\n",
                            "      <th></th>\n",
                            "      <th>discente</th>\n",
                            "      <th>osm</th>\n",
                            "      <th>algebra</th>\n",
                            "      <th>arquitetura</th>\n",
                            "      <th>ed</th>\n",
                            "      <th>poo_1</th>\n",
                            "    </tr>\n",
                            "  </thead>\n",
                            "  <tbody>\n",
                            "    <tr>\n",
                            "      <th>0</th>\n",
                            "      <td>005c14d7c07bf7980b60c703f99c5ee7</td>\n",
                            "      <td>8.10</td>\n",
                            "      <td>0.00</td>\n",
                            "      <td>5.3</td>\n",
                            "      <td>0.000000</td>\n",
                            "      <td>5.600000</td>\n",
                            "    </tr>\n",
                            "    <tr>\n",
                            "      <th>1</th>\n",
                            "      <td>014789363f7940922e71e710ee9d22bc</td>\n",
                            "      <td>6.00</td>\n",
                            "      <td>5.90</td>\n",
                            "      <td>1.9</td>\n",
                            "      <td>4.400000</td>\n",
                            "      <td>9.000000</td>\n",
                            "    </tr>\n",
                            "    <tr>\n",
                            "      <th>2</th>\n",
                            "      <td>026f9509c92f18fdea01c391a9d401a8</td>\n",
                            "      <td>6.50</td>\n",
                            "      <td>5.00</td>\n",
                            "      <td>8.1</td>\n",
                            "      <td>6.000000</td>\n",
                            "      <td>7.500000</td>\n",
                            "    </tr>\n",
                            "    <tr>\n",
                            "      <th>3</th>\n",
                            "      <td>02dad20dec819bcc384cc6fa0b7ecbf9</td>\n",
                            "      <td>4.95</td>\n",
                            "      <td>5.00</td>\n",
                            "      <td>2.5</td>\n",
                            "      <td>1.133333</td>\n",
                            "      <td>2.633333</td>\n",
                            "    </tr>\n",
                            "    <tr>\n",
                            "      <th>4</th>\n",
                            "      <td>04c4db33b712881ca8936fdc225bf153</td>\n",
                            "      <td>5.00</td>\n",
                            "      <td>0.10</td>\n",
                            "      <td>1.1</td>\n",
                            "      <td>0.500000</td>\n",
                            "      <td>0.400000</td>\n",
                            "    </tr>\n",
                            "    <tr>\n",
                            "      <th>...</th>\n",
                            "      <td>...</td>\n",
                            "      <td>...</td>\n",
                            "      <td>...</td>\n",
                            "      <td>...</td>\n",
                            "      <td>...</td>\n",
                            "      <td>...</td>\n",
                            "    </tr>\n",
                            "    <tr>\n",
                            "      <th>223</th>\n",
                            "      <td>fb38dba740d0ed107efeebe85e77c84a</td>\n",
                            "      <td>5.70</td>\n",
                            "      <td>4.55</td>\n",
                            "      <td>6.3</td>\n",
                            "      <td>4.450000</td>\n",
                            "      <td>7.800000</td>\n",
                            "    </tr>\n",
                            "    <tr>\n",
                            "      <th>224</th>\n",
                            "      <td>fb9c8cfe6651f3eb5b0e54fef1c92d0c</td>\n",
                            "      <td>5.95</td>\n",
                            "      <td>5.30</td>\n",
                            "      <td>6.9</td>\n",
                            "      <td>6.600000</td>\n",
                            "      <td>5.100000</td>\n",
                            "    </tr>\n",
                            "    <tr>\n",
                            "      <th>225</th>\n",
                            "      <td>fc1614293b1cb9388ab3f21ef4767eac</td>\n",
                            "      <td>7.70</td>\n",
                            "      <td>6.20</td>\n",
                            "      <td>6.7</td>\n",
                            "      <td>5.800000</td>\n",
                            "      <td>7.300000</td>\n",
                            "    </tr>\n",
                            "    <tr>\n",
                            "      <th>226</th>\n",
                            "      <td>fec9ed6026d55ecdf514c640312c3d08</td>\n",
                            "      <td>8.60</td>\n",
                            "      <td>7.50</td>\n",
                            "      <td>9.4</td>\n",
                            "      <td>6.700000</td>\n",
                            "      <td>5.800000</td>\n",
                            "    </tr>\n",
                            "    <tr>\n",
                            "      <th>227</th>\n",
                            "      <td>ff56f2c5048dae0797fd3e851572b80c</td>\n",
                            "      <td>5.30</td>\n",
                            "      <td>7.70</td>\n",
                            "      <td>7.1</td>\n",
                            "      <td>3.300000</td>\n",
                            "      <td>7.700000</td>\n",
                            "    </tr>\n",
                            "  </tbody>\n",
                            "</table>\n",
                            "<p>228 rows × 6 columns</p>\n",
                            "</div>"
                        ],
                        "text/plain": [
                            "                             discente   osm  algebra  arquitetura        ed  \\\n",
                            "0    005c14d7c07bf7980b60c703f99c5ee7  8.10     0.00          5.3  0.000000   \n",
                            "1    014789363f7940922e71e710ee9d22bc  6.00     5.90          1.9  4.400000   \n",
                            "2    026f9509c92f18fdea01c391a9d401a8  6.50     5.00          8.1  6.000000   \n",
                            "3    02dad20dec819bcc384cc6fa0b7ecbf9  4.95     5.00          2.5  1.133333   \n",
                            "4    04c4db33b712881ca8936fdc225bf153  5.00     0.10          1.1  0.500000   \n",
                            "..                                ...   ...      ...          ...       ...   \n",
                            "223  fb38dba740d0ed107efeebe85e77c84a  5.70     4.55          6.3  4.450000   \n",
                            "224  fb9c8cfe6651f3eb5b0e54fef1c92d0c  5.95     5.30          6.9  6.600000   \n",
                            "225  fc1614293b1cb9388ab3f21ef4767eac  7.70     6.20          6.7  5.800000   \n",
                            "226  fec9ed6026d55ecdf514c640312c3d08  8.60     7.50          9.4  6.700000   \n",
                            "227  ff56f2c5048dae0797fd3e851572b80c  5.30     7.70          7.1  3.300000   \n",
                            "\n",
                            "        poo_1  \n",
                            "0    5.600000  \n",
                            "1    9.000000  \n",
                            "2    7.500000  \n",
                            "3    2.633333  \n",
                            "4    0.400000  \n",
                            "..        ...  \n",
                            "223  7.800000  \n",
                            "224  5.100000  \n",
                            "225  7.300000  \n",
                            "226  5.800000  \n",
                            "227  7.700000  \n",
                            "\n",
                            "[228 rows x 6 columns]"
                        ]
                    },
                    "execution_count": 282,
                    "metadata": {},
                    "output_type": "execute_result"
                }
            ],
            "source": [
                "ed_cor = pd.merge(ed, poo_1, how = 'inner', on = 'discente')\n",
                "ed_cor = ed_cor.rename(columns={'media_final_x': 'ed', 'media_final_y': 'poo_1'})\n",
                "\n",
                "ed_cor = pd.merge(arquitetura, ed_cor, how = 'inner', on = 'discente')\n",
                "ed_cor = ed_cor.rename(columns={'media_final': 'arquitetura'})\n",
                "\n",
                "ed_cor = pd.merge(algebra, ed_cor, how = 'inner', on = 'discente')\n",
                "ed_cor = ed_cor.rename(columns={'media_final': 'algebra'})\n",
                "\n",
                "ed_cor = pd.merge(osm, ed_cor, how = 'inner', on = 'discente')\n",
                "ed_cor = ed_cor.rename(columns={'media_final': 'osm'})\n",
                "\n",
                "ed_cor"
            ]
        },
        {
            "attachments": {},
            "cell_type": "markdown",
            "metadata": {},
            "source": [
                "### Correlação - Arquitetura"
            ]
        },
        {
            "cell_type": "code",
            "execution_count": 283,
            "metadata": {},
            "outputs": [
                {
                    "data": {
                        "text/html": [
                            "<div>\n",
                            "<style scoped>\n",
                            "    .dataframe tbody tr th:only-of-type {\n",
                            "        vertical-align: middle;\n",
                            "    }\n",
                            "\n",
                            "    .dataframe tbody tr th {\n",
                            "        vertical-align: top;\n",
                            "    }\n",
                            "\n",
                            "    .dataframe thead th {\n",
                            "        text-align: right;\n",
                            "    }\n",
                            "</style>\n",
                            "<table border=\"1\" class=\"dataframe\">\n",
                            "  <thead>\n",
                            "    <tr style=\"text-align: right;\">\n",
                            "      <th></th>\n",
                            "      <th>discente</th>\n",
                            "      <th>bd_1</th>\n",
                            "      <th>ed</th>\n",
                            "      <th>arquitetura</th>\n",
                            "      <th>poo_1</th>\n",
                            "    </tr>\n",
                            "  </thead>\n",
                            "  <tbody>\n",
                            "    <tr>\n",
                            "      <th>0</th>\n",
                            "      <td>005c14d7c07bf7980b60c703f99c5ee7</td>\n",
                            "      <td>5.7</td>\n",
                            "      <td>0.00</td>\n",
                            "      <td>5.30</td>\n",
                            "      <td>5.600000</td>\n",
                            "    </tr>\n",
                            "    <tr>\n",
                            "      <th>1</th>\n",
                            "      <td>014789363f7940922e71e710ee9d22bc</td>\n",
                            "      <td>5.5</td>\n",
                            "      <td>4.40</td>\n",
                            "      <td>1.90</td>\n",
                            "      <td>9.000000</td>\n",
                            "    </tr>\n",
                            "    <tr>\n",
                            "      <th>2</th>\n",
                            "      <td>026f9509c92f18fdea01c391a9d401a8</td>\n",
                            "      <td>5.8</td>\n",
                            "      <td>6.00</td>\n",
                            "      <td>8.10</td>\n",
                            "      <td>7.500000</td>\n",
                            "    </tr>\n",
                            "    <tr>\n",
                            "      <th>3</th>\n",
                            "      <td>057b5f3791c59f7ea9673943a63ee7ea</td>\n",
                            "      <td>5.3</td>\n",
                            "      <td>5.00</td>\n",
                            "      <td>5.10</td>\n",
                            "      <td>5.800000</td>\n",
                            "    </tr>\n",
                            "    <tr>\n",
                            "      <th>4</th>\n",
                            "      <td>07d4b852e9a42c2da9a30e5ab5cfc5b7</td>\n",
                            "      <td>5.3</td>\n",
                            "      <td>3.05</td>\n",
                            "      <td>4.55</td>\n",
                            "      <td>3.566667</td>\n",
                            "    </tr>\n",
                            "    <tr>\n",
                            "      <th>...</th>\n",
                            "      <td>...</td>\n",
                            "      <td>...</td>\n",
                            "      <td>...</td>\n",
                            "      <td>...</td>\n",
                            "      <td>...</td>\n",
                            "    </tr>\n",
                            "    <tr>\n",
                            "      <th>221</th>\n",
                            "      <td>fb38dba740d0ed107efeebe85e77c84a</td>\n",
                            "      <td>6.3</td>\n",
                            "      <td>4.45</td>\n",
                            "      <td>6.30</td>\n",
                            "      <td>7.800000</td>\n",
                            "    </tr>\n",
                            "    <tr>\n",
                            "      <th>222</th>\n",
                            "      <td>fb9c8cfe6651f3eb5b0e54fef1c92d0c</td>\n",
                            "      <td>5.8</td>\n",
                            "      <td>6.60</td>\n",
                            "      <td>6.90</td>\n",
                            "      <td>5.100000</td>\n",
                            "    </tr>\n",
                            "    <tr>\n",
                            "      <th>223</th>\n",
                            "      <td>fc1614293b1cb9388ab3f21ef4767eac</td>\n",
                            "      <td>8.4</td>\n",
                            "      <td>5.80</td>\n",
                            "      <td>6.70</td>\n",
                            "      <td>7.300000</td>\n",
                            "    </tr>\n",
                            "    <tr>\n",
                            "      <th>224</th>\n",
                            "      <td>fec9ed6026d55ecdf514c640312c3d08</td>\n",
                            "      <td>9.1</td>\n",
                            "      <td>6.70</td>\n",
                            "      <td>9.40</td>\n",
                            "      <td>5.800000</td>\n",
                            "    </tr>\n",
                            "    <tr>\n",
                            "      <th>225</th>\n",
                            "      <td>ff56f2c5048dae0797fd3e851572b80c</td>\n",
                            "      <td>5.0</td>\n",
                            "      <td>3.30</td>\n",
                            "      <td>7.10</td>\n",
                            "      <td>7.700000</td>\n",
                            "    </tr>\n",
                            "  </tbody>\n",
                            "</table>\n",
                            "<p>226 rows × 5 columns</p>\n",
                            "</div>"
                        ],
                        "text/plain": [
                            "                             discente  bd_1    ed  arquitetura     poo_1\n",
                            "0    005c14d7c07bf7980b60c703f99c5ee7   5.7  0.00         5.30  5.600000\n",
                            "1    014789363f7940922e71e710ee9d22bc   5.5  4.40         1.90  9.000000\n",
                            "2    026f9509c92f18fdea01c391a9d401a8   5.8  6.00         8.10  7.500000\n",
                            "3    057b5f3791c59f7ea9673943a63ee7ea   5.3  5.00         5.10  5.800000\n",
                            "4    07d4b852e9a42c2da9a30e5ab5cfc5b7   5.3  3.05         4.55  3.566667\n",
                            "..                                ...   ...   ...          ...       ...\n",
                            "221  fb38dba740d0ed107efeebe85e77c84a   6.3  4.45         6.30  7.800000\n",
                            "222  fb9c8cfe6651f3eb5b0e54fef1c92d0c   5.8  6.60         6.90  5.100000\n",
                            "223  fc1614293b1cb9388ab3f21ef4767eac   8.4  5.80         6.70  7.300000\n",
                            "224  fec9ed6026d55ecdf514c640312c3d08   9.1  6.70         9.40  5.800000\n",
                            "225  ff56f2c5048dae0797fd3e851572b80c   5.0  3.30         7.10  7.700000\n",
                            "\n",
                            "[226 rows x 5 columns]"
                        ]
                    },
                    "execution_count": 283,
                    "metadata": {},
                    "output_type": "execute_result"
                }
            ],
            "source": [
                "arqt_cor = pd.merge(arquitetura, poo_1, how = 'inner', on = 'discente')\n",
                "arqt_cor = arqt_cor.rename(columns={'media_final_x': 'arquitetura', 'media_final_y': 'poo_1'})\n",
                "\n",
                "arqt_cor = pd.merge(ed, arqt_cor, how = 'inner', on = 'discente')\n",
                "arqt_cor = arqt_cor.rename(columns={'media_final': 'ed'})\n",
                "\n",
                "arqt_cor = pd.merge(bd_1, arqt_cor, how = 'inner', on = 'discente')\n",
                "arqt_cor = arqt_cor.rename(columns={'media_final': 'bd_1'})\n",
                "\n",
                "arqt_cor"
            ]
        },
        {
            "attachments": {},
            "cell_type": "markdown",
            "metadata": {},
            "source": [
                "### Correlação - Algoritmos e Lógica de Programação"
            ]
        },
        {
            "cell_type": "code",
            "execution_count": 284,
            "metadata": {},
            "outputs": [
                {
                    "data": {
                        "text/html": [
                            "<div>\n",
                            "<style scoped>\n",
                            "    .dataframe tbody tr th:only-of-type {\n",
                            "        vertical-align: middle;\n",
                            "    }\n",
                            "\n",
                            "    .dataframe tbody tr th {\n",
                            "        vertical-align: top;\n",
                            "    }\n",
                            "\n",
                            "    .dataframe thead th {\n",
                            "        text-align: right;\n",
                            "    }\n",
                            "</style>\n",
                            "<table border=\"1\" class=\"dataframe\">\n",
                            "  <thead>\n",
                            "    <tr style=\"text-align: right;\">\n",
                            "      <th></th>\n",
                            "      <th>discente</th>\n",
                            "      <th>tga</th>\n",
                            "      <th>fundamentos_mat</th>\n",
                            "      <th>logica</th>\n",
                            "      <th>algoritmo</th>\n",
                            "      <th>ano_x</th>\n",
                            "      <th>intro_informatica</th>\n",
                            "      <th>ano_y</th>\n",
                            "    </tr>\n",
                            "  </thead>\n",
                            "  <tbody>\n",
                            "    <tr>\n",
                            "      <th>0</th>\n",
                            "      <td>005c14d7c07bf7980b60c703f99c5ee7</td>\n",
                            "      <td>8.7</td>\n",
                            "      <td>3.250000</td>\n",
                            "      <td>4.200000</td>\n",
                            "      <td>5.90</td>\n",
                            "      <td>20181.0</td>\n",
                            "      <td>2.550</td>\n",
                            "      <td>20181.50</td>\n",
                            "    </tr>\n",
                            "    <tr>\n",
                            "      <th>1</th>\n",
                            "      <td>0107fd69d8cd7e3d30dede96fb68bfe5</td>\n",
                            "      <td>7.8</td>\n",
                            "      <td>1.600000</td>\n",
                            "      <td>4.900000</td>\n",
                            "      <td>5.60</td>\n",
                            "      <td>20111.5</td>\n",
                            "      <td>2.700</td>\n",
                            "      <td>20111.00</td>\n",
                            "    </tr>\n",
                            "    <tr>\n",
                            "      <th>2</th>\n",
                            "      <td>014789363f7940922e71e710ee9d22bc</td>\n",
                            "      <td>5.7</td>\n",
                            "      <td>1.766667</td>\n",
                            "      <td>5.100000</td>\n",
                            "      <td>6.00</td>\n",
                            "      <td>20161.5</td>\n",
                            "      <td>3.000</td>\n",
                            "      <td>20161.50</td>\n",
                            "    </tr>\n",
                            "    <tr>\n",
                            "      <th>3</th>\n",
                            "      <td>0168075add041f9eb4bba46d6fdb6387</td>\n",
                            "      <td>0.0</td>\n",
                            "      <td>0.000000</td>\n",
                            "      <td>1.400000</td>\n",
                            "      <td>2.00</td>\n",
                            "      <td>20181.0</td>\n",
                            "      <td>0.000</td>\n",
                            "      <td>20181.00</td>\n",
                            "    </tr>\n",
                            "    <tr>\n",
                            "      <th>4</th>\n",
                            "      <td>026f9509c92f18fdea01c391a9d401a8</td>\n",
                            "      <td>6.7</td>\n",
                            "      <td>1.833333</td>\n",
                            "      <td>4.433333</td>\n",
                            "      <td>6.80</td>\n",
                            "      <td>20161.0</td>\n",
                            "      <td>5.400</td>\n",
                            "      <td>20161.00</td>\n",
                            "    </tr>\n",
                            "    <tr>\n",
                            "      <th>...</th>\n",
                            "      <td>...</td>\n",
                            "      <td>...</td>\n",
                            "      <td>...</td>\n",
                            "      <td>...</td>\n",
                            "      <td>...</td>\n",
                            "      <td>...</td>\n",
                            "      <td>...</td>\n",
                            "      <td>...</td>\n",
                            "    </tr>\n",
                            "    <tr>\n",
                            "      <th>527</th>\n",
                            "      <td>fd2397062d2a9f92dd32ac8fa33863de</td>\n",
                            "      <td>9.2</td>\n",
                            "      <td>5.800000</td>\n",
                            "      <td>6.000000</td>\n",
                            "      <td>6.60</td>\n",
                            "      <td>20221.0</td>\n",
                            "      <td>5.800</td>\n",
                            "      <td>20221.00</td>\n",
                            "    </tr>\n",
                            "    <tr>\n",
                            "      <th>528</th>\n",
                            "      <td>fe508adc657a48bc4cbfeed0856f5d93</td>\n",
                            "      <td>6.6</td>\n",
                            "      <td>7.000000</td>\n",
                            "      <td>5.600000</td>\n",
                            "      <td>1.80</td>\n",
                            "      <td>20191.0</td>\n",
                            "      <td>1.800</td>\n",
                            "      <td>20191.00</td>\n",
                            "    </tr>\n",
                            "    <tr>\n",
                            "      <th>529</th>\n",
                            "      <td>fe802d8d85de6f842749468401d1146c</td>\n",
                            "      <td>6.5</td>\n",
                            "      <td>0.000000</td>\n",
                            "      <td>2.700000</td>\n",
                            "      <td>2.00</td>\n",
                            "      <td>20221.0</td>\n",
                            "      <td>0.000</td>\n",
                            "      <td>20221.00</td>\n",
                            "    </tr>\n",
                            "    <tr>\n",
                            "      <th>530</th>\n",
                            "      <td>fec9ed6026d55ecdf514c640312c3d08</td>\n",
                            "      <td>9.5</td>\n",
                            "      <td>7.000000</td>\n",
                            "      <td>8.100000</td>\n",
                            "      <td>8.70</td>\n",
                            "      <td>20206.0</td>\n",
                            "      <td>8.600</td>\n",
                            "      <td>20205.00</td>\n",
                            "    </tr>\n",
                            "    <tr>\n",
                            "      <th>531</th>\n",
                            "      <td>ff56f2c5048dae0797fd3e851572b80c</td>\n",
                            "      <td>7.2</td>\n",
                            "      <td>3.075000</td>\n",
                            "      <td>3.400000</td>\n",
                            "      <td>4.45</td>\n",
                            "      <td>20146.0</td>\n",
                            "      <td>4.025</td>\n",
                            "      <td>20151.25</td>\n",
                            "    </tr>\n",
                            "  </tbody>\n",
                            "</table>\n",
                            "<p>532 rows × 8 columns</p>\n",
                            "</div>"
                        ],
                        "text/plain": [
                            "                             discente  tga  fundamentos_mat    logica  \\\n",
                            "0    005c14d7c07bf7980b60c703f99c5ee7  8.7         3.250000  4.200000   \n",
                            "1    0107fd69d8cd7e3d30dede96fb68bfe5  7.8         1.600000  4.900000   \n",
                            "2    014789363f7940922e71e710ee9d22bc  5.7         1.766667  5.100000   \n",
                            "3    0168075add041f9eb4bba46d6fdb6387  0.0         0.000000  1.400000   \n",
                            "4    026f9509c92f18fdea01c391a9d401a8  6.7         1.833333  4.433333   \n",
                            "..                                ...  ...              ...       ...   \n",
                            "527  fd2397062d2a9f92dd32ac8fa33863de  9.2         5.800000  6.000000   \n",
                            "528  fe508adc657a48bc4cbfeed0856f5d93  6.6         7.000000  5.600000   \n",
                            "529  fe802d8d85de6f842749468401d1146c  6.5         0.000000  2.700000   \n",
                            "530  fec9ed6026d55ecdf514c640312c3d08  9.5         7.000000  8.100000   \n",
                            "531  ff56f2c5048dae0797fd3e851572b80c  7.2         3.075000  3.400000   \n",
                            "\n",
                            "     algoritmo    ano_x  intro_informatica     ano_y  \n",
                            "0         5.90  20181.0              2.550  20181.50  \n",
                            "1         5.60  20111.5              2.700  20111.00  \n",
                            "2         6.00  20161.5              3.000  20161.50  \n",
                            "3         2.00  20181.0              0.000  20181.00  \n",
                            "4         6.80  20161.0              5.400  20161.00  \n",
                            "..         ...      ...                ...       ...  \n",
                            "527       6.60  20221.0              5.800  20221.00  \n",
                            "528       1.80  20191.0              1.800  20191.00  \n",
                            "529       2.00  20221.0              0.000  20221.00  \n",
                            "530       8.70  20206.0              8.600  20205.00  \n",
                            "531       4.45  20146.0              4.025  20151.25  \n",
                            "\n",
                            "[532 rows x 8 columns]"
                        ]
                    },
                    "execution_count": 284,
                    "metadata": {},
                    "output_type": "execute_result"
                }
            ],
            "source": [
                "alp_cor = pd.merge(algoritmo, intro_informatica, how = 'inner', on = 'discente')\n",
                "alp_cor = alp_cor.rename(columns={'media_final_x': 'algoritmo', 'media_final_y': 'intro_informatica'})\n",
                "\n",
                "alp_cor = pd.merge(logica, alp_cor, how = 'inner', on = 'discente')\n",
                "alp_cor = alp_cor.rename(columns={'media_final': 'logica'})\n",
                "\n",
                "alp_cor = pd.merge(fundamentos_mat, alp_cor, how = 'inner', on = 'discente')\n",
                "alp_cor = alp_cor.rename(columns={'media_final': 'fundamentos_mat'})\n",
                "\n",
                "alp_cor = pd.merge(tga, alp_cor, how = 'inner', on = 'discente')\n",
                "alp_cor = alp_cor.rename(columns={'media_final': 'tga'})\n",
                "\n",
                "alp_cor"
            ]
        },
        {
            "attachments": {},
            "cell_type": "markdown",
            "metadata": {},
            "source": [
                "### Correlação - POO I"
            ]
        },
        {
            "cell_type": "code",
            "execution_count": 285,
            "metadata": {},
            "outputs": [
                {
                    "data": {
                        "text/html": [
                            "<div>\n",
                            "<style scoped>\n",
                            "    .dataframe tbody tr th:only-of-type {\n",
                            "        vertical-align: middle;\n",
                            "    }\n",
                            "\n",
                            "    .dataframe tbody tr th {\n",
                            "        vertical-align: top;\n",
                            "    }\n",
                            "\n",
                            "    .dataframe thead th {\n",
                            "        text-align: right;\n",
                            "    }\n",
                            "</style>\n",
                            "<table border=\"1\" class=\"dataframe\">\n",
                            "  <thead>\n",
                            "    <tr style=\"text-align: right;\">\n",
                            "      <th></th>\n",
                            "      <th>discente</th>\n",
                            "      <th>osm</th>\n",
                            "      <th>arquitetura</th>\n",
                            "      <th>poo_1</th>\n",
                            "      <th>ed</th>\n",
                            "    </tr>\n",
                            "  </thead>\n",
                            "  <tbody>\n",
                            "    <tr>\n",
                            "      <th>0</th>\n",
                            "      <td>005c14d7c07bf7980b60c703f99c5ee7</td>\n",
                            "      <td>8.10</td>\n",
                            "      <td>5.3</td>\n",
                            "      <td>5.600000</td>\n",
                            "      <td>0.000000</td>\n",
                            "    </tr>\n",
                            "    <tr>\n",
                            "      <th>1</th>\n",
                            "      <td>014789363f7940922e71e710ee9d22bc</td>\n",
                            "      <td>6.00</td>\n",
                            "      <td>1.9</td>\n",
                            "      <td>9.000000</td>\n",
                            "      <td>4.400000</td>\n",
                            "    </tr>\n",
                            "    <tr>\n",
                            "      <th>2</th>\n",
                            "      <td>026f9509c92f18fdea01c391a9d401a8</td>\n",
                            "      <td>6.50</td>\n",
                            "      <td>8.1</td>\n",
                            "      <td>7.500000</td>\n",
                            "      <td>6.000000</td>\n",
                            "    </tr>\n",
                            "    <tr>\n",
                            "      <th>3</th>\n",
                            "      <td>02dad20dec819bcc384cc6fa0b7ecbf9</td>\n",
                            "      <td>4.95</td>\n",
                            "      <td>2.5</td>\n",
                            "      <td>2.633333</td>\n",
                            "      <td>1.133333</td>\n",
                            "    </tr>\n",
                            "    <tr>\n",
                            "      <th>4</th>\n",
                            "      <td>04c4db33b712881ca8936fdc225bf153</td>\n",
                            "      <td>5.00</td>\n",
                            "      <td>1.1</td>\n",
                            "      <td>0.400000</td>\n",
                            "      <td>0.500000</td>\n",
                            "    </tr>\n",
                            "    <tr>\n",
                            "      <th>...</th>\n",
                            "      <td>...</td>\n",
                            "      <td>...</td>\n",
                            "      <td>...</td>\n",
                            "      <td>...</td>\n",
                            "      <td>...</td>\n",
                            "    </tr>\n",
                            "    <tr>\n",
                            "      <th>246</th>\n",
                            "      <td>fb38dba740d0ed107efeebe85e77c84a</td>\n",
                            "      <td>5.70</td>\n",
                            "      <td>6.3</td>\n",
                            "      <td>7.800000</td>\n",
                            "      <td>4.450000</td>\n",
                            "    </tr>\n",
                            "    <tr>\n",
                            "      <th>247</th>\n",
                            "      <td>fb9c8cfe6651f3eb5b0e54fef1c92d0c</td>\n",
                            "      <td>5.95</td>\n",
                            "      <td>6.9</td>\n",
                            "      <td>5.100000</td>\n",
                            "      <td>6.600000</td>\n",
                            "    </tr>\n",
                            "    <tr>\n",
                            "      <th>248</th>\n",
                            "      <td>fc1614293b1cb9388ab3f21ef4767eac</td>\n",
                            "      <td>7.70</td>\n",
                            "      <td>6.7</td>\n",
                            "      <td>7.300000</td>\n",
                            "      <td>5.800000</td>\n",
                            "    </tr>\n",
                            "    <tr>\n",
                            "      <th>249</th>\n",
                            "      <td>fec9ed6026d55ecdf514c640312c3d08</td>\n",
                            "      <td>8.60</td>\n",
                            "      <td>9.4</td>\n",
                            "      <td>5.800000</td>\n",
                            "      <td>6.700000</td>\n",
                            "    </tr>\n",
                            "    <tr>\n",
                            "      <th>250</th>\n",
                            "      <td>ff56f2c5048dae0797fd3e851572b80c</td>\n",
                            "      <td>5.30</td>\n",
                            "      <td>7.1</td>\n",
                            "      <td>7.700000</td>\n",
                            "      <td>3.300000</td>\n",
                            "    </tr>\n",
                            "  </tbody>\n",
                            "</table>\n",
                            "<p>251 rows × 5 columns</p>\n",
                            "</div>"
                        ],
                        "text/plain": [
                            "                             discente   osm  arquitetura     poo_1        ed\n",
                            "0    005c14d7c07bf7980b60c703f99c5ee7  8.10          5.3  5.600000  0.000000\n",
                            "1    014789363f7940922e71e710ee9d22bc  6.00          1.9  9.000000  4.400000\n",
                            "2    026f9509c92f18fdea01c391a9d401a8  6.50          8.1  7.500000  6.000000\n",
                            "3    02dad20dec819bcc384cc6fa0b7ecbf9  4.95          2.5  2.633333  1.133333\n",
                            "4    04c4db33b712881ca8936fdc225bf153  5.00          1.1  0.400000  0.500000\n",
                            "..                                ...   ...          ...       ...       ...\n",
                            "246  fb38dba740d0ed107efeebe85e77c84a  5.70          6.3  7.800000  4.450000\n",
                            "247  fb9c8cfe6651f3eb5b0e54fef1c92d0c  5.95          6.9  5.100000  6.600000\n",
                            "248  fc1614293b1cb9388ab3f21ef4767eac  7.70          6.7  7.300000  5.800000\n",
                            "249  fec9ed6026d55ecdf514c640312c3d08  8.60          9.4  5.800000  6.700000\n",
                            "250  ff56f2c5048dae0797fd3e851572b80c  5.30          7.1  7.700000  3.300000\n",
                            "\n",
                            "[251 rows x 5 columns]"
                        ]
                    },
                    "execution_count": 285,
                    "metadata": {},
                    "output_type": "execute_result"
                }
            ],
            "source": [
                "pro_oo1_cor = pd.merge(poo_1, ed, how = 'inner', on = 'discente')\n",
                "pro_oo1_cor = pro_oo1_cor.rename(columns={'media_final_x': 'poo_1', 'media_final_y': 'ed'})\n",
                "\n",
                "pro_oo1_cor = pd.merge(arquitetura, pro_oo1_cor, how = 'inner', on = 'discente')\n",
                "pro_oo1_cor = pro_oo1_cor.rename(columns={'media_final': 'arquitetura'})\n",
                "\n",
                "pro_oo1_cor = pd.merge(osm, pro_oo1_cor, how = 'inner', on = 'discente')\n",
                "pro_oo1_cor = pro_oo1_cor.rename(columns={'media_final': 'osm'})\n",
                "\n",
                "pro_oo1_cor "
            ]
        },
        {
            "attachments": {},
            "cell_type": "markdown",
            "metadata": {},
            "source": [
                "# Regressão"
            ]
        },
        {
            "cell_type": "code",
            "execution_count": 286,
            "metadata": {},
            "outputs": [],
            "source": [
                "from sklearn.model_selection import  train_test_split"
            ]
        },
        {
            "cell_type": "code",
            "execution_count": 287,
            "metadata": {},
            "outputs": [],
            "source": [
                "def adjusted_r2(y_test,result,X_train):\n",
                "\n",
                "  from sklearn.metrics import r2_score\n",
                "\n",
                "  adj_r2 = (1 - ((1 - r2_score(y_test,result)) * (len(y_test) - 1)) /\n",
                "          (len(y_test) - X_train.shape[1] - 1))\n",
                "\n",
                "  return adj_r2"
            ]
        },
        {
            "cell_type": "code",
            "execution_count": 288,
            "metadata": {},
            "outputs": [],
            "source": [
                "lr = LinearRegression()"
            ]
        },
        {
            "cell_type": "code",
            "execution_count": 289,
            "metadata": {},
            "outputs": [],
            "source": [
                "import pandas as pd\n",
                "import numpy as np\n",
                "import statsmodels.api as sm\n",
                "from sklearn.metrics import mean_squared_error, mean_absolute_error\n",
                "from math import sqrt"
            ]
        },
        {
            "cell_type": "code",
            "execution_count": 290,
            "metadata": {},
            "outputs": [],
            "source": [
                "# Verificando e tratando tipos de dados\n",
                "pro_cor = pro_cor.apply(pd.to_numeric, errors='coerce')\n",
                "\n",
                "# Removendo linhas com valores ausentes\n",
                "pro_cor = pro_cor.dropna()\n"
            ]
        },
        {
            "cell_type": "code",
            "execution_count": 291,
            "metadata": {},
            "outputs": [],
            "source": [
                "pro_cor = sm.add_constant(pro_cor)"
            ]
        },
        {
            "cell_type": "code",
            "execution_count": 292,
            "metadata": {},
            "outputs": [
                {
                    "data": {
                        "text/plain": [
                            "const                0\n",
                            "discente             0\n",
                            "logica               0\n",
                            "intro_informatica    0\n",
                            "ano_x                0\n",
                            "fundamentos_mat      0\n",
                            "algoritmo            0\n",
                            "ano_y                0\n",
                            "programacao          0\n",
                            "dtype: int64"
                        ]
                    },
                    "execution_count": 292,
                    "metadata": {},
                    "output_type": "execute_result"
                }
            ],
            "source": [
                "pro_cor .isnull().sum()"
            ]
        },
        {
            "cell_type": "code",
            "execution_count": 293,
            "metadata": {},
            "outputs": [],
            "source": [
                "# Separando as variáveis independentes (X) e a variável dependente (y)\n",
                "X = pro_cor[['intro_informatica','algoritmo','logica','fundamentos_mat']]\n",
                "y = pro_cor['programacao']"
            ]
        },
        {
            "cell_type": "code",
            "execution_count": 294,
            "metadata": {},
            "outputs": [
                {
                    "ename": "ValueError",
                    "evalue": "zero-size array to reduction operation maximum which has no identity",
                    "output_type": "error",
                    "traceback": [
                        "\u001b[0;31m---------------------------------------------------------------------------\u001b[0m",
                        "\u001b[0;31mValueError\u001b[0m                                Traceback (most recent call last)",
                        "Cell \u001b[0;32mIn[294], line 2\u001b[0m\n\u001b[1;32m      1\u001b[0m \u001b[39m# Ajustando o modelo de regressão linear múltipla\u001b[39;00m\n\u001b[0;32m----> 2\u001b[0m modelo \u001b[39m=\u001b[39m sm\u001b[39m.\u001b[39;49mOLS(y, X)\u001b[39m.\u001b[39mfit()\n\u001b[1;32m      4\u001b[0m \u001b[39m# Obtendo as previsões do modelo\u001b[39;00m\n\u001b[1;32m      5\u001b[0m previsoes \u001b[39m=\u001b[39m modelo\u001b[39m.\u001b[39mpredict(X)\n",
                        "File \u001b[0;32m~/.local/lib/python3.10/site-packages/statsmodels/regression/linear_model.py:924\u001b[0m, in \u001b[0;36mOLS.__init__\u001b[0;34m(self, endog, exog, missing, hasconst, **kwargs)\u001b[0m\n\u001b[1;32m    921\u001b[0m     msg \u001b[39m=\u001b[39m (\u001b[39m\"\u001b[39m\u001b[39mWeights are not supported in OLS and will be ignored\u001b[39m\u001b[39m\"\u001b[39m\n\u001b[1;32m    922\u001b[0m            \u001b[39m\"\u001b[39m\u001b[39mAn exception will be raised in the next version.\u001b[39m\u001b[39m\"\u001b[39m)\n\u001b[1;32m    923\u001b[0m     warnings\u001b[39m.\u001b[39mwarn(msg, ValueWarning)\n\u001b[0;32m--> 924\u001b[0m \u001b[39msuper\u001b[39;49m()\u001b[39m.\u001b[39;49m\u001b[39m__init__\u001b[39;49m(endog, exog, missing\u001b[39m=\u001b[39;49mmissing,\n\u001b[1;32m    925\u001b[0m                           hasconst\u001b[39m=\u001b[39;49mhasconst, \u001b[39m*\u001b[39;49m\u001b[39m*\u001b[39;49mkwargs)\n\u001b[1;32m    926\u001b[0m \u001b[39mif\u001b[39;00m \u001b[39m\"\u001b[39m\u001b[39mweights\u001b[39m\u001b[39m\"\u001b[39m \u001b[39min\u001b[39;00m \u001b[39mself\u001b[39m\u001b[39m.\u001b[39m_init_keys:\n\u001b[1;32m    927\u001b[0m     \u001b[39mself\u001b[39m\u001b[39m.\u001b[39m_init_keys\u001b[39m.\u001b[39mremove(\u001b[39m\"\u001b[39m\u001b[39mweights\u001b[39m\u001b[39m\"\u001b[39m)\n",
                        "File \u001b[0;32m~/.local/lib/python3.10/site-packages/statsmodels/regression/linear_model.py:749\u001b[0m, in \u001b[0;36mWLS.__init__\u001b[0;34m(self, endog, exog, weights, missing, hasconst, **kwargs)\u001b[0m\n\u001b[1;32m    747\u001b[0m \u001b[39melse\u001b[39;00m:\n\u001b[1;32m    748\u001b[0m     weights \u001b[39m=\u001b[39m weights\u001b[39m.\u001b[39msqueeze()\n\u001b[0;32m--> 749\u001b[0m \u001b[39msuper\u001b[39;49m()\u001b[39m.\u001b[39;49m\u001b[39m__init__\u001b[39;49m(endog, exog, missing\u001b[39m=\u001b[39;49mmissing,\n\u001b[1;32m    750\u001b[0m                           weights\u001b[39m=\u001b[39;49mweights, hasconst\u001b[39m=\u001b[39;49mhasconst, \u001b[39m*\u001b[39;49m\u001b[39m*\u001b[39;49mkwargs)\n\u001b[1;32m    751\u001b[0m nobs \u001b[39m=\u001b[39m \u001b[39mself\u001b[39m\u001b[39m.\u001b[39mexog\u001b[39m.\u001b[39mshape[\u001b[39m0\u001b[39m]\n\u001b[1;32m    752\u001b[0m weights \u001b[39m=\u001b[39m \u001b[39mself\u001b[39m\u001b[39m.\u001b[39mweights\n",
                        "File \u001b[0;32m~/.local/lib/python3.10/site-packages/statsmodels/regression/linear_model.py:203\u001b[0m, in \u001b[0;36mRegressionModel.__init__\u001b[0;34m(self, endog, exog, **kwargs)\u001b[0m\n\u001b[1;32m    202\u001b[0m \u001b[39mdef\u001b[39;00m \u001b[39m__init__\u001b[39m(\u001b[39mself\u001b[39m, endog, exog, \u001b[39m*\u001b[39m\u001b[39m*\u001b[39mkwargs):\n\u001b[0;32m--> 203\u001b[0m     \u001b[39msuper\u001b[39;49m()\u001b[39m.\u001b[39;49m\u001b[39m__init__\u001b[39;49m(endog, exog, \u001b[39m*\u001b[39;49m\u001b[39m*\u001b[39;49mkwargs)\n\u001b[1;32m    204\u001b[0m     \u001b[39mself\u001b[39m\u001b[39m.\u001b[39mpinv_wexog: Float64Array \u001b[39m|\u001b[39m \u001b[39mNone\u001b[39;00m \u001b[39m=\u001b[39m \u001b[39mNone\u001b[39;00m\n\u001b[1;32m    205\u001b[0m     \u001b[39mself\u001b[39m\u001b[39m.\u001b[39m_data_attr\u001b[39m.\u001b[39mextend([\u001b[39m'\u001b[39m\u001b[39mpinv_wexog\u001b[39m\u001b[39m'\u001b[39m, \u001b[39m'\u001b[39m\u001b[39mwendog\u001b[39m\u001b[39m'\u001b[39m, \u001b[39m'\u001b[39m\u001b[39mwexog\u001b[39m\u001b[39m'\u001b[39m, \u001b[39m'\u001b[39m\u001b[39mweights\u001b[39m\u001b[39m'\u001b[39m])\n",
                        "File \u001b[0;32m~/.local/lib/python3.10/site-packages/statsmodels/base/model.py:270\u001b[0m, in \u001b[0;36mLikelihoodModel.__init__\u001b[0;34m(self, endog, exog, **kwargs)\u001b[0m\n\u001b[1;32m    269\u001b[0m \u001b[39mdef\u001b[39;00m \u001b[39m__init__\u001b[39m(\u001b[39mself\u001b[39m, endog, exog\u001b[39m=\u001b[39m\u001b[39mNone\u001b[39;00m, \u001b[39m*\u001b[39m\u001b[39m*\u001b[39mkwargs):\n\u001b[0;32m--> 270\u001b[0m     \u001b[39msuper\u001b[39;49m()\u001b[39m.\u001b[39;49m\u001b[39m__init__\u001b[39;49m(endog, exog, \u001b[39m*\u001b[39;49m\u001b[39m*\u001b[39;49mkwargs)\n\u001b[1;32m    271\u001b[0m     \u001b[39mself\u001b[39m\u001b[39m.\u001b[39minitialize()\n",
                        "File \u001b[0;32m~/.local/lib/python3.10/site-packages/statsmodels/base/model.py:95\u001b[0m, in \u001b[0;36mModel.__init__\u001b[0;34m(self, endog, exog, **kwargs)\u001b[0m\n\u001b[1;32m     93\u001b[0m missing \u001b[39m=\u001b[39m kwargs\u001b[39m.\u001b[39mpop(\u001b[39m'\u001b[39m\u001b[39mmissing\u001b[39m\u001b[39m'\u001b[39m, \u001b[39m'\u001b[39m\u001b[39mnone\u001b[39m\u001b[39m'\u001b[39m)\n\u001b[1;32m     94\u001b[0m hasconst \u001b[39m=\u001b[39m kwargs\u001b[39m.\u001b[39mpop(\u001b[39m'\u001b[39m\u001b[39mhasconst\u001b[39m\u001b[39m'\u001b[39m, \u001b[39mNone\u001b[39;00m)\n\u001b[0;32m---> 95\u001b[0m \u001b[39mself\u001b[39m\u001b[39m.\u001b[39mdata \u001b[39m=\u001b[39m \u001b[39mself\u001b[39;49m\u001b[39m.\u001b[39;49m_handle_data(endog, exog, missing, hasconst,\n\u001b[1;32m     96\u001b[0m                               \u001b[39m*\u001b[39;49m\u001b[39m*\u001b[39;49mkwargs)\n\u001b[1;32m     97\u001b[0m \u001b[39mself\u001b[39m\u001b[39m.\u001b[39mk_constant \u001b[39m=\u001b[39m \u001b[39mself\u001b[39m\u001b[39m.\u001b[39mdata\u001b[39m.\u001b[39mk_constant\n\u001b[1;32m     98\u001b[0m \u001b[39mself\u001b[39m\u001b[39m.\u001b[39mexog \u001b[39m=\u001b[39m \u001b[39mself\u001b[39m\u001b[39m.\u001b[39mdata\u001b[39m.\u001b[39mexog\n",
                        "File \u001b[0;32m~/.local/lib/python3.10/site-packages/statsmodels/base/model.py:135\u001b[0m, in \u001b[0;36mModel._handle_data\u001b[0;34m(self, endog, exog, missing, hasconst, **kwargs)\u001b[0m\n\u001b[1;32m    134\u001b[0m \u001b[39mdef\u001b[39;00m \u001b[39m_handle_data\u001b[39m(\u001b[39mself\u001b[39m, endog, exog, missing, hasconst, \u001b[39m*\u001b[39m\u001b[39m*\u001b[39mkwargs):\n\u001b[0;32m--> 135\u001b[0m     data \u001b[39m=\u001b[39m handle_data(endog, exog, missing, hasconst, \u001b[39m*\u001b[39;49m\u001b[39m*\u001b[39;49mkwargs)\n\u001b[1;32m    136\u001b[0m     \u001b[39m# kwargs arrays could have changed, easier to just attach here\u001b[39;00m\n\u001b[1;32m    137\u001b[0m     \u001b[39mfor\u001b[39;00m key \u001b[39min\u001b[39;00m kwargs:\n",
                        "File \u001b[0;32m~/.local/lib/python3.10/site-packages/statsmodels/base/data.py:675\u001b[0m, in \u001b[0;36mhandle_data\u001b[0;34m(endog, exog, missing, hasconst, **kwargs)\u001b[0m\n\u001b[1;32m    672\u001b[0m     exog \u001b[39m=\u001b[39m np\u001b[39m.\u001b[39masarray(exog)\n\u001b[1;32m    674\u001b[0m klass \u001b[39m=\u001b[39m handle_data_class_factory(endog, exog)\n\u001b[0;32m--> 675\u001b[0m \u001b[39mreturn\u001b[39;00m klass(endog, exog\u001b[39m=\u001b[39;49mexog, missing\u001b[39m=\u001b[39;49mmissing, hasconst\u001b[39m=\u001b[39;49mhasconst,\n\u001b[1;32m    676\u001b[0m              \u001b[39m*\u001b[39;49m\u001b[39m*\u001b[39;49mkwargs)\n",
                        "File \u001b[0;32m~/.local/lib/python3.10/site-packages/statsmodels/base/data.py:88\u001b[0m, in \u001b[0;36mModelData.__init__\u001b[0;34m(self, endog, exog, missing, hasconst, **kwargs)\u001b[0m\n\u001b[1;32m     86\u001b[0m \u001b[39mself\u001b[39m\u001b[39m.\u001b[39mconst_idx \u001b[39m=\u001b[39m \u001b[39mNone\u001b[39;00m\n\u001b[1;32m     87\u001b[0m \u001b[39mself\u001b[39m\u001b[39m.\u001b[39mk_constant \u001b[39m=\u001b[39m \u001b[39m0\u001b[39m\n\u001b[0;32m---> 88\u001b[0m \u001b[39mself\u001b[39;49m\u001b[39m.\u001b[39;49m_handle_constant(hasconst)\n\u001b[1;32m     89\u001b[0m \u001b[39mself\u001b[39m\u001b[39m.\u001b[39m_check_integrity()\n\u001b[1;32m     90\u001b[0m \u001b[39mself\u001b[39m\u001b[39m.\u001b[39m_cache \u001b[39m=\u001b[39m {}\n",
                        "File \u001b[0;32m~/.local/lib/python3.10/site-packages/statsmodels/base/data.py:132\u001b[0m, in \u001b[0;36mModelData._handle_constant\u001b[0;34m(self, hasconst)\u001b[0m\n\u001b[1;32m    129\u001b[0m \u001b[39melse\u001b[39;00m:\n\u001b[1;32m    130\u001b[0m     \u001b[39m# detect where the constant is\u001b[39;00m\n\u001b[1;32m    131\u001b[0m     check_implicit \u001b[39m=\u001b[39m \u001b[39mFalse\u001b[39;00m\n\u001b[0;32m--> 132\u001b[0m     exog_max \u001b[39m=\u001b[39m np\u001b[39m.\u001b[39;49mmax(\u001b[39mself\u001b[39;49m\u001b[39m.\u001b[39;49mexog, axis\u001b[39m=\u001b[39;49m\u001b[39m0\u001b[39;49m)\n\u001b[1;32m    133\u001b[0m     \u001b[39mif\u001b[39;00m \u001b[39mnot\u001b[39;00m np\u001b[39m.\u001b[39misfinite(exog_max)\u001b[39m.\u001b[39mall():\n\u001b[1;32m    134\u001b[0m         \u001b[39mraise\u001b[39;00m MissingDataError(\u001b[39m'\u001b[39m\u001b[39mexog contains inf or nans\u001b[39m\u001b[39m'\u001b[39m)\n",
                        "File \u001b[0;32m<__array_function__ internals>:180\u001b[0m, in \u001b[0;36mamax\u001b[0;34m(*args, **kwargs)\u001b[0m\n",
                        "File \u001b[0;32m~/.local/lib/python3.10/site-packages/numpy/core/fromnumeric.py:2793\u001b[0m, in \u001b[0;36mamax\u001b[0;34m(a, axis, out, keepdims, initial, where)\u001b[0m\n\u001b[1;32m   2677\u001b[0m \u001b[39m@array_function_dispatch\u001b[39m(_amax_dispatcher)\n\u001b[1;32m   2678\u001b[0m \u001b[39mdef\u001b[39;00m \u001b[39mamax\u001b[39m(a, axis\u001b[39m=\u001b[39m\u001b[39mNone\u001b[39;00m, out\u001b[39m=\u001b[39m\u001b[39mNone\u001b[39;00m, keepdims\u001b[39m=\u001b[39mnp\u001b[39m.\u001b[39m_NoValue, initial\u001b[39m=\u001b[39mnp\u001b[39m.\u001b[39m_NoValue,\n\u001b[1;32m   2679\u001b[0m          where\u001b[39m=\u001b[39mnp\u001b[39m.\u001b[39m_NoValue):\n\u001b[1;32m   2680\u001b[0m \u001b[39m    \u001b[39m\u001b[39m\"\"\"\u001b[39;00m\n\u001b[1;32m   2681\u001b[0m \u001b[39m    Return the maximum of an array or maximum along an axis.\u001b[39;00m\n\u001b[1;32m   2682\u001b[0m \n\u001b[0;32m   (...)\u001b[0m\n\u001b[1;32m   2791\u001b[0m \u001b[39m    5\u001b[39;00m\n\u001b[1;32m   2792\u001b[0m \u001b[39m    \"\"\"\u001b[39;00m\n\u001b[0;32m-> 2793\u001b[0m     \u001b[39mreturn\u001b[39;00m _wrapreduction(a, np\u001b[39m.\u001b[39;49mmaximum, \u001b[39m'\u001b[39;49m\u001b[39mmax\u001b[39;49m\u001b[39m'\u001b[39;49m, axis, \u001b[39mNone\u001b[39;49;00m, out,\n\u001b[1;32m   2794\u001b[0m                           keepdims\u001b[39m=\u001b[39;49mkeepdims, initial\u001b[39m=\u001b[39;49minitial, where\u001b[39m=\u001b[39;49mwhere)\n",
                        "File \u001b[0;32m~/.local/lib/python3.10/site-packages/numpy/core/fromnumeric.py:86\u001b[0m, in \u001b[0;36m_wrapreduction\u001b[0;34m(obj, ufunc, method, axis, dtype, out, **kwargs)\u001b[0m\n\u001b[1;32m     83\u001b[0m         \u001b[39melse\u001b[39;00m:\n\u001b[1;32m     84\u001b[0m             \u001b[39mreturn\u001b[39;00m reduction(axis\u001b[39m=\u001b[39maxis, out\u001b[39m=\u001b[39mout, \u001b[39m*\u001b[39m\u001b[39m*\u001b[39mpasskwargs)\n\u001b[0;32m---> 86\u001b[0m \u001b[39mreturn\u001b[39;00m ufunc\u001b[39m.\u001b[39;49mreduce(obj, axis, dtype, out, \u001b[39m*\u001b[39;49m\u001b[39m*\u001b[39;49mpasskwargs)\n",
                        "\u001b[0;31mValueError\u001b[0m: zero-size array to reduction operation maximum which has no identity"
                    ]
                }
            ],
            "source": [
                "# Ajustando o modelo de regressão linear múltipla\n",
                "modelo = sm.OLS(y, X).fit()\n",
                "\n",
                "# Obtendo as previsões do modelo\n",
                "previsoes = modelo.predict(X)\n",
                "\n",
                "# Calculando o R²\n",
                "r_squared = modelo.rsquared\n",
                "\n",
                "# Calculando o R² ajustado\n",
                "r_squared_adj = modelo.rsquared_adj\n",
                "\n",
                "# Calculando o MSE (Mean Squared Error)\n",
                "mse = mean_squared_error(y, previsoes)\n",
                "\n",
                "# Calculando o RMSE (Root Mean Squared Error)\n",
                "rmse = sqrt(mse)\n",
                "\n",
                "# Calculando o MAE (Mean Absolute Error)\n",
                "mae = mean_absolute_error(y, previsoes)\n",
                "\n",
                "# Exibindo os resultados\n",
                "print(\"R²:\", r_squared)\n",
                "print(\"R² ajustado:\", r_squared_adj)\n",
                "print(\"MSE:\", mse)\n",
                "print(\"RMSE:\", rmse)\n",
                "print(\"MAE:\", mae)"
            ]
        },
        {
            "cell_type": "code",
            "execution_count": null,
            "metadata": {},
            "outputs": [],
            "source": []
        },
        {
            "attachments": {},
            "cell_type": "markdown",
            "metadata": {},
            "source": [
                "## Programação"
            ]
        },
        {
            "cell_type": "code",
            "execution_count": null,
            "metadata": {},
            "outputs": [],
            "source": [
                "x = pro_cor.drop(columns=['programacao','discente'])\n",
                "y = pro_cor.drop(columns=['intro_informatica','algoritmo','logica','fundamentos_mat','discente' ])"
            ]
        },
        {
            "cell_type": "code",
            "execution_count": null,
            "metadata": {},
            "outputs": [],
            "source": [
                "# Separando dados de treino e teste\n",
                "X_train, X_test, y_train, y_test = train_test_split(x, y, test_size=0.20, random_state=5)"
            ]
        },
        {
            "attachments": {},
            "cell_type": "markdown",
            "metadata": {},
            "source": [
                "### LinearRegression"
            ]
        },
        {
            "cell_type": "code",
            "execution_count": null,
            "metadata": {},
            "outputs": [],
            "source": [
                "model = lr.fit(X_train, y_train)"
            ]
        },
        {
            "cell_type": "code",
            "execution_count": null,
            "metadata": {},
            "outputs": [],
            "source": [
                "#realizando a predição\n",
                "result = model.predict(X_test)"
            ]
        },
        {
            "cell_type": "code",
            "execution_count": null,
            "metadata": {},
            "outputs": [],
            "source": [
                "#comparando o resultado aplicando  os dados de treinamento\n",
                "result_treino = model.predict(X_train)"
            ]
        },
        {
            "cell_type": "code",
            "execution_count": null,
            "metadata": {},
            "outputs": [
                {
                    "name": "stdout",
                    "output_type": "stream",
                    "text": [
                        "0.8209145533428736\n"
                    ]
                }
            ],
            "source": [
                "# em metrics, temos quase todas as metricas geralmete utilizadas\n",
                "R2 = r2_score(y_test,result)\n",
                "print(R2)"
            ]
        },
        {
            "cell_type": "code",
            "execution_count": null,
            "metadata": {},
            "outputs": [
                {
                    "data": {
                        "text/plain": [
                            "0.8053419058074712"
                        ]
                    },
                    "execution_count": 970,
                    "metadata": {},
                    "output_type": "execute_result"
                }
            ],
            "source": [
                "adjusted_r2(y_test,result,X_train)"
            ]
        },
        {
            "cell_type": "code",
            "execution_count": null,
            "metadata": {},
            "outputs": [
                {
                    "data": {
                        "text/plain": [
                            "0.9117866082245056"
                        ]
                    },
                    "execution_count": 971,
                    "metadata": {},
                    "output_type": "execute_result"
                }
            ],
            "source": [
                "#Calculando o erro medio quadratico\n",
                "mean_squared_error(y_test, result)"
            ]
        },
        {
            "cell_type": "code",
            "execution_count": null,
            "metadata": {},
            "outputs": [
                {
                    "name": "stdout",
                    "output_type": "stream",
                    "text": [
                        "0.5512974418673694\n"
                    ]
                },
                {
                    "name": "stderr",
                    "output_type": "stream",
                    "text": [
                        "/home/wanessa/.local/lib/python3.10/site-packages/sklearn/metrics/_regression.py:483: FutureWarning: 'squared' is deprecated in version 1.4 and will be removed in 1.6. To calculate the root mean squared error, use the function'root_mean_squared_error'.\n",
                        "  warnings.warn(\n"
                    ]
                }
            ],
            "source": [
                "RMSE = mean_squared_error(y_test,result,squared=False)\n",
                "# argumento 'squared' dado como false nos da o RMSE\n",
                "print(RMSE)"
            ]
        },
        {
            "cell_type": "code",
            "execution_count": null,
            "metadata": {},
            "outputs": [
                {
                    "name": "stdout",
                    "output_type": "stream",
                    "text": [
                        "0.44212540611328954\n"
                    ]
                }
            ],
            "source": [
                "MAE = mean_absolute_error(y_test,result)\n",
                "print(MAE)"
            ]
        },
        {
            "attachments": {},
            "cell_type": "markdown",
            "metadata": {},
            "source": [
                "### Introdução à Informática"
            ]
        },
        {
            "cell_type": "code",
            "execution_count": null,
            "metadata": {},
            "outputs": [],
            "source": [
                "x = intro_cor.drop(columns=['intro_informatica','discente' ])\n",
                "y = intro_cor.drop(columns=['algoritmo','logica','fundamentos_mat','tga', 'discente'])"
            ]
        },
        {
            "cell_type": "code",
            "execution_count": null,
            "metadata": {},
            "outputs": [],
            "source": [
                "# Separando dados de treino e teste\n",
                "X_train, X_test, y_train, y_test = train_test_split(x, y, test_size=0.20, random_state=5)"
            ]
        },
        {
            "attachments": {},
            "cell_type": "markdown",
            "metadata": {},
            "source": [
                "#### Linear Regression"
            ]
        },
        {
            "cell_type": "code",
            "execution_count": null,
            "metadata": {},
            "outputs": [],
            "source": [
                "#treinando o algoritmo e gerando o modelo de regressão\n",
                "model = lr.fit(X_train, y_train)"
            ]
        },
        {
            "cell_type": "code",
            "execution_count": null,
            "metadata": {},
            "outputs": [],
            "source": [
                "#realizando a predição\n",
                "result = model.predict(X_test)"
            ]
        },
        {
            "cell_type": "code",
            "execution_count": null,
            "metadata": {},
            "outputs": [],
            "source": [
                "#comparando o resultado aplicando  os dados de treinamento\n",
                "result_treino = model.predict(X_train)"
            ]
        },
        {
            "cell_type": "code",
            "execution_count": null,
            "metadata": {},
            "outputs": [
                {
                    "name": "stdout",
                    "output_type": "stream",
                    "text": [
                        "0.9255411419456756\n"
                    ]
                }
            ],
            "source": [
                "R2 = r2_score(y_test,result)\n",
                "print(R2)"
            ]
        },
        {
            "cell_type": "code",
            "execution_count": null,
            "metadata": {},
            "outputs": [
                {
                    "data": {
                        "text/plain": [
                            "0.9210736104624162"
                        ]
                    },
                    "execution_count": 980,
                    "metadata": {},
                    "output_type": "execute_result"
                }
            ],
            "source": [
                "adjusted_r2(y_test,result,X_train)"
            ]
        },
        {
            "cell_type": "code",
            "execution_count": null,
            "metadata": {},
            "outputs": [
                {
                    "data": {
                        "text/plain": [
                            "0.5786949057244708"
                        ]
                    },
                    "execution_count": 981,
                    "metadata": {},
                    "output_type": "execute_result"
                }
            ],
            "source": [
                "#Calculando o erro medio quadratico\n",
                "mean_squared_error(y_test, result)"
            ]
        },
        {
            "cell_type": "code",
            "execution_count": null,
            "metadata": {},
            "outputs": [
                {
                    "name": "stdout",
                    "output_type": "stream",
                    "text": [
                        "0.4392018919678704\n"
                    ]
                },
                {
                    "name": "stderr",
                    "output_type": "stream",
                    "text": [
                        "/home/wanessa/.local/lib/python3.10/site-packages/sklearn/metrics/_regression.py:483: FutureWarning: 'squared' is deprecated in version 1.4 and will be removed in 1.6. To calculate the root mean squared error, use the function'root_mean_squared_error'.\n",
                        "  warnings.warn(\n"
                    ]
                }
            ],
            "source": [
                "RMSE = mean_squared_error(y_test,result,squared=False)\n",
                "# argumento 'squared' dado como false nos da o RMSE\n",
                "\n",
                "print(RMSE)"
            ]
        },
        {
            "cell_type": "code",
            "execution_count": null,
            "metadata": {},
            "outputs": [
                {
                    "name": "stdout",
                    "output_type": "stream",
                    "text": [
                        "0.3462906829996946\n"
                    ]
                }
            ],
            "source": [
                "MAE = mean_absolute_error(y_test,result)\n",
                "print(MAE)"
            ]
        },
        {
            "attachments": {},
            "cell_type": "markdown",
            "metadata": {},
            "source": [
                "### Fundamentos de Matemática"
            ]
        },
        {
            "cell_type": "code",
            "execution_count": null,
            "metadata": {},
            "outputs": [],
            "source": [
                "x = fun_cor.drop(columns=['fundamentos_mat','discente' ])\n",
                "y = fun_cor.drop(columns=['algoritmo','logica','intro_informatica','tga', 'discente'])"
            ]
        },
        {
            "cell_type": "code",
            "execution_count": null,
            "metadata": {},
            "outputs": [],
            "source": [
                "# Separando dados de treino e teste\n",
                "X_train, X_test, y_train, y_test = train_test_split(x, y, test_size=0.20, random_state=5)"
            ]
        },
        {
            "attachments": {},
            "cell_type": "markdown",
            "metadata": {},
            "source": [
                "#### Linear Regression"
            ]
        },
        {
            "cell_type": "code",
            "execution_count": null,
            "metadata": {},
            "outputs": [],
            "source": [
                "#treinando o algoritmo e gerando o modelo de regressão\n",
                "model = lr.fit(X_train, y_train)"
            ]
        },
        {
            "cell_type": "code",
            "execution_count": null,
            "metadata": {},
            "outputs": [],
            "source": [
                "#realizando a predição\n",
                "result = model.predict(X_test)"
            ]
        },
        {
            "cell_type": "code",
            "execution_count": null,
            "metadata": {},
            "outputs": [
                {
                    "name": "stdout",
                    "output_type": "stream",
                    "text": [
                        "0.8569668316638488\n"
                    ]
                }
            ],
            "source": [
                "R2 = r2_score(y_test,result)\n",
                "print(R2)"
            ]
        },
        {
            "cell_type": "code",
            "execution_count": null,
            "metadata": {},
            "outputs": [
                {
                    "data": {
                        "text/plain": [
                            "0.8483848415636797"
                        ]
                    },
                    "execution_count": 989,
                    "metadata": {},
                    "output_type": "execute_result"
                }
            ],
            "source": [
                "adjusted_r2(y_test,result,X_train)"
            ]
        },
        {
            "cell_type": "code",
            "execution_count": null,
            "metadata": {},
            "outputs": [
                {
                    "data": {
                        "text/plain": [
                            "0.9451875458351582"
                        ]
                    },
                    "execution_count": 990,
                    "metadata": {},
                    "output_type": "execute_result"
                }
            ],
            "source": [
                "#Calculando o erro medio quadratico\n",
                "mean_squared_error(y_test, result)"
            ]
        },
        {
            "cell_type": "code",
            "execution_count": null,
            "metadata": {},
            "outputs": [
                {
                    "name": "stdout",
                    "output_type": "stream",
                    "text": [
                        "0.5613042982896052\n"
                    ]
                },
                {
                    "name": "stderr",
                    "output_type": "stream",
                    "text": [
                        "/home/wanessa/.local/lib/python3.10/site-packages/sklearn/metrics/_regression.py:483: FutureWarning: 'squared' is deprecated in version 1.4 and will be removed in 1.6. To calculate the root mean squared error, use the function'root_mean_squared_error'.\n",
                        "  warnings.warn(\n"
                    ]
                }
            ],
            "source": [
                "RMSE = mean_squared_error(y_test,result,squared=False)\n",
                "# argumento 'squared' dado como false nos da o RMSE\n",
                "print(RMSE)"
            ]
        },
        {
            "cell_type": "code",
            "execution_count": null,
            "metadata": {},
            "outputs": [
                {
                    "name": "stdout",
                    "output_type": "stream",
                    "text": [
                        "0.41014333811802456\n"
                    ]
                }
            ],
            "source": [
                "MAE = mean_absolute_error(y_test,result)\n",
                "print(MAE)"
            ]
        },
        {
            "attachments": {},
            "cell_type": "markdown",
            "metadata": {},
            "source": [
                "### Lógica"
            ]
        },
        {
            "cell_type": "code",
            "execution_count": null,
            "metadata": {},
            "outputs": [],
            "source": [
                "x = log_cor.drop(columns=['logica','discente' ])\n",
                "y = log_cor.drop(columns=['algoritmo','fundamentos_mat','intro_informatica','tga', 'discente'])"
            ]
        },
        {
            "cell_type": "code",
            "execution_count": null,
            "metadata": {},
            "outputs": [],
            "source": [
                "# Separando dados de treino e teste\n",
                "X_train, X_test, y_train, y_test = train_test_split(x, y, test_size=0.20, random_state=5)"
            ]
        },
        {
            "attachments": {},
            "cell_type": "markdown",
            "metadata": {},
            "source": [
                "#### Linear Regression"
            ]
        },
        {
            "cell_type": "code",
            "execution_count": null,
            "metadata": {},
            "outputs": [],
            "source": [
                "#treinando o algoritmo e gerando o modelo de regressão\n",
                "model = lr.fit(X_train, y_train)"
            ]
        },
        {
            "cell_type": "code",
            "execution_count": null,
            "metadata": {},
            "outputs": [],
            "source": [
                "#realizando a predição\n",
                "result = model.predict(X_test)"
            ]
        },
        {
            "cell_type": "code",
            "execution_count": null,
            "metadata": {},
            "outputs": [],
            "source": [
                "#comparando o resultado aplicando  os dados de treinamento\n",
                "result_treino = model.predict(X_train)"
            ]
        },
        {
            "cell_type": "code",
            "execution_count": null,
            "metadata": {},
            "outputs": [
                {
                    "name": "stdout",
                    "output_type": "stream",
                    "text": [
                        "1.0\n"
                    ]
                }
            ],
            "source": [
                "R2 = r2_score(y_test,result)\n",
                "print(R2)"
            ]
        },
        {
            "cell_type": "code",
            "execution_count": null,
            "metadata": {},
            "outputs": [
                {
                    "data": {
                        "text/plain": [
                            "1.0"
                        ]
                    },
                    "execution_count": 999,
                    "metadata": {},
                    "output_type": "execute_result"
                }
            ],
            "source": [
                "adjusted_r2(y_test,result,X_train)"
            ]
        },
        {
            "cell_type": "code",
            "execution_count": null,
            "metadata": {},
            "outputs": [
                {
                    "data": {
                        "text/plain": [
                            "4.411659005100096e-24"
                        ]
                    },
                    "execution_count": 1000,
                    "metadata": {},
                    "output_type": "execute_result"
                }
            ],
            "source": [
                "#Calculando o erro medio quadratico\n",
                "mean_squared_error(y_test, result)"
            ]
        },
        {
            "cell_type": "code",
            "execution_count": null,
            "metadata": {},
            "outputs": [
                {
                    "name": "stdout",
                    "output_type": "stream",
                    "text": [
                        "1.2157725582982935e-12\n"
                    ]
                },
                {
                    "name": "stderr",
                    "output_type": "stream",
                    "text": [
                        "/home/wanessa/.local/lib/python3.10/site-packages/sklearn/metrics/_regression.py:483: FutureWarning: 'squared' is deprecated in version 1.4 and will be removed in 1.6. To calculate the root mean squared error, use the function'root_mean_squared_error'.\n",
                        "  warnings.warn(\n"
                    ]
                }
            ],
            "source": [
                "RMSE = mean_squared_error(y_test,result,squared=False)\n",
                "# argumento 'squared' dado como false nos da o RMSE\n",
                "\n",
                "print(RMSE)"
            ]
        },
        {
            "cell_type": "code",
            "execution_count": null,
            "metadata": {},
            "outputs": [
                {
                    "name": "stdout",
                    "output_type": "stream",
                    "text": [
                        "1.2153719073383946e-12\n"
                    ]
                }
            ],
            "source": [
                "MAE = mean_absolute_error(y_test,result)\n",
                "print(MAE)"
            ]
        },
        {
            "attachments": {},
            "cell_type": "markdown",
            "metadata": {},
            "source": [
                "### Estrutura de Dados"
            ]
        },
        {
            "cell_type": "code",
            "execution_count": null,
            "metadata": {},
            "outputs": [],
            "source": [
                "x = ed_cor.drop(columns=['ed','discente' ])\n",
                "y = ed_cor.drop(columns=['poo_1','algebra','osm','discente'])"
            ]
        },
        {
            "cell_type": "code",
            "execution_count": null,
            "metadata": {},
            "outputs": [],
            "source": [
                "# Separando dados de treino e teste\n",
                "X_train, X_test, y_train, y_test = train_test_split(x, y, test_size=0.20, random_state=5)"
            ]
        },
        {
            "attachments": {},
            "cell_type": "markdown",
            "metadata": {},
            "source": [
                "#### Linear Regression"
            ]
        },
        {
            "cell_type": "code",
            "execution_count": null,
            "metadata": {},
            "outputs": [],
            "source": [
                "#treinando o algoritmo e gerando o modelo de regressão\n",
                "model = lr.fit(X_train, y_train)"
            ]
        },
        {
            "cell_type": "code",
            "execution_count": null,
            "metadata": {},
            "outputs": [],
            "source": [
                "#realizando a predição\n",
                "result = model.predict(X_test)"
            ]
        },
        {
            "cell_type": "code",
            "execution_count": null,
            "metadata": {},
            "outputs": [],
            "source": [
                "#comparando o resultado aplicando  os dados de treinamento\n",
                "result_treino = model.predict(X_train)"
            ]
        },
        {
            "cell_type": "code",
            "execution_count": null,
            "metadata": {},
            "outputs": [
                {
                    "name": "stdout",
                    "output_type": "stream",
                    "text": [
                        "0.8356737537208158\n"
                    ]
                }
            ],
            "source": [
                "R2 = r2_score(y_test,result)\n",
                "print(R2)"
            ]
        },
        {
            "cell_type": "code",
            "execution_count": null,
            "metadata": {},
            "outputs": [
                {
                    "data": {
                        "text/plain": [
                            "0.8196419248155296"
                        ]
                    },
                    "execution_count": 1009,
                    "metadata": {},
                    "output_type": "execute_result"
                }
            ],
            "source": [
                "adjusted_r2(y_test,result,X_train)"
            ]
        },
        {
            "cell_type": "code",
            "execution_count": null,
            "metadata": {},
            "outputs": [
                {
                    "data": {
                        "text/plain": [
                            "1.0977746344381478"
                        ]
                    },
                    "execution_count": 1010,
                    "metadata": {},
                    "output_type": "execute_result"
                }
            ],
            "source": [
                "#Calculando o erro medio quadratico\n",
                "mean_squared_error(y_test, result)"
            ]
        },
        {
            "cell_type": "code",
            "execution_count": null,
            "metadata": {},
            "outputs": [
                {
                    "name": "stdout",
                    "output_type": "stream",
                    "text": [
                        "0.7408692983374836\n"
                    ]
                },
                {
                    "name": "stderr",
                    "output_type": "stream",
                    "text": [
                        "/home/wanessa/.local/lib/python3.10/site-packages/sklearn/metrics/_regression.py:483: FutureWarning: 'squared' is deprecated in version 1.4 and will be removed in 1.6. To calculate the root mean squared error, use the function'root_mean_squared_error'.\n",
                        "  warnings.warn(\n"
                    ]
                }
            ],
            "source": [
                "RMSE = mean_squared_error(y_test,result,squared=False)\n",
                "# argumento 'squared' dado como false nos da o RMSE\n",
                "\n",
                "print(RMSE)"
            ]
        },
        {
            "cell_type": "code",
            "execution_count": null,
            "metadata": {},
            "outputs": [
                {
                    "name": "stdout",
                    "output_type": "stream",
                    "text": [
                        "0.5923593554451155\n"
                    ]
                }
            ],
            "source": [
                "MAE = mean_absolute_error(y_test,result)\n",
                "print(MAE)"
            ]
        },
        {
            "attachments": {},
            "cell_type": "markdown",
            "metadata": {},
            "source": [
                "### Arquitetura"
            ]
        },
        {
            "cell_type": "code",
            "execution_count": null,
            "metadata": {},
            "outputs": [],
            "source": [
                "x = arqt_cor.drop(columns=['arquitetura','discente' ])\n",
                "y = arqt_cor.drop(columns=['poo_1','bd_1','ed', 'discente'])"
            ]
        },
        {
            "cell_type": "code",
            "execution_count": null,
            "metadata": {},
            "outputs": [],
            "source": [
                "# Separando dados de treino e teste\n",
                "X_train, X_test, y_train, y_test = train_test_split(x, y, test_size=0.20, random_state=5)"
            ]
        },
        {
            "attachments": {},
            "cell_type": "markdown",
            "metadata": {},
            "source": [
                "#### Linear Regression"
            ]
        },
        {
            "cell_type": "code",
            "execution_count": null,
            "metadata": {},
            "outputs": [],
            "source": [
                "#treinando o algoritmo e gerando o modelo de regressão\n",
                "model = lr.fit(X_train, y_train)"
            ]
        },
        {
            "cell_type": "code",
            "execution_count": null,
            "metadata": {},
            "outputs": [],
            "source": [
                "#realizando a predição\n",
                "result = model.predict(X_test)"
            ]
        },
        {
            "cell_type": "code",
            "execution_count": null,
            "metadata": {},
            "outputs": [],
            "source": [
                "#comparando o resultado aplicando  os dados de treinamento\n",
                "result_treino = model.predict(X_train)"
            ]
        },
        {
            "cell_type": "code",
            "execution_count": null,
            "metadata": {},
            "outputs": [
                {
                    "name": "stdout",
                    "output_type": "stream",
                    "text": [
                        "0.33748234749124806\n"
                    ]
                }
            ],
            "source": [
                "R2 = r2_score(y_test,result)\n",
                "print(R2)"
            ]
        },
        {
            "cell_type": "code",
            "execution_count": null,
            "metadata": {},
            "outputs": [
                {
                    "data": {
                        "text/plain": [
                            "0.29015965802633714"
                        ]
                    },
                    "execution_count": 1019,
                    "metadata": {},
                    "output_type": "execute_result"
                }
            ],
            "source": [
                "adjusted_r2(y_test,result,X_train)"
            ]
        },
        {
            "cell_type": "code",
            "execution_count": null,
            "metadata": {},
            "outputs": [
                {
                    "data": {
                        "text/plain": [
                            "3.835468335049299"
                        ]
                    },
                    "execution_count": 1020,
                    "metadata": {},
                    "output_type": "execute_result"
                }
            ],
            "source": [
                "#Calculando o erro medio quadratico\n",
                "mean_squared_error(y_test, result)"
            ]
        },
        {
            "cell_type": "code",
            "execution_count": null,
            "metadata": {},
            "outputs": [
                {
                    "name": "stdout",
                    "output_type": "stream",
                    "text": [
                        "1.9584351750949784\n"
                    ]
                },
                {
                    "name": "stderr",
                    "output_type": "stream",
                    "text": [
                        "/home/wanessa/.local/lib/python3.10/site-packages/sklearn/metrics/_regression.py:483: FutureWarning: 'squared' is deprecated in version 1.4 and will be removed in 1.6. To calculate the root mean squared error, use the function'root_mean_squared_error'.\n",
                        "  warnings.warn(\n"
                    ]
                }
            ],
            "source": [
                "RMSE = mean_squared_error(y_test,result,squared=False)\n",
                "# argumento 'squared' dado como false nos da o RMSE\n",
                "\n",
                "print(RMSE)"
            ]
        },
        {
            "cell_type": "code",
            "execution_count": null,
            "metadata": {},
            "outputs": [
                {
                    "name": "stdout",
                    "output_type": "stream",
                    "text": [
                        "1.5004986214357245\n"
                    ]
                }
            ],
            "source": [
                "MAE = mean_absolute_error(y_test,result)\n",
                "print(MAE)"
            ]
        },
        {
            "attachments": {},
            "cell_type": "markdown",
            "metadata": {},
            "source": [
                "### Algoritmos e Lógica de Programação"
            ]
        },
        {
            "cell_type": "code",
            "execution_count": null,
            "metadata": {},
            "outputs": [],
            "source": [
                "x = alp_cor.drop(columns=['algoritmo','discente' ])\n",
                "y = alp_cor.drop(columns=['intro_informatica','logica','fundamentos_mat','tga', 'discente'])"
            ]
        },
        {
            "cell_type": "code",
            "execution_count": null,
            "metadata": {},
            "outputs": [],
            "source": [
                "# Separando dados de treino e teste\n",
                "X_train, X_test, y_train, y_test = train_test_split(x, y, test_size=0.20, random_state=5)"
            ]
        },
        {
            "attachments": {},
            "cell_type": "markdown",
            "metadata": {},
            "source": [
                "#### Linear Regression"
            ]
        },
        {
            "cell_type": "code",
            "execution_count": null,
            "metadata": {},
            "outputs": [],
            "source": [
                "#treinando o algoritmo e gerando o modelo de regressão\n",
                "model = lr.fit(X_train, y_train)"
            ]
        },
        {
            "cell_type": "code",
            "execution_count": null,
            "metadata": {},
            "outputs": [],
            "source": [
                "#realizando a predição\n",
                "result = model.predict(X_test)"
            ]
        },
        {
            "cell_type": "code",
            "execution_count": null,
            "metadata": {},
            "outputs": [],
            "source": [
                "#comparando o resultado aplicando  os dados de treinamento\n",
                "result_treino = model.predict(X_train)"
            ]
        },
        {
            "cell_type": "code",
            "execution_count": null,
            "metadata": {},
            "outputs": [
                {
                    "name": "stdout",
                    "output_type": "stream",
                    "text": [
                        "0.9400061739532476\n"
                    ]
                }
            ],
            "source": [
                "R2 = r2_score(y_test,result)\n",
                "print(R2)"
            ]
        },
        {
            "cell_type": "code",
            "execution_count": null,
            "metadata": {},
            "outputs": [
                {
                    "data": {
                        "text/plain": [
                            "0.9364065443904425"
                        ]
                    },
                    "execution_count": 1029,
                    "metadata": {},
                    "output_type": "execute_result"
                }
            ],
            "source": [
                "adjusted_r2(y_test,result,X_train)"
            ]
        },
        {
            "cell_type": "code",
            "execution_count": null,
            "metadata": {},
            "outputs": [
                {
                    "data": {
                        "text/plain": [
                            "0.4892208833000781"
                        ]
                    },
                    "execution_count": 1030,
                    "metadata": {},
                    "output_type": "execute_result"
                }
            ],
            "source": [
                "#Calculando o erro medio quadratico\n",
                "mean_squared_error(y_test, result)"
            ]
        },
        {
            "cell_type": "code",
            "execution_count": null,
            "metadata": {},
            "outputs": [
                {
                    "name": "stdout",
                    "output_type": "stream",
                    "text": [
                        "0.40382375830016753\n"
                    ]
                },
                {
                    "name": "stderr",
                    "output_type": "stream",
                    "text": [
                        "/home/wanessa/.local/lib/python3.10/site-packages/sklearn/metrics/_regression.py:483: FutureWarning: 'squared' is deprecated in version 1.4 and will be removed in 1.6. To calculate the root mean squared error, use the function'root_mean_squared_error'.\n",
                        "  warnings.warn(\n"
                    ]
                }
            ],
            "source": [
                "RMSE = mean_squared_error(y_test,result,squared=False)\n",
                "# argumento 'squared' dado como false nos da o RMSE\n",
                "\n",
                "print(RMSE)"
            ]
        },
        {
            "cell_type": "code",
            "execution_count": null,
            "metadata": {},
            "outputs": [
                {
                    "name": "stdout",
                    "output_type": "stream",
                    "text": [
                        "0.30949422517211816\n"
                    ]
                }
            ],
            "source": [
                "MAE = mean_absolute_error(y_test,result)\n",
                "print(MAE)"
            ]
        },
        {
            "attachments": {},
            "cell_type": "markdown",
            "metadata": {},
            "source": [
                "### POO I"
            ]
        },
        {
            "cell_type": "code",
            "execution_count": null,
            "metadata": {},
            "outputs": [],
            "source": [
                "x = pro_oo1_cor.drop(columns=['poo_1','discente'])\n",
                "y = pro_oo1_cor.drop(columns=['ed','osm','discente'])"
            ]
        },
        {
            "cell_type": "code",
            "execution_count": null,
            "metadata": {},
            "outputs": [],
            "source": [
                "# Separando dados de treino e teste\n",
                "X_train, X_test, y_train, y_test = train_test_split(x, y, test_size=0.20, random_state=5)"
            ]
        },
        {
            "attachments": {},
            "cell_type": "markdown",
            "metadata": {},
            "source": [
                "#### Linear Regression"
            ]
        },
        {
            "cell_type": "code",
            "execution_count": null,
            "metadata": {},
            "outputs": [],
            "source": [
                "#treinando o algoritmo e gerando o modelo de regressão\n",
                "model = lr.fit(X_train, y_train)"
            ]
        },
        {
            "cell_type": "code",
            "execution_count": null,
            "metadata": {},
            "outputs": [],
            "source": [
                "#realizando a predição\n",
                "result = model.predict(X_test)"
            ]
        },
        {
            "cell_type": "code",
            "execution_count": null,
            "metadata": {},
            "outputs": [],
            "source": [
                "#comparando o resultado aplicando  os dados de treinamento\n",
                "result_treino = model.predict(X_train)"
            ]
        },
        {
            "cell_type": "code",
            "execution_count": null,
            "metadata": {},
            "outputs": [
                {
                    "name": "stdout",
                    "output_type": "stream",
                    "text": [
                        "0.769313111169107\n"
                    ]
                }
            ],
            "source": [
                "from sklearn.metrics import r2_score\n",
                "# em metrics, temos quase todas as metricas geralmete utilizadas\n",
                "\n",
                "R2 = r2_score(y_test,result)\n",
                "print(R2)"
            ]
        },
        {
            "cell_type": "code",
            "execution_count": null,
            "metadata": {},
            "outputs": [
                {
                    "data": {
                        "text/plain": [
                            "0.7545884161373478"
                        ]
                    },
                    "execution_count": 1039,
                    "metadata": {},
                    "output_type": "execute_result"
                }
            ],
            "source": [
                "adjusted_r2(y_test,result,X_train)"
            ]
        },
        {
            "cell_type": "code",
            "execution_count": null,
            "metadata": {},
            "outputs": [
                {
                    "data": {
                        "text/plain": [
                            "1.7246827934737354"
                        ]
                    },
                    "execution_count": 1040,
                    "metadata": {},
                    "output_type": "execute_result"
                }
            ],
            "source": [
                "#Calculando o erro medio quadratico\n",
                "mean_squared_error(y_test, result)"
            ]
        },
        {
            "cell_type": "code",
            "execution_count": null,
            "metadata": {},
            "outputs": [
                {
                    "name": "stdout",
                    "output_type": "stream",
                    "text": [
                        "0.928623387997992\n"
                    ]
                },
                {
                    "name": "stderr",
                    "output_type": "stream",
                    "text": [
                        "/home/wanessa/.local/lib/python3.10/site-packages/sklearn/metrics/_regression.py:483: FutureWarning: 'squared' is deprecated in version 1.4 and will be removed in 1.6. To calculate the root mean squared error, use the function'root_mean_squared_error'.\n",
                        "  warnings.warn(\n"
                    ]
                }
            ],
            "source": [
                "RMSE = mean_squared_error(y_test,result,squared=False)\n",
                "# argumento 'squared' dado como false nos da o RMSE\n",
                "\n",
                "print(RMSE)"
            ]
        },
        {
            "cell_type": "code",
            "execution_count": null,
            "metadata": {},
            "outputs": [
                {
                    "name": "stdout",
                    "output_type": "stream",
                    "text": [
                        "0.7329188893254915\n"
                    ]
                }
            ],
            "source": [
                "MAE = mean_absolute_error(y_test,result)\n",
                "print(MAE)"
            ]
        },
        {
            "cell_type": "code",
            "execution_count": null,
            "metadata": {},
            "outputs": [],
            "source": [
                "cinco_disciplinas = ['ed', 'osm']\n",
                "X = pro_oo1_cor[cinco_disciplinas]  # Variáveis independentes (outras disciplinas)\n",
                "y = dataframe['']  # Variável dependente (disciplina principal)\n"
            ]
        },
        {
            "cell_type": "code",
            "execution_count": null,
            "metadata": {},
            "outputs": [],
            "source": [
                "modelo = LinearRegression()\n",
                "modelo.fit(X, y)"
            ]
        },
        {
            "cell_type": "code",
            "execution_count": null,
            "metadata": {},
            "outputs": [],
            "source": [
                "# Exibe os coeficientes de regressão\n",
                "coeficientes = pd.DataFrame({'Feature': cinco_disciplinas, 'Coeficiente': modelo.coef_})\n",
                "print(\"Coeficientes de regressão:\")\n",
                "print(coeficientes)"
            ]
        },
        {
            "cell_type": "code",
            "execution_count": null,
            "metadata": {},
            "outputs": [],
            "source": [
                "# Exibe o coeficiente de intercepção (intercepto)\n",
                "print(\"Intercepto:\", modelo.intercept_)"
            ]
        },
        {
            "cell_type": "code",
            "execution_count": null,
            "metadata": {},
            "outputs": [],
            "source": [
                "dados = sm.add_constant(dados)"
            ]
        }
    ],
    "metadata": {
        "kernelspec": {
            "display_name": "Python 3",
            "language": "python",
            "name": "python3"
        },
        "language_info": {
            "codemirror_mode": {
                "name": "ipython",
                "version": 3
            },
            "file_extension": ".py",
            "mimetype": "text/x-python",
            "name": "python",
            "nbconvert_exporter": "python",
            "pygments_lexer": "ipython3",
            "version": "3.10.12 (main, Nov 20 2023, 15:14:05) [GCC 11.4.0]"
        },
        "orig_nbformat": 4,
        "vscode": {
            "interpreter": {
                "hash": "916dbcbb3f70747c44a77c7bcd40155683ae19c65e1c03b4aa3499c5328201f1"
            }
        }
    },
    "nbformat": 4,
    "nbformat_minor": 2
}
